{
  "cells": [
    {
      "cell_type": "markdown",
      "metadata": {
        "colab_type": "text",
        "id": "view-in-github"
      },
      "source": [
        "<a href=\"https://colab.research.google.com/github/el-thobhy/rainfall-prediction/blob/master/test_code_kaggle.ipynb\" target=\"_parent\"><img src=\"https://colab.research.google.com/assets/colab-badge.svg\" alt=\"Open In Colab\"/></a>"
      ]
    },
    {
      "attachments": {},
      "cell_type": "markdown",
      "metadata": {},
      "source": [
        "## Data preprocessing"
      ]
    },
    {
      "cell_type": "code",
      "execution_count": 1,
      "metadata": {
        "id": "zhr4ixRNfmbI"
      },
      "outputs": [],
      "source": [
        "import pandas as pd\n",
        "import seaborn as sns\n",
        "import numpy as np"
      ]
    },
    {
      "attachments": {},
      "cell_type": "markdown",
      "metadata": {},
      "source": [
        "### Data Loading"
      ]
    },
    {
      "cell_type": "code",
      "execution_count": 2,
      "metadata": {},
      "outputs": [
        {
          "data": {
            "text/html": [
              "<div>\n",
              "<style scoped>\n",
              "    .dataframe tbody tr th:only-of-type {\n",
              "        vertical-align: middle;\n",
              "    }\n",
              "\n",
              "    .dataframe tbody tr th {\n",
              "        vertical-align: top;\n",
              "    }\n",
              "\n",
              "    .dataframe thead th {\n",
              "        text-align: right;\n",
              "    }\n",
              "</style>\n",
              "<table border=\"1\" class=\"dataframe\">\n",
              "  <thead>\n",
              "    <tr style=\"text-align: right;\">\n",
              "      <th></th>\n",
              "      <th>Date and Time</th>\n",
              "      <th>Air Tmp (C) M 60 Min</th>\n",
              "      <th>Mag WD 60 Min (deg) M</th>\n",
              "      <th>Precip 1Hr (mm) M</th>\n",
              "      <th>QNH (hPa) M</th>\n",
              "      <th>RH (%) M 60 Min</th>\n",
              "      <th>True WD 60 Min (deg) M</th>\n",
              "      <th>WS 60 Min (kt) M</th>\n",
              "      <th>klasifikasi</th>\n",
              "    </tr>\n",
              "  </thead>\n",
              "  <tbody>\n",
              "    <tr>\n",
              "      <th>0</th>\n",
              "      <td>1/12/2022 0:00</td>\n",
              "      <td>23.73</td>\n",
              "      <td>82.0</td>\n",
              "      <td>29.7</td>\n",
              "      <td>1009.01</td>\n",
              "      <td>100.0</td>\n",
              "      <td>84.0</td>\n",
              "      <td>2.0</td>\n",
              "      <td>rain</td>\n",
              "    </tr>\n",
              "    <tr>\n",
              "      <th>1</th>\n",
              "      <td>1/12/2022 1:00</td>\n",
              "      <td>26.51</td>\n",
              "      <td>61.0</td>\n",
              "      <td>29.5</td>\n",
              "      <td>1009.35</td>\n",
              "      <td>92.9</td>\n",
              "      <td>63.0</td>\n",
              "      <td>2.0</td>\n",
              "      <td>rain</td>\n",
              "    </tr>\n",
              "    <tr>\n",
              "      <th>2</th>\n",
              "      <td>1/12/2022 2:00</td>\n",
              "      <td>28.45</td>\n",
              "      <td>3.0</td>\n",
              "      <td>23.5</td>\n",
              "      <td>1009.47</td>\n",
              "      <td>81.8</td>\n",
              "      <td>5.0</td>\n",
              "      <td>2.0</td>\n",
              "      <td>rain</td>\n",
              "    </tr>\n",
              "    <tr>\n",
              "      <th>3</th>\n",
              "      <td>1/12/2022 3:00</td>\n",
              "      <td>29.59</td>\n",
              "      <td>340.0</td>\n",
              "      <td>21.9</td>\n",
              "      <td>1009.11</td>\n",
              "      <td>75.2</td>\n",
              "      <td>342.0</td>\n",
              "      <td>2.0</td>\n",
              "      <td>rain</td>\n",
              "    </tr>\n",
              "    <tr>\n",
              "      <th>4</th>\n",
              "      <td>1/12/2022 4:00</td>\n",
              "      <td>30.68</td>\n",
              "      <td>297.0</td>\n",
              "      <td>19.9</td>\n",
              "      <td>1008.14</td>\n",
              "      <td>69.8</td>\n",
              "      <td>299.0</td>\n",
              "      <td>4.0</td>\n",
              "      <td>rain</td>\n",
              "    </tr>\n",
              "    <tr>\n",
              "      <th>...</th>\n",
              "      <td>...</td>\n",
              "      <td>...</td>\n",
              "      <td>...</td>\n",
              "      <td>...</td>\n",
              "      <td>...</td>\n",
              "      <td>...</td>\n",
              "      <td>...</td>\n",
              "      <td>...</td>\n",
              "      <td>...</td>\n",
              "    </tr>\n",
              "    <tr>\n",
              "      <th>2035</th>\n",
              "      <td>23/02/2023 19:00:00</td>\n",
              "      <td>25.00</td>\n",
              "      <td>269.0</td>\n",
              "      <td>NaN</td>\n",
              "      <td>1008.60</td>\n",
              "      <td>90.0</td>\n",
              "      <td>271.0</td>\n",
              "      <td>2.0</td>\n",
              "      <td>no rain</td>\n",
              "    </tr>\n",
              "    <tr>\n",
              "      <th>2036</th>\n",
              "      <td>23/02/2023 20:00:00</td>\n",
              "      <td>24.70</td>\n",
              "      <td>301.0</td>\n",
              "      <td>NaN</td>\n",
              "      <td>1008.37</td>\n",
              "      <td>92.2</td>\n",
              "      <td>303.0</td>\n",
              "      <td>2.0</td>\n",
              "      <td>no rain</td>\n",
              "    </tr>\n",
              "    <tr>\n",
              "      <th>2037</th>\n",
              "      <td>23/02/2023 21:00:00</td>\n",
              "      <td>24.31</td>\n",
              "      <td>312.0</td>\n",
              "      <td>NaN</td>\n",
              "      <td>1008.40</td>\n",
              "      <td>92.9</td>\n",
              "      <td>314.0</td>\n",
              "      <td>2.0</td>\n",
              "      <td>no rain</td>\n",
              "    </tr>\n",
              "    <tr>\n",
              "      <th>2038</th>\n",
              "      <td>23/02/2023 22:00:00</td>\n",
              "      <td>24.43</td>\n",
              "      <td>334.0</td>\n",
              "      <td>NaN</td>\n",
              "      <td>1008.74</td>\n",
              "      <td>92.0</td>\n",
              "      <td>336.0</td>\n",
              "      <td>4.0</td>\n",
              "      <td>no rain</td>\n",
              "    </tr>\n",
              "    <tr>\n",
              "      <th>2039</th>\n",
              "      <td>23/02/2023 23:00:00</td>\n",
              "      <td>24.16</td>\n",
              "      <td>331.0</td>\n",
              "      <td>NaN</td>\n",
              "      <td>1009.32</td>\n",
              "      <td>92.5</td>\n",
              "      <td>333.0</td>\n",
              "      <td>3.0</td>\n",
              "      <td>no rain</td>\n",
              "    </tr>\n",
              "  </tbody>\n",
              "</table>\n",
              "<p>2040 rows × 9 columns</p>\n",
              "</div>"
            ],
            "text/plain": [
              "            Date and Time  Air Tmp (C) M 60 Min  Mag WD 60 Min (deg) M  \\\n",
              "0          1/12/2022 0:00                 23.73                   82.0   \n",
              "1          1/12/2022 1:00                 26.51                   61.0   \n",
              "2          1/12/2022 2:00                 28.45                    3.0   \n",
              "3          1/12/2022 3:00                 29.59                  340.0   \n",
              "4          1/12/2022 4:00                 30.68                  297.0   \n",
              "...                   ...                   ...                    ...   \n",
              "2035  23/02/2023 19:00:00                 25.00                  269.0   \n",
              "2036  23/02/2023 20:00:00                 24.70                  301.0   \n",
              "2037  23/02/2023 21:00:00                 24.31                  312.0   \n",
              "2038  23/02/2023 22:00:00                 24.43                  334.0   \n",
              "2039  23/02/2023 23:00:00                 24.16                  331.0   \n",
              "\n",
              "      Precip 1Hr (mm) M  QNH (hPa) M  RH (%) M 60 Min  True WD 60 Min (deg) M  \\\n",
              "0                  29.7      1009.01            100.0                    84.0   \n",
              "1                  29.5      1009.35             92.9                    63.0   \n",
              "2                  23.5      1009.47             81.8                     5.0   \n",
              "3                  21.9      1009.11             75.2                   342.0   \n",
              "4                  19.9      1008.14             69.8                   299.0   \n",
              "...                 ...          ...              ...                     ...   \n",
              "2035                NaN      1008.60             90.0                   271.0   \n",
              "2036                NaN      1008.37             92.2                   303.0   \n",
              "2037                NaN      1008.40             92.9                   314.0   \n",
              "2038                NaN      1008.74             92.0                   336.0   \n",
              "2039                NaN      1009.32             92.5                   333.0   \n",
              "\n",
              "      WS 60 Min (kt) M klasifikasi  \n",
              "0                  2.0        rain  \n",
              "1                  2.0        rain  \n",
              "2                  2.0        rain  \n",
              "3                  2.0        rain  \n",
              "4                  4.0        rain  \n",
              "...                ...         ...  \n",
              "2035               2.0     no rain  \n",
              "2036               2.0     no rain  \n",
              "2037               2.0     no rain  \n",
              "2038               4.0     no rain  \n",
              "2039               3.0     no rain  \n",
              "\n",
              "[2040 rows x 9 columns]"
            ]
          },
          "execution_count": 2,
          "metadata": {},
          "output_type": "execute_result"
        }
      ],
      "source": [
        "data_belum_clean = pd.read_excel('../2022 Feb 2023 perjam.xlsx')\n",
        "data_belum_clean"
      ]
    },
    {
      "cell_type": "code",
      "execution_count": 3,
      "metadata": {},
      "outputs": [
        {
          "data": {
            "text/html": [
              "<div>\n",
              "<style scoped>\n",
              "    .dataframe tbody tr th:only-of-type {\n",
              "        vertical-align: middle;\n",
              "    }\n",
              "\n",
              "    .dataframe tbody tr th {\n",
              "        vertical-align: top;\n",
              "    }\n",
              "\n",
              "    .dataframe thead th {\n",
              "        text-align: right;\n",
              "    }\n",
              "</style>\n",
              "<table border=\"1\" class=\"dataframe\">\n",
              "  <thead>\n",
              "    <tr style=\"text-align: right;\">\n",
              "      <th></th>\n",
              "      <th>Air Tmp (C) M 60 Min</th>\n",
              "      <th>Mag WD 60 Min (deg) M</th>\n",
              "      <th>Precip 1Hr (mm) M</th>\n",
              "      <th>QNH (hPa) M</th>\n",
              "      <th>RH (%) M 60 Min</th>\n",
              "      <th>True WD 60 Min (deg) M</th>\n",
              "      <th>WS 60 Min (kt) M</th>\n",
              "    </tr>\n",
              "  </thead>\n",
              "  <tbody>\n",
              "    <tr>\n",
              "      <th>count</th>\n",
              "      <td>1905.000000</td>\n",
              "      <td>1906.000000</td>\n",
              "      <td>1918.000000</td>\n",
              "      <td>1917.000000</td>\n",
              "      <td>1906.000000</td>\n",
              "      <td>1906.000000</td>\n",
              "      <td>1906.000000</td>\n",
              "    </tr>\n",
              "    <tr>\n",
              "      <th>mean</th>\n",
              "      <td>26.352551</td>\n",
              "      <td>204.625918</td>\n",
              "      <td>0.273045</td>\n",
              "      <td>1009.294476</td>\n",
              "      <td>84.791501</td>\n",
              "      <td>203.342078</td>\n",
              "      <td>3.754460</td>\n",
              "    </tr>\n",
              "    <tr>\n",
              "      <th>std</th>\n",
              "      <td>2.817952</td>\n",
              "      <td>118.346611</td>\n",
              "      <td>1.829971</td>\n",
              "      <td>2.000466</td>\n",
              "      <td>13.232921</td>\n",
              "      <td>118.879535</td>\n",
              "      <td>2.439298</td>\n",
              "    </tr>\n",
              "    <tr>\n",
              "      <th>min</th>\n",
              "      <td>21.920000</td>\n",
              "      <td>2.000000</td>\n",
              "      <td>0.000000</td>\n",
              "      <td>1002.980000</td>\n",
              "      <td>43.300000</td>\n",
              "      <td>1.000000</td>\n",
              "      <td>0.000000</td>\n",
              "    </tr>\n",
              "    <tr>\n",
              "      <th>25%</th>\n",
              "      <td>24.100000</td>\n",
              "      <td>78.000000</td>\n",
              "      <td>0.000000</td>\n",
              "      <td>1008.000000</td>\n",
              "      <td>74.925000</td>\n",
              "      <td>78.000000</td>\n",
              "      <td>2.000000</td>\n",
              "    </tr>\n",
              "    <tr>\n",
              "      <th>50%</th>\n",
              "      <td>25.400000</td>\n",
              "      <td>247.500000</td>\n",
              "      <td>0.000000</td>\n",
              "      <td>1009.350000</td>\n",
              "      <td>89.400000</td>\n",
              "      <td>245.000000</td>\n",
              "      <td>3.000000</td>\n",
              "    </tr>\n",
              "    <tr>\n",
              "      <th>75%</th>\n",
              "      <td>28.640000</td>\n",
              "      <td>305.750000</td>\n",
              "      <td>0.000000</td>\n",
              "      <td>1010.670000</td>\n",
              "      <td>96.000000</td>\n",
              "      <td>305.000000</td>\n",
              "      <td>5.000000</td>\n",
              "    </tr>\n",
              "    <tr>\n",
              "      <th>max</th>\n",
              "      <td>33.710000</td>\n",
              "      <td>360.000000</td>\n",
              "      <td>29.700000</td>\n",
              "      <td>1014.260000</td>\n",
              "      <td>100.000000</td>\n",
              "      <td>360.000000</td>\n",
              "      <td>13.000000</td>\n",
              "    </tr>\n",
              "  </tbody>\n",
              "</table>\n",
              "</div>"
            ],
            "text/plain": [
              "       Air Tmp (C) M 60 Min  Mag WD 60 Min (deg) M  Precip 1Hr (mm) M  \\\n",
              "count           1905.000000            1906.000000        1918.000000   \n",
              "mean              26.352551             204.625918           0.273045   \n",
              "std                2.817952             118.346611           1.829971   \n",
              "min               21.920000               2.000000           0.000000   \n",
              "25%               24.100000              78.000000           0.000000   \n",
              "50%               25.400000             247.500000           0.000000   \n",
              "75%               28.640000             305.750000           0.000000   \n",
              "max               33.710000             360.000000          29.700000   \n",
              "\n",
              "       QNH (hPa) M  RH (%) M 60 Min  True WD 60 Min (deg) M  WS 60 Min (kt) M  \n",
              "count  1917.000000      1906.000000             1906.000000       1906.000000  \n",
              "mean   1009.294476        84.791501              203.342078          3.754460  \n",
              "std       2.000466        13.232921              118.879535          2.439298  \n",
              "min    1002.980000        43.300000                1.000000          0.000000  \n",
              "25%    1008.000000        74.925000               78.000000          2.000000  \n",
              "50%    1009.350000        89.400000              245.000000          3.000000  \n",
              "75%    1010.670000        96.000000              305.000000          5.000000  \n",
              "max    1014.260000       100.000000              360.000000         13.000000  "
            ]
          },
          "execution_count": 3,
          "metadata": {},
          "output_type": "execute_result"
        }
      ],
      "source": [
        "data_belum_clean.describe()"
      ]
    },
    {
      "cell_type": "code",
      "execution_count": 4,
      "metadata": {},
      "outputs": [
        {
          "data": {
            "text/html": [
              "<div>\n",
              "<style scoped>\n",
              "    .dataframe tbody tr th:only-of-type {\n",
              "        vertical-align: middle;\n",
              "    }\n",
              "\n",
              "    .dataframe tbody tr th {\n",
              "        vertical-align: top;\n",
              "    }\n",
              "\n",
              "    .dataframe thead th {\n",
              "        text-align: right;\n",
              "    }\n",
              "</style>\n",
              "<table border=\"1\" class=\"dataframe\">\n",
              "  <thead>\n",
              "    <tr style=\"text-align: right;\">\n",
              "      <th></th>\n",
              "      <th>Date and Time</th>\n",
              "      <th>Air Tmp (C) M 60 Min</th>\n",
              "      <th>Precip 1Hr (mm) M</th>\n",
              "      <th>QNH (hPa) M</th>\n",
              "      <th>RH (%) M 60 Min</th>\n",
              "      <th>WS 60 Min (kt) M</th>\n",
              "      <th>multiclass classification</th>\n",
              "      <th>Binary Classification</th>\n",
              "    </tr>\n",
              "  </thead>\n",
              "  <tbody>\n",
              "    <tr>\n",
              "      <th>0</th>\n",
              "      <td>1/12/2022 0:00</td>\n",
              "      <td>23.73</td>\n",
              "      <td>0.0</td>\n",
              "      <td>1009.01</td>\n",
              "      <td>100.0</td>\n",
              "      <td>2.0</td>\n",
              "      <td>tidak hujan</td>\n",
              "      <td>tidak hujan</td>\n",
              "    </tr>\n",
              "    <tr>\n",
              "      <th>1</th>\n",
              "      <td>1/12/2022 1:00</td>\n",
              "      <td>26.51</td>\n",
              "      <td>0.0</td>\n",
              "      <td>1009.35</td>\n",
              "      <td>92.9</td>\n",
              "      <td>2.0</td>\n",
              "      <td>tidak hujan</td>\n",
              "      <td>tidak hujan</td>\n",
              "    </tr>\n",
              "    <tr>\n",
              "      <th>2</th>\n",
              "      <td>1/12/2022 2:00</td>\n",
              "      <td>28.45</td>\n",
              "      <td>0.0</td>\n",
              "      <td>1009.47</td>\n",
              "      <td>81.8</td>\n",
              "      <td>2.0</td>\n",
              "      <td>tidak hujan</td>\n",
              "      <td>tidak hujan</td>\n",
              "    </tr>\n",
              "    <tr>\n",
              "      <th>3</th>\n",
              "      <td>1/12/2022 3:00</td>\n",
              "      <td>29.59</td>\n",
              "      <td>0.0</td>\n",
              "      <td>1009.11</td>\n",
              "      <td>75.2</td>\n",
              "      <td>2.0</td>\n",
              "      <td>tidak hujan</td>\n",
              "      <td>tidak hujan</td>\n",
              "    </tr>\n",
              "    <tr>\n",
              "      <th>4</th>\n",
              "      <td>1/12/2022 4:00</td>\n",
              "      <td>30.68</td>\n",
              "      <td>0.0</td>\n",
              "      <td>1008.14</td>\n",
              "      <td>69.8</td>\n",
              "      <td>4.0</td>\n",
              "      <td>tidak hujan</td>\n",
              "      <td>tidak hujan</td>\n",
              "    </tr>\n",
              "    <tr>\n",
              "      <th>...</th>\n",
              "      <td>...</td>\n",
              "      <td>...</td>\n",
              "      <td>...</td>\n",
              "      <td>...</td>\n",
              "      <td>...</td>\n",
              "      <td>...</td>\n",
              "      <td>...</td>\n",
              "      <td>...</td>\n",
              "    </tr>\n",
              "    <tr>\n",
              "      <th>2035</th>\n",
              "      <td>23/02/2023 19:00:00</td>\n",
              "      <td>25.00</td>\n",
              "      <td>0.0</td>\n",
              "      <td>1008.60</td>\n",
              "      <td>90.0</td>\n",
              "      <td>2.0</td>\n",
              "      <td>tidak hujan</td>\n",
              "      <td>tidak hujan</td>\n",
              "    </tr>\n",
              "    <tr>\n",
              "      <th>2036</th>\n",
              "      <td>23/02/2023 20:00:00</td>\n",
              "      <td>24.70</td>\n",
              "      <td>0.0</td>\n",
              "      <td>1008.37</td>\n",
              "      <td>92.2</td>\n",
              "      <td>2.0</td>\n",
              "      <td>tidak hujan</td>\n",
              "      <td>tidak hujan</td>\n",
              "    </tr>\n",
              "    <tr>\n",
              "      <th>2037</th>\n",
              "      <td>23/02/2023 21:00:00</td>\n",
              "      <td>24.31</td>\n",
              "      <td>0.0</td>\n",
              "      <td>1008.40</td>\n",
              "      <td>92.9</td>\n",
              "      <td>2.0</td>\n",
              "      <td>tidak hujan</td>\n",
              "      <td>tidak hujan</td>\n",
              "    </tr>\n",
              "    <tr>\n",
              "      <th>2038</th>\n",
              "      <td>23/02/2023 22:00:00</td>\n",
              "      <td>24.43</td>\n",
              "      <td>0.0</td>\n",
              "      <td>1008.74</td>\n",
              "      <td>92.0</td>\n",
              "      <td>4.0</td>\n",
              "      <td>tidak hujan</td>\n",
              "      <td>tidak hujan</td>\n",
              "    </tr>\n",
              "    <tr>\n",
              "      <th>2039</th>\n",
              "      <td>23/02/2023 23:00:00</td>\n",
              "      <td>24.16</td>\n",
              "      <td>0.0</td>\n",
              "      <td>1009.32</td>\n",
              "      <td>92.5</td>\n",
              "      <td>3.0</td>\n",
              "      <td>tidak hujan</td>\n",
              "      <td>tidak hujan</td>\n",
              "    </tr>\n",
              "  </tbody>\n",
              "</table>\n",
              "<p>2040 rows × 8 columns</p>\n",
              "</div>"
            ],
            "text/plain": [
              "            Date and Time  Air Tmp (C) M 60 Min  Precip 1Hr (mm) M  \\\n",
              "0          1/12/2022 0:00                 23.73                0.0   \n",
              "1          1/12/2022 1:00                 26.51                0.0   \n",
              "2          1/12/2022 2:00                 28.45                0.0   \n",
              "3          1/12/2022 3:00                 29.59                0.0   \n",
              "4          1/12/2022 4:00                 30.68                0.0   \n",
              "...                   ...                   ...                ...   \n",
              "2035  23/02/2023 19:00:00                 25.00                0.0   \n",
              "2036  23/02/2023 20:00:00                 24.70                0.0   \n",
              "2037  23/02/2023 21:00:00                 24.31                0.0   \n",
              "2038  23/02/2023 22:00:00                 24.43                0.0   \n",
              "2039  23/02/2023 23:00:00                 24.16                0.0   \n",
              "\n",
              "      QNH (hPa) M  RH (%) M 60 Min  WS 60 Min (kt) M  \\\n",
              "0         1009.01            100.0               2.0   \n",
              "1         1009.35             92.9               2.0   \n",
              "2         1009.47             81.8               2.0   \n",
              "3         1009.11             75.2               2.0   \n",
              "4         1008.14             69.8               4.0   \n",
              "...           ...              ...               ...   \n",
              "2035      1008.60             90.0               2.0   \n",
              "2036      1008.37             92.2               2.0   \n",
              "2037      1008.40             92.9               2.0   \n",
              "2038      1008.74             92.0               4.0   \n",
              "2039      1009.32             92.5               3.0   \n",
              "\n",
              "     multiclass classification Binary Classification  \n",
              "0                  tidak hujan           tidak hujan  \n",
              "1                  tidak hujan           tidak hujan  \n",
              "2                  tidak hujan           tidak hujan  \n",
              "3                  tidak hujan           tidak hujan  \n",
              "4                  tidak hujan           tidak hujan  \n",
              "...                        ...                   ...  \n",
              "2035               tidak hujan           tidak hujan  \n",
              "2036               tidak hujan           tidak hujan  \n",
              "2037               tidak hujan           tidak hujan  \n",
              "2038               tidak hujan           tidak hujan  \n",
              "2039               tidak hujan           tidak hujan  \n",
              "\n",
              "[2040 rows x 8 columns]"
            ]
          },
          "execution_count": 4,
          "metadata": {},
          "output_type": "execute_result"
        }
      ],
      "source": [
        "data_classified = pd.read_excel('../data/data_classified.xlsx')\n",
        "data_classified"
      ]
    },
    {
      "cell_type": "code",
      "execution_count": 5,
      "metadata": {},
      "outputs": [
        {
          "name": "stdout",
          "output_type": "stream",
          "text": [
            "<class 'pandas.core.frame.DataFrame'>\n",
            "RangeIndex: 2040 entries, 0 to 2039\n",
            "Data columns (total 9 columns):\n",
            " #   Column                  Non-Null Count  Dtype  \n",
            "---  ------                  --------------  -----  \n",
            " 0   Date and Time           2040 non-null   object \n",
            " 1   Air Tmp (C) M 60 Min    1905 non-null   float64\n",
            " 2   Mag WD 60 Min (deg) M   1906 non-null   float64\n",
            " 3   Precip 1Hr (mm) M       1918 non-null   float64\n",
            " 4   QNH (hPa) M             1917 non-null   float64\n",
            " 5   RH (%) M 60 Min         1906 non-null   float64\n",
            " 6   True WD 60 Min (deg) M  1906 non-null   float64\n",
            " 7   WS 60 Min (kt) M        1906 non-null   float64\n",
            " 8   klasifikasi             2040 non-null   object \n",
            "dtypes: float64(7), object(2)\n",
            "memory usage: 143.6+ KB\n"
          ]
        }
      ],
      "source": [
        "data_belum_clean.info()"
      ]
    },
    {
      "cell_type": "code",
      "execution_count": 6,
      "metadata": {
        "colab": {
          "base_uri": "https://localhost:8080/",
          "height": 288
        },
        "id": "Ey-339A5fmbK",
        "outputId": "df1602b7-7212-43ba-aa0b-24e6f6cbeb28"
      },
      "outputs": [
        {
          "data": {
            "text/html": [
              "<div>\n",
              "<style scoped>\n",
              "    .dataframe tbody tr th:only-of-type {\n",
              "        vertical-align: middle;\n",
              "    }\n",
              "\n",
              "    .dataframe tbody tr th {\n",
              "        vertical-align: top;\n",
              "    }\n",
              "\n",
              "    .dataframe thead th {\n",
              "        text-align: right;\n",
              "    }\n",
              "</style>\n",
              "<table border=\"1\" class=\"dataframe\">\n",
              "  <thead>\n",
              "    <tr style=\"text-align: right;\">\n",
              "      <th></th>\n",
              "      <th>Date and Time</th>\n",
              "      <th>Air Tmp (C) M 60 Min</th>\n",
              "      <th>Precip 1Hr (mm) M</th>\n",
              "      <th>QNH (hPa) M</th>\n",
              "      <th>RH (%) M 60 Min</th>\n",
              "      <th>WS 60 Min (kt) M</th>\n",
              "    </tr>\n",
              "  </thead>\n",
              "  <tbody>\n",
              "    <tr>\n",
              "      <th>0</th>\n",
              "      <td>1/12/2022 0:00</td>\n",
              "      <td>23.73</td>\n",
              "      <td>0.0</td>\n",
              "      <td>1009.01</td>\n",
              "      <td>100.0</td>\n",
              "      <td>2.0</td>\n",
              "    </tr>\n",
              "    <tr>\n",
              "      <th>1</th>\n",
              "      <td>1/12/2022 1:00</td>\n",
              "      <td>26.51</td>\n",
              "      <td>0.0</td>\n",
              "      <td>1009.35</td>\n",
              "      <td>92.9</td>\n",
              "      <td>2.0</td>\n",
              "    </tr>\n",
              "    <tr>\n",
              "      <th>2</th>\n",
              "      <td>1/12/2022 2:00</td>\n",
              "      <td>28.45</td>\n",
              "      <td>0.0</td>\n",
              "      <td>1009.47</td>\n",
              "      <td>81.8</td>\n",
              "      <td>2.0</td>\n",
              "    </tr>\n",
              "    <tr>\n",
              "      <th>3</th>\n",
              "      <td>1/12/2022 3:00</td>\n",
              "      <td>29.59</td>\n",
              "      <td>0.0</td>\n",
              "      <td>1009.11</td>\n",
              "      <td>75.2</td>\n",
              "      <td>2.0</td>\n",
              "    </tr>\n",
              "    <tr>\n",
              "      <th>4</th>\n",
              "      <td>1/12/2022 4:00</td>\n",
              "      <td>30.68</td>\n",
              "      <td>0.0</td>\n",
              "      <td>1008.14</td>\n",
              "      <td>69.8</td>\n",
              "      <td>4.0</td>\n",
              "    </tr>\n",
              "    <tr>\n",
              "      <th>...</th>\n",
              "      <td>...</td>\n",
              "      <td>...</td>\n",
              "      <td>...</td>\n",
              "      <td>...</td>\n",
              "      <td>...</td>\n",
              "      <td>...</td>\n",
              "    </tr>\n",
              "    <tr>\n",
              "      <th>2035</th>\n",
              "      <td>23/02/2023 19:00:00</td>\n",
              "      <td>25.00</td>\n",
              "      <td>0.0</td>\n",
              "      <td>1008.60</td>\n",
              "      <td>90.0</td>\n",
              "      <td>2.0</td>\n",
              "    </tr>\n",
              "    <tr>\n",
              "      <th>2036</th>\n",
              "      <td>23/02/2023 20:00:00</td>\n",
              "      <td>24.70</td>\n",
              "      <td>0.0</td>\n",
              "      <td>1008.37</td>\n",
              "      <td>92.2</td>\n",
              "      <td>2.0</td>\n",
              "    </tr>\n",
              "    <tr>\n",
              "      <th>2037</th>\n",
              "      <td>23/02/2023 21:00:00</td>\n",
              "      <td>24.31</td>\n",
              "      <td>0.0</td>\n",
              "      <td>1008.40</td>\n",
              "      <td>92.9</td>\n",
              "      <td>2.0</td>\n",
              "    </tr>\n",
              "    <tr>\n",
              "      <th>2038</th>\n",
              "      <td>23/02/2023 22:00:00</td>\n",
              "      <td>24.43</td>\n",
              "      <td>0.0</td>\n",
              "      <td>1008.74</td>\n",
              "      <td>92.0</td>\n",
              "      <td>4.0</td>\n",
              "    </tr>\n",
              "    <tr>\n",
              "      <th>2039</th>\n",
              "      <td>23/02/2023 23:00:00</td>\n",
              "      <td>24.16</td>\n",
              "      <td>0.0</td>\n",
              "      <td>1009.32</td>\n",
              "      <td>92.5</td>\n",
              "      <td>3.0</td>\n",
              "    </tr>\n",
              "  </tbody>\n",
              "</table>\n",
              "<p>2040 rows × 6 columns</p>\n",
              "</div>"
            ],
            "text/plain": [
              "            Date and Time  Air Tmp (C) M 60 Min  Precip 1Hr (mm) M  \\\n",
              "0          1/12/2022 0:00                 23.73                0.0   \n",
              "1          1/12/2022 1:00                 26.51                0.0   \n",
              "2          1/12/2022 2:00                 28.45                0.0   \n",
              "3          1/12/2022 3:00                 29.59                0.0   \n",
              "4          1/12/2022 4:00                 30.68                0.0   \n",
              "...                   ...                   ...                ...   \n",
              "2035  23/02/2023 19:00:00                 25.00                0.0   \n",
              "2036  23/02/2023 20:00:00                 24.70                0.0   \n",
              "2037  23/02/2023 21:00:00                 24.31                0.0   \n",
              "2038  23/02/2023 22:00:00                 24.43                0.0   \n",
              "2039  23/02/2023 23:00:00                 24.16                0.0   \n",
              "\n",
              "      QNH (hPa) M  RH (%) M 60 Min  WS 60 Min (kt) M  \n",
              "0         1009.01            100.0               2.0  \n",
              "1         1009.35             92.9               2.0  \n",
              "2         1009.47             81.8               2.0  \n",
              "3         1009.11             75.2               2.0  \n",
              "4         1008.14             69.8               4.0  \n",
              "...           ...              ...               ...  \n",
              "2035      1008.60             90.0               2.0  \n",
              "2036      1008.37             92.2               2.0  \n",
              "2037      1008.40             92.9               2.0  \n",
              "2038      1008.74             92.0               4.0  \n",
              "2039      1009.32             92.5               3.0  \n",
              "\n",
              "[2040 rows x 6 columns]"
            ]
          },
          "execution_count": 6,
          "metadata": {},
          "output_type": "execute_result"
        }
      ],
      "source": [
        "data_baru = pd.read_excel('../Data Des 2022 to Feb 2023 perjam Clean.xlsx')\n",
        "data_baru = data_baru.drop('klasifikasi', axis=1)\n",
        "data_baru"
      ]
    },
    {
      "attachments": {},
      "cell_type": "markdown",
      "metadata": {},
      "source": [
        "### Explanatory Data Analysis"
      ]
    },
    {
      "attachments": {},
      "cell_type": "markdown",
      "metadata": {},
      "source": [
        "_*Variable description*_\n",
        "\n",
        "- Date and Time = Date and Time\n",
        "- Air Tmp (C) M 60 Min\n",
        "- Mag WD 60 Min (deg) M\n",
        "- Precip 1Hr (mm) M\n",
        "- QNH (hPa) M\n",
        "- RH (%) M 60 Min\n",
        "- True WD 60 Min (deg) M\n",
        "- WS 60 Min (kt) M\n",
        "- klasifikasi"
      ]
    },
    {
      "cell_type": "code",
      "execution_count": 7,
      "metadata": {
        "colab": {
          "base_uri": "https://localhost:8080/"
        },
        "id": "eajZo8auWwp0",
        "outputId": "d67b57e8-e9b1-422d-e091-a39feff8e67b"
      },
      "outputs": [
        {
          "name": "stdout",
          "output_type": "stream",
          "text": [
            "<class 'pandas.core.frame.DataFrame'>\n",
            "RangeIndex: 2040 entries, 0 to 2039\n",
            "Data columns (total 6 columns):\n",
            " #   Column                Non-Null Count  Dtype  \n",
            "---  ------                --------------  -----  \n",
            " 0   Date and Time         2040 non-null   object \n",
            " 1   Air Tmp (C) M 60 Min  2040 non-null   float64\n",
            " 2   Precip 1Hr (mm) M     2040 non-null   float64\n",
            " 3   QNH (hPa) M           2040 non-null   float64\n",
            " 4   RH (%) M 60 Min       2040 non-null   float64\n",
            " 5   WS 60 Min (kt) M      2040 non-null   float64\n",
            "dtypes: float64(5), object(1)\n",
            "memory usage: 95.8+ KB\n"
          ]
        }
      ],
      "source": [
        "data_baru.info()"
      ]
    },
    {
      "cell_type": "code",
      "execution_count": 8,
      "metadata": {
        "id": "o9h52YPRfmbM"
      },
      "outputs": [],
      "source": [
        "# data_baru.sort_values(by=['Date and Time'], inplace=True, ascending=True)\n",
        "data_baru.set_index('Date and Time', inplace= True)"
      ]
    },
    {
      "attachments": {},
      "cell_type": "markdown",
      "metadata": {},
      "source": [
        "#### Missing value"
      ]
    },
    {
      "cell_type": "code",
      "execution_count": 9,
      "metadata": {},
      "outputs": [
        {
          "data": {
            "text/html": [
              "<div>\n",
              "<style scoped>\n",
              "    .dataframe tbody tr th:only-of-type {\n",
              "        vertical-align: middle;\n",
              "    }\n",
              "\n",
              "    .dataframe tbody tr th {\n",
              "        vertical-align: top;\n",
              "    }\n",
              "\n",
              "    .dataframe thead th {\n",
              "        text-align: right;\n",
              "    }\n",
              "</style>\n",
              "<table border=\"1\" class=\"dataframe\">\n",
              "  <thead>\n",
              "    <tr style=\"text-align: right;\">\n",
              "      <th></th>\n",
              "      <th>Air Tmp (C) M 60 Min</th>\n",
              "      <th>Precip 1Hr (mm) M</th>\n",
              "      <th>QNH (hPa) M</th>\n",
              "      <th>RH (%) M 60 Min</th>\n",
              "      <th>WS 60 Min (kt) M</th>\n",
              "    </tr>\n",
              "  </thead>\n",
              "  <tbody>\n",
              "    <tr>\n",
              "      <th>count</th>\n",
              "      <td>2040.000000</td>\n",
              "      <td>2040.000000</td>\n",
              "      <td>2040.000000</td>\n",
              "      <td>2040.000000</td>\n",
              "      <td>2040.000000</td>\n",
              "    </tr>\n",
              "    <tr>\n",
              "      <th>mean</th>\n",
              "      <td>26.396240</td>\n",
              "      <td>0.266593</td>\n",
              "      <td>1009.248248</td>\n",
              "      <td>84.888382</td>\n",
              "      <td>3.689706</td>\n",
              "    </tr>\n",
              "    <tr>\n",
              "      <th>std</th>\n",
              "      <td>2.767906</td>\n",
              "      <td>1.776614</td>\n",
              "      <td>1.964072</td>\n",
              "      <td>12.993643</td>\n",
              "      <td>2.382819</td>\n",
              "    </tr>\n",
              "    <tr>\n",
              "      <th>min</th>\n",
              "      <td>21.920000</td>\n",
              "      <td>0.000000</td>\n",
              "      <td>1002.980000</td>\n",
              "      <td>43.300000</td>\n",
              "      <td>0.000000</td>\n",
              "    </tr>\n",
              "    <tr>\n",
              "      <th>25%</th>\n",
              "      <td>24.160000</td>\n",
              "      <td>0.000000</td>\n",
              "      <td>1008.017500</td>\n",
              "      <td>75.400000</td>\n",
              "      <td>2.000000</td>\n",
              "    </tr>\n",
              "    <tr>\n",
              "      <th>50%</th>\n",
              "      <td>25.530000</td>\n",
              "      <td>0.000000</td>\n",
              "      <td>1009.210000</td>\n",
              "      <td>89.000000</td>\n",
              "      <td>3.000000</td>\n",
              "    </tr>\n",
              "    <tr>\n",
              "      <th>75%</th>\n",
              "      <td>28.525000</td>\n",
              "      <td>0.000000</td>\n",
              "      <td>1010.600000</td>\n",
              "      <td>96.000000</td>\n",
              "      <td>5.000000</td>\n",
              "    </tr>\n",
              "    <tr>\n",
              "      <th>max</th>\n",
              "      <td>33.710000</td>\n",
              "      <td>29.700000</td>\n",
              "      <td>1014.260000</td>\n",
              "      <td>100.000000</td>\n",
              "      <td>13.000000</td>\n",
              "    </tr>\n",
              "  </tbody>\n",
              "</table>\n",
              "</div>"
            ],
            "text/plain": [
              "       Air Tmp (C) M 60 Min  Precip 1Hr (mm) M  QNH (hPa) M  RH (%) M 60 Min  \\\n",
              "count           2040.000000        2040.000000  2040.000000      2040.000000   \n",
              "mean              26.396240           0.266593  1009.248248        84.888382   \n",
              "std                2.767906           1.776614     1.964072        12.993643   \n",
              "min               21.920000           0.000000  1002.980000        43.300000   \n",
              "25%               24.160000           0.000000  1008.017500        75.400000   \n",
              "50%               25.530000           0.000000  1009.210000        89.000000   \n",
              "75%               28.525000           0.000000  1010.600000        96.000000   \n",
              "max               33.710000          29.700000  1014.260000       100.000000   \n",
              "\n",
              "       WS 60 Min (kt) M  \n",
              "count       2040.000000  \n",
              "mean           3.689706  \n",
              "std            2.382819  \n",
              "min            0.000000  \n",
              "25%            2.000000  \n",
              "50%            3.000000  \n",
              "75%            5.000000  \n",
              "max           13.000000  "
            ]
          },
          "execution_count": 9,
          "metadata": {},
          "output_type": "execute_result"
        }
      ],
      "source": [
        "data_baru.describe()"
      ]
    },
    {
      "attachments": {},
      "cell_type": "markdown",
      "metadata": {},
      "source": [
        "_ada lebih dari 100 data yang hilang, total data adalah 2039, dan yang terhitung 1900_"
      ]
    },
    {
      "cell_type": "code",
      "execution_count": 10,
      "metadata": {},
      "outputs": [
        {
          "data": {
            "text/html": [
              "<div>\n",
              "<style scoped>\n",
              "    .dataframe tbody tr th:only-of-type {\n",
              "        vertical-align: middle;\n",
              "    }\n",
              "\n",
              "    .dataframe tbody tr th {\n",
              "        vertical-align: top;\n",
              "    }\n",
              "\n",
              "    .dataframe thead th {\n",
              "        text-align: right;\n",
              "    }\n",
              "</style>\n",
              "<table border=\"1\" class=\"dataframe\">\n",
              "  <thead>\n",
              "    <tr style=\"text-align: right;\">\n",
              "      <th></th>\n",
              "      <th>Air Tmp (C) M 60 Min</th>\n",
              "      <th>Precip 1Hr (mm) M</th>\n",
              "      <th>QNH (hPa) M</th>\n",
              "      <th>RH (%) M 60 Min</th>\n",
              "      <th>WS 60 Min (kt) M</th>\n",
              "      <th>classification</th>\n",
              "    </tr>\n",
              "    <tr>\n",
              "      <th>Date and Time</th>\n",
              "      <th></th>\n",
              "      <th></th>\n",
              "      <th></th>\n",
              "      <th></th>\n",
              "      <th></th>\n",
              "      <th></th>\n",
              "    </tr>\n",
              "  </thead>\n",
              "  <tbody>\n",
              "    <tr>\n",
              "      <th>1/12/2022 0:00</th>\n",
              "      <td>23.73</td>\n",
              "      <td>0.0</td>\n",
              "      <td>1009.01</td>\n",
              "      <td>100.0</td>\n",
              "      <td>2.0</td>\n",
              "      <td>tidak hujan</td>\n",
              "    </tr>\n",
              "    <tr>\n",
              "      <th>1/12/2022 1:00</th>\n",
              "      <td>26.51</td>\n",
              "      <td>0.0</td>\n",
              "      <td>1009.35</td>\n",
              "      <td>92.9</td>\n",
              "      <td>2.0</td>\n",
              "      <td>tidak hujan</td>\n",
              "    </tr>\n",
              "    <tr>\n",
              "      <th>1/12/2022 2:00</th>\n",
              "      <td>28.45</td>\n",
              "      <td>0.0</td>\n",
              "      <td>1009.47</td>\n",
              "      <td>81.8</td>\n",
              "      <td>2.0</td>\n",
              "      <td>tidak hujan</td>\n",
              "    </tr>\n",
              "    <tr>\n",
              "      <th>1/12/2022 3:00</th>\n",
              "      <td>29.59</td>\n",
              "      <td>0.0</td>\n",
              "      <td>1009.11</td>\n",
              "      <td>75.2</td>\n",
              "      <td>2.0</td>\n",
              "      <td>tidak hujan</td>\n",
              "    </tr>\n",
              "    <tr>\n",
              "      <th>1/12/2022 4:00</th>\n",
              "      <td>30.68</td>\n",
              "      <td>0.0</td>\n",
              "      <td>1008.14</td>\n",
              "      <td>69.8</td>\n",
              "      <td>4.0</td>\n",
              "      <td>tidak hujan</td>\n",
              "    </tr>\n",
              "    <tr>\n",
              "      <th>...</th>\n",
              "      <td>...</td>\n",
              "      <td>...</td>\n",
              "      <td>...</td>\n",
              "      <td>...</td>\n",
              "      <td>...</td>\n",
              "      <td>...</td>\n",
              "    </tr>\n",
              "    <tr>\n",
              "      <th>23/02/2023 19:00:00</th>\n",
              "      <td>25.00</td>\n",
              "      <td>0.0</td>\n",
              "      <td>1008.60</td>\n",
              "      <td>90.0</td>\n",
              "      <td>2.0</td>\n",
              "      <td>tidak hujan</td>\n",
              "    </tr>\n",
              "    <tr>\n",
              "      <th>23/02/2023 20:00:00</th>\n",
              "      <td>24.70</td>\n",
              "      <td>0.0</td>\n",
              "      <td>1008.37</td>\n",
              "      <td>92.2</td>\n",
              "      <td>2.0</td>\n",
              "      <td>tidak hujan</td>\n",
              "    </tr>\n",
              "    <tr>\n",
              "      <th>23/02/2023 21:00:00</th>\n",
              "      <td>24.31</td>\n",
              "      <td>0.0</td>\n",
              "      <td>1008.40</td>\n",
              "      <td>92.9</td>\n",
              "      <td>2.0</td>\n",
              "      <td>tidak hujan</td>\n",
              "    </tr>\n",
              "    <tr>\n",
              "      <th>23/02/2023 22:00:00</th>\n",
              "      <td>24.43</td>\n",
              "      <td>0.0</td>\n",
              "      <td>1008.74</td>\n",
              "      <td>92.0</td>\n",
              "      <td>4.0</td>\n",
              "      <td>tidak hujan</td>\n",
              "    </tr>\n",
              "    <tr>\n",
              "      <th>23/02/2023 23:00:00</th>\n",
              "      <td>24.16</td>\n",
              "      <td>0.0</td>\n",
              "      <td>1009.32</td>\n",
              "      <td>92.5</td>\n",
              "      <td>3.0</td>\n",
              "      <td>tidak hujan</td>\n",
              "    </tr>\n",
              "  </tbody>\n",
              "</table>\n",
              "<p>2040 rows × 6 columns</p>\n",
              "</div>"
            ],
            "text/plain": [
              "                     Air Tmp (C) M 60 Min  Precip 1Hr (mm) M  QNH (hPa) M  \\\n",
              "Date and Time                                                               \n",
              "1/12/2022 0:00                      23.73                0.0      1009.01   \n",
              "1/12/2022 1:00                      26.51                0.0      1009.35   \n",
              "1/12/2022 2:00                      28.45                0.0      1009.47   \n",
              "1/12/2022 3:00                      29.59                0.0      1009.11   \n",
              "1/12/2022 4:00                      30.68                0.0      1008.14   \n",
              "...                                   ...                ...          ...   \n",
              "23/02/2023 19:00:00                 25.00                0.0      1008.60   \n",
              "23/02/2023 20:00:00                 24.70                0.0      1008.37   \n",
              "23/02/2023 21:00:00                 24.31                0.0      1008.40   \n",
              "23/02/2023 22:00:00                 24.43                0.0      1008.74   \n",
              "23/02/2023 23:00:00                 24.16                0.0      1009.32   \n",
              "\n",
              "                     RH (%) M 60 Min  WS 60 Min (kt) M classification  \n",
              "Date and Time                                                          \n",
              "1/12/2022 0:00                 100.0               2.0    tidak hujan  \n",
              "1/12/2022 1:00                  92.9               2.0    tidak hujan  \n",
              "1/12/2022 2:00                  81.8               2.0    tidak hujan  \n",
              "1/12/2022 3:00                  75.2               2.0    tidak hujan  \n",
              "1/12/2022 4:00                  69.8               4.0    tidak hujan  \n",
              "...                              ...               ...            ...  \n",
              "23/02/2023 19:00:00             90.0               2.0    tidak hujan  \n",
              "23/02/2023 20:00:00             92.2               2.0    tidak hujan  \n",
              "23/02/2023 21:00:00             92.9               2.0    tidak hujan  \n",
              "23/02/2023 22:00:00             92.0               4.0    tidak hujan  \n",
              "23/02/2023 23:00:00             92.5               3.0    tidak hujan  \n",
              "\n",
              "[2040 rows x 6 columns]"
            ]
          },
          "execution_count": 10,
          "metadata": {},
          "output_type": "execute_result"
        }
      ],
      "source": [
        "conditions = [\n",
        "    (data_baru['Precip 1Hr (mm) M']==0),\n",
        "    (data_baru['Precip 1Hr (mm) M']>0),\n",
        "]\n",
        "\n",
        "values = ['tidak hujan', 'hujan']\n",
        "\n",
        "data_baru['classification'] = np.select(conditions, values)\n",
        "data_baru\n",
        "# data_classified = data_baru\n",
        "# writer = pd.ExcelWriter('data/data_classified.xlsx')\n",
        "# data_classified.to_excel(writer)\n",
        "# writer.save()"
      ]
    },
    {
      "cell_type": "code",
      "execution_count": 11,
      "metadata": {
        "colab": {
          "base_uri": "https://localhost:8080/"
        },
        "id": "_TODVjQUfmbP",
        "outputId": "a781dda2-9bec-4dec-ed19-5d798d0e7392"
      },
      "outputs": [
        {
          "data": {
            "text/plain": [
              "Air Tmp (C) M 60 Min    0\n",
              "Precip 1Hr (mm) M       0\n",
              "QNH (hPa) M             0\n",
              "RH (%) M 60 Min         0\n",
              "WS 60 Min (kt) M        0\n",
              "classification          0\n",
              "dtype: int64"
            ]
          },
          "execution_count": 11,
          "metadata": {},
          "output_type": "execute_result"
        }
      ],
      "source": [
        "data_baru.isnull().sum()"
      ]
    },
    {
      "cell_type": "code",
      "execution_count": 12,
      "metadata": {},
      "outputs": [],
      "source": [
        "# data_hilang = data_baru.isnull().sum()\n",
        "# data_hilang = pd.DataFrame(data_hilang)\n",
        "# writer = pd.ExcelWriter('data_hil.xlsx')\n",
        "# data_hilang.to_excel(writer)\n",
        "# writer.save()"
      ]
    },
    {
      "cell_type": "code",
      "execution_count": 13,
      "metadata": {
        "id": "_Dkh5pGvfmbP"
      },
      "outputs": [],
      "source": [
        "# data_baru = data_baru.dropna(how='any',axis=0) \n",
        "# data_baru.count()"
      ]
    },
    {
      "cell_type": "code",
      "execution_count": 14,
      "metadata": {
        "colab": {
          "base_uri": "https://localhost:8080/"
        },
        "id": "So2VhhNZfmbQ",
        "outputId": "a3e31f29-61c4-4837-a3f3-73e0f491c37f"
      },
      "outputs": [],
      "source": [
        "# data_baru.isnull().sum()"
      ]
    },
    {
      "cell_type": "code",
      "execution_count": 15,
      "metadata": {},
      "outputs": [],
      "source": [
        "# data_baru = data_baru.drop(data_baru.columns[[1,5]], axis=1)"
      ]
    },
    {
      "attachments": {},
      "cell_type": "markdown",
      "metadata": {},
      "source": [
        "#### Pesebaran data"
      ]
    },
    {
      "attachments": {},
      "cell_type": "markdown",
      "metadata": {},
      "source": [
        "dilihat dengan histogram"
      ]
    },
    {
      "cell_type": "code",
      "execution_count": 16,
      "metadata": {
        "colab": {
          "base_uri": "https://localhost:8080/",
          "height": 879
        },
        "id": "6jY2gi_nfmbl",
        "outputId": "800695d8-a6ab-444b-fa9b-01f2917ecb40"
      },
      "outputs": [
        {
          "data": {
            "image/png": "[encoded data removed]",
            "text/plain": [
              "<Figure size 2000x1500 with 6 Axes>"
            ]
          },
          "metadata": {},
          "output_type": "display_data"
        }
      ],
      "source": [
        "import matplotlib.pyplot as plt\n",
        "\n",
        "data_baru.hist(bins=50, figsize=(20,15))\n",
        "plt.show()"
      ]
    },
    {
      "attachments": {},
      "cell_type": "markdown",
      "metadata": {},
      "source": [
        "#### Matriks korelasi"
      ]
    },
    {
      "cell_type": "code",
      "execution_count": 17,
      "metadata": {
        "colab": {
          "base_uri": "https://localhost:8080/",
          "height": 679
        },
        "id": "94FfX1DFfmbl",
        "outputId": "863a47d0-c224-486c-8120-d3b2e66988c0"
      },
      "outputs": [
        {
          "name": "stderr",
          "output_type": "stream",
          "text": [
            "C:\\Users\\auriw\\AppData\\Local\\Temp\\ipykernel_14872\\1150458498.py:2: FutureWarning: The default value of numeric_only in DataFrame.corr is deprecated. In a future version, it will default to False. Select only valid columns or specify the value of numeric_only to silence this warning.\n",
            "  correlation_matrix = data_baru.corr().round(2)\n"
          ]
        },
        {
          "data": {
            "text/plain": [
              "<Axes: >"
            ]
          },
          "execution_count": 17,
          "metadata": {},
          "output_type": "execute_result"
        },
        {
          "data": {
            "image/png": "[encoded data removed]",
            "text/plain": [
              "<Figure size 500x500 with 2 Axes>"
            ]
          },
          "metadata": {},
          "output_type": "display_data"
        }
      ],
      "source": [
        "plt.figure(figsize=(5, 5))\n",
        "correlation_matrix = data_baru.corr().round(2)\n",
        "sns.heatmap(data=correlation_matrix, annot=True, cmap='coolwarm', linewidths=0.5, )"
      ]
    },
    {
      "cell_type": "code",
      "execution_count": 18,
      "metadata": {},
      "outputs": [
        {
          "name": "stderr",
          "output_type": "stream",
          "text": [
            "C:\\Users\\auriw\\AppData\\Local\\Temp\\ipykernel_14872\\2926031926.py:2: FutureWarning: The default value of numeric_only in DataFrame.corr is deprecated. In a future version, it will default to False. Select only valid columns or specify the value of numeric_only to silence this warning.\n",
            "  rain_corr = data_baru.corr()['Precip 1Hr (mm) M'].sort_values(ascending=False)\n"
          ]
        },
        {
          "data": {
            "text/plain": [
              "Precip 1Hr (mm) M       1.000000\n",
              "WS 60 Min (kt) M        0.121768\n",
              "RH (%) M 60 Min         0.117740\n",
              "QNH (hPa) M            -0.029182\n",
              "Air Tmp (C) M 60 Min   -0.112329\n",
              "Name: Precip 1Hr (mm) M, dtype: float64"
            ]
          },
          "execution_count": 18,
          "metadata": {},
          "output_type": "execute_result"
        }
      ],
      "source": [
        "# Get the correlation coefficients for \"rain_sum\" feature\n",
        "rain_corr = data_baru.corr()['Precip 1Hr (mm) M'].sort_values(ascending=False)\n",
        "rain_corr"
      ]
    },
    {
      "attachments": {},
      "cell_type": "markdown",
      "metadata": {},
      "source": [
        "### Data preparation"
      ]
    },
    {
      "attachments": {},
      "cell_type": "markdown",
      "metadata": {},
      "source": [
        "#### one-hot encoding"
      ]
    },
    {
      "attachments": {},
      "cell_type": "markdown",
      "metadata": {},
      "source": [
        "mengubah data kategori dengan one-hot encoding"
      ]
    },
    {
      "cell_type": "code",
      "execution_count": 19,
      "metadata": {},
      "outputs": [
        {
          "data": {
            "text/html": [
              "<div>\n",
              "<style scoped>\n",
              "    .dataframe tbody tr th:only-of-type {\n",
              "        vertical-align: middle;\n",
              "    }\n",
              "\n",
              "    .dataframe tbody tr th {\n",
              "        vertical-align: top;\n",
              "    }\n",
              "\n",
              "    .dataframe thead th {\n",
              "        text-align: right;\n",
              "    }\n",
              "</style>\n",
              "<table border=\"1\" class=\"dataframe\">\n",
              "  <thead>\n",
              "    <tr style=\"text-align: right;\">\n",
              "      <th></th>\n",
              "      <th>Air Tmp (C) M 60 Min</th>\n",
              "      <th>Precip 1Hr (mm) M</th>\n",
              "      <th>QNH (hPa) M</th>\n",
              "      <th>RH (%) M 60 Min</th>\n",
              "      <th>WS 60 Min (kt) M</th>\n",
              "      <th>classification_hujan</th>\n",
              "      <th>classification_tidak hujan</th>\n",
              "    </tr>\n",
              "    <tr>\n",
              "      <th>Date and Time</th>\n",
              "      <th></th>\n",
              "      <th></th>\n",
              "      <th></th>\n",
              "      <th></th>\n",
              "      <th></th>\n",
              "      <th></th>\n",
              "      <th></th>\n",
              "    </tr>\n",
              "  </thead>\n",
              "  <tbody>\n",
              "    <tr>\n",
              "      <th>1/12/2022 0:00</th>\n",
              "      <td>23.73</td>\n",
              "      <td>0.0</td>\n",
              "      <td>1009.01</td>\n",
              "      <td>100.0</td>\n",
              "      <td>2.0</td>\n",
              "      <td>0</td>\n",
              "      <td>1</td>\n",
              "    </tr>\n",
              "    <tr>\n",
              "      <th>1/12/2022 1:00</th>\n",
              "      <td>26.51</td>\n",
              "      <td>0.0</td>\n",
              "      <td>1009.35</td>\n",
              "      <td>92.9</td>\n",
              "      <td>2.0</td>\n",
              "      <td>0</td>\n",
              "      <td>1</td>\n",
              "    </tr>\n",
              "    <tr>\n",
              "      <th>1/12/2022 2:00</th>\n",
              "      <td>28.45</td>\n",
              "      <td>0.0</td>\n",
              "      <td>1009.47</td>\n",
              "      <td>81.8</td>\n",
              "      <td>2.0</td>\n",
              "      <td>0</td>\n",
              "      <td>1</td>\n",
              "    </tr>\n",
              "    <tr>\n",
              "      <th>1/12/2022 3:00</th>\n",
              "      <td>29.59</td>\n",
              "      <td>0.0</td>\n",
              "      <td>1009.11</td>\n",
              "      <td>75.2</td>\n",
              "      <td>2.0</td>\n",
              "      <td>0</td>\n",
              "      <td>1</td>\n",
              "    </tr>\n",
              "    <tr>\n",
              "      <th>1/12/2022 4:00</th>\n",
              "      <td>30.68</td>\n",
              "      <td>0.0</td>\n",
              "      <td>1008.14</td>\n",
              "      <td>69.8</td>\n",
              "      <td>4.0</td>\n",
              "      <td>0</td>\n",
              "      <td>1</td>\n",
              "    </tr>\n",
              "    <tr>\n",
              "      <th>...</th>\n",
              "      <td>...</td>\n",
              "      <td>...</td>\n",
              "      <td>...</td>\n",
              "      <td>...</td>\n",
              "      <td>...</td>\n",
              "      <td>...</td>\n",
              "      <td>...</td>\n",
              "    </tr>\n",
              "    <tr>\n",
              "      <th>23/02/2023 19:00:00</th>\n",
              "      <td>25.00</td>\n",
              "      <td>0.0</td>\n",
              "      <td>1008.60</td>\n",
              "      <td>90.0</td>\n",
              "      <td>2.0</td>\n",
              "      <td>0</td>\n",
              "      <td>1</td>\n",
              "    </tr>\n",
              "    <tr>\n",
              "      <th>23/02/2023 20:00:00</th>\n",
              "      <td>24.70</td>\n",
              "      <td>0.0</td>\n",
              "      <td>1008.37</td>\n",
              "      <td>92.2</td>\n",
              "      <td>2.0</td>\n",
              "      <td>0</td>\n",
              "      <td>1</td>\n",
              "    </tr>\n",
              "    <tr>\n",
              "      <th>23/02/2023 21:00:00</th>\n",
              "      <td>24.31</td>\n",
              "      <td>0.0</td>\n",
              "      <td>1008.40</td>\n",
              "      <td>92.9</td>\n",
              "      <td>2.0</td>\n",
              "      <td>0</td>\n",
              "      <td>1</td>\n",
              "    </tr>\n",
              "    <tr>\n",
              "      <th>23/02/2023 22:00:00</th>\n",
              "      <td>24.43</td>\n",
              "      <td>0.0</td>\n",
              "      <td>1008.74</td>\n",
              "      <td>92.0</td>\n",
              "      <td>4.0</td>\n",
              "      <td>0</td>\n",
              "      <td>1</td>\n",
              "    </tr>\n",
              "    <tr>\n",
              "      <th>23/02/2023 23:00:00</th>\n",
              "      <td>24.16</td>\n",
              "      <td>0.0</td>\n",
              "      <td>1009.32</td>\n",
              "      <td>92.5</td>\n",
              "      <td>3.0</td>\n",
              "      <td>0</td>\n",
              "      <td>1</td>\n",
              "    </tr>\n",
              "  </tbody>\n",
              "</table>\n",
              "<p>2040 rows × 7 columns</p>\n",
              "</div>"
            ],
            "text/plain": [
              "                     Air Tmp (C) M 60 Min  Precip 1Hr (mm) M  QNH (hPa) M  \\\n",
              "Date and Time                                                               \n",
              "1/12/2022 0:00                      23.73                0.0      1009.01   \n",
              "1/12/2022 1:00                      26.51                0.0      1009.35   \n",
              "1/12/2022 2:00                      28.45                0.0      1009.47   \n",
              "1/12/2022 3:00                      29.59                0.0      1009.11   \n",
              "1/12/2022 4:00                      30.68                0.0      1008.14   \n",
              "...                                   ...                ...          ...   \n",
              "23/02/2023 19:00:00                 25.00                0.0      1008.60   \n",
              "23/02/2023 20:00:00                 24.70                0.0      1008.37   \n",
              "23/02/2023 21:00:00                 24.31                0.0      1008.40   \n",
              "23/02/2023 22:00:00                 24.43                0.0      1008.74   \n",
              "23/02/2023 23:00:00                 24.16                0.0      1009.32   \n",
              "\n",
              "                     RH (%) M 60 Min  WS 60 Min (kt) M  classification_hujan  \\\n",
              "Date and Time                                                                  \n",
              "1/12/2022 0:00                 100.0               2.0                     0   \n",
              "1/12/2022 1:00                  92.9               2.0                     0   \n",
              "1/12/2022 2:00                  81.8               2.0                     0   \n",
              "1/12/2022 3:00                  75.2               2.0                     0   \n",
              "1/12/2022 4:00                  69.8               4.0                     0   \n",
              "...                              ...               ...                   ...   \n",
              "23/02/2023 19:00:00             90.0               2.0                     0   \n",
              "23/02/2023 20:00:00             92.2               2.0                     0   \n",
              "23/02/2023 21:00:00             92.9               2.0                     0   \n",
              "23/02/2023 22:00:00             92.0               4.0                     0   \n",
              "23/02/2023 23:00:00             92.5               3.0                     0   \n",
              "\n",
              "                     classification_tidak hujan  \n",
              "Date and Time                                    \n",
              "1/12/2022 0:00                                1  \n",
              "1/12/2022 1:00                                1  \n",
              "1/12/2022 2:00                                1  \n",
              "1/12/2022 3:00                                1  \n",
              "1/12/2022 4:00                                1  \n",
              "...                                         ...  \n",
              "23/02/2023 19:00:00                           1  \n",
              "23/02/2023 20:00:00                           1  \n",
              "23/02/2023 21:00:00                           1  \n",
              "23/02/2023 22:00:00                           1  \n",
              "23/02/2023 23:00:00                           1  \n",
              "\n",
              "[2040 rows x 7 columns]"
            ]
          },
          "execution_count": 19,
          "metadata": {},
          "output_type": "execute_result"
        }
      ],
      "source": [
        "data_baru = pd.get_dummies(data_baru)\n",
        "data_baru"
      ]
    },
    {
      "cell_type": "code",
      "execution_count": 20,
      "metadata": {
        "colab": {
          "base_uri": "https://localhost:8080/"
        },
        "id": "PZtR_zlLfmbR",
        "outputId": "8e9eaaa0-16da-4fd5-cce6-04f57c1e845a"
      },
      "outputs": [
        {
          "name": "stdout",
          "output_type": "stream",
          "text": [
            "<class 'pandas.core.frame.DataFrame'>\n",
            "Index: 2040 entries, 1/12/2022 0:00 to 23/02/2023 23:00:00\n",
            "Data columns (total 7 columns):\n",
            " #   Column                      Non-Null Count  Dtype  \n",
            "---  ------                      --------------  -----  \n",
            " 0   Air Tmp (C) M 60 Min        2040 non-null   float64\n",
            " 1   Precip 1Hr (mm) M           2040 non-null   float64\n",
            " 2   QNH (hPa) M                 2040 non-null   float64\n",
            " 3   RH (%) M 60 Min             2040 non-null   float64\n",
            " 4   WS 60 Min (kt) M            2040 non-null   float64\n",
            " 5   classification_hujan        2040 non-null   uint8  \n",
            " 6   classification_tidak hujan  2040 non-null   uint8  \n",
            "dtypes: float64(5), uint8(2)\n",
            "memory usage: 99.6+ KB\n"
          ]
        }
      ],
      "source": [
        "data_baru.info()"
      ]
    },
    {
      "attachments": {},
      "cell_type": "markdown",
      "metadata": {},
      "source": [
        "Membagi data train dataset"
      ]
    },
    {
      "cell_type": "code",
      "execution_count": 21,
      "metadata": {},
      "outputs": [
        {
          "name": "stdout",
          "output_type": "stream",
          "text": [
            "<class 'pandas.core.frame.DataFrame'>\n",
            "Index: 2040 entries, 1/12/2022 0:00 to 23/02/2023 23:00:00\n",
            "Data columns (total 7 columns):\n",
            " #   Column                      Non-Null Count  Dtype  \n",
            "---  ------                      --------------  -----  \n",
            " 0   Air Tmp (C) M 60 Min        2040 non-null   float64\n",
            " 1   Precip 1Hr (mm) M           2040 non-null   float64\n",
            " 2   QNH (hPa) M                 2040 non-null   float64\n",
            " 3   RH (%) M 60 Min             2040 non-null   float64\n",
            " 4   WS 60 Min (kt) M            2040 non-null   float64\n",
            " 5   classification_hujan        2040 non-null   uint8  \n",
            " 6   classification_tidak hujan  2040 non-null   uint8  \n",
            "dtypes: float64(5), uint8(2)\n",
            "memory usage: 99.6+ KB\n"
          ]
        }
      ],
      "source": [
        "data_baru.info()"
      ]
    },
    {
      "attachments": {},
      "cell_type": "markdown",
      "metadata": {},
      "source": [
        "pertama untuk data fitur hapus kolom precip, dan klasifikasi"
      ]
    },
    {
      "cell_type": "code",
      "execution_count": 22,
      "metadata": {
        "id": "65gEWIZNfmbm"
      },
      "outputs": [],
      "source": [
        "from sklearn import preprocessing\n",
        "\n",
        "df_new = data_baru\n",
        "X = df_new.drop(df_new.columns[[1,5,6]], axis=1)"
      ]
    },
    {
      "cell_type": "code",
      "execution_count": 23,
      "metadata": {
        "id": "bvR4gXUcfmbm"
      },
      "outputs": [],
      "source": [
        "y = df_new[['classification_hujan','classification_tidak hujan']]"
      ]
    },
    {
      "cell_type": "code",
      "execution_count": 24,
      "metadata": {
        "id": "ivGHhj7hfmbn"
      },
      "outputs": [
        {
          "name": "stdout",
          "output_type": "stream",
          "text": [
            "train_hujan 174\n",
            "train_tidak hujan 1458\n",
            "\n",
            "test_hujan 32\n",
            "test_tidak hujan 376\n",
            "\n",
            "total hujan 206\n",
            "total tidak hujan 1834\n"
          ]
        }
      ],
      "source": [
        "from sklearn.model_selection import train_test_split\n",
        "#40 best random state\n",
        "#32 better random state\n",
        "X_train, X_test, y_train, y_test = train_test_split(X, y, train_size = 0.80, test_size = 0.20, random_state=50, shuffle=True)\n",
        "\n",
        "print('train_hujan',(y_train['classification_hujan'] == 1).sum())\n",
        "# print('train_sangat ringan',(y_train['classification_sangat ringan'] == 1).sum())\n",
        "print('train_tidak hujan',(y_train['classification_tidak hujan'] == 1).sum())\n",
        "\n",
        "print('\\ntest_hujan',(y_test['classification_hujan'] == 1).sum())\n",
        "# print('test_sangat ringan',(y_test['classification_sangat ringan'] == 1).sum())\n",
        "print('test_tidak hujan',(y_test['classification_tidak hujan'] == 1).sum())\n",
        "\n",
        "print('\\ntotal hujan',(y['classification_hujan'] == 1).sum())\n",
        "# print('total sangat ringan',(y['classification_sangat ringan'] == 1).sum())\n",
        "print('total tidak hujan',(y['classification_tidak hujan'] == 1).sum())"
      ]
    },
    {
      "cell_type": "code",
      "execution_count": 25,
      "metadata": {},
      "outputs": [],
      "source": [
        "from sklearn.preprocessing import StandardScaler\n",
        "\n",
        "scaler = StandardScaler()\n",
        "scaler.fit(X_train)\n",
        "X_train = scaler.transform(X_train)"
      ]
    },
    {
      "attachments": {},
      "cell_type": "markdown",
      "metadata": {},
      "source": [
        "Jumlah data train dan test"
      ]
    },
    {
      "cell_type": "code",
      "execution_count": 26,
      "metadata": {},
      "outputs": [
        {
          "name": "stdout",
          "output_type": "stream",
          "text": [
            "(1632, 4)\n",
            "(408, 4)\n"
          ]
        }
      ],
      "source": [
        "print(X_train.shape)\n",
        "print(X_test.shape)\n"
      ]
    },
    {
      "cell_type": "code",
      "execution_count": 27,
      "metadata": {},
      "outputs": [],
      "source": [
        "# data_split = {\n",
        "#     'Data latih': X_train.count(),\n",
        "#     'Data uji': X_test.count(),\n",
        "#     }\n",
        "# split = pd.DataFrame(data_split)\n",
        "# writer = pd.ExcelWriter('data/data_split.xlsx')\n",
        "# split.to_excel(writer)\n",
        "# writer.save()"
      ]
    },
    {
      "cell_type": "code",
      "execution_count": 28,
      "metadata": {},
      "outputs": [],
      "source": [
        "# data_split_target = {\n",
        "#     'Data latih': y_train.count(),\n",
        "#     'Data uji': y_test.count(),\n",
        "#     }\n",
        "# split = pd.DataFrame(data_split_target)\n",
        "# writer = pd.ExcelWriter('data/data_split_target.xlsx')\n",
        "# split.to_excel(writer)\n",
        "# writer.save()"
      ]
    },
    {
      "attachments": {},
      "cell_type": "markdown",
      "metadata": {},
      "source": [
        "## Model Development"
      ]
    },
    {
      "cell_type": "code",
      "execution_count": 29,
      "metadata": {},
      "outputs": [],
      "source": [
        "from sklearn.model_selection import RandomizedSearchCV, GridSearchCV\n",
        "from xgboost import XGBClassifier\n",
        "from sklearn.metrics import  classification_report\n",
        "from sklearn.metrics import confusion_matrix\n",
        "from sklearn.metrics import accuracy_score, precision_score, recall_score, f1_score, roc_auc_score, auc, roc_curve\n",
        "import plotly.express as px\n",
        "import plotly.graph_objs as go\n"
      ]
    },
    {
      "attachments": {},
      "cell_type": "markdown",
      "metadata": {},
      "source": [
        "##### Tampa tuning"
      ]
    },
    {
      "cell_type": "code",
      "execution_count": 30,
      "metadata": {},
      "outputs": [
        {
          "data": {
            "text/html": [
              "<style>#sk-container-id-1 {color: black;background-color: white;}#sk-container-id-1 pre{padding: 0;}#sk-container-id-1 div.sk-toggleable {background-color: white;}#sk-container-id-1 label.sk-toggleable__label {cursor: pointer;display: block;width: 100%;margin-bottom: 0;padding: 0.3em;box-sizing: border-box;text-align: center;}#sk-container-id-1 label.sk-toggleable__label-arrow:before {content: \"▸\";float: left;margin-right: 0.25em;color: #696969;}#sk-container-id-1 label.sk-toggleable__label-arrow:hover:before {color: black;}#sk-container-id-1 div.sk-estimator:hover label.sk-toggleable__label-arrow:before {color: black;}#sk-container-id-1 div.sk-toggleable__content {max-height: 0;max-width: 0;overflow: hidden;text-align: left;background-color: #f0f8ff;}#sk-container-id-1 div.sk-toggleable__content pre {margin: 0.2em;color: black;border-radius: 0.25em;background-color: #f0f8ff;}#sk-container-id-1 input.sk-toggleable__control:checked~div.sk-toggleable__content {max-height: 200px;max-width: 100%;overflow: auto;}#sk-container-id-1 input.sk-toggleable__control:checked~label.sk-toggleable__label-arrow:before {content: \"▾\";}#sk-container-id-1 div.sk-estimator input.sk-toggleable__control:checked~label.sk-toggleable__label {background-color: #d4ebff;}#sk-container-id-1 div.sk-label input.sk-toggleable__control:checked~label.sk-toggleable__label {background-color: #d4ebff;}#sk-container-id-1 input.sk-hidden--visually {border: 0;clip: rect(1px 1px 1px 1px);clip: rect(1px, 1px, 1px, 1px);height: 1px;margin: -1px;overflow: hidden;padding: 0;position: absolute;width: 1px;}#sk-container-id-1 div.sk-estimator {font-family: monospace;background-color: #f0f8ff;border: 1px dotted black;border-radius: 0.25em;box-sizing: border-box;margin-bottom: 0.5em;}#sk-container-id-1 div.sk-estimator:hover {background-color: #d4ebff;}#sk-container-id-1 div.sk-parallel-item::after {content: \"\";width: 100%;border-bottom: 1px solid gray;flex-grow: 1;}#sk-container-id-1 div.sk-label:hover label.sk-toggleable__label {background-color: #d4ebff;}#sk-container-id-1 div.sk-serial::before {content: \"\";position: absolute;border-left: 1px solid gray;box-sizing: border-box;top: 0;bottom: 0;left: 50%;z-index: 0;}#sk-container-id-1 div.sk-serial {display: flex;flex-direction: column;align-items: center;background-color: white;padding-right: 0.2em;padding-left: 0.2em;position: relative;}#sk-container-id-1 div.sk-item {position: relative;z-index: 1;}#sk-container-id-1 div.sk-parallel {display: flex;align-items: stretch;justify-content: center;background-color: white;position: relative;}#sk-container-id-1 div.sk-item::before, #sk-container-id-1 div.sk-parallel-item::before {content: \"\";position: absolute;border-left: 1px solid gray;box-sizing: border-box;top: 0;bottom: 0;left: 50%;z-index: -1;}#sk-container-id-1 div.sk-parallel-item {display: flex;flex-direction: column;z-index: 1;position: relative;background-color: white;}#sk-container-id-1 div.sk-parallel-item:first-child::after {align-self: flex-end;width: 50%;}#sk-container-id-1 div.sk-parallel-item:last-child::after {align-self: flex-start;width: 50%;}#sk-container-id-1 div.sk-parallel-item:only-child::after {width: 0;}#sk-container-id-1 div.sk-dashed-wrapped {border: 1px dashed gray;margin: 0 0.4em 0.5em 0.4em;box-sizing: border-box;padding-bottom: 0.4em;background-color: white;}#sk-container-id-1 div.sk-label label {font-family: monospace;font-weight: bold;display: inline-block;line-height: 1.2em;}#sk-container-id-1 div.sk-label-container {text-align: center;}#sk-container-id-1 div.sk-container {/* jupyter's `normalize.less` sets `[hidden] { display: none; }` but bootstrap.min.css set `[hidden] { display: none !important; }` so we also need the `!important` here to be able to override the default hidden behavior on the sphinx rendered scikit-learn.org. See: https://github.com/scikit-learn/scikit-learn/issues/21755 */display: inline-block !important;position: relative;}#sk-container-id-1 div.sk-text-repr-fallback {display: none;}</style><div id=\"sk-container-id-1\" class=\"sk-top-container\"><div class=\"sk-text-repr-fallback\"><pre>XGBClassifier(base_score=None, booster=None, callbacks=None,\n",
              "              colsample_bylevel=None, colsample_bynode=None,\n",
              "              colsample_bytree=None, early_stopping_rounds=None,\n",
              "              enable_categorical=False, eval_metric=None, feature_types=None,\n",
              "              gamma=None, gpu_id=None, grow_policy=None, importance_type=None,\n",
              "              interaction_constraints=None, learning_rate=0.3, max_bin=None,\n",
              "              max_cat_threshold=None, max_cat_to_onehot=None,\n",
              "              max_delta_step=None, max_depth=6, max_leaves=None,\n",
              "              min_child_weight=None, missing=nan, monotone_constraints=None,\n",
              "              n_estimators=100, n_jobs=None, num_parallel_tree=None,\n",
              "              predictor=None, random_state=None, ...)</pre><b>In a Jupyter environment, please rerun this cell to show the HTML representation or trust the notebook. <br />On GitHub, the HTML representation is unable to render, please try loading this page with nbviewer.org.</b></div><div class=\"sk-container\" hidden><div class=\"sk-item\"><div class=\"sk-estimator sk-toggleable\"><input class=\"sk-toggleable__control sk-hidden--visually\" id=\"sk-estimator-id-1\" type=\"checkbox\" checked><label for=\"sk-estimator-id-1\" class=\"sk-toggleable__label sk-toggleable__label-arrow\">XGBClassifier</label><div class=\"sk-toggleable__content\"><pre>XGBClassifier(base_score=None, booster=None, callbacks=None,\n",
              "              colsample_bylevel=None, colsample_bynode=None,\n",
              "              colsample_bytree=None, early_stopping_rounds=None,\n",
              "              enable_categorical=False, eval_metric=None, feature_types=None,\n",
              "              gamma=None, gpu_id=None, grow_policy=None, importance_type=None,\n",
              "              interaction_constraints=None, learning_rate=0.3, max_bin=None,\n",
              "              max_cat_threshold=None, max_cat_to_onehot=None,\n",
              "              max_delta_step=None, max_depth=6, max_leaves=None,\n",
              "              min_child_weight=None, missing=nan, monotone_constraints=None,\n",
              "              n_estimators=100, n_jobs=None, num_parallel_tree=None,\n",
              "              predictor=None, random_state=None, ...)</pre></div></div></div></div></div>"
            ],
            "text/plain": [
              "XGBClassifier(base_score=None, booster=None, callbacks=None,\n",
              "              colsample_bylevel=None, colsample_bynode=None,\n",
              "              colsample_bytree=None, early_stopping_rounds=None,\n",
              "              enable_categorical=False, eval_metric=None, feature_types=None,\n",
              "              gamma=None, gpu_id=None, grow_policy=None, importance_type=None,\n",
              "              interaction_constraints=None, learning_rate=0.3, max_bin=None,\n",
              "              max_cat_threshold=None, max_cat_to_onehot=None,\n",
              "              max_delta_step=None, max_depth=6, max_leaves=None,\n",
              "              min_child_weight=None, missing=nan, monotone_constraints=None,\n",
              "              n_estimators=100, n_jobs=None, num_parallel_tree=None,\n",
              "              predictor=None, random_state=None, ...)"
            ]
          },
          "execution_count": 30,
          "metadata": {},
          "output_type": "execute_result"
        }
      ],
      "source": [
        "xgb = XGBClassifier(\n",
        "    max_depth=6, \n",
        "    n_estimators=100, \n",
        "    learning_rate=0.3, )\n",
        "xgb.fit(X_train, y_train)"
      ]
    },
    {
      "attachments": {},
      "cell_type": "markdown",
      "metadata": {},
      "source": [
        "##### Dengan Tuning"
      ]
    },
    {
      "attachments": {},
      "cell_type": "markdown",
      "metadata": {},
      "source": [
        "mendefenisikan hyperparameter"
      ]
    },
    {
      "cell_type": "code",
      "execution_count": 31,
      "metadata": {
        "id": "xlB813wYfmbo"
      },
      "outputs": [
        {
          "data": {
            "text/plain": [
              "{'n_estimators': [100],\n",
              " 'max_depth': [6],\n",
              " 'learning_rate': <scipy.stats._distn_infrastructure.rv_continuous_frozen at 0x19884aa4550>}"
            ]
          },
          "execution_count": 31,
          "metadata": {},
          "output_type": "execute_result"
        }
      ],
      "source": [
        "from scipy.stats import uniform, randint\n",
        "import numpy as np\n",
        "params = {\n",
        "    'n_estimators': [100],\n",
        "    'max_depth': [6],\n",
        "    'learning_rate': uniform(0.01, 1)\n",
        "}\n",
        "params"
      ]
    },
    {
      "attachments": {},
      "cell_type": "markdown",
      "metadata": {},
      "source": [
        "Tuning dengan RSCV"
      ]
    },
    {
      "cell_type": "code",
      "execution_count": 32,
      "metadata": {
        "colab": {
          "base_uri": "https://localhost:8080/"
        },
        "collapsed": true,
        "id": "0o3L_TPIfmbo",
        "outputId": "f6a6436e-1c12-4b31-b372-62bb93211216"
      },
      "outputs": [
        {
          "name": "stdout",
          "output_type": "stream",
          "text": [
            "Best hyperparameters:  {'learning_rate': 0.04667158448742902, 'max_depth': 6, 'n_estimators': 100}\n",
            "Accuracy 0.8995024689510698\n"
          ]
        }
      ],
      "source": [
        "#coarse search\n",
        "# Define the XGBoost model\n",
        "xgb_model = XGBClassifier()\n",
        "# Perform random search\n",
        "search = RandomizedSearchCV(\n",
        "    xgb_model, param_distributions=params, \n",
        "    n_iter=50, \n",
        "    cv=10,\n",
        "    scoring='accuracy', \n",
        "    n_jobs=-1,\n",
        "    )\n",
        "search.fit(X_train, y_train)\n",
        "print(\"Best hyperparameters: \", search.best_params_)\n",
        "print(\"Accuracy\", search.best_score_)"
      ]
    },
    {
      "cell_type": "code",
      "execution_count": 33,
      "metadata": {},
      "outputs": [
        {
          "name": "stdout",
          "output_type": "stream",
          "text": [
            "Best hyperparameters:  {'learning_rate': 0.0473046789308991, 'max_depth': 6, 'n_estimators': 100}\n",
            "Accuracy 0.9025736944486009\n"
          ]
        }
      ],
      "source": [
        "#fine search\n",
        "best_params = search.best_params_\n",
        "param_dist = {\n",
        "    'n_estimators': [100],\n",
        "    'max_depth': [6],\n",
        "    'learning_rate': np.logspace(np.log10(best_params['learning_rate']-0.01), np.log10(best_params['learning_rate']+0.1), 50),\n",
        "}\n",
        "\n",
        "fine_search = GridSearchCV(\n",
        "    xgb_model, param_grid=param_dist, \n",
        "    cv=10, \n",
        "    scoring='accuracy', \n",
        "    n_jobs=-1,\n",
        "    )\n",
        "fine_search.fit(X_train, y_train)\n",
        "\n",
        "\n",
        "print(\"Best hyperparameters: \", fine_search.best_params_)\n",
        "print(\"Accuracy\", fine_search.best_score_)"
      ]
    },
    {
      "attachments": {},
      "cell_type": "markdown",
      "metadata": {},
      "source": [
        "Hasil tuning"
      ]
    },
    {
      "attachments": {},
      "cell_type": "markdown",
      "metadata": {},
      "source": [
        "### Model Evaluation"
      ]
    },
    {
      "cell_type": "code",
      "execution_count": 34,
      "metadata": {},
      "outputs": [],
      "source": [
        "X_test = scaler.transform(X_test)"
      ]
    },
    {
      "attachments": {},
      "cell_type": "markdown",
      "metadata": {},
      "source": [
        "##### Tampa Tuning"
      ]
    },
    {
      "cell_type": "code",
      "execution_count": 35,
      "metadata": {},
      "outputs": [
        {
          "name": "stdout",
          "output_type": "stream",
          "text": [
            "[[  9  23]\n",
            " [ 13 363]]\n"
          ]
        },
        {
          "data": {
            "text/plain": [
              "<Axes: >"
            ]
          },
          "execution_count": 35,
          "metadata": {},
          "output_type": "execute_result"
        },
        {
          "data": {
            "image/png": "[encoded data removed]",
            "text/plain": [
              "<Figure size 640x480 with 2 Axes>"
            ]
          },
          "metadata": {},
          "output_type": "display_data"
        }
      ],
      "source": [
        "pred_no_tuning = xgb.predict(X_test)\n",
        "cm = confusion_matrix(\n",
        "    y_test.values.argmax(axis=1), pred_no_tuning.argmax(axis=1))\n",
        "print(cm)\n",
        "sns.heatmap(cm, annot=True)"
      ]
    },
    {
      "cell_type": "code",
      "execution_count": 36,
      "metadata": {},
      "outputs": [
        {
          "name": "stdout",
          "output_type": "stream",
          "text": [
            "Accuracy: 0.91\n",
            "Precision: 0.90\n",
            "Recall: 0.91\n",
            "F1-score: 0.90\n"
          ]
        }
      ],
      "source": [
        "# calculate the accuracy, precision, recall, and F1-score of the model\n",
        "accuracy = accuracy_score(y_test, pred_no_tuning)\n",
        "precision = precision_score(y_test, pred_no_tuning, average='weighted')\n",
        "recall = recall_score(y_test, pred_no_tuning, average='weighted')\n",
        "f1 = f1_score(y_test, pred_no_tuning, average='weighted')\n",
        "\n",
        "# tn, fp, fn, tp = confusion_matrix(y_test.values.argmax(axis=1), pred_no_tuning.argmax(axis=1)).ravel()\n",
        "\n",
        "# # Menghitung specificity score\n",
        "# accuracy = (tp + tn) / (tp + fp+ tn + fn)\n",
        "# precision = tp / (tp + fp)\n",
        "# recall = tp / (tp + fn)\n",
        "# f1 = 2*((precision*recall)/(precision+recall))\n",
        "# specificity = tn / (tn + fp)\n",
        "\n",
        "# calculate the ROC-AUC score of the model\n",
        "# roc_auc = roc_auc_score(y_test, pred_no_tuning)\n",
        "\n",
        "# print the evaluation metrics\n",
        "print(f\"Accuracy: {accuracy:.2f}\")\n",
        "print(f\"Precision: {precision:.2f}\")\n",
        "print(f\"Recall: {recall:.2f}\")\n",
        "print(f\"F1-score: {f1:.2f}\")\n",
        "# print(f\"Sensitivity score: {specificity:.2f}\")\n",
        "# print(f\"ROC-AUC score: {roc_auc:.2f}\")"
      ]
    },
    {
      "cell_type": "code",
      "execution_count": 37,
      "metadata": {},
      "outputs": [
        {
          "name": "stdout",
          "output_type": "stream",
          "text": [
            "              precision    recall  f1-score   support\n",
            "\n",
            "           0       0.41      0.28      0.33        32\n",
            "           1       0.94      0.97      0.95       376\n",
            "\n",
            "   micro avg       0.91      0.91      0.91       408\n",
            "   macro avg       0.67      0.62      0.64       408\n",
            "weighted avg       0.90      0.91      0.90       408\n",
            " samples avg       0.91      0.91      0.91       408\n",
            "\n"
          ]
        }
      ],
      "source": [
        "print(classification_report(y_test,pred_no_tuning))"
      ]
    },
    {
      "attachments": {},
      "cell_type": "markdown",
      "metadata": {},
      "source": [
        "##### Dengan tuning"
      ]
    },
    {
      "cell_type": "code",
      "execution_count": 38,
      "metadata": {},
      "outputs": [
        {
          "name": "stdout",
          "output_type": "stream",
          "text": [
            "[[  6  26]\n",
            " [  7 369]]\n"
          ]
        },
        {
          "data": {
            "text/plain": [
              "<Axes: >"
            ]
          },
          "execution_count": 38,
          "metadata": {},
          "output_type": "execute_result"
        },
        {
          "data": {
            "image/png": "[encoded data removed]",
            "text/plain": [
              "<Figure size 640x480 with 2 Axes>"
            ]
          },
          "metadata": {},
          "output_type": "display_data"
        }
      ],
      "source": [
        "y_pred = fine_search.best_estimator_.predict(X_test)\n",
        "cm = confusion_matrix(\n",
        "    y_test.values.argmax(axis=1), y_pred.argmax(axis=1))\n",
        "print(cm)\n",
        "sns.heatmap(cm, annot=True)"
      ]
    },
    {
      "cell_type": "code",
      "execution_count": 39,
      "metadata": {
        "colab": {
          "base_uri": "https://localhost:8080/"
        },
        "id": "MNdxb-kqfmbp",
        "outputId": "334cadc8-e020-448f-86ff-fc147915f6ab"
      },
      "outputs": [
        {
          "name": "stdout",
          "output_type": "stream",
          "text": [
            "Accuracy: 0.92\n",
            "Precision: 0.90\n",
            "Recall: 0.92\n",
            "F1-score: 0.90\n"
          ]
        }
      ],
      "source": [
        "# calculate the accuracy, precision, recall, and F1-score of the model\n",
        "accuracy = accuracy_score(y_test, y_pred)\n",
        "precision = precision_score(y_test, y_pred, average='weighted')\n",
        "recall = recall_score(y_test, y_pred, average='weighted')\n",
        "f1 = f1_score(y_test, y_pred, average='weighted')\n",
        "# Menghitung confusion matrix\n",
        "# tn, fp, fn, tp = confusion_matrix(y_test.values.argmax(axis=1), y_pred.argmax(axis=1)).ravel()\n",
        "\n",
        "# Menghitung specificity score\n",
        "# accuracy = (tp + tn) / (tp + fp+ tn + fn)\n",
        "# precision = tp / (tp + fp)\n",
        "# recall = tp / (tp + fn)\n",
        "# f1 = 2*((precision*recall)/(precision+recall))\n",
        "# specificity = tn / (tn + fp)\n",
        "\n",
        "\n",
        "# calculate the ROC-AUC score of the model\n",
        "# roc_auc = roc_auc_score(y_test, y_pred)\n",
        "\n",
        "# print the evaluation metrics\n",
        "print(f\"Accuracy: {accuracy:.2f}\")\n",
        "print(f\"Precision: {precision:.2f}\")\n",
        "print(f\"Recall: {recall:.2f}\")\n",
        "print(f\"F1-score: {f1:.2f}\")\n",
        "# print(f\"Specificity-score: {specificity:.2f}\")\n",
        "# print(f\"ROC-AUC score: {roc_auc:.2f}\")"
      ]
    },
    {
      "cell_type": "code",
      "execution_count": 40,
      "metadata": {},
      "outputs": [
        {
          "name": "stdout",
          "output_type": "stream",
          "text": [
            "              precision    recall  f1-score   support\n",
            "\n",
            "           0       0.46      0.19      0.27        32\n",
            "           1       0.93      0.98      0.96       376\n",
            "\n",
            "   micro avg       0.92      0.92      0.92       408\n",
            "   macro avg       0.70      0.58      0.61       408\n",
            "weighted avg       0.90      0.92      0.90       408\n",
            " samples avg       0.92      0.92      0.92       408\n",
            "\n"
          ]
        }
      ],
      "source": [
        "print(classification_report(y_test, y_pred))"
      ]
    },
    {
      "cell_type": "code",
      "execution_count": 41,
      "metadata": {},
      "outputs": [
        {
          "name": "stdout",
          "output_type": "stream",
          "text": [
            "<class 'pandas.core.frame.DataFrame'>\n",
            "Index: 2040 entries, 1/12/2022 0:00 to 23/02/2023 23:00:00\n",
            "Data columns (total 7 columns):\n",
            " #   Column                      Non-Null Count  Dtype  \n",
            "---  ------                      --------------  -----  \n",
            " 0   Air Tmp (C) M 60 Min        2040 non-null   float64\n",
            " 1   Precip 1Hr (mm) M           2040 non-null   float64\n",
            " 2   QNH (hPa) M                 2040 non-null   float64\n",
            " 3   RH (%) M 60 Min             2040 non-null   float64\n",
            " 4   WS 60 Min (kt) M            2040 non-null   float64\n",
            " 5   classification_hujan        2040 non-null   uint8  \n",
            " 6   classification_tidak hujan  2040 non-null   uint8  \n",
            "dtypes: float64(5), uint8(2)\n",
            "memory usage: 99.6+ KB\n"
          ]
        }
      ],
      "source": [
        "data_baru.info()"
      ]
    },
    {
      "cell_type": "code",
      "execution_count": 42,
      "metadata": {},
      "outputs": [
        {
          "data": {
            "text/html": [
              "<div>\n",
              "<style scoped>\n",
              "    .dataframe tbody tr th:only-of-type {\n",
              "        vertical-align: middle;\n",
              "    }\n",
              "\n",
              "    .dataframe tbody tr th {\n",
              "        vertical-align: top;\n",
              "    }\n",
              "\n",
              "    .dataframe thead th {\n",
              "        text-align: right;\n",
              "    }\n",
              "</style>\n",
              "<table border=\"1\" class=\"dataframe\">\n",
              "  <thead>\n",
              "    <tr style=\"text-align: right;\">\n",
              "      <th></th>\n",
              "      <th>Air Tmp (C) M 60 Min</th>\n",
              "      <th>Precip 1Hr (mm) M</th>\n",
              "      <th>QNH (hPa) M</th>\n",
              "      <th>RH (%) M 60 Min</th>\n",
              "      <th>WS 60 Min (kt) M</th>\n",
              "      <th>classification_hujan</th>\n",
              "      <th>classification_tidak hujan</th>\n",
              "      <th>classification</th>\n",
              "    </tr>\n",
              "    <tr>\n",
              "      <th>Date and Time</th>\n",
              "      <th></th>\n",
              "      <th></th>\n",
              "      <th></th>\n",
              "      <th></th>\n",
              "      <th></th>\n",
              "      <th></th>\n",
              "      <th></th>\n",
              "      <th></th>\n",
              "    </tr>\n",
              "  </thead>\n",
              "  <tbody>\n",
              "    <tr>\n",
              "      <th>1/12/2022 0:00</th>\n",
              "      <td>23.73</td>\n",
              "      <td>0.0</td>\n",
              "      <td>1009.01</td>\n",
              "      <td>100.0</td>\n",
              "      <td>2.0</td>\n",
              "      <td>0</td>\n",
              "      <td>1</td>\n",
              "      <td>tidak hujan</td>\n",
              "    </tr>\n",
              "    <tr>\n",
              "      <th>1/12/2022 1:00</th>\n",
              "      <td>26.51</td>\n",
              "      <td>0.0</td>\n",
              "      <td>1009.35</td>\n",
              "      <td>92.9</td>\n",
              "      <td>2.0</td>\n",
              "      <td>0</td>\n",
              "      <td>1</td>\n",
              "      <td>tidak hujan</td>\n",
              "    </tr>\n",
              "    <tr>\n",
              "      <th>1/12/2022 2:00</th>\n",
              "      <td>28.45</td>\n",
              "      <td>0.0</td>\n",
              "      <td>1009.47</td>\n",
              "      <td>81.8</td>\n",
              "      <td>2.0</td>\n",
              "      <td>0</td>\n",
              "      <td>1</td>\n",
              "      <td>tidak hujan</td>\n",
              "    </tr>\n",
              "    <tr>\n",
              "      <th>1/12/2022 3:00</th>\n",
              "      <td>29.59</td>\n",
              "      <td>0.0</td>\n",
              "      <td>1009.11</td>\n",
              "      <td>75.2</td>\n",
              "      <td>2.0</td>\n",
              "      <td>0</td>\n",
              "      <td>1</td>\n",
              "      <td>tidak hujan</td>\n",
              "    </tr>\n",
              "    <tr>\n",
              "      <th>1/12/2022 4:00</th>\n",
              "      <td>30.68</td>\n",
              "      <td>0.0</td>\n",
              "      <td>1008.14</td>\n",
              "      <td>69.8</td>\n",
              "      <td>4.0</td>\n",
              "      <td>0</td>\n",
              "      <td>1</td>\n",
              "      <td>tidak hujan</td>\n",
              "    </tr>\n",
              "  </tbody>\n",
              "</table>\n",
              "</div>"
            ],
            "text/plain": [
              "                Air Tmp (C) M 60 Min  Precip 1Hr (mm) M  QNH (hPa) M  \\\n",
              "Date and Time                                                          \n",
              "1/12/2022 0:00                 23.73                0.0      1009.01   \n",
              "1/12/2022 1:00                 26.51                0.0      1009.35   \n",
              "1/12/2022 2:00                 28.45                0.0      1009.47   \n",
              "1/12/2022 3:00                 29.59                0.0      1009.11   \n",
              "1/12/2022 4:00                 30.68                0.0      1008.14   \n",
              "\n",
              "                RH (%) M 60 Min  WS 60 Min (kt) M  classification_hujan  \\\n",
              "Date and Time                                                             \n",
              "1/12/2022 0:00            100.0               2.0                     0   \n",
              "1/12/2022 1:00             92.9               2.0                     0   \n",
              "1/12/2022 2:00             81.8               2.0                     0   \n",
              "1/12/2022 3:00             75.2               2.0                     0   \n",
              "1/12/2022 4:00             69.8               4.0                     0   \n",
              "\n",
              "                classification_tidak hujan classification  \n",
              "Date and Time                                              \n",
              "1/12/2022 0:00                           1    tidak hujan  \n",
              "1/12/2022 1:00                           1    tidak hujan  \n",
              "1/12/2022 2:00                           1    tidak hujan  \n",
              "1/12/2022 3:00                           1    tidak hujan  \n",
              "1/12/2022 4:00                           1    tidak hujan  "
            ]
          },
          "execution_count": 42,
          "metadata": {},
          "output_type": "execute_result"
        }
      ],
      "source": [
        "# data_baru['kategori'] = data_baru.apply(lambda x: 'rain' if x['klasifikasi_rain'] == 1 else ('no rain'), axis=1)\n",
        "# data_baru\n",
        "##check jumlah data encoding masing masing kategory\n",
        "conditions = [\n",
        "    (data_baru['classification_hujan']==1),\n",
        "    # (data_baru['classification_sangat ringan']==1),\n",
        "    (data_baru['classification_tidak hujan']==1)\n",
        "]\n",
        "\n",
        "values = ['hujan', 'tidak hujan']\n",
        "data_baru['classification'] = np.select(conditions, values)\n",
        "data_baru.head()"
      ]
    },
    {
      "attachments": {},
      "cell_type": "markdown",
      "metadata": {},
      "source": [
        "#### Visualisasi Tuning"
      ]
    },
    {
      "cell_type": "code",
      "execution_count": 43,
      "metadata": {},
      "outputs": [],
      "source": [
        "result_coarse = search.cv_results_\n",
        "result_fine = fine_search.cv_results_"
      ]
    },
    {
      "cell_type": "code",
      "execution_count": 44,
      "metadata": {
        "colab": {
          "base_uri": "https://localhost:8080/"
        },
        "id": "wFREBkx_lEu6",
        "outputId": "24767054-f452-43cc-c621-baddb50c4453"
      },
      "outputs": [
        {
          "data": {
            "text/plain": [
              "['param_n_estimators', 'param_max_depth', 'param_learning_rate', 'Accuracy']"
            ]
          },
          "execution_count": 44,
          "metadata": {},
          "output_type": "execute_result"
        }
      ],
      "source": [
        "params_key = [f\"param_{p}\" for p in params.keys()]\n",
        "params_key.append('Accuracy')\n",
        "params_key"
      ]
    },
    {
      "cell_type": "code",
      "execution_count": 45,
      "metadata": {},
      "outputs": [],
      "source": [
        "Accuracy = []\n",
        "for mean_score in result_coarse[\"mean_test_score\"]:\n",
        "    Accuracy.append(mean_score)\n",
        "accuracy = {}\n",
        "accuracy['Accuracy'] = Accuracy\n",
        "result_coarse['Accuracy'] = Accuracy"
      ]
    },
    {
      "cell_type": "code",
      "execution_count": 46,
      "metadata": {},
      "outputs": [],
      "source": [
        "Accuracy_Fine = []\n",
        "for mean_score in result_fine[\"mean_test_score\"]:\n",
        "    Accuracy_Fine.append(mean_score)\n",
        "accuracy_fine = {}\n",
        "accuracy_fine['Accuracy'] = Accuracy_Fine\n",
        "result_fine['Accuracy'] = Accuracy_Fine"
      ]
    },
    {
      "cell_type": "code",
      "execution_count": 47,
      "metadata": {
        "colab": {
          "base_uri": "https://localhost:8080/",
          "height": 542
        },
        "id": "CQRf1qtwKZxP",
        "outputId": "b2f448ea-676b-416c-e1fe-0781daad02ad"
      },
      "outputs": [],
      "source": [
        "# # create a dataframe from results\n",
        "# fig = px.scatter(result_coarse, x = params_key[2], \n",
        "#                     y = params_key[3])\n",
        "# fig.update_traces(marker=dict(color='red'))\n",
        "# fig.add_trace(px.scatter(result_fine, x = params_key[2], \n",
        "#                     y = params_key[3]).data[0])\n",
        "\n",
        "# # menyatukan kedua plot dalam satu objek\n",
        "\n",
        "# fig.show()\n"
      ]
    },
    {
      "cell_type": "code",
      "execution_count": 57,
      "metadata": {},
      "outputs": [
        {
          "data": {
            "image/png": "[encoded data removed]",
            "text/plain": [
              "<Figure size 900x900 with 1 Axes>"
            ]
          },
          "metadata": {},
          "output_type": "display_data"
        }
      ],
      "source": [
        "import matplotlib.pyplot as plt\n",
        "\n",
        "plt.figure(figsize=(9,9))\n",
        "x1= result_coarse['param_learning_rate']\n",
        "y1= result_coarse['mean_test_score']\n",
        "\n",
        "x2= result_fine['param_learning_rate']\n",
        "y2= result_fine['mean_test_score']\n",
        "\n",
        "plt.scatter(x1, y1, color='red', label='Random search')\n",
        "\n",
        "plt.scatter(x2, y2, color='blue', label='Grid search')\n",
        "\n",
        "plt.legend()\n",
        "plt.xlabel('Learning rate')\n",
        "plt.ylabel('Accuracy')\n",
        "\n",
        "# Tampilkan grafik\n",
        "plt.show()"
      ]
    },
    {
      "cell_type": "code",
      "execution_count": 49,
      "metadata": {},
      "outputs": [],
      "source": [
        "hasil = pd.DataFrame(search.cv_results_)\n",
        "hasil = hasil.sort_values('mean_test_score', ascending=False)"
      ]
    },
    {
      "cell_type": "code",
      "execution_count": 50,
      "metadata": {},
      "outputs": [],
      "source": [
        "# plt.figure(figsize=(10,6))\n",
        "# plt.scatter(hasil['param_learning_rate'], hasil['param_max_depth'], c=hasil['mean_test_score'], cmap='viridis')\n",
        "# plt.colorbar()\n",
        "# plt.title('random, Search Scatter Plot')\n",
        "# plt.xlabel('param_learning_rate')\n",
        "# plt.ylabel('param_max_depth')\n",
        "# plt.show()"
      ]
    },
    {
      "cell_type": "code",
      "execution_count": 51,
      "metadata": {},
      "outputs": [],
      "source": [
        "# test = pd.DataFrame(X_test)\n",
        "# true = pd.DataFrame(y_test)\n",
        "# pred = pd.DataFrame(y_pred)\n",
        "\n",
        "# hsl = pd.concat([test, true], axis=1)\n",
        "# hsl['kategori'] = hsl.apply(lambda x: 'rain' if x['klasifikasi_rain'] == 1 else ('no rain'), axis=1)\n",
        "# hsl = hsl.reset_index()\n",
        "# hsl = pd.concat([hsl, pred], axis=1)\n",
        "# hsl['prediksi'] = hsl.apply(lambda x: 'rain' if x[0] == 1 else ('no rain'), axis=1)\n",
        "# hsl[hsl['kategori']=='rain']"
      ]
    },
    {
      "cell_type": "code",
      "execution_count": 52,
      "metadata": {},
      "outputs": [
        {
          "name": "stdout",
          "output_type": "stream",
          "text": [
            "<class 'pandas.core.frame.DataFrame'>\n",
            "Index: 2040 entries, 1/12/2022 0:00 to 23/02/2023 23:00:00\n",
            "Data columns (total 8 columns):\n",
            " #   Column                      Non-Null Count  Dtype  \n",
            "---  ------                      --------------  -----  \n",
            " 0   Air Tmp (C) M 60 Min        2040 non-null   float64\n",
            " 1   Precip 1Hr (mm) M           2040 non-null   float64\n",
            " 2   QNH (hPa) M                 2040 non-null   float64\n",
            " 3   RH (%) M 60 Min             2040 non-null   float64\n",
            " 4   WS 60 Min (kt) M            2040 non-null   float64\n",
            " 5   classification_hujan        2040 non-null   uint8  \n",
            " 6   classification_tidak hujan  2040 non-null   uint8  \n",
            " 7   classification              2040 non-null   object \n",
            "dtypes: float64(5), object(1), uint8(2)\n",
            "memory usage: 115.5+ KB\n"
          ]
        }
      ],
      "source": [
        "hujan = data_baru\n",
        "hujan.info()\n",
        "\n"
      ]
    },
    {
      "cell_type": "code",
      "execution_count": 53,
      "metadata": {},
      "outputs": [],
      "source": [
        "# X_baru = pd.DataFrame({'Air Tmp (C) M 60 Min': [30.19],\n",
        "#                     'QNH (hPa) M': [1005.66],\n",
        "#                     'RH (%) M 60 Min': [100.7],\n",
        "#                     'WS 60 Min (kt) M': [5.0],\n",
        "#                     },index=[0])\n",
        "# y_baru = pd.DataFrame({'true':['rain']})\n",
        "# pred_baru = fine_search.best_estimator_.predict(X_baru)\n",
        "\n",
        "# test = pd.DataFrame(X_baru)\n",
        "# true = pd.DataFrame(y_baru)\n",
        "# pred = pd.DataFrame(pred_baru)\n",
        "\n",
        "# hsl = pd.concat([test, true], axis=1)\n",
        "# # hsl['kategori'] = hsl.apply(lambda x: 'rain' if x['klasifikasi_rain'] == 1 else ('no rain'), axis=1)\n",
        "# hsl = hsl.reset_index()\n",
        "# hsl = pd.concat([hsl, pred], axis=1)\n",
        "# hsl['prediksi'] = hsl.apply(lambda x: 'rain' if x[0] == 1 else ('no rain'), axis=1)\n",
        "# # hsl[hsl['kategori']=='rain']\n",
        "# hsl"
      ]
    },
    {
      "cell_type": "code",
      "execution_count": 54,
      "metadata": {},
      "outputs": [],
      "source": [
        "# cm = confusion_matrix(\n",
        "#     y_baru.values.argmax(axis=1), pred_baru.argmax(axis=1))\n",
        "# print(cm)\n",
        "# sns.heatmap(cm, annot=True)"
      ]
    },
    {
      "cell_type": "code",
      "execution_count": 55,
      "metadata": {},
      "outputs": [],
      "source": [
        "# tn, fp, fn, tp = confusion_matrix(y_baru.values.argmax(axis=1), pred_baru.argmax(axis=1)).ravel()\n",
        "\n",
        "# # Menghitung specificity score\n",
        "# accuracy = (tp + tn) / (tp + fp+ tn + fn)\n",
        "# precision = tp / (tp + fp)\n",
        "# recall = tp / (tp + fn)\n",
        "# f1 = 2*((precision*recall)/(precision+recall))\n",
        "# specificity = tn / (tn + fp)\n",
        "\n",
        "\n",
        "# # calculate the ROC-AUC score of the model\n",
        "# roc_auc = roc_auc_score(y_baru, pred_baru)\n",
        "\n",
        "# # print the evaluation metrics\n",
        "# print(f\"Accuracy: {accuracy:.2f}\")\n",
        "# print(f\"Precision: {precision:.2f}\")\n",
        "# print(f\"Recall: {recall:.2f}\")\n",
        "# print(f\"F1-score: {f1:.2f}\")\n",
        "# print(f\"Specificity-score: {specificity:.2f}\")\n",
        "# print(f\"ROC-AUC score: {roc_auc:.2f}\")"
      ]
    },
    {
      "cell_type": "code",
      "execution_count": null,
      "metadata": {},
      "outputs": [],
      "source": []
    },
    {
      "cell_type": "code",
      "execution_count": 56,
      "metadata": {},
      "outputs": [
        {
          "data": {
            "text/plain": [
              "array([[0., 1.],\n",
              "       [0., 1.],\n",
              "       [0., 1.],\n",
              "       [0., 1.],\n",
              "       [0., 1.],\n",
              "       [0., 1.],\n",
              "       [0., 1.],\n",
              "       [0., 1.],\n",
              "       [0., 1.],\n",
              "       [0., 1.],\n",
              "       [0., 1.],\n",
              "       [0., 1.],\n",
              "       [0., 1.],\n",
              "       [0., 1.],\n",
              "       [0., 1.],\n",
              "       [0., 1.],\n",
              "       [0., 1.],\n",
              "       [0., 1.],\n",
              "       [0., 1.],\n",
              "       [0., 1.],\n",
              "       [0., 1.],\n",
              "       [0., 1.],\n",
              "       [0., 1.],\n",
              "       [0., 1.]])"
            ]
          },
          "execution_count": 56,
          "metadata": {},
          "output_type": "execute_result"
        }
      ],
      "source": [
        "last_24_jam = X.iloc[-24:]\n",
        "fine_search.best_estimator_.predict(last_24_jam)"
      ]
    }
  ],
  "metadata": {
    "colab": {
      "include_colab_link": true,
      "provenance": []
    },
    "kernelspec": {
      "display_name": "Python 3",
      "language": "python",
      "name": "python3"
    },
    "language_info": {
      "codemirror_mode": {
        "name": "ipython",
        "version": 3
      },
      "file_extension": ".py",
      "mimetype": "text/x-python",
      "name": "python",
      "nbconvert_exporter": "python",
      "pygments_lexer": "ipython3",
      "version": "3.11.2"
    },
    "vscode": {
      "interpreter": {
        "hash": "c9dd9e0fe6b35b1bcae34a65a84f52e8057de5f5c90bdc3654b614d2bbf741cb"
      }
    }
  },
  "nbformat": 4,
  "nbformat_minor": 0
}
