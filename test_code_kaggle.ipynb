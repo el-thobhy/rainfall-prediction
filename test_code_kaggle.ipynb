{
  "cells": [
    {
      "cell_type": "code",
      "execution_count": 1,
      "metadata": {
        "id": "_QFKPc1wfpnL"
      },
      "outputs": [],
      "source": [
        "# !pip3 install -q kaggle #for google colab\n",
        "!pip3 install -q kaggle"
      ]
    },
    {
      "cell_type": "code",
      "execution_count": null,
      "metadata": {
        "colab": {
          "base_uri": "https://localhost:8080/",
          "height": 73
        },
        "id": "i-HnhU55fqxJ",
        "outputId": "6dce7a4c-0d4b-4fe3-fc2b-32d1096dd062"
      },
      "outputs": [],
      "source": [
        "# from google.colab import files\n",
        "\n",
        "# uploaded = files.upload()\n",
        "# code above for google colab users, import kaggle.json"
      ]
    },
    {
      "cell_type": "code",
      "execution_count": 8,
      "metadata": {
        "id": "zdcxuy4Mg9lj"
      },
      "outputs": [],
      "source": [
        "!chmod 600 kaggle.json"
      ]
    },
    {
      "cell_type": "code",
      "execution_count": 2,
      "metadata": {
        "colab": {
          "base_uri": "https://localhost:8080/"
        },
        "id": "oRPemAqAhC7C",
        "outputId": "cb44a913-0d97-4d23-d411-1804b16043a3"
      },
      "outputs": [
        {
          "name": "stdout",
          "output_type": "stream",
          "text": [
            "Downloading ds-bootcamp-curah-hujan.zip to ./ds-bootcamp-curah-hujan\n"
          ]
        },
        {
          "name": "stderr",
          "output_type": "stream",
          "text": [
            "100%|██████████| 360k/360k [00:01<00:00, 197kB/s]"
          ]
        },
        {
          "name": "stdout",
          "output_type": "stream",
          "text": [
            "\n"
          ]
        },
        {
          "name": "stderr",
          "output_type": "stream",
          "text": [
            "\n"
          ]
        }
      ],
      "source": [
        "# ! KAGGLE_CONFIG_DIR=/content/ kaggle datasets download -d datahmifitb/ds-bootcamp-curah-hujan #for google colab\n",
        "\n",
        "import opendatasets as od\n",
        "\n",
        "od.download('https://www.kaggle.com/datasets/datahmifitb/ds-bootcamp-curah-hujan')\n"
      ]
    },
    {
      "cell_type": "code",
      "execution_count": null,
      "metadata": {
        "id": "M0Y-DOO2hQkV"
      },
      "outputs": [],
      "source": [
        "import zipfile\n",
        "\n",
        "local_zip = '/content/ds-bootcamp-curah-hujan.zip'\n",
        "zip_ref = zipfile.ZipFile(local_zip, 'r')\n",
        "zip_ref.extractall('/content')\n",
        "zip_ref.close()"
      ]
    },
    {
      "cell_type": "markdown",
      "metadata": {
        "id": "CoP5Yx_phPd_"
      },
      "source": []
    },
    {
      "cell_type": "markdown",
      "metadata": {
        "id": "WDQDLa3PhPYa"
      },
      "source": []
    },
    {
      "cell_type": "code",
      "execution_count": 4,
      "metadata": {
        "id": "zhr4ixRNfmbI"
      },
      "outputs": [],
      "source": [
        "import pandas as pd"
      ]
    },
    {
      "cell_type": "code",
      "execution_count": 5,
      "metadata": {
        "colab": {
          "base_uri": "https://localhost:8080/",
          "height": 679
        },
        "id": "Ey-339A5fmbK",
        "outputId": "0c4e3675-4f35-40fb-897c-1d40e2a450bc"
      },
      "outputs": [
        {
          "data": {
            "text/html": [
              "<div>\n",
              "<style scoped>\n",
              "    .dataframe tbody tr th:only-of-type {\n",
              "        vertical-align: middle;\n",
              "    }\n",
              "\n",
              "    .dataframe tbody tr th {\n",
              "        vertical-align: top;\n",
              "    }\n",
              "\n",
              "    .dataframe thead th {\n",
              "        text-align: right;\n",
              "    }\n",
              "</style>\n",
              "<table border=\"1\" class=\"dataframe\">\n",
              "  <thead>\n",
              "    <tr style=\"text-align: right;\">\n",
              "      <th></th>\n",
              "      <th>time</th>\n",
              "      <th>temperature_2m_max (°C)</th>\n",
              "      <th>temperature_2m_min (°C)</th>\n",
              "      <th>apparent_temperature_max (°C)</th>\n",
              "      <th>apparent_temperature_min (°C)</th>\n",
              "      <th>sunrise (iso8601)</th>\n",
              "      <th>sunset (iso8601)</th>\n",
              "      <th>shortwave_radiation_sum (MJ/m²)</th>\n",
              "      <th>rain_sum (mm)</th>\n",
              "      <th>snowfall_sum (cm)</th>\n",
              "      <th>windspeed_10m_max (km/h)</th>\n",
              "      <th>windgusts_10m_max (km/h)</th>\n",
              "      <th>winddirection_10m_dominant (°)</th>\n",
              "      <th>et0_fao_evapotranspiration (mm)</th>\n",
              "      <th>elevation</th>\n",
              "      <th>city</th>\n",
              "    </tr>\n",
              "  </thead>\n",
              "  <tbody>\n",
              "    <tr>\n",
              "      <th>0</th>\n",
              "      <td>2018-01-01</td>\n",
              "      <td>29.9</td>\n",
              "      <td>26.0</td>\n",
              "      <td>36.3</td>\n",
              "      <td>31.6</td>\n",
              "      <td>2018-01-01T05:15</td>\n",
              "      <td>2018-01-01T17:49</td>\n",
              "      <td>17.59</td>\n",
              "      <td>7.7</td>\n",
              "      <td>0.0</td>\n",
              "      <td>6.9</td>\n",
              "      <td>20.2</td>\n",
              "      <td>277.0</td>\n",
              "      <td>3.61</td>\n",
              "      <td>0</td>\n",
              "      <td>su</td>\n",
              "    </tr>\n",
              "    <tr>\n",
              "      <th>1</th>\n",
              "      <td>2018-01-02</td>\n",
              "      <td>30.6</td>\n",
              "      <td>25.7</td>\n",
              "      <td>37.7</td>\n",
              "      <td>31.2</td>\n",
              "      <td>2018-01-02T05:15</td>\n",
              "      <td>2018-01-02T17:50</td>\n",
              "      <td>19.87</td>\n",
              "      <td>9.4</td>\n",
              "      <td>0.0</td>\n",
              "      <td>7.1</td>\n",
              "      <td>18.0</td>\n",
              "      <td>168.0</td>\n",
              "      <td>4.11</td>\n",
              "      <td>0</td>\n",
              "      <td>su</td>\n",
              "    </tr>\n",
              "    <tr>\n",
              "      <th>2</th>\n",
              "      <td>2018-01-03</td>\n",
              "      <td>31.8</td>\n",
              "      <td>25.9</td>\n",
              "      <td>40.3</td>\n",
              "      <td>31.7</td>\n",
              "      <td>2018-01-03T05:16</td>\n",
              "      <td>2018-01-03T17:50</td>\n",
              "      <td>20.44</td>\n",
              "      <td>7.8</td>\n",
              "      <td>0.0</td>\n",
              "      <td>8.1</td>\n",
              "      <td>21.2</td>\n",
              "      <td>125.0</td>\n",
              "      <td>4.23</td>\n",
              "      <td>0</td>\n",
              "      <td>su</td>\n",
              "    </tr>\n",
              "    <tr>\n",
              "      <th>3</th>\n",
              "      <td>2018-01-04</td>\n",
              "      <td>30.8</td>\n",
              "      <td>26.0</td>\n",
              "      <td>39.1</td>\n",
              "      <td>31.6</td>\n",
              "      <td>2018-01-04T05:16</td>\n",
              "      <td>2018-01-04T17:50</td>\n",
              "      <td>20.44</td>\n",
              "      <td>29.7</td>\n",
              "      <td>0.0</td>\n",
              "      <td>7.2</td>\n",
              "      <td>21.6</td>\n",
              "      <td>190.0</td>\n",
              "      <td>4.22</td>\n",
              "      <td>0</td>\n",
              "      <td>su</td>\n",
              "    </tr>\n",
              "    <tr>\n",
              "      <th>4</th>\n",
              "      <td>2018-01-05</td>\n",
              "      <td>30.9</td>\n",
              "      <td>25.2</td>\n",
              "      <td>37.6</td>\n",
              "      <td>29.9</td>\n",
              "      <td>2018-01-05T05:17</td>\n",
              "      <td>2018-01-05T17:51</td>\n",
              "      <td>20.10</td>\n",
              "      <td>22.5</td>\n",
              "      <td>0.0</td>\n",
              "      <td>6.9</td>\n",
              "      <td>21.2</td>\n",
              "      <td>241.0</td>\n",
              "      <td>4.16</td>\n",
              "      <td>0</td>\n",
              "      <td>su</td>\n",
              "    </tr>\n",
              "    <tr>\n",
              "      <th>...</th>\n",
              "      <td>...</td>\n",
              "      <td>...</td>\n",
              "      <td>...</td>\n",
              "      <td>...</td>\n",
              "      <td>...</td>\n",
              "      <td>...</td>\n",
              "      <td>...</td>\n",
              "      <td>...</td>\n",
              "      <td>...</td>\n",
              "      <td>...</td>\n",
              "      <td>...</td>\n",
              "      <td>...</td>\n",
              "      <td>...</td>\n",
              "      <td>...</td>\n",
              "      <td>...</td>\n",
              "      <td>...</td>\n",
              "    </tr>\n",
              "    <tr>\n",
              "      <th>13253</th>\n",
              "      <td>2022-12-24</td>\n",
              "      <td>NaN</td>\n",
              "      <td>NaN</td>\n",
              "      <td>NaN</td>\n",
              "      <td>NaN</td>\n",
              "      <td>1970-01-01T07:00</td>\n",
              "      <td>1970-01-01T07:00</td>\n",
              "      <td>NaN</td>\n",
              "      <td>NaN</td>\n",
              "      <td>NaN</td>\n",
              "      <td>NaN</td>\n",
              "      <td>NaN</td>\n",
              "      <td>NaN</td>\n",
              "      <td>NaN</td>\n",
              "      <td>0</td>\n",
              "      <td>q</td>\n",
              "    </tr>\n",
              "    <tr>\n",
              "      <th>13254</th>\n",
              "      <td>2022-12-25</td>\n",
              "      <td>NaN</td>\n",
              "      <td>NaN</td>\n",
              "      <td>NaN</td>\n",
              "      <td>NaN</td>\n",
              "      <td>1970-01-01T07:00</td>\n",
              "      <td>1970-01-01T07:00</td>\n",
              "      <td>NaN</td>\n",
              "      <td>NaN</td>\n",
              "      <td>NaN</td>\n",
              "      <td>NaN</td>\n",
              "      <td>NaN</td>\n",
              "      <td>NaN</td>\n",
              "      <td>NaN</td>\n",
              "      <td>0</td>\n",
              "      <td>q</td>\n",
              "    </tr>\n",
              "    <tr>\n",
              "      <th>13255</th>\n",
              "      <td>2022-12-26</td>\n",
              "      <td>NaN</td>\n",
              "      <td>NaN</td>\n",
              "      <td>NaN</td>\n",
              "      <td>NaN</td>\n",
              "      <td>1970-01-01T07:00</td>\n",
              "      <td>1970-01-01T07:00</td>\n",
              "      <td>NaN</td>\n",
              "      <td>NaN</td>\n",
              "      <td>NaN</td>\n",
              "      <td>NaN</td>\n",
              "      <td>NaN</td>\n",
              "      <td>NaN</td>\n",
              "      <td>NaN</td>\n",
              "      <td>0</td>\n",
              "      <td>q</td>\n",
              "    </tr>\n",
              "    <tr>\n",
              "      <th>13256</th>\n",
              "      <td>2022-12-27</td>\n",
              "      <td>NaN</td>\n",
              "      <td>NaN</td>\n",
              "      <td>NaN</td>\n",
              "      <td>NaN</td>\n",
              "      <td>1970-01-01T07:00</td>\n",
              "      <td>1970-01-01T07:00</td>\n",
              "      <td>NaN</td>\n",
              "      <td>NaN</td>\n",
              "      <td>NaN</td>\n",
              "      <td>NaN</td>\n",
              "      <td>NaN</td>\n",
              "      <td>NaN</td>\n",
              "      <td>NaN</td>\n",
              "      <td>0</td>\n",
              "      <td>q</td>\n",
              "    </tr>\n",
              "    <tr>\n",
              "      <th>13257</th>\n",
              "      <td>2022-12-28</td>\n",
              "      <td>NaN</td>\n",
              "      <td>NaN</td>\n",
              "      <td>NaN</td>\n",
              "      <td>NaN</td>\n",
              "      <td>1970-01-01T07:00</td>\n",
              "      <td>1970-01-01T07:00</td>\n",
              "      <td>NaN</td>\n",
              "      <td>NaN</td>\n",
              "      <td>NaN</td>\n",
              "      <td>NaN</td>\n",
              "      <td>NaN</td>\n",
              "      <td>NaN</td>\n",
              "      <td>NaN</td>\n",
              "      <td>0</td>\n",
              "      <td>q</td>\n",
              "    </tr>\n",
              "  </tbody>\n",
              "</table>\n",
              "<p>13258 rows × 16 columns</p>\n",
              "</div>"
            ],
            "text/plain": [
              "             time  temperature_2m_max (°C)  temperature_2m_min (°C)  \\\n",
              "0      2018-01-01                     29.9                     26.0   \n",
              "1      2018-01-02                     30.6                     25.7   \n",
              "2      2018-01-03                     31.8                     25.9   \n",
              "3      2018-01-04                     30.8                     26.0   \n",
              "4      2018-01-05                     30.9                     25.2   \n",
              "...           ...                      ...                      ...   \n",
              "13253  2022-12-24                      NaN                      NaN   \n",
              "13254  2022-12-25                      NaN                      NaN   \n",
              "13255  2022-12-26                      NaN                      NaN   \n",
              "13256  2022-12-27                      NaN                      NaN   \n",
              "13257  2022-12-28                      NaN                      NaN   \n",
              "\n",
              "       apparent_temperature_max (°C)  apparent_temperature_min (°C)  \\\n",
              "0                               36.3                           31.6   \n",
              "1                               37.7                           31.2   \n",
              "2                               40.3                           31.7   \n",
              "3                               39.1                           31.6   \n",
              "4                               37.6                           29.9   \n",
              "...                              ...                            ...   \n",
              "13253                            NaN                            NaN   \n",
              "13254                            NaN                            NaN   \n",
              "13255                            NaN                            NaN   \n",
              "13256                            NaN                            NaN   \n",
              "13257                            NaN                            NaN   \n",
              "\n",
              "      sunrise (iso8601)  sunset (iso8601)  shortwave_radiation_sum (MJ/m²)  \\\n",
              "0      2018-01-01T05:15  2018-01-01T17:49                            17.59   \n",
              "1      2018-01-02T05:15  2018-01-02T17:50                            19.87   \n",
              "2      2018-01-03T05:16  2018-01-03T17:50                            20.44   \n",
              "3      2018-01-04T05:16  2018-01-04T17:50                            20.44   \n",
              "4      2018-01-05T05:17  2018-01-05T17:51                            20.10   \n",
              "...                 ...               ...                              ...   \n",
              "13253  1970-01-01T07:00  1970-01-01T07:00                              NaN   \n",
              "13254  1970-01-01T07:00  1970-01-01T07:00                              NaN   \n",
              "13255  1970-01-01T07:00  1970-01-01T07:00                              NaN   \n",
              "13256  1970-01-01T07:00  1970-01-01T07:00                              NaN   \n",
              "13257  1970-01-01T07:00  1970-01-01T07:00                              NaN   \n",
              "\n",
              "       rain_sum (mm)  snowfall_sum (cm)  windspeed_10m_max (km/h)  \\\n",
              "0                7.7                0.0                       6.9   \n",
              "1                9.4                0.0                       7.1   \n",
              "2                7.8                0.0                       8.1   \n",
              "3               29.7                0.0                       7.2   \n",
              "4               22.5                0.0                       6.9   \n",
              "...              ...                ...                       ...   \n",
              "13253            NaN                NaN                       NaN   \n",
              "13254            NaN                NaN                       NaN   \n",
              "13255            NaN                NaN                       NaN   \n",
              "13256            NaN                NaN                       NaN   \n",
              "13257            NaN                NaN                       NaN   \n",
              "\n",
              "       windgusts_10m_max (km/h)  winddirection_10m_dominant (°)  \\\n",
              "0                          20.2                           277.0   \n",
              "1                          18.0                           168.0   \n",
              "2                          21.2                           125.0   \n",
              "3                          21.6                           190.0   \n",
              "4                          21.2                           241.0   \n",
              "...                         ...                             ...   \n",
              "13253                       NaN                             NaN   \n",
              "13254                       NaN                             NaN   \n",
              "13255                       NaN                             NaN   \n",
              "13256                       NaN                             NaN   \n",
              "13257                       NaN                             NaN   \n",
              "\n",
              "       et0_fao_evapotranspiration (mm)  elevation city  \n",
              "0                                 3.61          0   su  \n",
              "1                                 4.11          0   su  \n",
              "2                                 4.23          0   su  \n",
              "3                                 4.22          0   su  \n",
              "4                                 4.16          0   su  \n",
              "...                                ...        ...  ...  \n",
              "13253                              NaN          0    q  \n",
              "13254                              NaN          0    q  \n",
              "13255                              NaN          0    q  \n",
              "13256                              NaN          0    q  \n",
              "13257                              NaN          0    q  \n",
              "\n",
              "[13258 rows x 16 columns]"
            ]
          },
          "execution_count": 5,
          "metadata": {},
          "output_type": "execute_result"
        }
      ],
      "source": [
        "df = pd.read_csv('ds-bootcamp-curah-hujan/data.csv')\n",
        "df"
      ]
    },
    {
      "cell_type": "code",
      "execution_count": 6,
      "metadata": {
        "colab": {
          "base_uri": "https://localhost:8080/"
        },
        "id": "eajZo8auWwp0",
        "outputId": "5452d992-3f1d-49e5-822a-d4f32c41abc0"
      },
      "outputs": [
        {
          "name": "stdout",
          "output_type": "stream",
          "text": [
            "<class 'pandas.core.frame.DataFrame'>\n",
            "RangeIndex: 13258 entries, 0 to 13257\n",
            "Data columns (total 16 columns):\n",
            " #   Column                           Non-Null Count  Dtype  \n",
            "---  ------                           --------------  -----  \n",
            " 0   time                             13258 non-null  object \n",
            " 1   temperature_2m_max (°C)          13208 non-null  float64\n",
            " 2   temperature_2m_min (°C)          13208 non-null  float64\n",
            " 3   apparent_temperature_max (°C)    13208 non-null  float64\n",
            " 4   apparent_temperature_min (°C)    13208 non-null  float64\n",
            " 5   sunrise (iso8601)                13258 non-null  object \n",
            " 6   sunset (iso8601)                 13258 non-null  object \n",
            " 7   shortwave_radiation_sum (MJ/m²)  13198 non-null  float64\n",
            " 8   rain_sum (mm)                    13198 non-null  float64\n",
            " 9   snowfall_sum (cm)                13198 non-null  float64\n",
            " 10  windspeed_10m_max (km/h)         13208 non-null  float64\n",
            " 11  windgusts_10m_max (km/h)         13208 non-null  float64\n",
            " 12  winddirection_10m_dominant (°)   12792 non-null  float64\n",
            " 13  et0_fao_evapotranspiration (mm)  13198 non-null  float64\n",
            " 14  elevation                        13258 non-null  int64  \n",
            " 15  city                             13258 non-null  object \n",
            "dtypes: float64(11), int64(1), object(4)\n",
            "memory usage: 1.6+ MB\n"
          ]
        }
      ],
      "source": [
        "df.info()"
      ]
    },
    {
      "cell_type": "code",
      "execution_count": 19,
      "metadata": {
        "colab": {
          "base_uri": "https://localhost:8080/",
          "height": 35
        },
        "id": "_ukpHY02XQk-",
        "outputId": "fa4e4813-9220-45cc-bc66-07bd32ab9f66"
      },
      "outputs": [
        {
          "data": {
            "text/plain": [
              "'2018-01-01T05:15'"
            ]
          },
          "execution_count": 19,
          "metadata": {},
          "output_type": "execute_result"
        }
      ],
      "source": [
        "df[\"sunrise (iso8601)\"][0]"
      ]
    },
    {
      "cell_type": "code",
      "execution_count": 7,
      "metadata": {
        "colab": {
          "base_uri": "https://localhost:8080/",
          "height": 710
        },
        "id": "o9h52YPRfmbM",
        "outputId": "70d668ad-e2bf-4e99-c9fd-00c27208c56c"
      },
      "outputs": [
        {
          "data": {
            "text/html": [
              "<div>\n",
              "<style scoped>\n",
              "    .dataframe tbody tr th:only-of-type {\n",
              "        vertical-align: middle;\n",
              "    }\n",
              "\n",
              "    .dataframe tbody tr th {\n",
              "        vertical-align: top;\n",
              "    }\n",
              "\n",
              "    .dataframe thead th {\n",
              "        text-align: right;\n",
              "    }\n",
              "</style>\n",
              "<table border=\"1\" class=\"dataframe\">\n",
              "  <thead>\n",
              "    <tr style=\"text-align: right;\">\n",
              "      <th></th>\n",
              "      <th>temperature_2m_max (°C)</th>\n",
              "      <th>temperature_2m_min (°C)</th>\n",
              "      <th>apparent_temperature_max (°C)</th>\n",
              "      <th>apparent_temperature_min (°C)</th>\n",
              "      <th>sunrise (iso8601)</th>\n",
              "      <th>sunset (iso8601)</th>\n",
              "      <th>shortwave_radiation_sum (MJ/m²)</th>\n",
              "      <th>rain_sum (mm)</th>\n",
              "      <th>snowfall_sum (cm)</th>\n",
              "      <th>windspeed_10m_max (km/h)</th>\n",
              "      <th>windgusts_10m_max (km/h)</th>\n",
              "      <th>winddirection_10m_dominant (°)</th>\n",
              "      <th>et0_fao_evapotranspiration (mm)</th>\n",
              "      <th>elevation</th>\n",
              "      <th>city</th>\n",
              "    </tr>\n",
              "    <tr>\n",
              "      <th>time</th>\n",
              "      <th></th>\n",
              "      <th></th>\n",
              "      <th></th>\n",
              "      <th></th>\n",
              "      <th></th>\n",
              "      <th></th>\n",
              "      <th></th>\n",
              "      <th></th>\n",
              "      <th></th>\n",
              "      <th></th>\n",
              "      <th></th>\n",
              "      <th></th>\n",
              "      <th></th>\n",
              "      <th></th>\n",
              "      <th></th>\n",
              "    </tr>\n",
              "  </thead>\n",
              "  <tbody>\n",
              "    <tr>\n",
              "      <th>2018-01-01</th>\n",
              "      <td>29.9</td>\n",
              "      <td>26.0</td>\n",
              "      <td>36.3</td>\n",
              "      <td>31.6</td>\n",
              "      <td>2018-01-01T05:15</td>\n",
              "      <td>2018-01-01T17:49</td>\n",
              "      <td>17.59</td>\n",
              "      <td>7.7</td>\n",
              "      <td>0.0</td>\n",
              "      <td>6.9</td>\n",
              "      <td>20.2</td>\n",
              "      <td>277.0</td>\n",
              "      <td>3.61</td>\n",
              "      <td>0</td>\n",
              "      <td>su</td>\n",
              "    </tr>\n",
              "    <tr>\n",
              "      <th>2018-01-01</th>\n",
              "      <td>27.5</td>\n",
              "      <td>25.6</td>\n",
              "      <td>33.1</td>\n",
              "      <td>30.2</td>\n",
              "      <td>2018-01-01T05:03</td>\n",
              "      <td>2018-01-01T17:41</td>\n",
              "      <td>18.15</td>\n",
              "      <td>7.5</td>\n",
              "      <td>0.0</td>\n",
              "      <td>17.6</td>\n",
              "      <td>32.0</td>\n",
              "      <td>255.0</td>\n",
              "      <td>3.46</td>\n",
              "      <td>0</td>\n",
              "      <td>u</td>\n",
              "    </tr>\n",
              "    <tr>\n",
              "      <th>2018-01-01</th>\n",
              "      <td>33.3</td>\n",
              "      <td>25.0</td>\n",
              "      <td>40.9</td>\n",
              "      <td>30.7</td>\n",
              "      <td>2018-01-01T05:36</td>\n",
              "      <td>2018-01-01T18:09</td>\n",
              "      <td>23.24</td>\n",
              "      <td>4.9</td>\n",
              "      <td>0.0</td>\n",
              "      <td>6.9</td>\n",
              "      <td>22.3</td>\n",
              "      <td>252.0</td>\n",
              "      <td>4.93</td>\n",
              "      <td>0</td>\n",
              "      <td>le</td>\n",
              "    </tr>\n",
              "    <tr>\n",
              "      <th>2018-01-01</th>\n",
              "      <td>29.9</td>\n",
              "      <td>24.7</td>\n",
              "      <td>36.2</td>\n",
              "      <td>29.5</td>\n",
              "      <td>2018-01-01T05:09</td>\n",
              "      <td>2018-01-01T17:23</td>\n",
              "      <td>14.99</td>\n",
              "      <td>14.2</td>\n",
              "      <td>0.0</td>\n",
              "      <td>8.4</td>\n",
              "      <td>21.2</td>\n",
              "      <td>17.0</td>\n",
              "      <td>3.13</td>\n",
              "      <td>58</td>\n",
              "      <td>p</td>\n",
              "    </tr>\n",
              "    <tr>\n",
              "      <th>2018-01-01</th>\n",
              "      <td>28.2</td>\n",
              "      <td>23.7</td>\n",
              "      <td>33.3</td>\n",
              "      <td>28.5</td>\n",
              "      <td>2018-01-01T06:38</td>\n",
              "      <td>2018-01-01T18:30</td>\n",
              "      <td>10.37</td>\n",
              "      <td>9.2</td>\n",
              "      <td>0.0</td>\n",
              "      <td>11.5</td>\n",
              "      <td>23.8</td>\n",
              "      <td>115.0</td>\n",
              "      <td>2.22</td>\n",
              "      <td>5</td>\n",
              "      <td>lh</td>\n",
              "    </tr>\n",
              "    <tr>\n",
              "      <th>...</th>\n",
              "      <td>...</td>\n",
              "      <td>...</td>\n",
              "      <td>...</td>\n",
              "      <td>...</td>\n",
              "      <td>...</td>\n",
              "      <td>...</td>\n",
              "      <td>...</td>\n",
              "      <td>...</td>\n",
              "      <td>...</td>\n",
              "      <td>...</td>\n",
              "      <td>...</td>\n",
              "      <td>...</td>\n",
              "      <td>...</td>\n",
              "      <td>...</td>\n",
              "      <td>...</td>\n",
              "    </tr>\n",
              "    <tr>\n",
              "      <th>2022-12-28</th>\n",
              "      <td>NaN</td>\n",
              "      <td>NaN</td>\n",
              "      <td>NaN</td>\n",
              "      <td>NaN</td>\n",
              "      <td>2022-12-28T03:41</td>\n",
              "      <td>2022-12-28T16:05</td>\n",
              "      <td>NaN</td>\n",
              "      <td>NaN</td>\n",
              "      <td>NaN</td>\n",
              "      <td>NaN</td>\n",
              "      <td>NaN</td>\n",
              "      <td>NaN</td>\n",
              "      <td>NaN</td>\n",
              "      <td>2678</td>\n",
              "      <td>t</td>\n",
              "    </tr>\n",
              "    <tr>\n",
              "      <th>2022-12-28</th>\n",
              "      <td>NaN</td>\n",
              "      <td>NaN</td>\n",
              "      <td>NaN</td>\n",
              "      <td>NaN</td>\n",
              "      <td>2022-12-28T06:28</td>\n",
              "      <td>2022-12-28T18:26</td>\n",
              "      <td>NaN</td>\n",
              "      <td>NaN</td>\n",
              "      <td>NaN</td>\n",
              "      <td>NaN</td>\n",
              "      <td>NaN</td>\n",
              "      <td>NaN</td>\n",
              "      <td>NaN</td>\n",
              "      <td>1391</td>\n",
              "      <td>b</td>\n",
              "    </tr>\n",
              "    <tr>\n",
              "      <th>2022-12-28</th>\n",
              "      <td>NaN</td>\n",
              "      <td>NaN</td>\n",
              "      <td>NaN</td>\n",
              "      <td>NaN</td>\n",
              "      <td>2022-12-28T06:37</td>\n",
              "      <td>2022-12-28T18:28</td>\n",
              "      <td>NaN</td>\n",
              "      <td>NaN</td>\n",
              "      <td>NaN</td>\n",
              "      <td>NaN</td>\n",
              "      <td>NaN</td>\n",
              "      <td>NaN</td>\n",
              "      <td>NaN</td>\n",
              "      <td>5</td>\n",
              "      <td>lh</td>\n",
              "    </tr>\n",
              "    <tr>\n",
              "      <th>2022-12-28</th>\n",
              "      <td>NaN</td>\n",
              "      <td>NaN</td>\n",
              "      <td>NaN</td>\n",
              "      <td>NaN</td>\n",
              "      <td>2022-12-28T05:02</td>\n",
              "      <td>2022-12-28T17:40</td>\n",
              "      <td>NaN</td>\n",
              "      <td>NaN</td>\n",
              "      <td>NaN</td>\n",
              "      <td>NaN</td>\n",
              "      <td>NaN</td>\n",
              "      <td>NaN</td>\n",
              "      <td>NaN</td>\n",
              "      <td>0</td>\n",
              "      <td>si</td>\n",
              "    </tr>\n",
              "    <tr>\n",
              "      <th>2022-12-28</th>\n",
              "      <td>NaN</td>\n",
              "      <td>NaN</td>\n",
              "      <td>NaN</td>\n",
              "      <td>NaN</td>\n",
              "      <td>1970-01-01T07:00</td>\n",
              "      <td>1970-01-01T07:00</td>\n",
              "      <td>NaN</td>\n",
              "      <td>NaN</td>\n",
              "      <td>NaN</td>\n",
              "      <td>NaN</td>\n",
              "      <td>NaN</td>\n",
              "      <td>NaN</td>\n",
              "      <td>NaN</td>\n",
              "      <td>0</td>\n",
              "      <td>q</td>\n",
              "    </tr>\n",
              "  </tbody>\n",
              "</table>\n",
              "<p>13258 rows × 15 columns</p>\n",
              "</div>"
            ],
            "text/plain": [
              "            temperature_2m_max (°C)  temperature_2m_min (°C)  \\\n",
              "time                                                           \n",
              "2018-01-01                     29.9                     26.0   \n",
              "2018-01-01                     27.5                     25.6   \n",
              "2018-01-01                     33.3                     25.0   \n",
              "2018-01-01                     29.9                     24.7   \n",
              "2018-01-01                     28.2                     23.7   \n",
              "...                             ...                      ...   \n",
              "2022-12-28                      NaN                      NaN   \n",
              "2022-12-28                      NaN                      NaN   \n",
              "2022-12-28                      NaN                      NaN   \n",
              "2022-12-28                      NaN                      NaN   \n",
              "2022-12-28                      NaN                      NaN   \n",
              "\n",
              "            apparent_temperature_max (°C)  apparent_temperature_min (°C)  \\\n",
              "time                                                                       \n",
              "2018-01-01                           36.3                           31.6   \n",
              "2018-01-01                           33.1                           30.2   \n",
              "2018-01-01                           40.9                           30.7   \n",
              "2018-01-01                           36.2                           29.5   \n",
              "2018-01-01                           33.3                           28.5   \n",
              "...                                   ...                            ...   \n",
              "2022-12-28                            NaN                            NaN   \n",
              "2022-12-28                            NaN                            NaN   \n",
              "2022-12-28                            NaN                            NaN   \n",
              "2022-12-28                            NaN                            NaN   \n",
              "2022-12-28                            NaN                            NaN   \n",
              "\n",
              "           sunrise (iso8601)  sunset (iso8601)  \\\n",
              "time                                             \n",
              "2018-01-01  2018-01-01T05:15  2018-01-01T17:49   \n",
              "2018-01-01  2018-01-01T05:03  2018-01-01T17:41   \n",
              "2018-01-01  2018-01-01T05:36  2018-01-01T18:09   \n",
              "2018-01-01  2018-01-01T05:09  2018-01-01T17:23   \n",
              "2018-01-01  2018-01-01T06:38  2018-01-01T18:30   \n",
              "...                      ...               ...   \n",
              "2022-12-28  2022-12-28T03:41  2022-12-28T16:05   \n",
              "2022-12-28  2022-12-28T06:28  2022-12-28T18:26   \n",
              "2022-12-28  2022-12-28T06:37  2022-12-28T18:28   \n",
              "2022-12-28  2022-12-28T05:02  2022-12-28T17:40   \n",
              "2022-12-28  1970-01-01T07:00  1970-01-01T07:00   \n",
              "\n",
              "            shortwave_radiation_sum (MJ/m²)  rain_sum (mm)  snowfall_sum (cm)  \\\n",
              "time                                                                            \n",
              "2018-01-01                            17.59            7.7                0.0   \n",
              "2018-01-01                            18.15            7.5                0.0   \n",
              "2018-01-01                            23.24            4.9                0.0   \n",
              "2018-01-01                            14.99           14.2                0.0   \n",
              "2018-01-01                            10.37            9.2                0.0   \n",
              "...                                     ...            ...                ...   \n",
              "2022-12-28                              NaN            NaN                NaN   \n",
              "2022-12-28                              NaN            NaN                NaN   \n",
              "2022-12-28                              NaN            NaN                NaN   \n",
              "2022-12-28                              NaN            NaN                NaN   \n",
              "2022-12-28                              NaN            NaN                NaN   \n",
              "\n",
              "            windspeed_10m_max (km/h)  windgusts_10m_max (km/h)  \\\n",
              "time                                                             \n",
              "2018-01-01                       6.9                      20.2   \n",
              "2018-01-01                      17.6                      32.0   \n",
              "2018-01-01                       6.9                      22.3   \n",
              "2018-01-01                       8.4                      21.2   \n",
              "2018-01-01                      11.5                      23.8   \n",
              "...                              ...                       ...   \n",
              "2022-12-28                       NaN                       NaN   \n",
              "2022-12-28                       NaN                       NaN   \n",
              "2022-12-28                       NaN                       NaN   \n",
              "2022-12-28                       NaN                       NaN   \n",
              "2022-12-28                       NaN                       NaN   \n",
              "\n",
              "            winddirection_10m_dominant (°)  et0_fao_evapotranspiration (mm)  \\\n",
              "time                                                                          \n",
              "2018-01-01                           277.0                             3.61   \n",
              "2018-01-01                           255.0                             3.46   \n",
              "2018-01-01                           252.0                             4.93   \n",
              "2018-01-01                            17.0                             3.13   \n",
              "2018-01-01                           115.0                             2.22   \n",
              "...                                    ...                              ...   \n",
              "2022-12-28                             NaN                              NaN   \n",
              "2022-12-28                             NaN                              NaN   \n",
              "2022-12-28                             NaN                              NaN   \n",
              "2022-12-28                             NaN                              NaN   \n",
              "2022-12-28                             NaN                              NaN   \n",
              "\n",
              "            elevation city  \n",
              "time                        \n",
              "2018-01-01          0   su  \n",
              "2018-01-01          0    u  \n",
              "2018-01-01          0   le  \n",
              "2018-01-01         58    p  \n",
              "2018-01-01          5   lh  \n",
              "...               ...  ...  \n",
              "2022-12-28       2678    t  \n",
              "2022-12-28       1391    b  \n",
              "2022-12-28          5   lh  \n",
              "2022-12-28          0   si  \n",
              "2022-12-28          0    q  \n",
              "\n",
              "[13258 rows x 15 columns]"
            ]
          },
          "execution_count": 7,
          "metadata": {},
          "output_type": "execute_result"
        }
      ],
      "source": [
        "df.sort_values(by=['time'], inplace=True, ascending=True)\n",
        "df.set_index('time', inplace= True)\n",
        "df"
      ]
    },
    {
      "cell_type": "code",
      "execution_count": 21,
      "metadata": {
        "colab": {
          "base_uri": "https://localhost:8080/"
        },
        "id": "Xu1wsyIofmbN",
        "outputId": "1a5e9aad-6c38-4770-b22d-047a7878a421"
      },
      "outputs": [
        {
          "name": "stdout",
          "output_type": "stream",
          "text": [
            "<class 'pandas.core.frame.DataFrame'>\n",
            "Index: 13258 entries, 2018-01-01 to 2022-12-28\n",
            "Data columns (total 15 columns):\n",
            " #   Column                           Non-Null Count  Dtype  \n",
            "---  ------                           --------------  -----  \n",
            " 0   temperature_2m_max (°C)          13208 non-null  float64\n",
            " 1   temperature_2m_min (°C)          13208 non-null  float64\n",
            " 2   apparent_temperature_max (°C)    13208 non-null  float64\n",
            " 3   apparent_temperature_min (°C)    13208 non-null  float64\n",
            " 4   sunrise (iso8601)                13258 non-null  object \n",
            " 5   sunset (iso8601)                 13258 non-null  object \n",
            " 6   shortwave_radiation_sum (MJ/m²)  13198 non-null  float64\n",
            " 7   rain_sum (mm)                    13198 non-null  float64\n",
            " 8   snowfall_sum (cm)                13198 non-null  float64\n",
            " 9   windspeed_10m_max (km/h)         13208 non-null  float64\n",
            " 10  windgusts_10m_max (km/h)         13208 non-null  float64\n",
            " 11  winddirection_10m_dominant (°)   12792 non-null  float64\n",
            " 12  et0_fao_evapotranspiration (mm)  13198 non-null  float64\n",
            " 13  elevation                        13258 non-null  int64  \n",
            " 14  city                             13258 non-null  object \n",
            "dtypes: float64(11), int64(1), object(3)\n",
            "memory usage: 1.6+ MB\n"
          ]
        }
      ],
      "source": [
        "df.info()"
      ]
    },
    {
      "cell_type": "code",
      "execution_count": 8,
      "metadata": {
        "id": "kUsAjaj_fmbO"
      },
      "outputs": [],
      "source": [
        "df = df.drop(df.columns[[4, 5, 8, 13, 14]], axis=1)"
      ]
    },
    {
      "cell_type": "code",
      "execution_count": 23,
      "metadata": {
        "colab": {
          "base_uri": "https://localhost:8080/"
        },
        "id": "_TODVjQUfmbP",
        "outputId": "a8bf0451-d89c-4018-a769-96c1b049022f"
      },
      "outputs": [
        {
          "data": {
            "text/plain": [
              "temperature_2m_max (°C)             50\n",
              "temperature_2m_min (°C)             50\n",
              "apparent_temperature_max (°C)       50\n",
              "apparent_temperature_min (°C)       50\n",
              "shortwave_radiation_sum (MJ/m²)     60\n",
              "rain_sum (mm)                       60\n",
              "windspeed_10m_max (km/h)            50\n",
              "windgusts_10m_max (km/h)            50\n",
              "winddirection_10m_dominant (°)     466\n",
              "et0_fao_evapotranspiration (mm)     60\n",
              "dtype: int64"
            ]
          },
          "execution_count": 23,
          "metadata": {},
          "output_type": "execute_result"
        }
      ],
      "source": [
        "df.isnull().sum()"
      ]
    },
    {
      "cell_type": "code",
      "execution_count": 9,
      "metadata": {
        "id": "_Dkh5pGvfmbP"
      },
      "outputs": [],
      "source": [
        "df = df.dropna(how='any',axis=0) "
      ]
    },
    {
      "cell_type": "code",
      "execution_count": 10,
      "metadata": {
        "colab": {
          "base_uri": "https://localhost:8080/"
        },
        "id": "So2VhhNZfmbQ",
        "outputId": "548c581d-e0a1-4f7a-b0d2-b72e0392c638"
      },
      "outputs": [
        {
          "data": {
            "text/plain": [
              "temperature_2m_max (°C)            0\n",
              "temperature_2m_min (°C)            0\n",
              "apparent_temperature_max (°C)      0\n",
              "apparent_temperature_min (°C)      0\n",
              "shortwave_radiation_sum (MJ/m²)    0\n",
              "rain_sum (mm)                      0\n",
              "windspeed_10m_max (km/h)           0\n",
              "windgusts_10m_max (km/h)           0\n",
              "winddirection_10m_dominant (°)     0\n",
              "et0_fao_evapotranspiration (mm)    0\n",
              "dtype: int64"
            ]
          },
          "execution_count": 10,
          "metadata": {},
          "output_type": "execute_result"
        }
      ],
      "source": [
        "df.isnull().sum()"
      ]
    },
    {
      "cell_type": "code",
      "execution_count": 26,
      "metadata": {
        "colab": {
          "base_uri": "https://localhost:8080/"
        },
        "id": "PZtR_zlLfmbR",
        "outputId": "685237db-fa0d-4f6d-8d0b-fee1f5432edb"
      },
      "outputs": [
        {
          "name": "stdout",
          "output_type": "stream",
          "text": [
            "<class 'pandas.core.frame.DataFrame'>\n",
            "Index: 12792 entries, 2018-01-01 to 2021-08-01\n",
            "Data columns (total 10 columns):\n",
            " #   Column                           Non-Null Count  Dtype  \n",
            "---  ------                           --------------  -----  \n",
            " 0   temperature_2m_max (°C)          12792 non-null  float64\n",
            " 1   temperature_2m_min (°C)          12792 non-null  float64\n",
            " 2   apparent_temperature_max (°C)    12792 non-null  float64\n",
            " 3   apparent_temperature_min (°C)    12792 non-null  float64\n",
            " 4   shortwave_radiation_sum (MJ/m²)  12792 non-null  float64\n",
            " 5   rain_sum (mm)                    12792 non-null  float64\n",
            " 6   windspeed_10m_max (km/h)         12792 non-null  float64\n",
            " 7   windgusts_10m_max (km/h)         12792 non-null  float64\n",
            " 8   winddirection_10m_dominant (°)   12792 non-null  float64\n",
            " 9   et0_fao_evapotranspiration (mm)  12792 non-null  float64\n",
            "dtypes: float64(10)\n",
            "memory usage: 1.1+ MB\n"
          ]
        }
      ],
      "source": [
        "df.info()"
      ]
    },
    {
      "cell_type": "code",
      "execution_count": 27,
      "metadata": {
        "colab": {
          "base_uri": "https://localhost:8080/",
          "height": 297
        },
        "id": "4zLJR9b2fmbR",
        "outputId": "dd0e91ae-6bf5-4eeb-a8e6-8ceff56bdfa8"
      },
      "outputs": [
        {
          "data": {
            "text/plain": [
              "<AxesSubplot:xlabel='temperature_2m_max (°C)'>"
            ]
          },
          "execution_count": 27,
          "metadata": {},
          "output_type": "execute_result"
        },
        {
          "data": {
            "image/png": "[encoded data removed]",
            "text/plain": [
              "<Figure size 432x288 with 1 Axes>"
            ]
          },
          "metadata": {
            "needs_background": "light"
          },
          "output_type": "display_data"
        }
      ],
      "source": [
        "import seaborn as sns\n",
        "sns.boxplot(x=df['temperature_2m_max (°C)'])"
      ]
    },
    {
      "cell_type": "code",
      "execution_count": 28,
      "metadata": {
        "colab": {
          "base_uri": "https://localhost:8080/",
          "height": 297
        },
        "id": "ngNXIJMdfmbf",
        "outputId": "cb24f544-0b54-4f79-fdc9-fb8e578b1716"
      },
      "outputs": [
        {
          "data": {
            "text/plain": [
              "<AxesSubplot:xlabel='temperature_2m_min (°C)'>"
            ]
          },
          "execution_count": 28,
          "metadata": {},
          "output_type": "execute_result"
        },
        {
          "data": {
            "image/png": "[encoded data removed]",
            "text/plain": [
              "<Figure size 432x288 with 1 Axes>"
            ]
          },
          "metadata": {
            "needs_background": "light"
          },
          "output_type": "display_data"
        }
      ],
      "source": [
        "sns.boxplot(x=df['temperature_2m_min (°C)'])"
      ]
    },
    {
      "cell_type": "code",
      "execution_count": 29,
      "metadata": {
        "colab": {
          "base_uri": "https://localhost:8080/",
          "height": 297
        },
        "id": "nvMSGhC6fmbg",
        "outputId": "9b1cb223-1084-4d7f-986c-a8d7c86a44be"
      },
      "outputs": [
        {
          "data": {
            "text/plain": [
              "<AxesSubplot:xlabel='apparent_temperature_max (°C)'>"
            ]
          },
          "execution_count": 29,
          "metadata": {},
          "output_type": "execute_result"
        },
        {
          "data": {
            "image/png": "[encoded data removed]",
            "text/plain": [
              "<Figure size 432x288 with 1 Axes>"
            ]
          },
          "metadata": {
            "needs_background": "light"
          },
          "output_type": "display_data"
        }
      ],
      "source": [
        "\n",
        "sns.boxplot(x=df['apparent_temperature_max (°C)'])"
      ]
    },
    {
      "cell_type": "code",
      "execution_count": 30,
      "metadata": {
        "colab": {
          "base_uri": "https://localhost:8080/",
          "height": 297
        },
        "id": "pozVsrcZfmbg",
        "outputId": "4c0d4549-5566-45d6-ede9-97f4f7ead8a4"
      },
      "outputs": [
        {
          "data": {
            "text/plain": [
              "<AxesSubplot:xlabel='apparent_temperature_min (°C)'>"
            ]
          },
          "execution_count": 30,
          "metadata": {},
          "output_type": "execute_result"
        },
        {
          "data": {
            "image/png": "[encoded data removed]",
            "text/plain": [
              "<Figure size 432x288 with 1 Axes>"
            ]
          },
          "metadata": {
            "needs_background": "light"
          },
          "output_type": "display_data"
        }
      ],
      "source": [
        "\n",
        "sns.boxplot(x=df['apparent_temperature_min (°C)'])"
      ]
    },
    {
      "cell_type": "code",
      "execution_count": 31,
      "metadata": {
        "colab": {
          "base_uri": "https://localhost:8080/",
          "height": 297
        },
        "id": "1UhKkhbufmbh",
        "outputId": "8bdd5232-0697-4d27-9ea3-b3f5ce9102bd"
      },
      "outputs": [
        {
          "data": {
            "text/plain": [
              "<AxesSubplot:xlabel='shortwave_radiation_sum (MJ/m²)'>"
            ]
          },
          "execution_count": 31,
          "metadata": {},
          "output_type": "execute_result"
        },
        {
          "data": {
            "image/png": "[encoded data removed]",
            "text/plain": [
              "<Figure size 432x288 with 1 Axes>"
            ]
          },
          "metadata": {
            "needs_background": "light"
          },
          "output_type": "display_data"
        }
      ],
      "source": [
        "\n",
        "sns.boxplot(x=df['shortwave_radiation_sum (MJ/m²)'])"
      ]
    },
    {
      "cell_type": "code",
      "execution_count": 32,
      "metadata": {
        "colab": {
          "base_uri": "https://localhost:8080/",
          "height": 297
        },
        "id": "gOf4ngllfmbi",
        "outputId": "ddec3ff2-30dd-4a55-863c-ddd80c41f4a3"
      },
      "outputs": [
        {
          "data": {
            "text/plain": [
              "<AxesSubplot:xlabel='rain_sum (mm)'>"
            ]
          },
          "execution_count": 32,
          "metadata": {},
          "output_type": "execute_result"
        },
        {
          "data": {
            "image/png": "[encoded data removed]",
            "text/plain": [
              "<Figure size 432x288 with 1 Axes>"
            ]
          },
          "metadata": {
            "needs_background": "light"
          },
          "output_type": "display_data"
        }
      ],
      "source": [
        "\n",
        "sns.boxplot(x=df['rain_sum (mm)'])"
      ]
    },
    {
      "cell_type": "code",
      "execution_count": 33,
      "metadata": {
        "colab": {
          "base_uri": "https://localhost:8080/",
          "height": 297
        },
        "id": "fZFS3Ubgfmbi",
        "outputId": "b30ba635-44ca-4053-d19c-42a8272c9429"
      },
      "outputs": [
        {
          "data": {
            "text/plain": [
              "<AxesSubplot:xlabel='windspeed_10m_max (km/h)'>"
            ]
          },
          "execution_count": 33,
          "metadata": {},
          "output_type": "execute_result"
        },
        {
          "data": {
            "image/png": "[encoded data removed]",
            "text/plain": [
              "<Figure size 432x288 with 1 Axes>"
            ]
          },
          "metadata": {
            "needs_background": "light"
          },
          "output_type": "display_data"
        }
      ],
      "source": [
        "\n",
        "sns.boxplot(x=df['windspeed_10m_max (km/h)'])"
      ]
    },
    {
      "cell_type": "code",
      "execution_count": 34,
      "metadata": {
        "colab": {
          "base_uri": "https://localhost:8080/",
          "height": 297
        },
        "id": "LhwIFRFyfmbj",
        "outputId": "c93c0c88-a54a-4f17-c23d-68c1d28b8a38"
      },
      "outputs": [
        {
          "data": {
            "text/plain": [
              "<AxesSubplot:xlabel='windgusts_10m_max (km/h)'>"
            ]
          },
          "execution_count": 34,
          "metadata": {},
          "output_type": "execute_result"
        },
        {
          "data": {
            "image/png": "[encoded data removed]",
            "text/plain": [
              "<Figure size 432x288 with 1 Axes>"
            ]
          },
          "metadata": {
            "needs_background": "light"
          },
          "output_type": "display_data"
        }
      ],
      "source": [
        "\n",
        "sns.boxplot(x=df['windgusts_10m_max (km/h)'])"
      ]
    },
    {
      "cell_type": "code",
      "execution_count": 35,
      "metadata": {
        "colab": {
          "base_uri": "https://localhost:8080/",
          "height": 297
        },
        "id": "MR9Oh2uHfmbj",
        "outputId": "9d513307-e1d6-4eb3-cea2-2ddbd489c4a8"
      },
      "outputs": [
        {
          "data": {
            "text/plain": [
              "<AxesSubplot:xlabel='winddirection_10m_dominant (°)'>"
            ]
          },
          "execution_count": 35,
          "metadata": {},
          "output_type": "execute_result"
        },
        {
          "data": {
            "image/png": "[encoded data removed]",
            "text/plain": [
              "<Figure size 432x288 with 1 Axes>"
            ]
          },
          "metadata": {
            "needs_background": "light"
          },
          "output_type": "display_data"
        }
      ],
      "source": [
        "\n",
        "sns.boxplot(x=df['winddirection_10m_dominant (°)'])"
      ]
    },
    {
      "cell_type": "code",
      "execution_count": 36,
      "metadata": {
        "colab": {
          "base_uri": "https://localhost:8080/",
          "height": 297
        },
        "id": "49pCRsmLfmbk",
        "outputId": "9f6f92e0-821f-4e17-f45d-f519e37228e7"
      },
      "outputs": [
        {
          "data": {
            "text/plain": [
              "<AxesSubplot:xlabel='et0_fao_evapotranspiration (mm)'>"
            ]
          },
          "execution_count": 36,
          "metadata": {},
          "output_type": "execute_result"
        },
        {
          "data": {
            "image/png": "[encoded data removed]",
            "text/plain": [
              "<Figure size 432x288 with 1 Axes>"
            ]
          },
          "metadata": {
            "needs_background": "light"
          },
          "output_type": "display_data"
        }
      ],
      "source": [
        "\n",
        "sns.boxplot(x=df['et0_fao_evapotranspiration (mm)'])"
      ]
    },
    {
      "cell_type": "code",
      "execution_count": 11,
      "metadata": {
        "colab": {
          "base_uri": "https://localhost:8080/"
        },
        "id": "DXAEyePafmbk",
        "outputId": "17b8c0ab-44c1-409f-e516-549ea797d92e"
      },
      "outputs": [
        {
          "data": {
            "text/plain": [
              "(10549, 10)"
            ]
          },
          "execution_count": 11,
          "metadata": {},
          "output_type": "execute_result"
        }
      ],
      "source": [
        "Q1 = df.quantile(0.25)\n",
        "Q3 = df.quantile(0.75)\n",
        "IQR = Q3-Q1\n",
        "df=df[~((df<(Q1-1.5*IQR))|(df>(Q3+1.5*IQR))).any(axis=1)]\n",
        "\n",
        "df.shape"
      ]
    },
    {
      "cell_type": "code",
      "execution_count": 38,
      "metadata": {
        "colab": {
          "base_uri": "https://localhost:8080/",
          "height": 879
        },
        "id": "6jY2gi_nfmbl",
        "outputId": "4b401b89-714c-4d3c-bed1-906f7ef5bec9"
      },
      "outputs": [
        {
          "data": {
            "image/png": "[encoded data removed]",
            "text/plain": [
              "<Figure size 1440x1080 with 12 Axes>"
            ]
          },
          "metadata": {
            "needs_background": "light"
          },
          "output_type": "display_data"
        }
      ],
      "source": [
        "import matplotlib.pyplot as plt\n",
        "\n",
        "df.hist(bins=50, figsize=(20,15))\n",
        "plt.show()"
      ]
    },
    {
      "cell_type": "code",
      "execution_count": 39,
      "metadata": {
        "colab": {
          "base_uri": "https://localhost:8080/",
          "height": 678
        },
        "id": "94FfX1DFfmbl",
        "outputId": "d3c9cfb5-c145-46c5-a269-1bf81595b92d"
      },
      "outputs": [
        {
          "data": {
            "text/plain": [
              "Text(0.5, 1.0, 'Correlation Matrix untuk Fitur Numerik ')"
            ]
          },
          "execution_count": 39,
          "metadata": {},
          "output_type": "execute_result"
        },
        {
          "data": {
            "image/png": "[encoded data removed]",
            "text/plain": [
              "<Figure size 720x576 with 2 Axes>"
            ]
          },
          "metadata": {
            "needs_background": "light"
          },
          "output_type": "display_data"
        }
      ],
      "source": [
        "plt.figure(figsize=(10, 8))\n",
        "correlation_matrix = df.corr().round(2)\n",
        "sns.heatmap(data=correlation_matrix, annot=True, cmap='coolwarm', linewidths=0.5, )\n",
        "plt.title(\"Correlation Matrix untuk Fitur Numerik \", size=20)"
      ]
    },
    {
      "cell_type": "code",
      "execution_count": 12,
      "metadata": {
        "id": "65gEWIZNfmbm"
      },
      "outputs": [],
      "source": [
        "from sklearn import preprocessing\n",
        "\n",
        "df_new = df\n",
        "X = df_new.drop(['rain_sum (mm)'], axis=1)\n",
        "X = X = preprocessing.scale(X)"
      ]
    },
    {
      "cell_type": "code",
      "execution_count": 13,
      "metadata": {
        "id": "bvR4gXUcfmbm"
      },
      "outputs": [],
      "source": [
        "y = df_new['rain_sum (mm)']"
      ]
    },
    {
      "cell_type": "code",
      "execution_count": 14,
      "metadata": {
        "id": "ivGHhj7hfmbn"
      },
      "outputs": [],
      "source": [
        "from sklearn.model_selection import train_test_split\n",
        "X_train, X_test, y_train, y_test = train_test_split(X, y, train_size = 0.8, test_size = 0.2, random_state = 100)"
      ]
    },
    {
      "cell_type": "code",
      "execution_count": 15,
      "metadata": {
        "id": "AT5lCLV8fmbn"
      },
      "outputs": [],
      "source": [
        "from sklearn.preprocessing import StandardScaler\n",
        "\n",
        "scaler = StandardScaler()\n",
        "scaler.fit(X_train)\n",
        "X_train = scaler.transform(X_train)"
      ]
    },
    {
      "cell_type": "code",
      "execution_count": 17,
      "metadata": {
        "id": "GmG6_C8Mfmbo"
      },
      "outputs": [],
      "source": [
        "import xgboost as xgb\n",
        "# Convert data to DMatrix format\n",
        "dtrain = xgb.DMatrix(X_train, label=y_train)\n",
        "dval = xgb.DMatrix(X_test, label=y_test)"
      ]
    },
    {
      "cell_type": "code",
      "execution_count": 56,
      "metadata": {
        "id": "xlB813wYfmbo"
      },
      "outputs": [],
      "source": [
        "from scipy.stats import uniform, randint\n",
        "params = {\n",
        "    'n_estimators': randint(100, 700),\n",
        "    'max_depth': randint(3, 10),\n",
        "    'learning_rate': uniform(0.01, 0.2)\n",
        "}"
      ]
    },
    {
      "cell_type": "code",
      "execution_count": null,
      "metadata": {
        "id": "fL00akGViCKf"
      },
      "outputs": [],
      "source": [
        "# import numpy as np\n",
        "# from sklearn.metrics import mean_squared_error\n",
        "\n",
        "# def rmse(y_test, y_pred):\n",
        "#     return np.sqrt(mean_squared_error(y_test, y_pred))"
      ]
    },
    {
      "cell_type": "code",
      "execution_count": 58,
      "metadata": {
        "colab": {
          "base_uri": "https://localhost:8080/"
        },
        "collapsed": true,
        "id": "0o3L_TPIfmbo",
        "outputId": "ab17a9a9-1299-4e6d-da0a-cb7a6cc2288a"
      },
      "outputs": [
        {
          "data": {
            "text/html": [
              "<style>#sk-container-id-7 {color: black;background-color: white;}#sk-container-id-7 pre{padding: 0;}#sk-container-id-7 div.sk-toggleable {background-color: white;}#sk-container-id-7 label.sk-toggleable__label {cursor: pointer;display: block;width: 100%;margin-bottom: 0;padding: 0.3em;box-sizing: border-box;text-align: center;}#sk-container-id-7 label.sk-toggleable__label-arrow:before {content: \"▸\";float: left;margin-right: 0.25em;color: #696969;}#sk-container-id-7 label.sk-toggleable__label-arrow:hover:before {color: black;}#sk-container-id-7 div.sk-estimator:hover label.sk-toggleable__label-arrow:before {color: black;}#sk-container-id-7 div.sk-toggleable__content {max-height: 0;max-width: 0;overflow: hidden;text-align: left;background-color: #f0f8ff;}#sk-container-id-7 div.sk-toggleable__content pre {margin: 0.2em;color: black;border-radius: 0.25em;background-color: #f0f8ff;}#sk-container-id-7 input.sk-toggleable__control:checked~div.sk-toggleable__content {max-height: 200px;max-width: 100%;overflow: auto;}#sk-container-id-7 input.sk-toggleable__control:checked~label.sk-toggleable__label-arrow:before {content: \"▾\";}#sk-container-id-7 div.sk-estimator input.sk-toggleable__control:checked~label.sk-toggleable__label {background-color: #d4ebff;}#sk-container-id-7 div.sk-label input.sk-toggleable__control:checked~label.sk-toggleable__label {background-color: #d4ebff;}#sk-container-id-7 input.sk-hidden--visually {border: 0;clip: rect(1px 1px 1px 1px);clip: rect(1px, 1px, 1px, 1px);height: 1px;margin: -1px;overflow: hidden;padding: 0;position: absolute;width: 1px;}#sk-container-id-7 div.sk-estimator {font-family: monospace;background-color: #f0f8ff;border: 1px dotted black;border-radius: 0.25em;box-sizing: border-box;margin-bottom: 0.5em;}#sk-container-id-7 div.sk-estimator:hover {background-color: #d4ebff;}#sk-container-id-7 div.sk-parallel-item::after {content: \"\";width: 100%;border-bottom: 1px solid gray;flex-grow: 1;}#sk-container-id-7 div.sk-label:hover label.sk-toggleable__label {background-color: #d4ebff;}#sk-container-id-7 div.sk-serial::before {content: \"\";position: absolute;border-left: 1px solid gray;box-sizing: border-box;top: 0;bottom: 0;left: 50%;z-index: 0;}#sk-container-id-7 div.sk-serial {display: flex;flex-direction: column;align-items: center;background-color: white;padding-right: 0.2em;padding-left: 0.2em;position: relative;}#sk-container-id-7 div.sk-item {position: relative;z-index: 1;}#sk-container-id-7 div.sk-parallel {display: flex;align-items: stretch;justify-content: center;background-color: white;position: relative;}#sk-container-id-7 div.sk-item::before, #sk-container-id-7 div.sk-parallel-item::before {content: \"\";position: absolute;border-left: 1px solid gray;box-sizing: border-box;top: 0;bottom: 0;left: 50%;z-index: -1;}#sk-container-id-7 div.sk-parallel-item {display: flex;flex-direction: column;z-index: 1;position: relative;background-color: white;}#sk-container-id-7 div.sk-parallel-item:first-child::after {align-self: flex-end;width: 50%;}#sk-container-id-7 div.sk-parallel-item:last-child::after {align-self: flex-start;width: 50%;}#sk-container-id-7 div.sk-parallel-item:only-child::after {width: 0;}#sk-container-id-7 div.sk-dashed-wrapped {border: 1px dashed gray;margin: 0 0.4em 0.5em 0.4em;box-sizing: border-box;padding-bottom: 0.4em;background-color: white;}#sk-container-id-7 div.sk-label label {font-family: monospace;font-weight: bold;display: inline-block;line-height: 1.2em;}#sk-container-id-7 div.sk-label-container {text-align: center;}#sk-container-id-7 div.sk-container {/* jupyter's `normalize.less` sets `[hidden] { display: none; }` but bootstrap.min.css set `[hidden] { display: none !important; }` so we also need the `!important` here to be able to override the default hidden behavior on the sphinx rendered scikit-learn.org. See: https://github.com/scikit-learn/scikit-learn/issues/21755 */display: inline-block !important;position: relative;}#sk-container-id-7 div.sk-text-repr-fallback {display: none;}</style><div id=\"sk-container-id-7\" class=\"sk-top-container\"><div class=\"sk-text-repr-fallback\"><pre>RandomizedSearchCV(cv=10,\n",
              "                   estimator=XGBRegressor(base_score=None, booster=None,\n",
              "                                          callbacks=None,\n",
              "                                          colsample_bylevel=None,\n",
              "                                          colsample_bynode=None,\n",
              "                                          colsample_bytree=None,\n",
              "                                          early_stopping_rounds=None,\n",
              "                                          enable_categorical=False,\n",
              "                                          eval_metric=None, feature_types=None,\n",
              "                                          gamma=None, gpu_id=None,\n",
              "                                          grow_policy=None,\n",
              "                                          importance_type=None,\n",
              "                                          interaction_constraints=None,\n",
              "                                          learning_rate...\n",
              "                                          predictor=None, random_state=None, ...),\n",
              "                   n_iter=20, n_jobs=-1,\n",
              "                   param_distributions={&#x27;learning_rate&#x27;: &lt;scipy.stats._distn_infrastructure.rv_frozen object at 0x7f0028937640&gt;,\n",
              "                                        &#x27;max_depth&#x27;: &lt;scipy.stats._distn_infrastructure.rv_frozen object at 0x7f0028937d60&gt;,\n",
              "                                        &#x27;n_estimators&#x27;: &lt;scipy.stats._distn_infrastructure.rv_frozen object at 0x7f0028bdf1c0&gt;},\n",
              "                   scoring=&#x27;neg_mean_squared_error&#x27;)</pre><b>In a Jupyter environment, please rerun this cell to show the HTML representation or trust the notebook. <br />On GitHub, the HTML representation is unable to render, please try loading this page with nbviewer.org.</b></div><div class=\"sk-container\" hidden><div class=\"sk-item sk-dashed-wrapped\"><div class=\"sk-label-container\"><div class=\"sk-label sk-toggleable\"><input class=\"sk-toggleable__control sk-hidden--visually\" id=\"sk-estimator-id-19\" type=\"checkbox\" ><label for=\"sk-estimator-id-19\" class=\"sk-toggleable__label sk-toggleable__label-arrow\">RandomizedSearchCV</label><div class=\"sk-toggleable__content\"><pre>RandomizedSearchCV(cv=10,\n",
              "                   estimator=XGBRegressor(base_score=None, booster=None,\n",
              "                                          callbacks=None,\n",
              "                                          colsample_bylevel=None,\n",
              "                                          colsample_bynode=None,\n",
              "                                          colsample_bytree=None,\n",
              "                                          early_stopping_rounds=None,\n",
              "                                          enable_categorical=False,\n",
              "                                          eval_metric=None, feature_types=None,\n",
              "                                          gamma=None, gpu_id=None,\n",
              "                                          grow_policy=None,\n",
              "                                          importance_type=None,\n",
              "                                          interaction_constraints=None,\n",
              "                                          learning_rate...\n",
              "                                          predictor=None, random_state=None, ...),\n",
              "                   n_iter=20, n_jobs=-1,\n",
              "                   param_distributions={&#x27;learning_rate&#x27;: &lt;scipy.stats._distn_infrastructure.rv_frozen object at 0x7f0028937640&gt;,\n",
              "                                        &#x27;max_depth&#x27;: &lt;scipy.stats._distn_infrastructure.rv_frozen object at 0x7f0028937d60&gt;,\n",
              "                                        &#x27;n_estimators&#x27;: &lt;scipy.stats._distn_infrastructure.rv_frozen object at 0x7f0028bdf1c0&gt;},\n",
              "                   scoring=&#x27;neg_mean_squared_error&#x27;)</pre></div></div></div><div class=\"sk-parallel\"><div class=\"sk-parallel-item\"><div class=\"sk-item\"><div class=\"sk-label-container\"><div class=\"sk-label sk-toggleable\"><input class=\"sk-toggleable__control sk-hidden--visually\" id=\"sk-estimator-id-20\" type=\"checkbox\" ><label for=\"sk-estimator-id-20\" class=\"sk-toggleable__label sk-toggleable__label-arrow\">estimator: XGBRegressor</label><div class=\"sk-toggleable__content\"><pre>XGBRegressor(base_score=None, booster=None, callbacks=None,\n",
              "             colsample_bylevel=None, colsample_bynode=None,\n",
              "             colsample_bytree=None, early_stopping_rounds=None,\n",
              "             enable_categorical=False, eval_metric=None, feature_types=None,\n",
              "             gamma=None, gpu_id=None, grow_policy=None, importance_type=None,\n",
              "             interaction_constraints=None, learning_rate=None, max_bin=None,\n",
              "             max_cat_threshold=None, max_cat_to_onehot=None,\n",
              "             max_delta_step=None, max_depth=None, max_leaves=None,\n",
              "             min_child_weight=None, missing=nan, monotone_constraints=None,\n",
              "             n_estimators=100, n_jobs=None, num_parallel_tree=None,\n",
              "             predictor=None, random_state=None, ...)</pre></div></div></div><div class=\"sk-serial\"><div class=\"sk-item\"><div class=\"sk-estimator sk-toggleable\"><input class=\"sk-toggleable__control sk-hidden--visually\" id=\"sk-estimator-id-21\" type=\"checkbox\" ><label for=\"sk-estimator-id-21\" class=\"sk-toggleable__label sk-toggleable__label-arrow\">XGBRegressor</label><div class=\"sk-toggleable__content\"><pre>XGBRegressor(base_score=None, booster=None, callbacks=None,\n",
              "             colsample_bylevel=None, colsample_bynode=None,\n",
              "             colsample_bytree=None, early_stopping_rounds=None,\n",
              "             enable_categorical=False, eval_metric=None, feature_types=None,\n",
              "             gamma=None, gpu_id=None, grow_policy=None, importance_type=None,\n",
              "             interaction_constraints=None, learning_rate=None, max_bin=None,\n",
              "             max_cat_threshold=None, max_cat_to_onehot=None,\n",
              "             max_delta_step=None, max_depth=None, max_leaves=None,\n",
              "             min_child_weight=None, missing=nan, monotone_constraints=None,\n",
              "             n_estimators=100, n_jobs=None, num_parallel_tree=None,\n",
              "             predictor=None, random_state=None, ...)</pre></div></div></div></div></div></div></div></div></div></div>"
            ],
            "text/plain": [
              "RandomizedSearchCV(cv=10,\n",
              "                   estimator=XGBRegressor(base_score=None, booster=None,\n",
              "                                          callbacks=None,\n",
              "                                          colsample_bylevel=None,\n",
              "                                          colsample_bynode=None,\n",
              "                                          colsample_bytree=None,\n",
              "                                          early_stopping_rounds=None,\n",
              "                                          enable_categorical=False,\n",
              "                                          eval_metric=None, feature_types=None,\n",
              "                                          gamma=None, gpu_id=None,\n",
              "                                          grow_policy=None,\n",
              "                                          importance_type=None,\n",
              "                                          interaction_constraints=None,\n",
              "                                          learning_rate...\n",
              "                                          predictor=None, random_state=None, ...),\n",
              "                   n_iter=20, n_jobs=-1,\n",
              "                   param_distributions={'learning_rate': <scipy.stats._distn_infrastructure.rv_frozen object at 0x7f0028937640>,\n",
              "                                        'max_depth': <scipy.stats._distn_infrastructure.rv_frozen object at 0x7f0028937d60>,\n",
              "                                        'n_estimators': <scipy.stats._distn_infrastructure.rv_frozen object at 0x7f0028bdf1c0>},\n",
              "                   scoring='neg_mean_squared_error')"
            ]
          },
          "execution_count": 58,
          "metadata": {},
          "output_type": "execute_result"
        }
      ],
      "source": [
        "from sklearn.model_selection import RandomizedSearchCV\n",
        "from sklearn.metrics import make_scorer\n",
        "from xgboost import XGBRegressor\n",
        "\n",
        "# Define the XGBoost model\n",
        "xgb_model = XGBRegressor()\n",
        "\n",
        "# Perform random search\n",
        "search = RandomizedSearchCV(\n",
        "    xgb_model, param_distributions=params, \n",
        "    n_iter=20, \n",
        "    cv=10, \n",
        "    scoring='neg_mean_squared_error', \n",
        "    n_jobs=-1\n",
        "    )\n",
        "search.fit(X_train, y_train)\n"
      ]
    },
    {
      "cell_type": "code",
      "execution_count": 59,
      "metadata": {
        "colab": {
          "base_uri": "https://localhost:8080/"
        },
        "id": "zieiIE-2Madr",
        "outputId": "c0bd4d03-5068-46a6-e05a-522b4ec6768b"
      },
      "outputs": [
        {
          "name": "stdout",
          "output_type": "stream",
          "text": [
            "Best hyperparameters:  {'learning_rate': 0.017335786485210117, 'max_depth': 7, 'n_estimators': 465}\n",
            "RMSE:  3.679406525049878\n"
          ]
        }
      ],
      "source": [
        "import numpy as np\n",
        "# Print the best hyperparameters and mean squared error\n",
        "print(\"Best hyperparameters: \", search.best_params_)\n",
        "print(\"RMSE: \", np.sqrt(-search.best_score_))\n"
      ]
    },
    {
      "cell_type": "code",
      "execution_count": 60,
      "metadata": {
        "colab": {
          "base_uri": "https://localhost:8080/"
        },
        "id": "MNdxb-kqfmbp",
        "outputId": "8e7f092e-1c72-423e-c5ac-d2f4490cbb06"
      },
      "outputs": [
        {
          "name": "stdout",
          "output_type": "stream",
          "text": [
            "test RMSE:  3.6723188209598048\n"
          ]
        }
      ],
      "source": [
        "from sklearn.metrics import mean_squared_error\n",
        "import numpy as np\n",
        "\n",
        "\n",
        "# Train and evaluate the model with best hyperparameters on the validation set\n",
        "best_xgb_model = xgb.XGBRegressor(**search.best_params_)\n",
        "best_xgb_model.fit(X_train, y_train)\n",
        "y_pred = best_xgb_model.predict(X_test)\n",
        "mse = mean_squared_error(y_test, y_pred)\n",
        "print(\"test RMSE: \", np.sqrt(mse))"
      ]
    },
    {
      "cell_type": "code",
      "execution_count": 61,
      "metadata": {
        "colab": {
          "base_uri": "https://localhost:8080/",
          "height": 455
        },
        "id": "FkI_UImVOeJB",
        "outputId": "9acf2235-a1a4-4cfc-e55c-5407c8e134aa"
      },
      "outputs": [
        {
          "data": {
            "text/html": [
              "<div>\n",
              "<style scoped>\n",
              "    .dataframe tbody tr th:only-of-type {\n",
              "        vertical-align: middle;\n",
              "    }\n",
              "\n",
              "    .dataframe tbody tr th {\n",
              "        vertical-align: top;\n",
              "    }\n",
              "\n",
              "    .dataframe thead th {\n",
              "        text-align: right;\n",
              "    }\n",
              "</style>\n",
              "<table border=\"1\" class=\"dataframe\">\n",
              "  <thead>\n",
              "    <tr style=\"text-align: right;\">\n",
              "      <th></th>\n",
              "      <th>y_actual</th>\n",
              "      <th>pred</th>\n",
              "    </tr>\n",
              "    <tr>\n",
              "      <th>time</th>\n",
              "      <th></th>\n",
              "      <th></th>\n",
              "    </tr>\n",
              "  </thead>\n",
              "  <tbody>\n",
              "    <tr>\n",
              "      <th>2019-04-01</th>\n",
              "      <td>7.3</td>\n",
              "      <td>11.037562</td>\n",
              "    </tr>\n",
              "    <tr>\n",
              "      <th>2020-02-21</th>\n",
              "      <td>16.2</td>\n",
              "      <td>10.379108</td>\n",
              "    </tr>\n",
              "    <tr>\n",
              "      <th>2018-12-12</th>\n",
              "      <td>9.3</td>\n",
              "      <td>9.539917</td>\n",
              "    </tr>\n",
              "    <tr>\n",
              "      <th>2019-09-10</th>\n",
              "      <td>0.0</td>\n",
              "      <td>0.034123</td>\n",
              "    </tr>\n",
              "    <tr>\n",
              "      <th>2020-12-27</th>\n",
              "      <td>19.7</td>\n",
              "      <td>15.219112</td>\n",
              "    </tr>\n",
              "    <tr>\n",
              "      <th>...</th>\n",
              "      <td>...</td>\n",
              "      <td>...</td>\n",
              "    </tr>\n",
              "    <tr>\n",
              "      <th>2019-01-27</th>\n",
              "      <td>5.4</td>\n",
              "      <td>8.973228</td>\n",
              "    </tr>\n",
              "    <tr>\n",
              "      <th>2018-10-24</th>\n",
              "      <td>3.3</td>\n",
              "      <td>5.524130</td>\n",
              "    </tr>\n",
              "    <tr>\n",
              "      <th>2021-02-22</th>\n",
              "      <td>6.3</td>\n",
              "      <td>7.496673</td>\n",
              "    </tr>\n",
              "    <tr>\n",
              "      <th>2019-07-06</th>\n",
              "      <td>0.0</td>\n",
              "      <td>0.295204</td>\n",
              "    </tr>\n",
              "    <tr>\n",
              "      <th>2020-01-23</th>\n",
              "      <td>9.9</td>\n",
              "      <td>6.249443</td>\n",
              "    </tr>\n",
              "  </tbody>\n",
              "</table>\n",
              "<p>2110 rows × 2 columns</p>\n",
              "</div>"
            ],
            "text/plain": [
              "            y_actual       pred\n",
              "time                           \n",
              "2019-04-01       7.3  11.037562\n",
              "2020-02-21      16.2  10.379108\n",
              "2018-12-12       9.3   9.539917\n",
              "2019-09-10       0.0   0.034123\n",
              "2020-12-27      19.7  15.219112\n",
              "...              ...        ...\n",
              "2019-01-27       5.4   8.973228\n",
              "2018-10-24       3.3   5.524130\n",
              "2021-02-22       6.3   7.496673\n",
              "2019-07-06       0.0   0.295204\n",
              "2020-01-23       9.9   6.249443\n",
              "\n",
              "[2110 rows x 2 columns]"
            ]
          },
          "execution_count": 61,
          "metadata": {},
          "output_type": "execute_result"
        }
      ],
      "source": [
        "pred_dict = {'y_actual' :y_test}\n",
        "data_baru = pd.DataFrame(pred_dict)\n",
        "data_baru['pred'] = y_pred\n",
        "data_baru"
      ]
    },
    {
      "cell_type": "code",
      "execution_count": 62,
      "metadata": {
        "colab": {
          "base_uri": "https://localhost:8080/",
          "height": 368
        },
        "id": "WhLs-v_bWI8N",
        "outputId": "6c6cbd51-21f5-446b-b3fb-d78a0337a659"
      },
      "outputs": [
        {
          "data": {
            "text/plain": [
              "<AxesSubplot:xlabel='time'>"
            ]
          },
          "execution_count": 62,
          "metadata": {},
          "output_type": "execute_result"
        },
        {
          "data": {
            "image/png": "[encoded data removed]",
            "text/plain": [
              "<Figure size 1728x432 with 1 Axes>"
            ]
          },
          "metadata": {
            "needs_background": "light"
          },
          "output_type": "display_data"
        }
      ],
      "source": [
        "data_baru.iloc[1:100].plot.line(figsize=(24,6),lw=1)"
      ]
    },
    {
      "cell_type": "code",
      "execution_count": 63,
      "metadata": {
        "colab": {
          "base_uri": "https://localhost:8080/"
        },
        "id": "wFREBkx_lEu6",
        "outputId": "c3660d91-c86b-4e4c-fa81-594287d43be7"
      },
      "outputs": [
        {
          "name": "stdout",
          "output_type": "stream",
          "text": [
            "<class 'pandas.core.frame.DataFrame'>\n",
            "RangeIndex: 20 entries, 0 to 19\n",
            "Data columns (total 21 columns):\n",
            " #   Column               Non-Null Count  Dtype  \n",
            "---  ------               --------------  -----  \n",
            " 0   mean_fit_time        20 non-null     float64\n",
            " 1   std_fit_time         20 non-null     float64\n",
            " 2   mean_score_time      20 non-null     float64\n",
            " 3   std_score_time       20 non-null     float64\n",
            " 4   param_learning_rate  20 non-null     object \n",
            " 5   param_max_depth      20 non-null     object \n",
            " 6   param_n_estimators   20 non-null     object \n",
            " 7   params               20 non-null     object \n",
            " 8   split0_test_score    20 non-null     float64\n",
            " 9   split1_test_score    20 non-null     float64\n",
            " 10  split2_test_score    20 non-null     float64\n",
            " 11  split3_test_score    20 non-null     float64\n",
            " 12  split4_test_score    20 non-null     float64\n",
            " 13  split5_test_score    20 non-null     float64\n",
            " 14  split6_test_score    20 non-null     float64\n",
            " 15  split7_test_score    20 non-null     float64\n",
            " 16  split8_test_score    20 non-null     float64\n",
            " 17  split9_test_score    20 non-null     float64\n",
            " 18  mean_test_score      20 non-null     float64\n",
            " 19  std_test_score       20 non-null     float64\n",
            " 20  rank_test_score      20 non-null     int32  \n",
            "dtypes: float64(16), int32(1), object(4)\n",
            "memory usage: 3.3+ KB\n"
          ]
        }
      ],
      "source": [
        "import pandas as pd\n",
        "\n",
        "params_key = [f\"param_{p}\" for p in params.keys()]\n",
        "params_values = [v for v in params.values()]\n",
        "RMSE = []\n",
        "results=search.cv_results_\n",
        "for mean_score in results[\"mean_test_score\"]:\n",
        "    RMSE.append((np.sqrt(-mean_score)))\n",
        "\n",
        "df_result = pd.DataFrame(results)\n",
        "df_result.info()"
      ]
    },
    {
      "cell_type": "code",
      "execution_count": 64,
      "metadata": {
        "id": "8xyqrxo3jWHX"
      },
      "outputs": [],
      "source": [
        "root_mean_square_error = {}\n",
        "root_mean_square_error['root_mean_square_error'] = RMSE\n",
        "results = search.cv_results_\n",
        "results['root_mean_square_error'] = RMSE"
      ]
    },
    {
      "cell_type": "code",
      "execution_count": 65,
      "metadata": {
        "colab": {
          "base_uri": "https://localhost:8080/",
          "height": 542
        },
        "id": "CQRf1qtwKZxP",
        "outputId": "95f36a76-0652-4004-dbb5-1cdfd572299f"
      },
      "outputs": [
        {
          "data": {
            "application/vnd.plotly.v1+json": {
              "config": {
                "plotlyServerURL": "https://plot.ly"
              },
              "data": [
                {
                  "hovertemplate": "param_n_estimators=%{x}<br>param_max_depth=%{y}<br>param_learning_rate=%{z}<br>root_mean_square_error=%{marker.color}<extra></extra>",
                  "legendgroup": "",
                  "marker": {
                    "color": [
                      3.7750841239476864,
                      3.8375027674616504,
                      3.7379954603466787,
                      3.808503282733303,
                      3.6869220536921965,
                      3.679406525049878,
                      3.681055709181678,
                      3.7835913670132486,
                      3.7587544328783298,
                      3.7481909539374665,
                      3.7958335431041372,
                      3.721994167116835,
                      3.695060642633627,
                      3.6959113275984348,
                      3.7521416369825578,
                      3.8686354603320794,
                      3.6993693535343573,
                      3.7530317940829803,
                      3.747629977446466,
                      3.752506539855263
                    ],
                    "coloraxis": "coloraxis",
                    "symbol": "circle"
                  },
                  "mode": "markers",
                  "name": "",
                  "scene": "scene",
                  "showlegend": false,
                  "type": "scatter3d",
                  "x": [
                    196,
                    153,
                    227,
                    644,
                    259,
                    465,
                    254,
                    426,
                    596,
                    511,
                    182,
                    309,
                    563,
                    632,
                    288,
                    558,
                    179,
                    656,
                    501,
                    343
                  ],
                  "y": [
                    3,
                    9,
                    8,
                    6,
                    7,
                    7,
                    7,
                    8,
                    4,
                    7,
                    9,
                    4,
                    5,
                    8,
                    8,
                    5,
                    7,
                    9,
                    5,
                    5
                  ],
                  "z": [
                    0.08589081414728192,
                    0.19590785619726186,
                    0.06693392270188885,
                    0.11531508163988512,
                    0.041723738468372934,
                    0.017335786485210117,
                    0.02625348663304522,
                    0.10314192740913124,
                    0.13683279843445825,
                    0.08200559565074907,
                    0.12904868482145831,
                    0.08870660248626781,
                    0.019471389184343428,
                    0.010789090605886833,
                    0.08776891730057533,
                    0.20039584300032326,
                    0.08215156667210127,
                    0.034643869336805445,
                    0.11388038015182698,
                    0.13992175032978407
                  ]
                }
              ],
              "layout": {
                "coloraxis": {
                  "colorbar": {
                    "title": {
                      "text": "RMSE"
                    }
                  },
                  "colorscale": [
                    [
                      0,
                      "#0d0887"
                    ],
                    [
                      0.1111111111111111,
                      "#46039f"
                    ],
                    [
                      0.2222222222222222,
                      "#7201a8"
                    ],
                    [
                      0.3333333333333333,
                      "#9c179e"
                    ],
                    [
                      0.4444444444444444,
                      "#bd3786"
                    ],
                    [
                      0.5555555555555556,
                      "#d8576b"
                    ],
                    [
                      0.6666666666666666,
                      "#ed7953"
                    ],
                    [
                      0.7777777777777778,
                      "#fb9f3a"
                    ],
                    [
                      0.8888888888888888,
                      "#fdca26"
                    ],
                    [
                      1,
                      "#f0f921"
                    ]
                  ]
                },
                "legend": {
                  "tracegroupgap": 0
                },
                "margin": {
                  "t": 60
                },
                "scene": {
                  "domain": {
                    "x": [
                      0,
                      1
                    ],
                    "y": [
                      0,
                      1
                    ]
                  },
                  "xaxis": {
                    "title": {
                      "text": "param_n_estimators"
                    }
                  },
                  "yaxis": {
                    "title": {
                      "text": "param_max_depth"
                    }
                  },
                  "zaxis": {
                    "title": {
                      "text": "param_learning_rate"
                    }
                  }
                },
                "template": {
                  "data": {
                    "bar": [
                      {
                        "error_x": {
                          "color": "#2a3f5f"
                        },
                        "error_y": {
                          "color": "#2a3f5f"
                        },
                        "marker": {
                          "line": {
                            "color": "#E5ECF6",
                            "width": 0.5
                          },
                          "pattern": {
                            "fillmode": "overlay",
                            "size": 10,
                            "solidity": 0.2
                          }
                        },
                        "type": "bar"
                      }
                    ],
                    "barpolar": [
                      {
                        "marker": {
                          "line": {
                            "color": "#E5ECF6",
                            "width": 0.5
                          },
                          "pattern": {
                            "fillmode": "overlay",
                            "size": 10,
                            "solidity": 0.2
                          }
                        },
                        "type": "barpolar"
                      }
                    ],
                    "carpet": [
                      {
                        "aaxis": {
                          "endlinecolor": "#2a3f5f",
                          "gridcolor": "white",
                          "linecolor": "white",
                          "minorgridcolor": "white",
                          "startlinecolor": "#2a3f5f"
                        },
                        "baxis": {
                          "endlinecolor": "#2a3f5f",
                          "gridcolor": "white",
                          "linecolor": "white",
                          "minorgridcolor": "white",
                          "startlinecolor": "#2a3f5f"
                        },
                        "type": "carpet"
                      }
                    ],
                    "choropleth": [
                      {
                        "colorbar": {
                          "outlinewidth": 0,
                          "ticks": ""
                        },
                        "type": "choropleth"
                      }
                    ],
                    "contour": [
                      {
                        "colorbar": {
                          "outlinewidth": 0,
                          "ticks": ""
                        },
                        "colorscale": [
                          [
                            0,
                            "#0d0887"
                          ],
                          [
                            0.1111111111111111,
                            "#46039f"
                          ],
                          [
                            0.2222222222222222,
                            "#7201a8"
                          ],
                          [
                            0.3333333333333333,
                            "#9c179e"
                          ],
                          [
                            0.4444444444444444,
                            "#bd3786"
                          ],
                          [
                            0.5555555555555556,
                            "#d8576b"
                          ],
                          [
                            0.6666666666666666,
                            "#ed7953"
                          ],
                          [
                            0.7777777777777778,
                            "#fb9f3a"
                          ],
                          [
                            0.8888888888888888,
                            "#fdca26"
                          ],
                          [
                            1,
                            "#f0f921"
                          ]
                        ],
                        "type": "contour"
                      }
                    ],
                    "contourcarpet": [
                      {
                        "colorbar": {
                          "outlinewidth": 0,
                          "ticks": ""
                        },
                        "type": "contourcarpet"
                      }
                    ],
                    "heatmap": [
                      {
                        "colorbar": {
                          "outlinewidth": 0,
                          "ticks": ""
                        },
                        "colorscale": [
                          [
                            0,
                            "#0d0887"
                          ],
                          [
                            0.1111111111111111,
                            "#46039f"
                          ],
                          [
                            0.2222222222222222,
                            "#7201a8"
                          ],
                          [
                            0.3333333333333333,
                            "#9c179e"
                          ],
                          [
                            0.4444444444444444,
                            "#bd3786"
                          ],
                          [
                            0.5555555555555556,
                            "#d8576b"
                          ],
                          [
                            0.6666666666666666,
                            "#ed7953"
                          ],
                          [
                            0.7777777777777778,
                            "#fb9f3a"
                          ],
                          [
                            0.8888888888888888,
                            "#fdca26"
                          ],
                          [
                            1,
                            "#f0f921"
                          ]
                        ],
                        "type": "heatmap"
                      }
                    ],
                    "heatmapgl": [
                      {
                        "colorbar": {
                          "outlinewidth": 0,
                          "ticks": ""
                        },
                        "colorscale": [
                          [
                            0,
                            "#0d0887"
                          ],
                          [
                            0.1111111111111111,
                            "#46039f"
                          ],
                          [
                            0.2222222222222222,
                            "#7201a8"
                          ],
                          [
                            0.3333333333333333,
                            "#9c179e"
                          ],
                          [
                            0.4444444444444444,
                            "#bd3786"
                          ],
                          [
                            0.5555555555555556,
                            "#d8576b"
                          ],
                          [
                            0.6666666666666666,
                            "#ed7953"
                          ],
                          [
                            0.7777777777777778,
                            "#fb9f3a"
                          ],
                          [
                            0.8888888888888888,
                            "#fdca26"
                          ],
                          [
                            1,
                            "#f0f921"
                          ]
                        ],
                        "type": "heatmapgl"
                      }
                    ],
                    "histogram": [
                      {
                        "marker": {
                          "pattern": {
                            "fillmode": "overlay",
                            "size": 10,
                            "solidity": 0.2
                          }
                        },
                        "type": "histogram"
                      }
                    ],
                    "histogram2d": [
                      {
                        "colorbar": {
                          "outlinewidth": 0,
                          "ticks": ""
                        },
                        "colorscale": [
                          [
                            0,
                            "#0d0887"
                          ],
                          [
                            0.1111111111111111,
                            "#46039f"
                          ],
                          [
                            0.2222222222222222,
                            "#7201a8"
                          ],
                          [
                            0.3333333333333333,
                            "#9c179e"
                          ],
                          [
                            0.4444444444444444,
                            "#bd3786"
                          ],
                          [
                            0.5555555555555556,
                            "#d8576b"
                          ],
                          [
                            0.6666666666666666,
                            "#ed7953"
                          ],
                          [
                            0.7777777777777778,
                            "#fb9f3a"
                          ],
                          [
                            0.8888888888888888,
                            "#fdca26"
                          ],
                          [
                            1,
                            "#f0f921"
                          ]
                        ],
                        "type": "histogram2d"
                      }
                    ],
                    "histogram2dcontour": [
                      {
                        "colorbar": {
                          "outlinewidth": 0,
                          "ticks": ""
                        },
                        "colorscale": [
                          [
                            0,
                            "#0d0887"
                          ],
                          [
                            0.1111111111111111,
                            "#46039f"
                          ],
                          [
                            0.2222222222222222,
                            "#7201a8"
                          ],
                          [
                            0.3333333333333333,
                            "#9c179e"
                          ],
                          [
                            0.4444444444444444,
                            "#bd3786"
                          ],
                          [
                            0.5555555555555556,
                            "#d8576b"
                          ],
                          [
                            0.6666666666666666,
                            "#ed7953"
                          ],
                          [
                            0.7777777777777778,
                            "#fb9f3a"
                          ],
                          [
                            0.8888888888888888,
                            "#fdca26"
                          ],
                          [
                            1,
                            "#f0f921"
                          ]
                        ],
                        "type": "histogram2dcontour"
                      }
                    ],
                    "mesh3d": [
                      {
                        "colorbar": {
                          "outlinewidth": 0,
                          "ticks": ""
                        },
                        "type": "mesh3d"
                      }
                    ],
                    "parcoords": [
                      {
                        "line": {
                          "colorbar": {
                            "outlinewidth": 0,
                            "ticks": ""
                          }
                        },
                        "type": "parcoords"
                      }
                    ],
                    "pie": [
                      {
                        "automargin": true,
                        "type": "pie"
                      }
                    ],
                    "scatter": [
                      {
                        "fillpattern": {
                          "fillmode": "overlay",
                          "size": 10,
                          "solidity": 0.2
                        },
                        "type": "scatter"
                      }
                    ],
                    "scatter3d": [
                      {
                        "line": {
                          "colorbar": {
                            "outlinewidth": 0,
                            "ticks": ""
                          }
                        },
                        "marker": {
                          "colorbar": {
                            "outlinewidth": 0,
                            "ticks": ""
                          }
                        },
                        "type": "scatter3d"
                      }
                    ],
                    "scattercarpet": [
                      {
                        "marker": {
                          "colorbar": {
                            "outlinewidth": 0,
                            "ticks": ""
                          }
                        },
                        "type": "scattercarpet"
                      }
                    ],
                    "scattergeo": [
                      {
                        "marker": {
                          "colorbar": {
                            "outlinewidth": 0,
                            "ticks": ""
                          }
                        },
                        "type": "scattergeo"
                      }
                    ],
                    "scattergl": [
                      {
                        "marker": {
                          "colorbar": {
                            "outlinewidth": 0,
                            "ticks": ""
                          }
                        },
                        "type": "scattergl"
                      }
                    ],
                    "scattermapbox": [
                      {
                        "marker": {
                          "colorbar": {
                            "outlinewidth": 0,
                            "ticks": ""
                          }
                        },
                        "type": "scattermapbox"
                      }
                    ],
                    "scatterpolar": [
                      {
                        "marker": {
                          "colorbar": {
                            "outlinewidth": 0,
                            "ticks": ""
                          }
                        },
                        "type": "scatterpolar"
                      }
                    ],
                    "scatterpolargl": [
                      {
                        "marker": {
                          "colorbar": {
                            "outlinewidth": 0,
                            "ticks": ""
                          }
                        },
                        "type": "scatterpolargl"
                      }
                    ],
                    "scatterternary": [
                      {
                        "marker": {
                          "colorbar": {
                            "outlinewidth": 0,
                            "ticks": ""
                          }
                        },
                        "type": "scatterternary"
                      }
                    ],
                    "surface": [
                      {
                        "colorbar": {
                          "outlinewidth": 0,
                          "ticks": ""
                        },
                        "colorscale": [
                          [
                            0,
                            "#0d0887"
                          ],
                          [
                            0.1111111111111111,
                            "#46039f"
                          ],
                          [
                            0.2222222222222222,
                            "#7201a8"
                          ],
                          [
                            0.3333333333333333,
                            "#9c179e"
                          ],
                          [
                            0.4444444444444444,
                            "#bd3786"
                          ],
                          [
                            0.5555555555555556,
                            "#d8576b"
                          ],
                          [
                            0.6666666666666666,
                            "#ed7953"
                          ],
                          [
                            0.7777777777777778,
                            "#fb9f3a"
                          ],
                          [
                            0.8888888888888888,
                            "#fdca26"
                          ],
                          [
                            1,
                            "#f0f921"
                          ]
                        ],
                        "type": "surface"
                      }
                    ],
                    "table": [
                      {
                        "cells": {
                          "fill": {
                            "color": "#EBF0F8"
                          },
                          "line": {
                            "color": "white"
                          }
                        },
                        "header": {
                          "fill": {
                            "color": "#C8D4E3"
                          },
                          "line": {
                            "color": "white"
                          }
                        },
                        "type": "table"
                      }
                    ]
                  },
                  "layout": {
                    "annotationdefaults": {
                      "arrowcolor": "#2a3f5f",
                      "arrowhead": 0,
                      "arrowwidth": 1
                    },
                    "autotypenumbers": "strict",
                    "coloraxis": {
                      "colorbar": {
                        "outlinewidth": 0,
                        "ticks": ""
                      }
                    },
                    "colorscale": {
                      "diverging": [
                        [
                          0,
                          "#8e0152"
                        ],
                        [
                          0.1,
                          "#c51b7d"
                        ],
                        [
                          0.2,
                          "#de77ae"
                        ],
                        [
                          0.3,
                          "#f1b6da"
                        ],
                        [
                          0.4,
                          "#fde0ef"
                        ],
                        [
                          0.5,
                          "#f7f7f7"
                        ],
                        [
                          0.6,
                          "#e6f5d0"
                        ],
                        [
                          0.7,
                          "#b8e186"
                        ],
                        [
                          0.8,
                          "#7fbc41"
                        ],
                        [
                          0.9,
                          "#4d9221"
                        ],
                        [
                          1,
                          "#276419"
                        ]
                      ],
                      "sequential": [
                        [
                          0,
                          "#0d0887"
                        ],
                        [
                          0.1111111111111111,
                          "#46039f"
                        ],
                        [
                          0.2222222222222222,
                          "#7201a8"
                        ],
                        [
                          0.3333333333333333,
                          "#9c179e"
                        ],
                        [
                          0.4444444444444444,
                          "#bd3786"
                        ],
                        [
                          0.5555555555555556,
                          "#d8576b"
                        ],
                        [
                          0.6666666666666666,
                          "#ed7953"
                        ],
                        [
                          0.7777777777777778,
                          "#fb9f3a"
                        ],
                        [
                          0.8888888888888888,
                          "#fdca26"
                        ],
                        [
                          1,
                          "#f0f921"
                        ]
                      ],
                      "sequentialminus": [
                        [
                          0,
                          "#0d0887"
                        ],
                        [
                          0.1111111111111111,
                          "#46039f"
                        ],
                        [
                          0.2222222222222222,
                          "#7201a8"
                        ],
                        [
                          0.3333333333333333,
                          "#9c179e"
                        ],
                        [
                          0.4444444444444444,
                          "#bd3786"
                        ],
                        [
                          0.5555555555555556,
                          "#d8576b"
                        ],
                        [
                          0.6666666666666666,
                          "#ed7953"
                        ],
                        [
                          0.7777777777777778,
                          "#fb9f3a"
                        ],
                        [
                          0.8888888888888888,
                          "#fdca26"
                        ],
                        [
                          1,
                          "#f0f921"
                        ]
                      ]
                    },
                    "colorway": [
                      "#636efa",
                      "#EF553B",
                      "#00cc96",
                      "#ab63fa",
                      "#FFA15A",
                      "#19d3f3",
                      "#FF6692",
                      "#B6E880",
                      "#FF97FF",
                      "#FECB52"
                    ],
                    "font": {
                      "color": "#2a3f5f"
                    },
                    "geo": {
                      "bgcolor": "white",
                      "lakecolor": "white",
                      "landcolor": "#E5ECF6",
                      "showlakes": true,
                      "showland": true,
                      "subunitcolor": "white"
                    },
                    "hoverlabel": {
                      "align": "left"
                    },
                    "hovermode": "closest",
                    "mapbox": {
                      "style": "light"
                    },
                    "paper_bgcolor": "white",
                    "plot_bgcolor": "#E5ECF6",
                    "polar": {
                      "angularaxis": {
                        "gridcolor": "white",
                        "linecolor": "white",
                        "ticks": ""
                      },
                      "bgcolor": "#E5ECF6",
                      "radialaxis": {
                        "gridcolor": "white",
                        "linecolor": "white",
                        "ticks": ""
                      }
                    },
                    "scene": {
                      "xaxis": {
                        "backgroundcolor": "#E5ECF6",
                        "gridcolor": "white",
                        "gridwidth": 2,
                        "linecolor": "white",
                        "showbackground": true,
                        "ticks": "",
                        "zerolinecolor": "white"
                      },
                      "yaxis": {
                        "backgroundcolor": "#E5ECF6",
                        "gridcolor": "white",
                        "gridwidth": 2,
                        "linecolor": "white",
                        "showbackground": true,
                        "ticks": "",
                        "zerolinecolor": "white"
                      },
                      "zaxis": {
                        "backgroundcolor": "#E5ECF6",
                        "gridcolor": "white",
                        "gridwidth": 2,
                        "linecolor": "white",
                        "showbackground": true,
                        "ticks": "",
                        "zerolinecolor": "white"
                      }
                    },
                    "shapedefaults": {
                      "line": {
                        "color": "#2a3f5f"
                      }
                    },
                    "ternary": {
                      "aaxis": {
                        "gridcolor": "white",
                        "linecolor": "white",
                        "ticks": ""
                      },
                      "baxis": {
                        "gridcolor": "white",
                        "linecolor": "white",
                        "ticks": ""
                      },
                      "bgcolor": "#E5ECF6",
                      "caxis": {
                        "gridcolor": "white",
                        "linecolor": "white",
                        "ticks": ""
                      }
                    },
                    "title": {
                      "x": 0.05
                    },
                    "xaxis": {
                      "automargin": true,
                      "gridcolor": "white",
                      "linecolor": "white",
                      "ticks": "",
                      "title": {
                        "standoff": 15
                      },
                      "zerolinecolor": "white",
                      "zerolinewidth": 2
                    },
                    "yaxis": {
                      "automargin": true,
                      "gridcolor": "white",
                      "linecolor": "white",
                      "ticks": "",
                      "title": {
                        "standoff": 15
                      },
                      "zerolinecolor": "white",
                      "zerolinewidth": 2
                    }
                  }
                }
              }
            }
          },
          "metadata": {},
          "output_type": "display_data"
        }
      ],
      "source": [
        "import matplotlib.pyplot as plt\n",
        "import seaborn as sns\n",
        "import plotly.express as px\n",
        "\n",
        "\n",
        "# create a dataframe from results\n",
        "fig = px.scatter_3d(results, x = params_key[0], \n",
        "                    y = params_key[1], \n",
        "                    z = params_key[2],\n",
        "                    color = 'root_mean_square_error')\n",
        "fig.update_layout(coloraxis_colorbar_title='RMSE')\n",
        "fig.show()\n"
      ]
    }
  ],
  "metadata": {
    "colab": {
      "provenance": []
    },
    "kernelspec": {
      "display_name": "Python 3",
      "language": "python",
      "name": "python3"
    },
    "language_info": {
      "codemirror_mode": {
        "name": "ipython",
        "version": 3
      },
      "file_extension": ".py",
      "mimetype": "text/x-python",
      "name": "python",
      "nbconvert_exporter": "python",
      "pygments_lexer": "ipython3",
      "version": "3.10.9"
    },
    "vscode": {
      "interpreter": {
        "hash": "916dbcbb3f70747c44a77c7bcd40155683ae19c65e1c03b4aa3499c5328201f1"
      }
    }
  },
  "nbformat": 4,
  "nbformat_minor": 0
}
