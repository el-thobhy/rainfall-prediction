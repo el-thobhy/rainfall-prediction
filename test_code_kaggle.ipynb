{
  "cells": [
    {
      "cell_type": "markdown",
      "metadata": {
        "colab_type": "text",
        "id": "view-in-github"
      },
      "source": [
        "<a href=\"https://colab.research.google.com/github/el-thobhy/rainfall-prediction/blob/master/test_code_kaggle.ipynb\" target=\"_parent\"><img src=\"https://colab.research.google.com/assets/colab-badge.svg\" alt=\"Open In Colab\"/></a>"
      ]
    },
    {
      "attachments": {},
      "cell_type": "markdown",
      "metadata": {},
      "source": [
        "## Data preprocessing"
      ]
    },
    {
      "cell_type": "code",
      "execution_count": 1,
      "metadata": {
        "id": "zhr4ixRNfmbI"
      },
      "outputs": [
        {
          "name": "stderr",
          "output_type": "stream",
          "text": [
            "c:\\Python310\\lib\\site-packages\\numpy\\_distributor_init.py:30: UserWarning: loaded more than 1 DLL from .libs:\n",
            "c:\\Python310\\lib\\site-packages\\numpy\\.libs\\libopenblas.EL2C6PLE4ZYW3ECEVIV3OXXGRN2NRFM2.gfortran-win_amd64.dll\n",
            "c:\\Python310\\lib\\site-packages\\numpy\\.libs\\libopenblas.FB5AE2TYXYH2IJRDKGDGQ3XBKLKTF43H.gfortran-win_amd64.dll\n",
            "  warnings.warn(\"loaded more than 1 DLL from .libs:\"\n"
          ]
        }
      ],
      "source": [
        "import pandas as pd\n",
        "import seaborn as sns"
      ]
    },
    {
      "attachments": {},
      "cell_type": "markdown",
      "metadata": {},
      "source": [
        "### Data Loading"
      ]
    },
    {
      "cell_type": "code",
      "execution_count": 2,
      "metadata": {
        "colab": {
          "base_uri": "https://localhost:8080/",
          "height": 288
        },
        "id": "Ey-339A5fmbK",
        "outputId": "df1602b7-7212-43ba-aa0b-24e6f6cbeb28"
      },
      "outputs": [],
      "source": [
        "data_baru = pd.read_csv('data.csv')\n",
        "data_baru = data_baru[0:4000]"
      ]
    },
    {
      "attachments": {},
      "cell_type": "markdown",
      "metadata": {},
      "source": [
        "### Explanatory Data Analysis"
      ]
    },
    {
      "attachments": {},
      "cell_type": "markdown",
      "metadata": {},
      "source": [
        "_*Variable description*_\n",
        "\n",
        "- Date and Time = Date and Time\n",
        "- Air Tmp (C) M 60 Min\n",
        "- Mag WD 60 Min (deg) M\n",
        "- Precip 1Hr (mm) M\n",
        "- QNH (hPa) M\n",
        "- RH (%) M 60 Min\n",
        "- True WD 60 Min (deg) M\n",
        "- WS 60 Min (kt) M\n",
        "- klasifikasi"
      ]
    },
    {
      "cell_type": "code",
      "execution_count": 3,
      "metadata": {
        "colab": {
          "base_uri": "https://localhost:8080/"
        },
        "id": "eajZo8auWwp0",
        "outputId": "d67b57e8-e9b1-422d-e091-a39feff8e67b"
      },
      "outputs": [
        {
          "name": "stdout",
          "output_type": "stream",
          "text": [
            "<class 'pandas.core.frame.DataFrame'>\n",
            "RangeIndex: 4000 entries, 0 to 3999\n",
            "Data columns (total 16 columns):\n",
            " #   Column                           Non-Null Count  Dtype  \n",
            "---  ------                           --------------  -----  \n",
            " 0   time                             4000 non-null   object \n",
            " 1   temperature_2m_max (°C)          3985 non-null   float64\n",
            " 2   temperature_2m_min (°C)          3985 non-null   float64\n",
            " 3   apparent_temperature_max (°C)    3985 non-null   float64\n",
            " 4   apparent_temperature_min (°C)    3985 non-null   float64\n",
            " 5   sunrise (iso8601)                4000 non-null   object \n",
            " 6   sunset (iso8601)                 4000 non-null   object \n",
            " 7   shortwave_radiation_sum (MJ/m²)  3982 non-null   float64\n",
            " 8   rain_sum (mm)                    3982 non-null   float64\n",
            " 9   snowfall_sum (cm)                3982 non-null   float64\n",
            " 10  windspeed_10m_max (km/h)         3985 non-null   float64\n",
            " 11  windgusts_10m_max (km/h)         3985 non-null   float64\n",
            " 12  winddirection_10m_dominant (°)   3928 non-null   float64\n",
            " 13  et0_fao_evapotranspiration (mm)  3982 non-null   float64\n",
            " 14  elevation                        4000 non-null   int64  \n",
            " 15  city                             4000 non-null   object \n",
            "dtypes: float64(11), int64(1), object(4)\n",
            "memory usage: 500.1+ KB\n"
          ]
        }
      ],
      "source": [
        "data_baru.info()"
      ]
    },
    {
      "cell_type": "code",
      "execution_count": 4,
      "metadata": {
        "id": "o9h52YPRfmbM"
      },
      "outputs": [],
      "source": [
        "data_baru.sort_values(by=['time'], inplace=True, ascending=True)\n",
        "data_baru.set_index('time', inplace= True)"
      ]
    },
    {
      "attachments": {},
      "cell_type": "markdown",
      "metadata": {},
      "source": [
        "#### Missing value"
      ]
    },
    {
      "cell_type": "code",
      "execution_count": 5,
      "metadata": {},
      "outputs": [
        {
          "data": {
            "text/html": [
              "<div>\n",
              "<style scoped>\n",
              "    .dataframe tbody tr th:only-of-type {\n",
              "        vertical-align: middle;\n",
              "    }\n",
              "\n",
              "    .dataframe tbody tr th {\n",
              "        vertical-align: top;\n",
              "    }\n",
              "\n",
              "    .dataframe thead th {\n",
              "        text-align: right;\n",
              "    }\n",
              "</style>\n",
              "<table border=\"1\" class=\"dataframe\">\n",
              "  <thead>\n",
              "    <tr style=\"text-align: right;\">\n",
              "      <th></th>\n",
              "      <th>temperature_2m_max (°C)</th>\n",
              "      <th>temperature_2m_min (°C)</th>\n",
              "      <th>apparent_temperature_max (°C)</th>\n",
              "      <th>apparent_temperature_min (°C)</th>\n",
              "      <th>shortwave_radiation_sum (MJ/m²)</th>\n",
              "      <th>rain_sum (mm)</th>\n",
              "      <th>snowfall_sum (cm)</th>\n",
              "      <th>windspeed_10m_max (km/h)</th>\n",
              "      <th>windgusts_10m_max (km/h)</th>\n",
              "      <th>winddirection_10m_dominant (°)</th>\n",
              "      <th>et0_fao_evapotranspiration (mm)</th>\n",
              "      <th>elevation</th>\n",
              "    </tr>\n",
              "  </thead>\n",
              "  <tbody>\n",
              "    <tr>\n",
              "      <th>count</th>\n",
              "      <td>3985.000000</td>\n",
              "      <td>3985.000000</td>\n",
              "      <td>3985.000000</td>\n",
              "      <td>3985.000000</td>\n",
              "      <td>3982.000000</td>\n",
              "      <td>3982.000000</td>\n",
              "      <td>3982.0</td>\n",
              "      <td>3985.000000</td>\n",
              "      <td>3985.000000</td>\n",
              "      <td>3928.000000</td>\n",
              "      <td>3982.000000</td>\n",
              "      <td>4000.0</td>\n",
              "    </tr>\n",
              "    <tr>\n",
              "      <th>mean</th>\n",
              "      <td>30.439297</td>\n",
              "      <td>25.461179</td>\n",
              "      <td>36.602033</td>\n",
              "      <td>30.310816</td>\n",
              "      <td>20.877421</td>\n",
              "      <td>5.227197</td>\n",
              "      <td>0.0</td>\n",
              "      <td>12.841230</td>\n",
              "      <td>28.535508</td>\n",
              "      <td>174.452138</td>\n",
              "      <td>4.293348</td>\n",
              "      <td>0.0</td>\n",
              "    </tr>\n",
              "    <tr>\n",
              "      <th>std</th>\n",
              "      <td>1.946172</td>\n",
              "      <td>1.122115</td>\n",
              "      <td>3.127622</td>\n",
              "      <td>1.935845</td>\n",
              "      <td>3.751479</td>\n",
              "      <td>8.462843</td>\n",
              "      <td>0.0</td>\n",
              "      <td>5.041113</td>\n",
              "      <td>6.834369</td>\n",
              "      <td>73.484181</td>\n",
              "      <td>0.807658</td>\n",
              "      <td>0.0</td>\n",
              "    </tr>\n",
              "    <tr>\n",
              "      <th>min</th>\n",
              "      <td>23.800000</td>\n",
              "      <td>20.700000</td>\n",
              "      <td>25.700000</td>\n",
              "      <td>23.100000</td>\n",
              "      <td>4.320000</td>\n",
              "      <td>0.000000</td>\n",
              "      <td>0.0</td>\n",
              "      <td>3.600000</td>\n",
              "      <td>12.200000</td>\n",
              "      <td>0.000000</td>\n",
              "      <td>1.340000</td>\n",
              "      <td>0.0</td>\n",
              "    </tr>\n",
              "    <tr>\n",
              "      <th>25%</th>\n",
              "      <td>28.900000</td>\n",
              "      <td>24.900000</td>\n",
              "      <td>34.600000</td>\n",
              "      <td>29.200000</td>\n",
              "      <td>18.920000</td>\n",
              "      <td>0.000000</td>\n",
              "      <td>0.0</td>\n",
              "      <td>8.800000</td>\n",
              "      <td>23.800000</td>\n",
              "      <td>124.000000</td>\n",
              "      <td>3.810000</td>\n",
              "      <td>0.0</td>\n",
              "    </tr>\n",
              "    <tr>\n",
              "      <th>50%</th>\n",
              "      <td>30.700000</td>\n",
              "      <td>25.600000</td>\n",
              "      <td>36.800000</td>\n",
              "      <td>30.700000</td>\n",
              "      <td>21.100000</td>\n",
              "      <td>1.600000</td>\n",
              "      <td>0.0</td>\n",
              "      <td>12.000000</td>\n",
              "      <td>27.700000</td>\n",
              "      <td>168.000000</td>\n",
              "      <td>4.320000</td>\n",
              "      <td>0.0</td>\n",
              "    </tr>\n",
              "    <tr>\n",
              "      <th>75%</th>\n",
              "      <td>31.900000</td>\n",
              "      <td>26.200000</td>\n",
              "      <td>38.900000</td>\n",
              "      <td>31.700000</td>\n",
              "      <td>23.580000</td>\n",
              "      <td>7.300000</td>\n",
              "      <td>0.0</td>\n",
              "      <td>16.200000</td>\n",
              "      <td>32.400000</td>\n",
              "      <td>217.000000</td>\n",
              "      <td>4.810000</td>\n",
              "      <td>0.0</td>\n",
              "    </tr>\n",
              "    <tr>\n",
              "      <th>max</th>\n",
              "      <td>36.000000</td>\n",
              "      <td>28.500000</td>\n",
              "      <td>46.200000</td>\n",
              "      <td>34.500000</td>\n",
              "      <td>28.290000</td>\n",
              "      <td>107.900000</td>\n",
              "      <td>0.0</td>\n",
              "      <td>33.100000</td>\n",
              "      <td>61.600000</td>\n",
              "      <td>360.000000</td>\n",
              "      <td>7.000000</td>\n",
              "      <td>0.0</td>\n",
              "    </tr>\n",
              "  </tbody>\n",
              "</table>\n",
              "</div>"
            ],
            "text/plain": [
              "       temperature_2m_max (°C)  temperature_2m_min (°C)  \\\n",
              "count              3985.000000              3985.000000   \n",
              "mean                 30.439297                25.461179   \n",
              "std                   1.946172                 1.122115   \n",
              "min                  23.800000                20.700000   \n",
              "25%                  28.900000                24.900000   \n",
              "50%                  30.700000                25.600000   \n",
              "75%                  31.900000                26.200000   \n",
              "max                  36.000000                28.500000   \n",
              "\n",
              "       apparent_temperature_max (°C)  apparent_temperature_min (°C)  \\\n",
              "count                    3985.000000                    3985.000000   \n",
              "mean                       36.602033                      30.310816   \n",
              "std                         3.127622                       1.935845   \n",
              "min                        25.700000                      23.100000   \n",
              "25%                        34.600000                      29.200000   \n",
              "50%                        36.800000                      30.700000   \n",
              "75%                        38.900000                      31.700000   \n",
              "max                        46.200000                      34.500000   \n",
              "\n",
              "       shortwave_radiation_sum (MJ/m²)  rain_sum (mm)  snowfall_sum (cm)  \\\n",
              "count                      3982.000000    3982.000000             3982.0   \n",
              "mean                         20.877421       5.227197                0.0   \n",
              "std                           3.751479       8.462843                0.0   \n",
              "min                           4.320000       0.000000                0.0   \n",
              "25%                          18.920000       0.000000                0.0   \n",
              "50%                          21.100000       1.600000                0.0   \n",
              "75%                          23.580000       7.300000                0.0   \n",
              "max                          28.290000     107.900000                0.0   \n",
              "\n",
              "       windspeed_10m_max (km/h)  windgusts_10m_max (km/h)  \\\n",
              "count               3985.000000               3985.000000   \n",
              "mean                  12.841230                 28.535508   \n",
              "std                    5.041113                  6.834369   \n",
              "min                    3.600000                 12.200000   \n",
              "25%                    8.800000                 23.800000   \n",
              "50%                   12.000000                 27.700000   \n",
              "75%                   16.200000                 32.400000   \n",
              "max                   33.100000                 61.600000   \n",
              "\n",
              "       winddirection_10m_dominant (°)  et0_fao_evapotranspiration (mm)  \\\n",
              "count                     3928.000000                      3982.000000   \n",
              "mean                       174.452138                         4.293348   \n",
              "std                         73.484181                         0.807658   \n",
              "min                          0.000000                         1.340000   \n",
              "25%                        124.000000                         3.810000   \n",
              "50%                        168.000000                         4.320000   \n",
              "75%                        217.000000                         4.810000   \n",
              "max                        360.000000                         7.000000   \n",
              "\n",
              "       elevation  \n",
              "count     4000.0  \n",
              "mean         0.0  \n",
              "std          0.0  \n",
              "min          0.0  \n",
              "25%          0.0  \n",
              "50%          0.0  \n",
              "75%          0.0  \n",
              "max          0.0  "
            ]
          },
          "execution_count": 5,
          "metadata": {},
          "output_type": "execute_result"
        }
      ],
      "source": [
        "data_baru.describe()"
      ]
    },
    {
      "attachments": {},
      "cell_type": "markdown",
      "metadata": {},
      "source": [
        "_ada lebih dari 100 data yang hilang, total data adalah 2039, dan yang terhitung 1900_"
      ]
    },
    {
      "cell_type": "code",
      "execution_count": 6,
      "metadata": {
        "colab": {
          "base_uri": "https://localhost:8080/"
        },
        "id": "_TODVjQUfmbP",
        "outputId": "a781dda2-9bec-4dec-ed19-5d798d0e7392"
      },
      "outputs": [
        {
          "data": {
            "text/plain": [
              "temperature_2m_max (°C)            15\n",
              "temperature_2m_min (°C)            15\n",
              "apparent_temperature_max (°C)      15\n",
              "apparent_temperature_min (°C)      15\n",
              "sunrise (iso8601)                   0\n",
              "sunset (iso8601)                    0\n",
              "shortwave_radiation_sum (MJ/m²)    18\n",
              "rain_sum (mm)                      18\n",
              "snowfall_sum (cm)                  18\n",
              "windspeed_10m_max (km/h)           15\n",
              "windgusts_10m_max (km/h)           15\n",
              "winddirection_10m_dominant (°)     72\n",
              "et0_fao_evapotranspiration (mm)    18\n",
              "elevation                           0\n",
              "city                                0\n",
              "dtype: int64"
            ]
          },
          "execution_count": 6,
          "metadata": {},
          "output_type": "execute_result"
        }
      ],
      "source": [
        "data_baru.isnull().sum()"
      ]
    },
    {
      "cell_type": "code",
      "execution_count": 7,
      "metadata": {
        "id": "_Dkh5pGvfmbP"
      },
      "outputs": [
        {
          "data": {
            "text/plain": [
              "(3928, 15)"
            ]
          },
          "execution_count": 7,
          "metadata": {},
          "output_type": "execute_result"
        }
      ],
      "source": [
        "data_baru = data_baru.dropna(how='any',axis=0) \n",
        "data_baru.shape"
      ]
    },
    {
      "cell_type": "code",
      "execution_count": 8,
      "metadata": {
        "colab": {
          "base_uri": "https://localhost:8080/"
        },
        "id": "So2VhhNZfmbQ",
        "outputId": "a3e31f29-61c4-4837-a3f3-73e0f491c37f"
      },
      "outputs": [
        {
          "data": {
            "text/plain": [
              "temperature_2m_max (°C)            0\n",
              "temperature_2m_min (°C)            0\n",
              "apparent_temperature_max (°C)      0\n",
              "apparent_temperature_min (°C)      0\n",
              "sunrise (iso8601)                  0\n",
              "sunset (iso8601)                   0\n",
              "shortwave_radiation_sum (MJ/m²)    0\n",
              "rain_sum (mm)                      0\n",
              "snowfall_sum (cm)                  0\n",
              "windspeed_10m_max (km/h)           0\n",
              "windgusts_10m_max (km/h)           0\n",
              "winddirection_10m_dominant (°)     0\n",
              "et0_fao_evapotranspiration (mm)    0\n",
              "elevation                          0\n",
              "city                               0\n",
              "dtype: int64"
            ]
          },
          "execution_count": 8,
          "metadata": {},
          "output_type": "execute_result"
        }
      ],
      "source": [
        "data_baru.isnull().sum()"
      ]
    },
    {
      "attachments": {},
      "cell_type": "markdown",
      "metadata": {},
      "source": [
        "#### Pesebaran data"
      ]
    },
    {
      "attachments": {},
      "cell_type": "markdown",
      "metadata": {},
      "source": [
        "dilihat dengan histogram"
      ]
    },
    {
      "cell_type": "code",
      "execution_count": 9,
      "metadata": {
        "colab": {
          "base_uri": "https://localhost:8080/",
          "height": 879
        },
        "id": "6jY2gi_nfmbl",
        "outputId": "800695d8-a6ab-444b-fa9b-01f2917ecb40"
      },
      "outputs": [
        {
          "data": {
            "image/png": "[encoded data removed]",
            "text/plain": [
              "<Figure size 1440x1080 with 12 Axes>"
            ]
          },
          "metadata": {
            "needs_background": "light"
          },
          "output_type": "display_data"
        }
      ],
      "source": [
        "import matplotlib.pyplot as plt\n",
        "\n",
        "data_baru.hist(bins=50, figsize=(20,15))\n",
        "plt.show()"
      ]
    },
    {
      "attachments": {},
      "cell_type": "markdown",
      "metadata": {},
      "source": [
        "#### Matriks korelasi"
      ]
    },
    {
      "cell_type": "code",
      "execution_count": 10,
      "metadata": {
        "colab": {
          "base_uri": "https://localhost:8080/",
          "height": 679
        },
        "id": "94FfX1DFfmbl",
        "outputId": "863a47d0-c224-486c-8120-d3b2e66988c0"
      },
      "outputs": [
        {
          "data": {
            "text/plain": [
              "Text(0.5, 1.0, 'Correlation Matrix untuk Fitur Numerik ')"
            ]
          },
          "execution_count": 10,
          "metadata": {},
          "output_type": "execute_result"
        },
        {
          "data": {
            "image/png": "[encoded data removed]",
            "text/plain": [
              "<Figure size 720x576 with 2 Axes>"
            ]
          },
          "metadata": {
            "needs_background": "light"
          },
          "output_type": "display_data"
        }
      ],
      "source": [
        "plt.figure(figsize=(10, 8))\n",
        "correlation_matrix = data_baru.corr().round(2)\n",
        "sns.heatmap(data=correlation_matrix, annot=True, cmap='coolwarm', linewidths=0.5, )\n",
        "plt.title(\"Correlation Matrix untuk Fitur Numerik \", size=20)"
      ]
    },
    {
      "cell_type": "code",
      "execution_count": 11,
      "metadata": {},
      "outputs": [
        {
          "data": {
            "text/plain": [
              "rain_sum (mm)                      1.000000\n",
              "apparent_temperature_min (°C)      0.256609\n",
              "winddirection_10m_dominant (°)     0.206902\n",
              "temperature_2m_min (°C)            0.185262\n",
              "apparent_temperature_max (°C)      0.178085\n",
              "temperature_2m_max (°C)           -0.042661\n",
              "windgusts_10m_max (km/h)          -0.064386\n",
              "windspeed_10m_max (km/h)          -0.209809\n",
              "et0_fao_evapotranspiration (mm)   -0.395075\n",
              "shortwave_radiation_sum (MJ/m²)   -0.404086\n",
              "snowfall_sum (cm)                       NaN\n",
              "elevation                               NaN\n",
              "Name: rain_sum (mm), dtype: float64"
            ]
          },
          "execution_count": 11,
          "metadata": {},
          "output_type": "execute_result"
        }
      ],
      "source": [
        "# Get the correlation coefficients for \"rain_sum\" feature\n",
        "rain_corr = data_baru.corr()['rain_sum (mm)'].sort_values(ascending=False)\n",
        "rain_corr"
      ]
    },
    {
      "attachments": {},
      "cell_type": "markdown",
      "metadata": {},
      "source": [
        "#### Data preparation"
      ]
    },
    {
      "attachments": {},
      "cell_type": "markdown",
      "metadata": {},
      "source": [
        "ubah sunrise jadi datetime 64"
      ]
    },
    {
      "cell_type": "code",
      "execution_count": 12,
      "metadata": {},
      "outputs": [
        {
          "data": {
            "text/plain": [
              "time\n",
              "2018-01-01    2018-01-01T05:15\n",
              "2018-01-01    2018-01-01T05:03\n",
              "2018-01-01    2018-01-01T05:36\n",
              "2018-01-01    2018-01-01T05:04\n",
              "2018-01-02    2018-01-02T05:15\n",
              "                    ...       \n",
              "2021-07-31    2021-07-31T05:40\n",
              "2021-07-31    2021-07-31T05:31\n",
              "2021-08-01    2021-08-01T05:31\n",
              "2021-08-01    2021-08-01T05:40\n",
              "2021-08-01    2021-08-01T05:31\n",
              "Name: sunrise (iso8601), Length: 3928, dtype: object"
            ]
          },
          "execution_count": 12,
          "metadata": {},
          "output_type": "execute_result"
        }
      ],
      "source": [
        "# Inspect \"sunrise\" column\n",
        "data_baru['sunrise (iso8601)']"
      ]
    },
    {
      "cell_type": "code",
      "execution_count": 13,
      "metadata": {},
      "outputs": [
        {
          "data": {
            "text/plain": [
              "time\n",
              "2018-01-01   2018-01-01 05:15:00\n",
              "2018-01-01   2018-01-01 05:03:00\n",
              "2018-01-01   2018-01-01 05:36:00\n",
              "2018-01-01   2018-01-01 05:04:00\n",
              "2018-01-02   2018-01-02 05:15:00\n",
              "                     ...        \n",
              "2021-07-31   2021-07-31 05:40:00\n",
              "2021-07-31   2021-07-31 05:31:00\n",
              "2021-08-01   2021-08-01 05:31:00\n",
              "2021-08-01   2021-08-01 05:40:00\n",
              "2021-08-01   2021-08-01 05:31:00\n",
              "Name: sunrise (datetime64), Length: 3928, dtype: datetime64[ns]"
            ]
          },
          "execution_count": 13,
          "metadata": {},
          "output_type": "execute_result"
        }
      ],
      "source": [
        "data_baru['sunrise (datetime64)'] = pd.to_datetime(data_baru['sunrise (iso8601)'], format='%Y-%m-%dT%H:%M:%S')\n",
        "\n",
        "data_baru['sunrise (datetime64)']\n",
        "\n"
      ]
    },
    {
      "cell_type": "code",
      "execution_count": 14,
      "metadata": {},
      "outputs": [
        {
          "data": {
            "text/plain": [
              "time\n",
              "2018-01-01    2018-01-01T17:49\n",
              "2018-01-01    2018-01-01T17:41\n",
              "2018-01-01    2018-01-01T18:09\n",
              "2018-01-01    2018-01-01T17:41\n",
              "2018-01-02    2018-01-02T17:50\n",
              "                    ...       \n",
              "2021-07-31    2021-07-31T17:30\n",
              "2021-07-31    2021-07-31T17:18\n",
              "2021-08-01    2021-08-01T17:18\n",
              "2021-08-01    2021-08-01T17:30\n",
              "2021-08-01    2021-08-01T17:19\n",
              "Name: sunset (iso8601), Length: 3928, dtype: object"
            ]
          },
          "execution_count": 14,
          "metadata": {},
          "output_type": "execute_result"
        }
      ],
      "source": [
        "# Inspect \"sunrise\" column\n",
        "data_baru['sunset (iso8601)']"
      ]
    },
    {
      "cell_type": "code",
      "execution_count": 15,
      "metadata": {},
      "outputs": [
        {
          "data": {
            "text/plain": [
              "time\n",
              "2018-01-01   2018-01-01 17:49:00\n",
              "2018-01-01   2018-01-01 17:41:00\n",
              "2018-01-01   2018-01-01 18:09:00\n",
              "2018-01-01   2018-01-01 17:41:00\n",
              "2018-01-02   2018-01-02 17:50:00\n",
              "                     ...        \n",
              "2021-07-31   2021-07-31 17:30:00\n",
              "2021-07-31   2021-07-31 17:18:00\n",
              "2021-08-01   2021-08-01 17:18:00\n",
              "2021-08-01   2021-08-01 17:30:00\n",
              "2021-08-01   2021-08-01 17:19:00\n",
              "Name: sunset (datetime64), Length: 3928, dtype: datetime64[ns]"
            ]
          },
          "execution_count": 15,
          "metadata": {},
          "output_type": "execute_result"
        }
      ],
      "source": [
        "data_baru['sunset (datetime64)'] = pd.to_datetime(data_baru['sunset (iso8601)'], format='%Y-%m-%dT%H:%M:%S')\n",
        "\n",
        "data_baru['sunset (datetime64)']"
      ]
    },
    {
      "attachments": {},
      "cell_type": "markdown",
      "metadata": {},
      "source": [
        "membuat kolom klasifikasi"
      ]
    },
    {
      "cell_type": "code",
      "execution_count": 16,
      "metadata": {},
      "outputs": [
        {
          "data": {
            "text/html": [
              "<div>\n",
              "<style scoped>\n",
              "    .dataframe tbody tr th:only-of-type {\n",
              "        vertical-align: middle;\n",
              "    }\n",
              "\n",
              "    .dataframe tbody tr th {\n",
              "        vertical-align: top;\n",
              "    }\n",
              "\n",
              "    .dataframe thead th {\n",
              "        text-align: right;\n",
              "    }\n",
              "</style>\n",
              "<table border=\"1\" class=\"dataframe\">\n",
              "  <thead>\n",
              "    <tr style=\"text-align: right;\">\n",
              "      <th></th>\n",
              "      <th>temperature_2m_max (°C)</th>\n",
              "      <th>temperature_2m_min (°C)</th>\n",
              "      <th>apparent_temperature_max (°C)</th>\n",
              "      <th>apparent_temperature_min (°C)</th>\n",
              "      <th>sunrise (iso8601)</th>\n",
              "      <th>sunset (iso8601)</th>\n",
              "      <th>shortwave_radiation_sum (MJ/m²)</th>\n",
              "      <th>rain_sum (mm)</th>\n",
              "      <th>snowfall_sum (cm)</th>\n",
              "      <th>windspeed_10m_max (km/h)</th>\n",
              "      <th>windgusts_10m_max (km/h)</th>\n",
              "      <th>winddirection_10m_dominant (°)</th>\n",
              "      <th>et0_fao_evapotranspiration (mm)</th>\n",
              "      <th>elevation</th>\n",
              "      <th>city</th>\n",
              "      <th>sunrise (datetime64)</th>\n",
              "      <th>sunset (datetime64)</th>\n",
              "      <th>klasifikasi</th>\n",
              "    </tr>\n",
              "    <tr>\n",
              "      <th>time</th>\n",
              "      <th></th>\n",
              "      <th></th>\n",
              "      <th></th>\n",
              "      <th></th>\n",
              "      <th></th>\n",
              "      <th></th>\n",
              "      <th></th>\n",
              "      <th></th>\n",
              "      <th></th>\n",
              "      <th></th>\n",
              "      <th></th>\n",
              "      <th></th>\n",
              "      <th></th>\n",
              "      <th></th>\n",
              "      <th></th>\n",
              "      <th></th>\n",
              "      <th></th>\n",
              "      <th></th>\n",
              "    </tr>\n",
              "  </thead>\n",
              "  <tbody>\n",
              "    <tr>\n",
              "      <th>2018-01-01</th>\n",
              "      <td>29.9</td>\n",
              "      <td>26.0</td>\n",
              "      <td>36.3</td>\n",
              "      <td>31.6</td>\n",
              "      <td>2018-01-01T05:15</td>\n",
              "      <td>2018-01-01T17:49</td>\n",
              "      <td>17.59</td>\n",
              "      <td>7.7</td>\n",
              "      <td>0.0</td>\n",
              "      <td>6.9</td>\n",
              "      <td>20.2</td>\n",
              "      <td>277.0</td>\n",
              "      <td>3.61</td>\n",
              "      <td>0</td>\n",
              "      <td>su</td>\n",
              "      <td>2018-01-01 05:15:00</td>\n",
              "      <td>2018-01-01 17:49:00</td>\n",
              "      <td>rain</td>\n",
              "    </tr>\n",
              "    <tr>\n",
              "      <th>2018-01-01</th>\n",
              "      <td>27.5</td>\n",
              "      <td>25.6</td>\n",
              "      <td>33.1</td>\n",
              "      <td>30.2</td>\n",
              "      <td>2018-01-01T05:03</td>\n",
              "      <td>2018-01-01T17:41</td>\n",
              "      <td>18.15</td>\n",
              "      <td>7.5</td>\n",
              "      <td>0.0</td>\n",
              "      <td>17.6</td>\n",
              "      <td>32.0</td>\n",
              "      <td>255.0</td>\n",
              "      <td>3.46</td>\n",
              "      <td>0</td>\n",
              "      <td>u</td>\n",
              "      <td>2018-01-01 05:03:00</td>\n",
              "      <td>2018-01-01 17:41:00</td>\n",
              "      <td>rain</td>\n",
              "    </tr>\n",
              "    <tr>\n",
              "      <th>2018-01-01</th>\n",
              "      <td>33.3</td>\n",
              "      <td>25.0</td>\n",
              "      <td>40.9</td>\n",
              "      <td>30.7</td>\n",
              "      <td>2018-01-01T05:36</td>\n",
              "      <td>2018-01-01T18:09</td>\n",
              "      <td>23.24</td>\n",
              "      <td>4.9</td>\n",
              "      <td>0.0</td>\n",
              "      <td>6.9</td>\n",
              "      <td>22.3</td>\n",
              "      <td>252.0</td>\n",
              "      <td>4.93</td>\n",
              "      <td>0</td>\n",
              "      <td>le</td>\n",
              "      <td>2018-01-01 05:36:00</td>\n",
              "      <td>2018-01-01 18:09:00</td>\n",
              "      <td>rain</td>\n",
              "    </tr>\n",
              "    <tr>\n",
              "      <th>2018-01-01</th>\n",
              "      <td>29.4</td>\n",
              "      <td>25.7</td>\n",
              "      <td>36.9</td>\n",
              "      <td>31.4</td>\n",
              "      <td>2018-01-01T05:04</td>\n",
              "      <td>2018-01-01T17:41</td>\n",
              "      <td>19.10</td>\n",
              "      <td>15.2</td>\n",
              "      <td>0.0</td>\n",
              "      <td>6.7</td>\n",
              "      <td>24.5</td>\n",
              "      <td>220.0</td>\n",
              "      <td>3.92</td>\n",
              "      <td>0</td>\n",
              "      <td>si</td>\n",
              "      <td>2018-01-01 05:04:00</td>\n",
              "      <td>2018-01-01 17:41:00</td>\n",
              "      <td>rain</td>\n",
              "    </tr>\n",
              "    <tr>\n",
              "      <th>2018-01-02</th>\n",
              "      <td>30.6</td>\n",
              "      <td>25.7</td>\n",
              "      <td>37.7</td>\n",
              "      <td>31.2</td>\n",
              "      <td>2018-01-02T05:15</td>\n",
              "      <td>2018-01-02T17:50</td>\n",
              "      <td>19.87</td>\n",
              "      <td>9.4</td>\n",
              "      <td>0.0</td>\n",
              "      <td>7.1</td>\n",
              "      <td>18.0</td>\n",
              "      <td>168.0</td>\n",
              "      <td>4.11</td>\n",
              "      <td>0</td>\n",
              "      <td>su</td>\n",
              "      <td>2018-01-02 05:15:00</td>\n",
              "      <td>2018-01-02 17:50:00</td>\n",
              "      <td>rain</td>\n",
              "    </tr>\n",
              "  </tbody>\n",
              "</table>\n",
              "</div>"
            ],
            "text/plain": [
              "            temperature_2m_max (°C)  temperature_2m_min (°C)  \\\n",
              "time                                                           \n",
              "2018-01-01                     29.9                     26.0   \n",
              "2018-01-01                     27.5                     25.6   \n",
              "2018-01-01                     33.3                     25.0   \n",
              "2018-01-01                     29.4                     25.7   \n",
              "2018-01-02                     30.6                     25.7   \n",
              "\n",
              "            apparent_temperature_max (°C)  apparent_temperature_min (°C)  \\\n",
              "time                                                                       \n",
              "2018-01-01                           36.3                           31.6   \n",
              "2018-01-01                           33.1                           30.2   \n",
              "2018-01-01                           40.9                           30.7   \n",
              "2018-01-01                           36.9                           31.4   \n",
              "2018-01-02                           37.7                           31.2   \n",
              "\n",
              "           sunrise (iso8601)  sunset (iso8601)  \\\n",
              "time                                             \n",
              "2018-01-01  2018-01-01T05:15  2018-01-01T17:49   \n",
              "2018-01-01  2018-01-01T05:03  2018-01-01T17:41   \n",
              "2018-01-01  2018-01-01T05:36  2018-01-01T18:09   \n",
              "2018-01-01  2018-01-01T05:04  2018-01-01T17:41   \n",
              "2018-01-02  2018-01-02T05:15  2018-01-02T17:50   \n",
              "\n",
              "            shortwave_radiation_sum (MJ/m²)  rain_sum (mm)  snowfall_sum (cm)  \\\n",
              "time                                                                            \n",
              "2018-01-01                            17.59            7.7                0.0   \n",
              "2018-01-01                            18.15            7.5                0.0   \n",
              "2018-01-01                            23.24            4.9                0.0   \n",
              "2018-01-01                            19.10           15.2                0.0   \n",
              "2018-01-02                            19.87            9.4                0.0   \n",
              "\n",
              "            windspeed_10m_max (km/h)  windgusts_10m_max (km/h)  \\\n",
              "time                                                             \n",
              "2018-01-01                       6.9                      20.2   \n",
              "2018-01-01                      17.6                      32.0   \n",
              "2018-01-01                       6.9                      22.3   \n",
              "2018-01-01                       6.7                      24.5   \n",
              "2018-01-02                       7.1                      18.0   \n",
              "\n",
              "            winddirection_10m_dominant (°)  et0_fao_evapotranspiration (mm)  \\\n",
              "time                                                                          \n",
              "2018-01-01                           277.0                             3.61   \n",
              "2018-01-01                           255.0                             3.46   \n",
              "2018-01-01                           252.0                             4.93   \n",
              "2018-01-01                           220.0                             3.92   \n",
              "2018-01-02                           168.0                             4.11   \n",
              "\n",
              "            elevation city sunrise (datetime64) sunset (datetime64)  \\\n",
              "time                                                                  \n",
              "2018-01-01          0   su  2018-01-01 05:15:00 2018-01-01 17:49:00   \n",
              "2018-01-01          0    u  2018-01-01 05:03:00 2018-01-01 17:41:00   \n",
              "2018-01-01          0   le  2018-01-01 05:36:00 2018-01-01 18:09:00   \n",
              "2018-01-01          0   si  2018-01-01 05:04:00 2018-01-01 17:41:00   \n",
              "2018-01-02          0   su  2018-01-02 05:15:00 2018-01-02 17:50:00   \n",
              "\n",
              "           klasifikasi  \n",
              "time                    \n",
              "2018-01-01        rain  \n",
              "2018-01-01        rain  \n",
              "2018-01-01        rain  \n",
              "2018-01-01        rain  \n",
              "2018-01-02        rain  "
            ]
          },
          "execution_count": 16,
          "metadata": {},
          "output_type": "execute_result"
        }
      ],
      "source": [
        "klasifikasi = []\n",
        "for kategori in data_baru['rain_sum (mm)']:\n",
        "    if(kategori > 0):\n",
        "        klasifikasi.append('rain')\n",
        "    else:\n",
        "        klasifikasi.append('no rain')\n",
        "\n",
        "data_baru['klasifikasi'] = klasifikasi\n",
        "data_baru.head()"
      ]
    },
    {
      "attachments": {},
      "cell_type": "markdown",
      "metadata": {},
      "source": [
        "#### one-hot encoding"
      ]
    },
    {
      "attachments": {},
      "cell_type": "markdown",
      "metadata": {},
      "source": [
        "mengubah data kategori dengan one-hot encoding"
      ]
    },
    {
      "cell_type": "code",
      "execution_count": 17,
      "metadata": {},
      "outputs": [
        {
          "name": "stdout",
          "output_type": "stream",
          "text": [
            "<class 'pandas.core.frame.DataFrame'>\n",
            "Index: 3928 entries, 2018-01-01 to 2021-08-01\n",
            "Data columns (total 18 columns):\n",
            " #   Column                           Non-Null Count  Dtype         \n",
            "---  ------                           --------------  -----         \n",
            " 0   temperature_2m_max (°C)          3928 non-null   float64       \n",
            " 1   temperature_2m_min (°C)          3928 non-null   float64       \n",
            " 2   apparent_temperature_max (°C)    3928 non-null   float64       \n",
            " 3   apparent_temperature_min (°C)    3928 non-null   float64       \n",
            " 4   sunrise (iso8601)                3928 non-null   object        \n",
            " 5   sunset (iso8601)                 3928 non-null   object        \n",
            " 6   shortwave_radiation_sum (MJ/m²)  3928 non-null   float64       \n",
            " 7   rain_sum (mm)                    3928 non-null   float64       \n",
            " 8   snowfall_sum (cm)                3928 non-null   float64       \n",
            " 9   windspeed_10m_max (km/h)         3928 non-null   float64       \n",
            " 10  windgusts_10m_max (km/h)         3928 non-null   float64       \n",
            " 11  winddirection_10m_dominant (°)   3928 non-null   float64       \n",
            " 12  et0_fao_evapotranspiration (mm)  3928 non-null   float64       \n",
            " 13  elevation                        3928 non-null   int64         \n",
            " 14  city                             3928 non-null   object        \n",
            " 15  sunrise (datetime64)             3928 non-null   datetime64[ns]\n",
            " 16  sunset (datetime64)              3928 non-null   datetime64[ns]\n",
            " 17  klasifikasi                      3928 non-null   object        \n",
            "dtypes: datetime64[ns](2), float64(11), int64(1), object(4)\n",
            "memory usage: 712.1+ KB\n"
          ]
        }
      ],
      "source": [
        "data_baru.info()"
      ]
    },
    {
      "cell_type": "code",
      "execution_count": 18,
      "metadata": {},
      "outputs": [
        {
          "data": {
            "text/html": [
              "<div>\n",
              "<style scoped>\n",
              "    .dataframe tbody tr th:only-of-type {\n",
              "        vertical-align: middle;\n",
              "    }\n",
              "\n",
              "    .dataframe tbody tr th {\n",
              "        vertical-align: top;\n",
              "    }\n",
              "\n",
              "    .dataframe thead th {\n",
              "        text-align: right;\n",
              "    }\n",
              "</style>\n",
              "<table border=\"1\" class=\"dataframe\">\n",
              "  <thead>\n",
              "    <tr style=\"text-align: right;\">\n",
              "      <th></th>\n",
              "      <th>temperature_2m_max (°C)</th>\n",
              "      <th>temperature_2m_min (°C)</th>\n",
              "      <th>apparent_temperature_max (°C)</th>\n",
              "      <th>apparent_temperature_min (°C)</th>\n",
              "      <th>shortwave_radiation_sum (MJ/m²)</th>\n",
              "      <th>rain_sum (mm)</th>\n",
              "      <th>windspeed_10m_max (km/h)</th>\n",
              "      <th>windgusts_10m_max (km/h)</th>\n",
              "      <th>et0_fao_evapotranspiration (mm)</th>\n",
              "      <th>sunrise (datetime64)</th>\n",
              "      <th>sunset (datetime64)</th>\n",
              "      <th>klasifikasi_no rain</th>\n",
              "      <th>klasifikasi_rain</th>\n",
              "    </tr>\n",
              "    <tr>\n",
              "      <th>time</th>\n",
              "      <th></th>\n",
              "      <th></th>\n",
              "      <th></th>\n",
              "      <th></th>\n",
              "      <th></th>\n",
              "      <th></th>\n",
              "      <th></th>\n",
              "      <th></th>\n",
              "      <th></th>\n",
              "      <th></th>\n",
              "      <th></th>\n",
              "      <th></th>\n",
              "      <th></th>\n",
              "    </tr>\n",
              "  </thead>\n",
              "  <tbody>\n",
              "    <tr>\n",
              "      <th>2018-01-01</th>\n",
              "      <td>29.9</td>\n",
              "      <td>26.0</td>\n",
              "      <td>36.3</td>\n",
              "      <td>31.6</td>\n",
              "      <td>17.59</td>\n",
              "      <td>7.7</td>\n",
              "      <td>6.9</td>\n",
              "      <td>20.2</td>\n",
              "      <td>3.61</td>\n",
              "      <td>2018-01-01 05:15:00</td>\n",
              "      <td>2018-01-01 17:49:00</td>\n",
              "      <td>0</td>\n",
              "      <td>1</td>\n",
              "    </tr>\n",
              "    <tr>\n",
              "      <th>2018-01-01</th>\n",
              "      <td>27.5</td>\n",
              "      <td>25.6</td>\n",
              "      <td>33.1</td>\n",
              "      <td>30.2</td>\n",
              "      <td>18.15</td>\n",
              "      <td>7.5</td>\n",
              "      <td>17.6</td>\n",
              "      <td>32.0</td>\n",
              "      <td>3.46</td>\n",
              "      <td>2018-01-01 05:03:00</td>\n",
              "      <td>2018-01-01 17:41:00</td>\n",
              "      <td>0</td>\n",
              "      <td>1</td>\n",
              "    </tr>\n",
              "    <tr>\n",
              "      <th>2018-01-01</th>\n",
              "      <td>33.3</td>\n",
              "      <td>25.0</td>\n",
              "      <td>40.9</td>\n",
              "      <td>30.7</td>\n",
              "      <td>23.24</td>\n",
              "      <td>4.9</td>\n",
              "      <td>6.9</td>\n",
              "      <td>22.3</td>\n",
              "      <td>4.93</td>\n",
              "      <td>2018-01-01 05:36:00</td>\n",
              "      <td>2018-01-01 18:09:00</td>\n",
              "      <td>0</td>\n",
              "      <td>1</td>\n",
              "    </tr>\n",
              "    <tr>\n",
              "      <th>2018-01-01</th>\n",
              "      <td>29.4</td>\n",
              "      <td>25.7</td>\n",
              "      <td>36.9</td>\n",
              "      <td>31.4</td>\n",
              "      <td>19.10</td>\n",
              "      <td>15.2</td>\n",
              "      <td>6.7</td>\n",
              "      <td>24.5</td>\n",
              "      <td>3.92</td>\n",
              "      <td>2018-01-01 05:04:00</td>\n",
              "      <td>2018-01-01 17:41:00</td>\n",
              "      <td>0</td>\n",
              "      <td>1</td>\n",
              "    </tr>\n",
              "    <tr>\n",
              "      <th>2018-01-02</th>\n",
              "      <td>30.6</td>\n",
              "      <td>25.7</td>\n",
              "      <td>37.7</td>\n",
              "      <td>31.2</td>\n",
              "      <td>19.87</td>\n",
              "      <td>9.4</td>\n",
              "      <td>7.1</td>\n",
              "      <td>18.0</td>\n",
              "      <td>4.11</td>\n",
              "      <td>2018-01-02 05:15:00</td>\n",
              "      <td>2018-01-02 17:50:00</td>\n",
              "      <td>0</td>\n",
              "      <td>1</td>\n",
              "    </tr>\n",
              "    <tr>\n",
              "      <th>...</th>\n",
              "      <td>...</td>\n",
              "      <td>...</td>\n",
              "      <td>...</td>\n",
              "      <td>...</td>\n",
              "      <td>...</td>\n",
              "      <td>...</td>\n",
              "      <td>...</td>\n",
              "      <td>...</td>\n",
              "      <td>...</td>\n",
              "      <td>...</td>\n",
              "      <td>...</td>\n",
              "      <td>...</td>\n",
              "      <td>...</td>\n",
              "    </tr>\n",
              "    <tr>\n",
              "      <th>2021-07-31</th>\n",
              "      <td>32.1</td>\n",
              "      <td>25.6</td>\n",
              "      <td>37.8</td>\n",
              "      <td>30.9</td>\n",
              "      <td>21.54</td>\n",
              "      <td>0.0</td>\n",
              "      <td>9.2</td>\n",
              "      <td>20.2</td>\n",
              "      <td>4.61</td>\n",
              "      <td>2021-07-31 05:40:00</td>\n",
              "      <td>2021-07-31 17:30:00</td>\n",
              "      <td>1</td>\n",
              "      <td>0</td>\n",
              "    </tr>\n",
              "    <tr>\n",
              "      <th>2021-07-31</th>\n",
              "      <td>27.2</td>\n",
              "      <td>24.5</td>\n",
              "      <td>30.8</td>\n",
              "      <td>28.3</td>\n",
              "      <td>18.58</td>\n",
              "      <td>1.1</td>\n",
              "      <td>23.4</td>\n",
              "      <td>36.0</td>\n",
              "      <td>3.43</td>\n",
              "      <td>2021-07-31 05:31:00</td>\n",
              "      <td>2021-07-31 17:18:00</td>\n",
              "      <td>0</td>\n",
              "      <td>1</td>\n",
              "    </tr>\n",
              "    <tr>\n",
              "      <th>2021-08-01</th>\n",
              "      <td>26.8</td>\n",
              "      <td>24.3</td>\n",
              "      <td>29.8</td>\n",
              "      <td>27.8</td>\n",
              "      <td>18.20</td>\n",
              "      <td>1.6</td>\n",
              "      <td>23.2</td>\n",
              "      <td>36.0</td>\n",
              "      <td>3.29</td>\n",
              "      <td>2021-08-01 05:31:00</td>\n",
              "      <td>2021-08-01 17:18:00</td>\n",
              "      <td>0</td>\n",
              "      <td>1</td>\n",
              "    </tr>\n",
              "    <tr>\n",
              "      <th>2021-08-01</th>\n",
              "      <td>32.2</td>\n",
              "      <td>25.3</td>\n",
              "      <td>37.0</td>\n",
              "      <td>29.9</td>\n",
              "      <td>21.01</td>\n",
              "      <td>0.0</td>\n",
              "      <td>9.1</td>\n",
              "      <td>20.2</td>\n",
              "      <td>4.63</td>\n",
              "      <td>2021-08-01 05:40:00</td>\n",
              "      <td>2021-08-01 17:30:00</td>\n",
              "      <td>1</td>\n",
              "      <td>0</td>\n",
              "    </tr>\n",
              "    <tr>\n",
              "      <th>2021-08-01</th>\n",
              "      <td>29.6</td>\n",
              "      <td>23.9</td>\n",
              "      <td>35.1</td>\n",
              "      <td>28.0</td>\n",
              "      <td>20.22</td>\n",
              "      <td>0.1</td>\n",
              "      <td>14.4</td>\n",
              "      <td>37.4</td>\n",
              "      <td>4.08</td>\n",
              "      <td>2021-08-01 05:31:00</td>\n",
              "      <td>2021-08-01 17:19:00</td>\n",
              "      <td>0</td>\n",
              "      <td>1</td>\n",
              "    </tr>\n",
              "  </tbody>\n",
              "</table>\n",
              "<p>3928 rows × 13 columns</p>\n",
              "</div>"
            ],
            "text/plain": [
              "            temperature_2m_max (°C)  temperature_2m_min (°C)  \\\n",
              "time                                                           \n",
              "2018-01-01                     29.9                     26.0   \n",
              "2018-01-01                     27.5                     25.6   \n",
              "2018-01-01                     33.3                     25.0   \n",
              "2018-01-01                     29.4                     25.7   \n",
              "2018-01-02                     30.6                     25.7   \n",
              "...                             ...                      ...   \n",
              "2021-07-31                     32.1                     25.6   \n",
              "2021-07-31                     27.2                     24.5   \n",
              "2021-08-01                     26.8                     24.3   \n",
              "2021-08-01                     32.2                     25.3   \n",
              "2021-08-01                     29.6                     23.9   \n",
              "\n",
              "            apparent_temperature_max (°C)  apparent_temperature_min (°C)  \\\n",
              "time                                                                       \n",
              "2018-01-01                           36.3                           31.6   \n",
              "2018-01-01                           33.1                           30.2   \n",
              "2018-01-01                           40.9                           30.7   \n",
              "2018-01-01                           36.9                           31.4   \n",
              "2018-01-02                           37.7                           31.2   \n",
              "...                                   ...                            ...   \n",
              "2021-07-31                           37.8                           30.9   \n",
              "2021-07-31                           30.8                           28.3   \n",
              "2021-08-01                           29.8                           27.8   \n",
              "2021-08-01                           37.0                           29.9   \n",
              "2021-08-01                           35.1                           28.0   \n",
              "\n",
              "            shortwave_radiation_sum (MJ/m²)  rain_sum (mm)  \\\n",
              "time                                                         \n",
              "2018-01-01                            17.59            7.7   \n",
              "2018-01-01                            18.15            7.5   \n",
              "2018-01-01                            23.24            4.9   \n",
              "2018-01-01                            19.10           15.2   \n",
              "2018-01-02                            19.87            9.4   \n",
              "...                                     ...            ...   \n",
              "2021-07-31                            21.54            0.0   \n",
              "2021-07-31                            18.58            1.1   \n",
              "2021-08-01                            18.20            1.6   \n",
              "2021-08-01                            21.01            0.0   \n",
              "2021-08-01                            20.22            0.1   \n",
              "\n",
              "            windspeed_10m_max (km/h)  windgusts_10m_max (km/h)  \\\n",
              "time                                                             \n",
              "2018-01-01                       6.9                      20.2   \n",
              "2018-01-01                      17.6                      32.0   \n",
              "2018-01-01                       6.9                      22.3   \n",
              "2018-01-01                       6.7                      24.5   \n",
              "2018-01-02                       7.1                      18.0   \n",
              "...                              ...                       ...   \n",
              "2021-07-31                       9.2                      20.2   \n",
              "2021-07-31                      23.4                      36.0   \n",
              "2021-08-01                      23.2                      36.0   \n",
              "2021-08-01                       9.1                      20.2   \n",
              "2021-08-01                      14.4                      37.4   \n",
              "\n",
              "            et0_fao_evapotranspiration (mm) sunrise (datetime64)  \\\n",
              "time                                                               \n",
              "2018-01-01                             3.61  2018-01-01 05:15:00   \n",
              "2018-01-01                             3.46  2018-01-01 05:03:00   \n",
              "2018-01-01                             4.93  2018-01-01 05:36:00   \n",
              "2018-01-01                             3.92  2018-01-01 05:04:00   \n",
              "2018-01-02                             4.11  2018-01-02 05:15:00   \n",
              "...                                     ...                  ...   \n",
              "2021-07-31                             4.61  2021-07-31 05:40:00   \n",
              "2021-07-31                             3.43  2021-07-31 05:31:00   \n",
              "2021-08-01                             3.29  2021-08-01 05:31:00   \n",
              "2021-08-01                             4.63  2021-08-01 05:40:00   \n",
              "2021-08-01                             4.08  2021-08-01 05:31:00   \n",
              "\n",
              "           sunset (datetime64)  klasifikasi_no rain  klasifikasi_rain  \n",
              "time                                                                   \n",
              "2018-01-01 2018-01-01 17:49:00                    0                 1  \n",
              "2018-01-01 2018-01-01 17:41:00                    0                 1  \n",
              "2018-01-01 2018-01-01 18:09:00                    0                 1  \n",
              "2018-01-01 2018-01-01 17:41:00                    0                 1  \n",
              "2018-01-02 2018-01-02 17:50:00                    0                 1  \n",
              "...                        ...                  ...               ...  \n",
              "2021-07-31 2021-07-31 17:30:00                    1                 0  \n",
              "2021-07-31 2021-07-31 17:18:00                    0                 1  \n",
              "2021-08-01 2021-08-01 17:18:00                    0                 1  \n",
              "2021-08-01 2021-08-01 17:30:00                    1                 0  \n",
              "2021-08-01 2021-08-01 17:19:00                    0                 1  \n",
              "\n",
              "[3928 rows x 13 columns]"
            ]
          },
          "execution_count": 18,
          "metadata": {},
          "output_type": "execute_result"
        }
      ],
      "source": [
        "data_baru = data_baru.drop(data_baru.columns[[4, 5, 8, 11, 13, 14]], axis=1)\n",
        "data_baru = pd.get_dummies(data_baru)\n",
        "data_baru"
      ]
    },
    {
      "cell_type": "code",
      "execution_count": 19,
      "metadata": {
        "colab": {
          "base_uri": "https://localhost:8080/"
        },
        "id": "PZtR_zlLfmbR",
        "outputId": "8e9eaaa0-16da-4fd5-cce6-04f57c1e845a"
      },
      "outputs": [
        {
          "name": "stdout",
          "output_type": "stream",
          "text": [
            "<class 'pandas.core.frame.DataFrame'>\n",
            "Index: 3928 entries, 2018-01-01 to 2021-08-01\n",
            "Data columns (total 13 columns):\n",
            " #   Column                           Non-Null Count  Dtype         \n",
            "---  ------                           --------------  -----         \n",
            " 0   temperature_2m_max (°C)          3928 non-null   float64       \n",
            " 1   temperature_2m_min (°C)          3928 non-null   float64       \n",
            " 2   apparent_temperature_max (°C)    3928 non-null   float64       \n",
            " 3   apparent_temperature_min (°C)    3928 non-null   float64       \n",
            " 4   shortwave_radiation_sum (MJ/m²)  3928 non-null   float64       \n",
            " 5   rain_sum (mm)                    3928 non-null   float64       \n",
            " 6   windspeed_10m_max (km/h)         3928 non-null   float64       \n",
            " 7   windgusts_10m_max (km/h)         3928 non-null   float64       \n",
            " 8   et0_fao_evapotranspiration (mm)  3928 non-null   float64       \n",
            " 9   sunrise (datetime64)             3928 non-null   datetime64[ns]\n",
            " 10  sunset (datetime64)              3928 non-null   datetime64[ns]\n",
            " 11  klasifikasi_no rain              3928 non-null   uint8         \n",
            " 12  klasifikasi_rain                 3928 non-null   uint8         \n",
            "dtypes: datetime64[ns](2), float64(9), uint8(2)\n",
            "memory usage: 505.0+ KB\n"
          ]
        }
      ],
      "source": [
        "data_baru.info()"
      ]
    },
    {
      "attachments": {},
      "cell_type": "markdown",
      "metadata": {},
      "source": [
        "Membagi data train dataset"
      ]
    },
    {
      "cell_type": "code",
      "execution_count": 20,
      "metadata": {
        "id": "65gEWIZNfmbm"
      },
      "outputs": [],
      "source": [
        "from sklearn import preprocessing\n",
        "\n",
        "df_new = data_baru\n",
        "X = df_new.drop(df_new.columns[[5, 9, 10,11,12]], axis=1)"
      ]
    },
    {
      "cell_type": "code",
      "execution_count": 21,
      "metadata": {
        "id": "bvR4gXUcfmbm"
      },
      "outputs": [],
      "source": [
        "y = df_new[['klasifikasi_rain','klasifikasi_no rain']]"
      ]
    },
    {
      "cell_type": "code",
      "execution_count": 22,
      "metadata": {
        "id": "ivGHhj7hfmbn"
      },
      "outputs": [],
      "source": [
        "from sklearn.model_selection import train_test_split\n",
        "X_train, X_test, y_train, y_test = train_test_split(X, y, train_size = 0.8, test_size = 0.2, random_state = 100)"
      ]
    },
    {
      "attachments": {},
      "cell_type": "markdown",
      "metadata": {},
      "source": [
        "### Model Development"
      ]
    },
    {
      "attachments": {},
      "cell_type": "markdown",
      "metadata": {},
      "source": [
        "mendefenisikan hyperparameter"
      ]
    },
    {
      "cell_type": "code",
      "execution_count": 23,
      "metadata": {
        "id": "xlB813wYfmbo"
      },
      "outputs": [],
      "source": [
        "from scipy.stats import uniform\n",
        "import numpy as np\n",
        "\n",
        "params = {\n",
        "    'n_estimators': [100],\n",
        "    'max_depth': [6],\n",
        "    'learning_rate': np.logspace(-3, 0, 50)\n",
        "}"
      ]
    },
    {
      "attachments": {},
      "cell_type": "markdown",
      "metadata": {},
      "source": [
        "Tuning dengan RSCV"
      ]
    },
    {
      "cell_type": "code",
      "execution_count": 24,
      "metadata": {
        "colab": {
          "base_uri": "https://localhost:8080/"
        },
        "collapsed": true,
        "id": "0o3L_TPIfmbo",
        "outputId": "f6a6436e-1c12-4b31-b372-62bb93211216"
      },
      "outputs": [
        {
          "name": "stdout",
          "output_type": "stream",
          "text": [
            "Best hyperparameters:  {'n_estimators': 100, 'max_depth': 6, 'learning_rate': 0.10481131341546852}\n",
            "AUC_ROC 0.9228996991890612\n"
          ]
        }
      ],
      "source": [
        "from sklearn.model_selection import RandomizedSearchCV\n",
        "from sklearn.metrics import make_scorer\n",
        "from xgboost import XGBRegressor, XGBClassifier\n",
        "\n",
        "# Define the XGBoost model\n",
        "xgb_model = XGBClassifier(\n",
        "    objective='binary:logistic'\n",
        "    )\n",
        "\n",
        "# Perform random search\n",
        "search = RandomizedSearchCV(\n",
        "    xgb_model, param_distributions=params, \n",
        "    n_iter=30, \n",
        "    cv=10, \n",
        "    scoring='roc_auc', \n",
        "    n_jobs=-1\n",
        "    )\n",
        "search.fit(X_train, y_train)\n",
        "print(\"Best hyperparameters: \", search.best_params_)\n",
        "print(\"AUC_ROC\", search.best_score_)"
      ]
    },
    {
      "cell_type": "code",
      "execution_count": 25,
      "metadata": {},
      "outputs": [
        {
          "name": "stdout",
          "output_type": "stream",
          "text": [
            "Best hyperparameters:  {'learning_rate': 0.1134737555857552, 'max_depth': 6, 'n_estimators': 100}\n",
            "AUC_ROC 0.9232826877822543\n"
          ]
        }
      ],
      "source": [
        "from sklearn.model_selection import GridSearchCV\n",
        "\n",
        "#fine search\n",
        "best_params = search.best_params_\n",
        "param_dist = {\n",
        "    'n_estimators': [100],\n",
        "    'max_depth': [6],\n",
        "    'learning_rate': np.logspace(np.log10(best_params['learning_rate']-0.01), np.log10(best_params['learning_rate']+0.01), 50),\n",
        "}\n",
        "\n",
        "fine_search = GridSearchCV(\n",
        "    xgb_model, param_grid=param_dist, \n",
        "    cv=10, \n",
        "    scoring='roc_auc', \n",
        "    n_jobs=-1\n",
        "    )\n",
        "fine_search.fit(X_train, y_train)\n",
        "\n",
        "print(\"Best hyperparameters: \", fine_search.best_params_)\n",
        "print(\"AUC_ROC\", fine_search.best_score_)"
      ]
    },
    {
      "attachments": {},
      "cell_type": "markdown",
      "metadata": {},
      "source": [
        "Hasil tuning"
      ]
    },
    {
      "cell_type": "code",
      "execution_count": 26,
      "metadata": {},
      "outputs": [
        {
          "data": {
            "text/html": [
              "<div>\n",
              "<style scoped>\n",
              "    .dataframe tbody tr th:only-of-type {\n",
              "        vertical-align: middle;\n",
              "    }\n",
              "\n",
              "    .dataframe tbody tr th {\n",
              "        vertical-align: top;\n",
              "    }\n",
              "\n",
              "    .dataframe thead th {\n",
              "        text-align: right;\n",
              "    }\n",
              "</style>\n",
              "<table border=\"1\" class=\"dataframe\">\n",
              "  <thead>\n",
              "    <tr style=\"text-align: right;\">\n",
              "      <th></th>\n",
              "      <th>mean_fit_time</th>\n",
              "      <th>std_fit_time</th>\n",
              "      <th>mean_score_time</th>\n",
              "      <th>std_score_time</th>\n",
              "      <th>param_n_estimators</th>\n",
              "      <th>param_max_depth</th>\n",
              "      <th>param_learning_rate</th>\n",
              "      <th>params</th>\n",
              "      <th>split0_test_score</th>\n",
              "      <th>split1_test_score</th>\n",
              "      <th>...</th>\n",
              "      <th>split3_test_score</th>\n",
              "      <th>split4_test_score</th>\n",
              "      <th>split5_test_score</th>\n",
              "      <th>split6_test_score</th>\n",
              "      <th>split7_test_score</th>\n",
              "      <th>split8_test_score</th>\n",
              "      <th>split9_test_score</th>\n",
              "      <th>mean_test_score</th>\n",
              "      <th>std_test_score</th>\n",
              "      <th>rank_test_score</th>\n",
              "    </tr>\n",
              "  </thead>\n",
              "  <tbody>\n",
              "    <tr>\n",
              "      <th>0</th>\n",
              "      <td>0.925775</td>\n",
              "      <td>0.026069</td>\n",
              "      <td>0.015401</td>\n",
              "      <td>0.013552</td>\n",
              "      <td>100</td>\n",
              "      <td>6</td>\n",
              "      <td>0.120679</td>\n",
              "      <td>{'n_estimators': 100, 'max_depth': 6, 'learnin...</td>\n",
              "      <td>0.929628</td>\n",
              "      <td>0.912354</td>\n",
              "      <td>...</td>\n",
              "      <td>0.926852</td>\n",
              "      <td>0.914133</td>\n",
              "      <td>0.932905</td>\n",
              "      <td>0.914916</td>\n",
              "      <td>0.919111</td>\n",
              "      <td>0.925337</td>\n",
              "      <td>0.918364</td>\n",
              "      <td>0.921960</td>\n",
              "      <td>0.006741</td>\n",
              "      <td>2</td>\n",
              "    </tr>\n",
              "    <tr>\n",
              "      <th>1</th>\n",
              "      <td>1.061886</td>\n",
              "      <td>0.048723</td>\n",
              "      <td>0.010801</td>\n",
              "      <td>0.002272</td>\n",
              "      <td>100</td>\n",
              "      <td>6</td>\n",
              "      <td>0.025595</td>\n",
              "      <td>{'n_estimators': 100, 'max_depth': 6, 'learnin...</td>\n",
              "      <td>0.923537</td>\n",
              "      <td>0.901619</td>\n",
              "      <td>...</td>\n",
              "      <td>0.906491</td>\n",
              "      <td>0.900845</td>\n",
              "      <td>0.922517</td>\n",
              "      <td>0.899187</td>\n",
              "      <td>0.914820</td>\n",
              "      <td>0.919829</td>\n",
              "      <td>0.904299</td>\n",
              "      <td>0.910975</td>\n",
              "      <td>0.008998</td>\n",
              "      <td>15</td>\n",
              "    </tr>\n",
              "    <tr>\n",
              "      <th>2</th>\n",
              "      <td>0.928475</td>\n",
              "      <td>0.036998</td>\n",
              "      <td>0.010201</td>\n",
              "      <td>0.000872</td>\n",
              "      <td>100</td>\n",
              "      <td>6</td>\n",
              "      <td>0.104811</td>\n",
              "      <td>{'n_estimators': 100, 'max_depth': 6, 'learnin...</td>\n",
              "      <td>0.933989</td>\n",
              "      <td>0.913951</td>\n",
              "      <td>...</td>\n",
              "      <td>0.923566</td>\n",
              "      <td>0.918131</td>\n",
              "      <td>0.928624</td>\n",
              "      <td>0.917957</td>\n",
              "      <td>0.922208</td>\n",
              "      <td>0.923960</td>\n",
              "      <td>0.923925</td>\n",
              "      <td>0.922900</td>\n",
              "      <td>0.005349</td>\n",
              "      <td>1</td>\n",
              "    </tr>\n",
              "    <tr>\n",
              "      <th>3</th>\n",
              "      <td>0.939575</td>\n",
              "      <td>0.021315</td>\n",
              "      <td>0.010101</td>\n",
              "      <td>0.001136</td>\n",
              "      <td>100</td>\n",
              "      <td>6</td>\n",
              "      <td>0.244205</td>\n",
              "      <td>{'n_estimators': 100, 'max_depth': 6, 'learnin...</td>\n",
              "      <td>0.924681</td>\n",
              "      <td>0.911143</td>\n",
              "      <td>...</td>\n",
              "      <td>0.925774</td>\n",
              "      <td>0.910698</td>\n",
              "      <td>0.924488</td>\n",
              "      <td>0.921274</td>\n",
              "      <td>0.922153</td>\n",
              "      <td>0.922685</td>\n",
              "      <td>0.912617</td>\n",
              "      <td>0.920516</td>\n",
              "      <td>0.006314</td>\n",
              "      <td>5</td>\n",
              "    </tr>\n",
              "    <tr>\n",
              "      <th>4</th>\n",
              "      <td>1.105888</td>\n",
              "      <td>0.015159</td>\n",
              "      <td>0.011402</td>\n",
              "      <td>0.003072</td>\n",
              "      <td>100</td>\n",
              "      <td>6</td>\n",
              "      <td>0.002683</td>\n",
              "      <td>{'n_estimators': 100, 'max_depth': 6, 'learnin...</td>\n",
              "      <td>0.889894</td>\n",
              "      <td>0.880340</td>\n",
              "      <td>...</td>\n",
              "      <td>0.890385</td>\n",
              "      <td>0.877815</td>\n",
              "      <td>0.910110</td>\n",
              "      <td>0.874641</td>\n",
              "      <td>0.884778</td>\n",
              "      <td>0.889229</td>\n",
              "      <td>0.878902</td>\n",
              "      <td>0.885595</td>\n",
              "      <td>0.009706</td>\n",
              "      <td>27</td>\n",
              "    </tr>\n",
              "  </tbody>\n",
              "</table>\n",
              "<p>5 rows × 21 columns</p>\n",
              "</div>"
            ],
            "text/plain": [
              "   mean_fit_time  std_fit_time  mean_score_time  std_score_time  \\\n",
              "0       0.925775      0.026069         0.015401        0.013552   \n",
              "1       1.061886      0.048723         0.010801        0.002272   \n",
              "2       0.928475      0.036998         0.010201        0.000872   \n",
              "3       0.939575      0.021315         0.010101        0.001136   \n",
              "4       1.105888      0.015159         0.011402        0.003072   \n",
              "\n",
              "  param_n_estimators param_max_depth param_learning_rate  \\\n",
              "0                100               6            0.120679   \n",
              "1                100               6            0.025595   \n",
              "2                100               6            0.104811   \n",
              "3                100               6            0.244205   \n",
              "4                100               6            0.002683   \n",
              "\n",
              "                                              params  split0_test_score  \\\n",
              "0  {'n_estimators': 100, 'max_depth': 6, 'learnin...           0.929628   \n",
              "1  {'n_estimators': 100, 'max_depth': 6, 'learnin...           0.923537   \n",
              "2  {'n_estimators': 100, 'max_depth': 6, 'learnin...           0.933989   \n",
              "3  {'n_estimators': 100, 'max_depth': 6, 'learnin...           0.924681   \n",
              "4  {'n_estimators': 100, 'max_depth': 6, 'learnin...           0.889894   \n",
              "\n",
              "   split1_test_score  ...  split3_test_score  split4_test_score  \\\n",
              "0           0.912354  ...           0.926852           0.914133   \n",
              "1           0.901619  ...           0.906491           0.900845   \n",
              "2           0.913951  ...           0.923566           0.918131   \n",
              "3           0.911143  ...           0.925774           0.910698   \n",
              "4           0.880340  ...           0.890385           0.877815   \n",
              "\n",
              "   split5_test_score  split6_test_score  split7_test_score  split8_test_score  \\\n",
              "0           0.932905           0.914916           0.919111           0.925337   \n",
              "1           0.922517           0.899187           0.914820           0.919829   \n",
              "2           0.928624           0.917957           0.922208           0.923960   \n",
              "3           0.924488           0.921274           0.922153           0.922685   \n",
              "4           0.910110           0.874641           0.884778           0.889229   \n",
              "\n",
              "   split9_test_score  mean_test_score  std_test_score  rank_test_score  \n",
              "0           0.918364         0.921960        0.006741                2  \n",
              "1           0.904299         0.910975        0.008998               15  \n",
              "2           0.923925         0.922900        0.005349                1  \n",
              "3           0.912617         0.920516        0.006314                5  \n",
              "4           0.878902         0.885595        0.009706               27  \n",
              "\n",
              "[5 rows x 21 columns]"
            ]
          },
          "execution_count": 26,
          "metadata": {},
          "output_type": "execute_result"
        }
      ],
      "source": [
        "results = search.cv_results_\n",
        "tuning_result = pd.DataFrame(results)\n",
        "tuning_result.head()"
      ]
    },
    {
      "cell_type": "code",
      "execution_count": 27,
      "metadata": {
        "colab": {
          "base_uri": "https://localhost:8080/"
        },
        "id": "zieiIE-2Madr",
        "outputId": "c5719104-88da-4619-f08b-0f1a011c652b"
      },
      "outputs": [
        {
          "name": "stdout",
          "output_type": "stream",
          "text": [
            "Best hyperparameters:  {'n_estimators': 100, 'max_depth': 6, 'learning_rate': 0.10481131341546852}\n",
            "AUC_ROC 0.9228996991890612\n"
          ]
        }
      ],
      "source": [
        "import numpy as np\n",
        "\n",
        "print(\"Best hyperparameters: \", search.best_params_)\n",
        "print(\"AUC_ROC\", search.best_score_)\n"
      ]
    },
    {
      "attachments": {},
      "cell_type": "markdown",
      "metadata": {},
      "source": [
        "### Model Evaluation"
      ]
    },
    {
      "cell_type": "code",
      "execution_count": 28,
      "metadata": {
        "colab": {
          "base_uri": "https://localhost:8080/"
        },
        "id": "MNdxb-kqfmbp",
        "outputId": "334cadc8-e020-448f-86ff-fc147915f6ab"
      },
      "outputs": [
        {
          "name": "stdout",
          "output_type": "stream",
          "text": [
            "Accuracy: 0.86\n",
            "Precision: 0.86\n",
            "Recall: 0.86\n",
            "F1-score: 0.86\n",
            "ROC-AUC score: 0.84\n"
          ]
        }
      ],
      "source": [
        "from sklearn.metrics import accuracy_score, precision_score, recall_score, f1_score, roc_auc_score\n",
        "import numpy as np\n",
        "\n",
        "\n",
        "# Train and evaluate the model with best hyperparameters on the validation set\n",
        "best_xgb_model = XGBClassifier(**search.best_params_,objective='binary:logistic')\n",
        "best_xgb_model.fit(X_train, y_train)\n",
        "y_pred = best_xgb_model.predict(X_test)\n",
        "\n",
        "\n",
        "# calculate the accuracy, precision, recall, and F1-score of the model\n",
        "accuracy = accuracy_score(y_test, y_pred)\n",
        "precision = precision_score(y_test, y_pred, average='micro')\n",
        "recall = recall_score(y_test, y_pred, average='micro')\n",
        "f1 = f1_score(y_test, y_pred, average='micro')\n",
        "\n",
        "# calculate the ROC-AUC score of the model\n",
        "roc_auc = roc_auc_score(y_test, y_pred)\n",
        "\n",
        "# print the evaluation metrics\n",
        "print(f\"Accuracy: {accuracy:.2f}\")\n",
        "print(f\"Precision: {precision:.2f}\")\n",
        "print(f\"Recall: {recall:.2f}\")\n",
        "print(f\"F1-score: {f1:.2f}\")\n",
        "print(f\"ROC-AUC score: {roc_auc:.2f}\")"
      ]
    },
    {
      "cell_type": "code",
      "execution_count": 29,
      "metadata": {},
      "outputs": [
        {
          "name": "stdout",
          "output_type": "stream",
          "text": [
            "              precision    recall  f1-score   support\n",
            "\n",
            "           0       0.89      0.91      0.90       557\n",
            "           1       0.78      0.73      0.76       229\n",
            "\n",
            "   micro avg       0.86      0.86      0.86       786\n",
            "   macro avg       0.84      0.82      0.83       786\n",
            "weighted avg       0.86      0.86      0.86       786\n",
            " samples avg       0.86      0.86      0.86       786\n",
            "\n"
          ]
        }
      ],
      "source": [
        "from sklearn.metrics import  classification_report\n",
        "print(classification_report(y_pred, y_test))"
      ]
    },
    {
      "attachments": {},
      "cell_type": "markdown",
      "metadata": {},
      "source": [
        "#### confussion matrix"
      ]
    },
    {
      "cell_type": "code",
      "execution_count": 30,
      "metadata": {},
      "outputs": [
        {
          "name": "stdout",
          "output_type": "stream",
          "text": [
            "[[509  61]\n",
            " [ 48 168]]\n"
          ]
        },
        {
          "data": {
            "text/plain": [
              "<AxesSubplot:>"
            ]
          },
          "execution_count": 30,
          "metadata": {},
          "output_type": "execute_result"
        },
        {
          "data": {
            "image/png": "[encoded data removed]",
            "text/plain": [
              "<Figure size 432x288 with 2 Axes>"
            ]
          },
          "metadata": {
            "needs_background": "light"
          },
          "output_type": "display_data"
        }
      ],
      "source": [
        "from sklearn.metrics import confusion_matrix\n",
        "\n",
        "cm = confusion_matrix(\n",
        "    y_test.values.argmax(axis=1), y_pred.argmax(axis=1))\n",
        "print(cm)\n",
        "sns.heatmap(cm, annot=True)"
      ]
    },
    {
      "attachments": {},
      "cell_type": "markdown",
      "metadata": {},
      "source": [
        "#### Visualisasi Tuning"
      ]
    },
    {
      "cell_type": "code",
      "execution_count": 31,
      "metadata": {},
      "outputs": [],
      "source": [
        "result_coarse = search.cv_results_\n",
        "result_fine = fine_search.cv_results_"
      ]
    },
    {
      "cell_type": "code",
      "execution_count": 32,
      "metadata": {},
      "outputs": [],
      "source": [
        "params_key = [f\"param_{p}\" for p in params.keys()]\n",
        "params_key.append('AUC_ROC')"
      ]
    },
    {
      "cell_type": "code",
      "execution_count": 33,
      "metadata": {
        "colab": {
          "base_uri": "https://localhost:8080/"
        },
        "id": "wFREBkx_lEu6",
        "outputId": "24767054-f452-43cc-c621-baddb50c4453"
      },
      "outputs": [],
      "source": [
        "import pandas as pd\n",
        "\n",
        "AUC = []\n",
        "for mean_score in result_coarse[\"mean_test_score\"]:\n",
        "    AUC.append(mean_score)\n",
        "aoc_roc = {}\n",
        "aoc_roc['AUC_ROC'] = AUC\n",
        "result_coarse['AUC_ROC'] = AUC"
      ]
    },
    {
      "cell_type": "code",
      "execution_count": 34,
      "metadata": {
        "id": "8xyqrxo3jWHX"
      },
      "outputs": [],
      "source": [
        "AUC_Fine = []\n",
        "for mean_score in result_fine[\"mean_test_score\"]:\n",
        "    AUC_Fine.append(mean_score)\n",
        "aoc_roc_fine = {}\n",
        "aoc_roc_fine['AUC_ROC'] = AUC_Fine\n",
        "result_fine['AUC_ROC'] = AUC_Fine"
      ]
    },
    {
      "cell_type": "code",
      "execution_count": 36,
      "metadata": {
        "colab": {
          "base_uri": "https://localhost:8080/",
          "height": 542
        },
        "id": "CQRf1qtwKZxP",
        "outputId": "b2f448ea-676b-416c-e1fe-0781daad02ad"
      },
      "outputs": [
        {
          "data": {
            "application/vnd.plotly.v1+json": {
              "config": {
                "plotlyServerURL": "https://plot.ly"
              },
              "data": [
                {
                  "hovertemplate": "param_learning_rate=%{x}<br>AUC_ROC=%{marker.color}<extra></extra>",
                  "legendgroup": "",
                  "marker": {
                    "color": [
                      0.9219595934538708,
                      0.9109749022448981,
                      0.9228996991890612,
                      0.9205158117556568,
                      0.8855953891463961,
                      0.9213308433995749,
                      0.910995747860864,
                      0.8769201552211655,
                      0.9012882667352577,
                      0.903596525901434,
                      0.8993617175539097,
                      0.9163629455148168,
                      0.8834275221458204,
                      0.9190898547821058,
                      0.8870857560727942,
                      0.9199876108633911,
                      0.8970603474559535,
                      0.8939023042550508,
                      0.9091783144657366,
                      0.9201429884783876,
                      0.9189783711592769,
                      0.911956021107264,
                      0.898955173581624,
                      0.9159592598577697,
                      0.9207837443988552,
                      0.8953096279603041,
                      0.8817685088527375,
                      0.9138739093940623,
                      0.8914542092078334,
                      0.9082515301580806
                    ],
                    "coloraxis": "coloraxis",
                    "symbol": "circle"
                  },
                  "mode": "markers",
                  "name": "",
                  "orientation": "v",
                  "showlegend": false,
                  "type": "scatter",
                  "x": [
                    0.1206792640639329,
                    0.025595479226995357,
                    0.10481131341546852,
                    0.244205309454865,
                    0.0026826957952797246,
                    0.21209508879201905,
                    0.868511373751352,
                    0.0013257113655901094,
                    0.012648552168552958,
                    0.014563484775012436,
                    0.010985411419875584,
                    0.655128556859551,
                    0.002329951810515372,
                    0.3727593720314938,
                    0.0030888435964774815,
                    0.05963623316594643,
                    0.0071968567300115215,
                    0.005428675439323859,
                    0.022229964825261943,
                    0.06866488450043001,
                    0.0517947467923121,
                    0.029470517025518096,
                    0.009540954763499945,
                    0.42919342601287785,
                    0.07906043210907697,
                    0.006250551925273976,
                    0.0020235896477251575,
                    0.03393221771895328,
                    0.004714866363457394,
                    0.019306977288832496
                  ],
                  "xaxis": "x",
                  "y": [
                    0.9219595934538708,
                    0.9109749022448981,
                    0.9228996991890612,
                    0.9205158117556568,
                    0.8855953891463961,
                    0.9213308433995749,
                    0.910995747860864,
                    0.8769201552211655,
                    0.9012882667352577,
                    0.903596525901434,
                    0.8993617175539097,
                    0.9163629455148168,
                    0.8834275221458204,
                    0.9190898547821058,
                    0.8870857560727942,
                    0.9199876108633911,
                    0.8970603474559535,
                    0.8939023042550508,
                    0.9091783144657366,
                    0.9201429884783876,
                    0.9189783711592769,
                    0.911956021107264,
                    0.898955173581624,
                    0.9159592598577697,
                    0.9207837443988552,
                    0.8953096279603041,
                    0.8817685088527375,
                    0.9138739093940623,
                    0.8914542092078334,
                    0.9082515301580806
                  ],
                  "yaxis": "y"
                },
                {
                  "hovertemplate": "param_learning_rate=%{x}<br>AUC_ROC=%{y}<extra></extra>",
                  "legendgroup": "",
                  "marker": {
                    "color": "#636efa",
                    "symbol": "circle"
                  },
                  "mode": "markers",
                  "name": "",
                  "orientation": "v",
                  "showlegend": false,
                  "type": "scatter",
                  "x": [
                    0.09481131341546851,
                    0.09518238476160028,
                    0.09555490840217833,
                    0.09592889002117475,
                    0.09630433532480735,
                    0.09668125004162711,
                    0.09705963992260512,
                    0.09743951074122062,
                    0.09782086829354902,
                    0.09820371839835036,
                    0.09858806689715803,
                    0.098973919654368,
                    0.09936128255732811,
                    0.09975016151642827,
                    0.10014056246519017,
                    0.10053249136035815,
                    0.10092595418198994,
                    0.10132095693354799,
                    0.10171750564199097,
                    0.10211560635786587,
                    0.10251526515540017,
                    0.10291648813259457,
                    0.10331928141131615,
                    0.10372365113739156,
                    0.10412960348070097,
                    0.10453714463527211,
                    0.10494628081937493,
                    0.10535701827561623,
                    0.10576936327103513,
                    0.10618332209719854,
                    0.10659890107029735,
                    0.10701610653124255,
                    0.10743494484576219,
                    0.10785542240449834,
                    0.10827754562310483,
                    0.10870132094234489,
                    0.10912675482818948,
                    0.10955385377191618,
                    0.10998262429020786,
                    0.11041307292525243,
                    0.11084520624484243,
                    0.11127903084247547,
                    0.11171455333745461,
                    0.1121517803749895,
                    0.11259071862629767,
                    0.11303137478870652,
                    0.1134737555857552,
                    0.11391786776729748,
                    0.11436371810960454,
                    0.11481131341546853
                  ],
                  "xaxis": "x",
                  "y": [
                    0.9215261947047864,
                    0.9216073827410323,
                    0.9212132267209603,
                    0.9221152025484731,
                    0.9224917956115164,
                    0.9222018685530046,
                    0.9223726677162283,
                    0.923095846865013,
                    0.9223614380639423,
                    0.9208502918119901,
                    0.9216093773799707,
                    0.9219437619967907,
                    0.9222312046473679,
                    0.9224819165038891,
                    0.9216379753023954,
                    0.9219253956265827,
                    0.922311474811592,
                    0.9223212520090588,
                    0.9222809318938456,
                    0.9223407665808641,
                    0.9214193133100828,
                    0.921807663496535,
                    0.9213177652479905,
                    0.9208990868978587,
                    0.9224196334280611,
                    0.922298116271639,
                    0.9224142219330981,
                    0.9227326666104195,
                    0.9230818572271717,
                    0.921426884963277,
                    0.9208704132924369,
                    0.9208032281359773,
                    0.922559089502762,
                    0.9217053667377273,
                    0.9222024256652641,
                    0.9214939338873972,
                    0.9211230756591047,
                    0.9220575270267357,
                    0.9210028217222902,
                    0.9218947383500149,
                    0.9221960276402914,
                    0.9219112915956034,
                    0.9220501401644745,
                    0.9214662495798887,
                    0.9219819928819415,
                    0.9224030158957384,
                    0.9232826877822543,
                    0.9227228427059604,
                    0.9225032544821472,
                    0.921809294317699
                  ],
                  "yaxis": "y"
                }
              ],
              "layout": {
                "coloraxis": {
                  "colorbar": {
                    "title": {
                      "text": "AUC_ROC"
                    }
                  },
                  "colorscale": [
                    [
                      0,
                      "#0d0887"
                    ],
                    [
                      0.1111111111111111,
                      "#46039f"
                    ],
                    [
                      0.2222222222222222,
                      "#7201a8"
                    ],
                    [
                      0.3333333333333333,
                      "#9c179e"
                    ],
                    [
                      0.4444444444444444,
                      "#bd3786"
                    ],
                    [
                      0.5555555555555556,
                      "#d8576b"
                    ],
                    [
                      0.6666666666666666,
                      "#ed7953"
                    ],
                    [
                      0.7777777777777778,
                      "#fb9f3a"
                    ],
                    [
                      0.8888888888888888,
                      "#fdca26"
                    ],
                    [
                      1,
                      "#f0f921"
                    ]
                  ]
                },
                "legend": {
                  "tracegroupgap": 0
                },
                "margin": {
                  "t": 60
                },
                "template": {
                  "data": {
                    "bar": [
                      {
                        "error_x": {
                          "color": "#2a3f5f"
                        },
                        "error_y": {
                          "color": "#2a3f5f"
                        },
                        "marker": {
                          "line": {
                            "color": "#E5ECF6",
                            "width": 0.5
                          },
                          "pattern": {
                            "fillmode": "overlay",
                            "size": 10,
                            "solidity": 0.2
                          }
                        },
                        "type": "bar"
                      }
                    ],
                    "barpolar": [
                      {
                        "marker": {
                          "line": {
                            "color": "#E5ECF6",
                            "width": 0.5
                          },
                          "pattern": {
                            "fillmode": "overlay",
                            "size": 10,
                            "solidity": 0.2
                          }
                        },
                        "type": "barpolar"
                      }
                    ],
                    "carpet": [
                      {
                        "aaxis": {
                          "endlinecolor": "#2a3f5f",
                          "gridcolor": "white",
                          "linecolor": "white",
                          "minorgridcolor": "white",
                          "startlinecolor": "#2a3f5f"
                        },
                        "baxis": {
                          "endlinecolor": "#2a3f5f",
                          "gridcolor": "white",
                          "linecolor": "white",
                          "minorgridcolor": "white",
                          "startlinecolor": "#2a3f5f"
                        },
                        "type": "carpet"
                      }
                    ],
                    "choropleth": [
                      {
                        "colorbar": {
                          "outlinewidth": 0,
                          "ticks": ""
                        },
                        "type": "choropleth"
                      }
                    ],
                    "contour": [
                      {
                        "colorbar": {
                          "outlinewidth": 0,
                          "ticks": ""
                        },
                        "colorscale": [
                          [
                            0,
                            "#0d0887"
                          ],
                          [
                            0.1111111111111111,
                            "#46039f"
                          ],
                          [
                            0.2222222222222222,
                            "#7201a8"
                          ],
                          [
                            0.3333333333333333,
                            "#9c179e"
                          ],
                          [
                            0.4444444444444444,
                            "#bd3786"
                          ],
                          [
                            0.5555555555555556,
                            "#d8576b"
                          ],
                          [
                            0.6666666666666666,
                            "#ed7953"
                          ],
                          [
                            0.7777777777777778,
                            "#fb9f3a"
                          ],
                          [
                            0.8888888888888888,
                            "#fdca26"
                          ],
                          [
                            1,
                            "#f0f921"
                          ]
                        ],
                        "type": "contour"
                      }
                    ],
                    "contourcarpet": [
                      {
                        "colorbar": {
                          "outlinewidth": 0,
                          "ticks": ""
                        },
                        "type": "contourcarpet"
                      }
                    ],
                    "heatmap": [
                      {
                        "colorbar": {
                          "outlinewidth": 0,
                          "ticks": ""
                        },
                        "colorscale": [
                          [
                            0,
                            "#0d0887"
                          ],
                          [
                            0.1111111111111111,
                            "#46039f"
                          ],
                          [
                            0.2222222222222222,
                            "#7201a8"
                          ],
                          [
                            0.3333333333333333,
                            "#9c179e"
                          ],
                          [
                            0.4444444444444444,
                            "#bd3786"
                          ],
                          [
                            0.5555555555555556,
                            "#d8576b"
                          ],
                          [
                            0.6666666666666666,
                            "#ed7953"
                          ],
                          [
                            0.7777777777777778,
                            "#fb9f3a"
                          ],
                          [
                            0.8888888888888888,
                            "#fdca26"
                          ],
                          [
                            1,
                            "#f0f921"
                          ]
                        ],
                        "type": "heatmap"
                      }
                    ],
                    "heatmapgl": [
                      {
                        "colorbar": {
                          "outlinewidth": 0,
                          "ticks": ""
                        },
                        "colorscale": [
                          [
                            0,
                            "#0d0887"
                          ],
                          [
                            0.1111111111111111,
                            "#46039f"
                          ],
                          [
                            0.2222222222222222,
                            "#7201a8"
                          ],
                          [
                            0.3333333333333333,
                            "#9c179e"
                          ],
                          [
                            0.4444444444444444,
                            "#bd3786"
                          ],
                          [
                            0.5555555555555556,
                            "#d8576b"
                          ],
                          [
                            0.6666666666666666,
                            "#ed7953"
                          ],
                          [
                            0.7777777777777778,
                            "#fb9f3a"
                          ],
                          [
                            0.8888888888888888,
                            "#fdca26"
                          ],
                          [
                            1,
                            "#f0f921"
                          ]
                        ],
                        "type": "heatmapgl"
                      }
                    ],
                    "histogram": [
                      {
                        "marker": {
                          "pattern": {
                            "fillmode": "overlay",
                            "size": 10,
                            "solidity": 0.2
                          }
                        },
                        "type": "histogram"
                      }
                    ],
                    "histogram2d": [
                      {
                        "colorbar": {
                          "outlinewidth": 0,
                          "ticks": ""
                        },
                        "colorscale": [
                          [
                            0,
                            "#0d0887"
                          ],
                          [
                            0.1111111111111111,
                            "#46039f"
                          ],
                          [
                            0.2222222222222222,
                            "#7201a8"
                          ],
                          [
                            0.3333333333333333,
                            "#9c179e"
                          ],
                          [
                            0.4444444444444444,
                            "#bd3786"
                          ],
                          [
                            0.5555555555555556,
                            "#d8576b"
                          ],
                          [
                            0.6666666666666666,
                            "#ed7953"
                          ],
                          [
                            0.7777777777777778,
                            "#fb9f3a"
                          ],
                          [
                            0.8888888888888888,
                            "#fdca26"
                          ],
                          [
                            1,
                            "#f0f921"
                          ]
                        ],
                        "type": "histogram2d"
                      }
                    ],
                    "histogram2dcontour": [
                      {
                        "colorbar": {
                          "outlinewidth": 0,
                          "ticks": ""
                        },
                        "colorscale": [
                          [
                            0,
                            "#0d0887"
                          ],
                          [
                            0.1111111111111111,
                            "#46039f"
                          ],
                          [
                            0.2222222222222222,
                            "#7201a8"
                          ],
                          [
                            0.3333333333333333,
                            "#9c179e"
                          ],
                          [
                            0.4444444444444444,
                            "#bd3786"
                          ],
                          [
                            0.5555555555555556,
                            "#d8576b"
                          ],
                          [
                            0.6666666666666666,
                            "#ed7953"
                          ],
                          [
                            0.7777777777777778,
                            "#fb9f3a"
                          ],
                          [
                            0.8888888888888888,
                            "#fdca26"
                          ],
                          [
                            1,
                            "#f0f921"
                          ]
                        ],
                        "type": "histogram2dcontour"
                      }
                    ],
                    "mesh3d": [
                      {
                        "colorbar": {
                          "outlinewidth": 0,
                          "ticks": ""
                        },
                        "type": "mesh3d"
                      }
                    ],
                    "parcoords": [
                      {
                        "line": {
                          "colorbar": {
                            "outlinewidth": 0,
                            "ticks": ""
                          }
                        },
                        "type": "parcoords"
                      }
                    ],
                    "pie": [
                      {
                        "automargin": true,
                        "type": "pie"
                      }
                    ],
                    "scatter": [
                      {
                        "fillpattern": {
                          "fillmode": "overlay",
                          "size": 10,
                          "solidity": 0.2
                        },
                        "type": "scatter"
                      }
                    ],
                    "scatter3d": [
                      {
                        "line": {
                          "colorbar": {
                            "outlinewidth": 0,
                            "ticks": ""
                          }
                        },
                        "marker": {
                          "colorbar": {
                            "outlinewidth": 0,
                            "ticks": ""
                          }
                        },
                        "type": "scatter3d"
                      }
                    ],
                    "scattercarpet": [
                      {
                        "marker": {
                          "colorbar": {
                            "outlinewidth": 0,
                            "ticks": ""
                          }
                        },
                        "type": "scattercarpet"
                      }
                    ],
                    "scattergeo": [
                      {
                        "marker": {
                          "colorbar": {
                            "outlinewidth": 0,
                            "ticks": ""
                          }
                        },
                        "type": "scattergeo"
                      }
                    ],
                    "scattergl": [
                      {
                        "marker": {
                          "colorbar": {
                            "outlinewidth": 0,
                            "ticks": ""
                          }
                        },
                        "type": "scattergl"
                      }
                    ],
                    "scattermapbox": [
                      {
                        "marker": {
                          "colorbar": {
                            "outlinewidth": 0,
                            "ticks": ""
                          }
                        },
                        "type": "scattermapbox"
                      }
                    ],
                    "scatterpolar": [
                      {
                        "marker": {
                          "colorbar": {
                            "outlinewidth": 0,
                            "ticks": ""
                          }
                        },
                        "type": "scatterpolar"
                      }
                    ],
                    "scatterpolargl": [
                      {
                        "marker": {
                          "colorbar": {
                            "outlinewidth": 0,
                            "ticks": ""
                          }
                        },
                        "type": "scatterpolargl"
                      }
                    ],
                    "scatterternary": [
                      {
                        "marker": {
                          "colorbar": {
                            "outlinewidth": 0,
                            "ticks": ""
                          }
                        },
                        "type": "scatterternary"
                      }
                    ],
                    "surface": [
                      {
                        "colorbar": {
                          "outlinewidth": 0,
                          "ticks": ""
                        },
                        "colorscale": [
                          [
                            0,
                            "#0d0887"
                          ],
                          [
                            0.1111111111111111,
                            "#46039f"
                          ],
                          [
                            0.2222222222222222,
                            "#7201a8"
                          ],
                          [
                            0.3333333333333333,
                            "#9c179e"
                          ],
                          [
                            0.4444444444444444,
                            "#bd3786"
                          ],
                          [
                            0.5555555555555556,
                            "#d8576b"
                          ],
                          [
                            0.6666666666666666,
                            "#ed7953"
                          ],
                          [
                            0.7777777777777778,
                            "#fb9f3a"
                          ],
                          [
                            0.8888888888888888,
                            "#fdca26"
                          ],
                          [
                            1,
                            "#f0f921"
                          ]
                        ],
                        "type": "surface"
                      }
                    ],
                    "table": [
                      {
                        "cells": {
                          "fill": {
                            "color": "#EBF0F8"
                          },
                          "line": {
                            "color": "white"
                          }
                        },
                        "header": {
                          "fill": {
                            "color": "#C8D4E3"
                          },
                          "line": {
                            "color": "white"
                          }
                        },
                        "type": "table"
                      }
                    ]
                  },
                  "layout": {
                    "annotationdefaults": {
                      "arrowcolor": "#2a3f5f",
                      "arrowhead": 0,
                      "arrowwidth": 1
                    },
                    "autotypenumbers": "strict",
                    "coloraxis": {
                      "colorbar": {
                        "outlinewidth": 0,
                        "ticks": ""
                      }
                    },
                    "colorscale": {
                      "diverging": [
                        [
                          0,
                          "#8e0152"
                        ],
                        [
                          0.1,
                          "#c51b7d"
                        ],
                        [
                          0.2,
                          "#de77ae"
                        ],
                        [
                          0.3,
                          "#f1b6da"
                        ],
                        [
                          0.4,
                          "#fde0ef"
                        ],
                        [
                          0.5,
                          "#f7f7f7"
                        ],
                        [
                          0.6,
                          "#e6f5d0"
                        ],
                        [
                          0.7,
                          "#b8e186"
                        ],
                        [
                          0.8,
                          "#7fbc41"
                        ],
                        [
                          0.9,
                          "#4d9221"
                        ],
                        [
                          1,
                          "#276419"
                        ]
                      ],
                      "sequential": [
                        [
                          0,
                          "#0d0887"
                        ],
                        [
                          0.1111111111111111,
                          "#46039f"
                        ],
                        [
                          0.2222222222222222,
                          "#7201a8"
                        ],
                        [
                          0.3333333333333333,
                          "#9c179e"
                        ],
                        [
                          0.4444444444444444,
                          "#bd3786"
                        ],
                        [
                          0.5555555555555556,
                          "#d8576b"
                        ],
                        [
                          0.6666666666666666,
                          "#ed7953"
                        ],
                        [
                          0.7777777777777778,
                          "#fb9f3a"
                        ],
                        [
                          0.8888888888888888,
                          "#fdca26"
                        ],
                        [
                          1,
                          "#f0f921"
                        ]
                      ],
                      "sequentialminus": [
                        [
                          0,
                          "#0d0887"
                        ],
                        [
                          0.1111111111111111,
                          "#46039f"
                        ],
                        [
                          0.2222222222222222,
                          "#7201a8"
                        ],
                        [
                          0.3333333333333333,
                          "#9c179e"
                        ],
                        [
                          0.4444444444444444,
                          "#bd3786"
                        ],
                        [
                          0.5555555555555556,
                          "#d8576b"
                        ],
                        [
                          0.6666666666666666,
                          "#ed7953"
                        ],
                        [
                          0.7777777777777778,
                          "#fb9f3a"
                        ],
                        [
                          0.8888888888888888,
                          "#fdca26"
                        ],
                        [
                          1,
                          "#f0f921"
                        ]
                      ]
                    },
                    "colorway": [
                      "#636efa",
                      "#EF553B",
                      "#00cc96",
                      "#ab63fa",
                      "#FFA15A",
                      "#19d3f3",
                      "#FF6692",
                      "#B6E880",
                      "#FF97FF",
                      "#FECB52"
                    ],
                    "font": {
                      "color": "#2a3f5f"
                    },
                    "geo": {
                      "bgcolor": "white",
                      "lakecolor": "white",
                      "landcolor": "#E5ECF6",
                      "showlakes": true,
                      "showland": true,
                      "subunitcolor": "white"
                    },
                    "hoverlabel": {
                      "align": "left"
                    },
                    "hovermode": "closest",
                    "mapbox": {
                      "style": "light"
                    },
                    "paper_bgcolor": "white",
                    "plot_bgcolor": "#E5ECF6",
                    "polar": {
                      "angularaxis": {
                        "gridcolor": "white",
                        "linecolor": "white",
                        "ticks": ""
                      },
                      "bgcolor": "#E5ECF6",
                      "radialaxis": {
                        "gridcolor": "white",
                        "linecolor": "white",
                        "ticks": ""
                      }
                    },
                    "scene": {
                      "xaxis": {
                        "backgroundcolor": "#E5ECF6",
                        "gridcolor": "white",
                        "gridwidth": 2,
                        "linecolor": "white",
                        "showbackground": true,
                        "ticks": "",
                        "zerolinecolor": "white"
                      },
                      "yaxis": {
                        "backgroundcolor": "#E5ECF6",
                        "gridcolor": "white",
                        "gridwidth": 2,
                        "linecolor": "white",
                        "showbackground": true,
                        "ticks": "",
                        "zerolinecolor": "white"
                      },
                      "zaxis": {
                        "backgroundcolor": "#E5ECF6",
                        "gridcolor": "white",
                        "gridwidth": 2,
                        "linecolor": "white",
                        "showbackground": true,
                        "ticks": "",
                        "zerolinecolor": "white"
                      }
                    },
                    "shapedefaults": {
                      "line": {
                        "color": "#2a3f5f"
                      }
                    },
                    "ternary": {
                      "aaxis": {
                        "gridcolor": "white",
                        "linecolor": "white",
                        "ticks": ""
                      },
                      "baxis": {
                        "gridcolor": "white",
                        "linecolor": "white",
                        "ticks": ""
                      },
                      "bgcolor": "#E5ECF6",
                      "caxis": {
                        "gridcolor": "white",
                        "linecolor": "white",
                        "ticks": ""
                      }
                    },
                    "title": {
                      "x": 0.05
                    },
                    "xaxis": {
                      "automargin": true,
                      "gridcolor": "white",
                      "linecolor": "white",
                      "ticks": "",
                      "title": {
                        "standoff": 15
                      },
                      "zerolinecolor": "white",
                      "zerolinewidth": 2
                    },
                    "yaxis": {
                      "automargin": true,
                      "gridcolor": "white",
                      "linecolor": "white",
                      "ticks": "",
                      "title": {
                        "standoff": 15
                      },
                      "zerolinecolor": "white",
                      "zerolinewidth": 2
                    }
                  }
                },
                "xaxis": {
                  "anchor": "y",
                  "domain": [
                    0,
                    1
                  ],
                  "title": {
                    "text": "param_learning_rate"
                  }
                },
                "yaxis": {
                  "anchor": "x",
                  "domain": [
                    0,
                    1
                  ],
                  "title": {
                    "text": "AUC_ROC"
                  }
                }
              }
            }
          },
          "metadata": {},
          "output_type": "display_data"
        }
      ],
      "source": [
        "import plotly.express as px\n",
        "import plotly.graph_objs as go\n",
        "\n",
        "# create a dataframe from results\n",
        "fig = px.scatter(result_coarse, x = params_key[2], \n",
        "                    y = params_key[3], \n",
        "                    color = 'AUC_ROC')\n",
        "fig.add_trace(px.scatter(result_fine, x = params_key[2], \n",
        "                    y = params_key[3]).data[0])\n",
        "\n",
        "# menyatukan kedua plot dalam satu objek\n",
        "\n",
        "fig.show()\n"
      ]
    }
  ],
  "metadata": {
    "colab": {
      "include_colab_link": true,
      "provenance": []
    },
    "kernelspec": {
      "display_name": "Python 3",
      "language": "python",
      "name": "python3"
    },
    "language_info": {
      "codemirror_mode": {
        "name": "ipython",
        "version": 3
      },
      "file_extension": ".py",
      "mimetype": "text/x-python",
      "name": "python",
      "nbconvert_exporter": "python",
      "pygments_lexer": "ipython3",
      "version": "3.10.7"
    },
    "vscode": {
      "interpreter": {
        "hash": "369f2c481f4da34e4445cda3fffd2e751bd1c4d706f27375911949ba6bb62e1c"
      }
    }
  },
  "nbformat": 4,
  "nbformat_minor": 0
}
