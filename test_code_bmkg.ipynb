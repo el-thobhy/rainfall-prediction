{
  "cells": [
    {
      "cell_type": "markdown",
      "metadata": {
        "colab_type": "text",
        "id": "view-in-github"
      },
      "source": [
        "<a href=\"https://colab.research.google.com/github/el-thobhy/rainfall-prediction/blob/master/test_code_kaggle.ipynb\" target=\"_parent\"><img src=\"https://colab.research.google.com/assets/colab-badge.svg\" alt=\"Open In Colab\"/></a>"
      ]
    },
    {
      "attachments": {},
      "cell_type": "markdown",
      "metadata": {},
      "source": [
        "## Data preprocessing"
      ]
    },
    {
      "cell_type": "code",
      "execution_count": 741,
      "metadata": {
        "id": "zhr4ixRNfmbI"
      },
      "outputs": [],
      "source": [
        "import pandas as pd\n",
        "import seaborn as sns"
      ]
    },
    {
      "attachments": {},
      "cell_type": "markdown",
      "metadata": {},
      "source": [
        "### Data Loading"
      ]
    },
    {
      "cell_type": "code",
      "execution_count": 742,
      "metadata": {
        "colab": {
          "base_uri": "https://localhost:8080/",
          "height": 288
        },
        "id": "Ey-339A5fmbK",
        "outputId": "df1602b7-7212-43ba-aa0b-24e6f6cbeb28"
      },
      "outputs": [
        {
          "data": {
            "text/html": [
              "<div>\n",
              "<style scoped>\n",
              "    .dataframe tbody tr th:only-of-type {\n",
              "        vertical-align: middle;\n",
              "    }\n",
              "\n",
              "    .dataframe tbody tr th {\n",
              "        vertical-align: top;\n",
              "    }\n",
              "\n",
              "    .dataframe thead th {\n",
              "        text-align: right;\n",
              "    }\n",
              "</style>\n",
              "<table border=\"1\" class=\"dataframe\">\n",
              "  <thead>\n",
              "    <tr style=\"text-align: right;\">\n",
              "      <th></th>\n",
              "      <th>Date and Time</th>\n",
              "      <th>Air Tmp (C) M 60 Min</th>\n",
              "      <th>Mag WD 60 Min (deg) M</th>\n",
              "      <th>Precip 1Hr (mm) M</th>\n",
              "      <th>QNH (hPa) M</th>\n",
              "      <th>RH (%) M 60 Min</th>\n",
              "      <th>True WD 60 Min (deg) M</th>\n",
              "      <th>WS 60 Min (kt) M</th>\n",
              "      <th>klasifikasi</th>\n",
              "    </tr>\n",
              "  </thead>\n",
              "  <tbody>\n",
              "    <tr>\n",
              "      <th>0</th>\n",
              "      <td>1/12/2022 0:00</td>\n",
              "      <td>23.73</td>\n",
              "      <td>82.0</td>\n",
              "      <td>29.7</td>\n",
              "      <td>1009.01</td>\n",
              "      <td>100.0</td>\n",
              "      <td>84.0</td>\n",
              "      <td>2.0</td>\n",
              "      <td>rain</td>\n",
              "    </tr>\n",
              "    <tr>\n",
              "      <th>1</th>\n",
              "      <td>1/12/2022 1:00</td>\n",
              "      <td>26.51</td>\n",
              "      <td>61.0</td>\n",
              "      <td>29.5</td>\n",
              "      <td>1009.35</td>\n",
              "      <td>92.9</td>\n",
              "      <td>63.0</td>\n",
              "      <td>2.0</td>\n",
              "      <td>rain</td>\n",
              "    </tr>\n",
              "    <tr>\n",
              "      <th>2</th>\n",
              "      <td>1/12/2022 2:00</td>\n",
              "      <td>28.45</td>\n",
              "      <td>3.0</td>\n",
              "      <td>23.5</td>\n",
              "      <td>1009.47</td>\n",
              "      <td>81.8</td>\n",
              "      <td>5.0</td>\n",
              "      <td>2.0</td>\n",
              "      <td>rain</td>\n",
              "    </tr>\n",
              "    <tr>\n",
              "      <th>3</th>\n",
              "      <td>1/12/2022 3:00</td>\n",
              "      <td>29.59</td>\n",
              "      <td>340.0</td>\n",
              "      <td>21.9</td>\n",
              "      <td>1009.11</td>\n",
              "      <td>75.2</td>\n",
              "      <td>342.0</td>\n",
              "      <td>2.0</td>\n",
              "      <td>rain</td>\n",
              "    </tr>\n",
              "    <tr>\n",
              "      <th>4</th>\n",
              "      <td>1/12/2022 4:00</td>\n",
              "      <td>30.68</td>\n",
              "      <td>297.0</td>\n",
              "      <td>19.9</td>\n",
              "      <td>1008.14</td>\n",
              "      <td>69.8</td>\n",
              "      <td>299.0</td>\n",
              "      <td>4.0</td>\n",
              "      <td>rain</td>\n",
              "    </tr>\n",
              "    <tr>\n",
              "      <th>...</th>\n",
              "      <td>...</td>\n",
              "      <td>...</td>\n",
              "      <td>...</td>\n",
              "      <td>...</td>\n",
              "      <td>...</td>\n",
              "      <td>...</td>\n",
              "      <td>...</td>\n",
              "      <td>...</td>\n",
              "      <td>...</td>\n",
              "    </tr>\n",
              "    <tr>\n",
              "      <th>2035</th>\n",
              "      <td>23/02/2023 19:00:00</td>\n",
              "      <td>25.00</td>\n",
              "      <td>269.0</td>\n",
              "      <td>NaN</td>\n",
              "      <td>1008.60</td>\n",
              "      <td>90.0</td>\n",
              "      <td>271.0</td>\n",
              "      <td>2.0</td>\n",
              "      <td>no rain</td>\n",
              "    </tr>\n",
              "    <tr>\n",
              "      <th>2036</th>\n",
              "      <td>23/02/2023 20:00:00</td>\n",
              "      <td>24.70</td>\n",
              "      <td>301.0</td>\n",
              "      <td>NaN</td>\n",
              "      <td>1008.37</td>\n",
              "      <td>92.2</td>\n",
              "      <td>303.0</td>\n",
              "      <td>2.0</td>\n",
              "      <td>no rain</td>\n",
              "    </tr>\n",
              "    <tr>\n",
              "      <th>2037</th>\n",
              "      <td>23/02/2023 21:00:00</td>\n",
              "      <td>24.31</td>\n",
              "      <td>312.0</td>\n",
              "      <td>NaN</td>\n",
              "      <td>1008.40</td>\n",
              "      <td>92.9</td>\n",
              "      <td>314.0</td>\n",
              "      <td>2.0</td>\n",
              "      <td>no rain</td>\n",
              "    </tr>\n",
              "    <tr>\n",
              "      <th>2038</th>\n",
              "      <td>23/02/2023 22:00:00</td>\n",
              "      <td>24.43</td>\n",
              "      <td>334.0</td>\n",
              "      <td>NaN</td>\n",
              "      <td>1008.74</td>\n",
              "      <td>92.0</td>\n",
              "      <td>336.0</td>\n",
              "      <td>4.0</td>\n",
              "      <td>no rain</td>\n",
              "    </tr>\n",
              "    <tr>\n",
              "      <th>2039</th>\n",
              "      <td>23/02/2023 23:00:00</td>\n",
              "      <td>24.16</td>\n",
              "      <td>331.0</td>\n",
              "      <td>NaN</td>\n",
              "      <td>1009.32</td>\n",
              "      <td>92.5</td>\n",
              "      <td>333.0</td>\n",
              "      <td>3.0</td>\n",
              "      <td>no rain</td>\n",
              "    </tr>\n",
              "  </tbody>\n",
              "</table>\n",
              "<p>2040 rows × 9 columns</p>\n",
              "</div>"
            ],
            "text/plain": [
              "            Date and Time  Air Tmp (C) M 60 Min  Mag WD 60 Min (deg) M  \\\n",
              "0          1/12/2022 0:00                 23.73                   82.0   \n",
              "1          1/12/2022 1:00                 26.51                   61.0   \n",
              "2          1/12/2022 2:00                 28.45                    3.0   \n",
              "3          1/12/2022 3:00                 29.59                  340.0   \n",
              "4          1/12/2022 4:00                 30.68                  297.0   \n",
              "...                   ...                   ...                    ...   \n",
              "2035  23/02/2023 19:00:00                 25.00                  269.0   \n",
              "2036  23/02/2023 20:00:00                 24.70                  301.0   \n",
              "2037  23/02/2023 21:00:00                 24.31                  312.0   \n",
              "2038  23/02/2023 22:00:00                 24.43                  334.0   \n",
              "2039  23/02/2023 23:00:00                 24.16                  331.0   \n",
              "\n",
              "      Precip 1Hr (mm) M  QNH (hPa) M  RH (%) M 60 Min  True WD 60 Min (deg) M  \\\n",
              "0                  29.7      1009.01            100.0                    84.0   \n",
              "1                  29.5      1009.35             92.9                    63.0   \n",
              "2                  23.5      1009.47             81.8                     5.0   \n",
              "3                  21.9      1009.11             75.2                   342.0   \n",
              "4                  19.9      1008.14             69.8                   299.0   \n",
              "...                 ...          ...              ...                     ...   \n",
              "2035                NaN      1008.60             90.0                   271.0   \n",
              "2036                NaN      1008.37             92.2                   303.0   \n",
              "2037                NaN      1008.40             92.9                   314.0   \n",
              "2038                NaN      1008.74             92.0                   336.0   \n",
              "2039                NaN      1009.32             92.5                   333.0   \n",
              "\n",
              "      WS 60 Min (kt) M klasifikasi  \n",
              "0                  2.0        rain  \n",
              "1                  2.0        rain  \n",
              "2                  2.0        rain  \n",
              "3                  2.0        rain  \n",
              "4                  4.0        rain  \n",
              "...                ...         ...  \n",
              "2035               2.0     no rain  \n",
              "2036               2.0     no rain  \n",
              "2037               2.0     no rain  \n",
              "2038               4.0     no rain  \n",
              "2039               3.0     no rain  \n",
              "\n",
              "[2040 rows x 9 columns]"
            ]
          },
          "execution_count": 742,
          "metadata": {},
          "output_type": "execute_result"
        }
      ],
      "source": [
        "data_baru = pd.read_excel('2022 Feb 2023 perjam.xlsx')\n",
        "data_baru"
      ]
    },
    {
      "attachments": {},
      "cell_type": "markdown",
      "metadata": {},
      "source": [
        "### Explanatory Data Analysis"
      ]
    },
    {
      "attachments": {},
      "cell_type": "markdown",
      "metadata": {},
      "source": [
        "_*Variable description*_\n",
        "\n",
        "- Date and Time = Date and Time\n",
        "- Air Tmp (C) M 60 Min\n",
        "- Mag WD 60 Min (deg) M\n",
        "- Precip 1Hr (mm) M\n",
        "- QNH (hPa) M\n",
        "- RH (%) M 60 Min\n",
        "- True WD 60 Min (deg) M\n",
        "- WS 60 Min (kt) M\n",
        "- klasifikasi"
      ]
    },
    {
      "cell_type": "code",
      "execution_count": 743,
      "metadata": {
        "colab": {
          "base_uri": "https://localhost:8080/"
        },
        "id": "eajZo8auWwp0",
        "outputId": "d67b57e8-e9b1-422d-e091-a39feff8e67b"
      },
      "outputs": [
        {
          "name": "stdout",
          "output_type": "stream",
          "text": [
            "<class 'pandas.core.frame.DataFrame'>\n",
            "RangeIndex: 2040 entries, 0 to 2039\n",
            "Data columns (total 9 columns):\n",
            " #   Column                  Non-Null Count  Dtype  \n",
            "---  ------                  --------------  -----  \n",
            " 0   Date and Time           2040 non-null   object \n",
            " 1   Air Tmp (C) M 60 Min    1905 non-null   float64\n",
            " 2   Mag WD 60 Min (deg) M   1906 non-null   float64\n",
            " 3   Precip 1Hr (mm) M       1918 non-null   float64\n",
            " 4   QNH (hPa) M             1917 non-null   float64\n",
            " 5   RH (%) M 60 Min         1906 non-null   float64\n",
            " 6   True WD 60 Min (deg) M  1906 non-null   float64\n",
            " 7   WS 60 Min (kt) M        1906 non-null   float64\n",
            " 8   klasifikasi             2040 non-null   object \n",
            "dtypes: float64(7), object(2)\n",
            "memory usage: 143.6+ KB\n"
          ]
        }
      ],
      "source": [
        "data_baru.info()"
      ]
    },
    {
      "cell_type": "code",
      "execution_count": 744,
      "metadata": {
        "id": "o9h52YPRfmbM"
      },
      "outputs": [],
      "source": [
        "data_baru.sort_values(by=['Date and Time'], inplace=True, ascending=True)\n",
        "data_baru.set_index('Date and Time', inplace= True)"
      ]
    },
    {
      "attachments": {},
      "cell_type": "markdown",
      "metadata": {},
      "source": [
        "#### Missing value"
      ]
    },
    {
      "cell_type": "code",
      "execution_count": 745,
      "metadata": {},
      "outputs": [
        {
          "data": {
            "text/html": [
              "<div>\n",
              "<style scoped>\n",
              "    .dataframe tbody tr th:only-of-type {\n",
              "        vertical-align: middle;\n",
              "    }\n",
              "\n",
              "    .dataframe tbody tr th {\n",
              "        vertical-align: top;\n",
              "    }\n",
              "\n",
              "    .dataframe thead th {\n",
              "        text-align: right;\n",
              "    }\n",
              "</style>\n",
              "<table border=\"1\" class=\"dataframe\">\n",
              "  <thead>\n",
              "    <tr style=\"text-align: right;\">\n",
              "      <th></th>\n",
              "      <th>Air Tmp (C) M 60 Min</th>\n",
              "      <th>Mag WD 60 Min (deg) M</th>\n",
              "      <th>Precip 1Hr (mm) M</th>\n",
              "      <th>QNH (hPa) M</th>\n",
              "      <th>RH (%) M 60 Min</th>\n",
              "      <th>True WD 60 Min (deg) M</th>\n",
              "      <th>WS 60 Min (kt) M</th>\n",
              "    </tr>\n",
              "  </thead>\n",
              "  <tbody>\n",
              "    <tr>\n",
              "      <th>count</th>\n",
              "      <td>1905.000000</td>\n",
              "      <td>1906.000000</td>\n",
              "      <td>1918.000000</td>\n",
              "      <td>1917.000000</td>\n",
              "      <td>1906.000000</td>\n",
              "      <td>1906.000000</td>\n",
              "      <td>1906.000000</td>\n",
              "    </tr>\n",
              "    <tr>\n",
              "      <th>mean</th>\n",
              "      <td>26.352551</td>\n",
              "      <td>204.625918</td>\n",
              "      <td>0.273045</td>\n",
              "      <td>1009.294476</td>\n",
              "      <td>84.791501</td>\n",
              "      <td>203.342078</td>\n",
              "      <td>3.754460</td>\n",
              "    </tr>\n",
              "    <tr>\n",
              "      <th>std</th>\n",
              "      <td>2.817952</td>\n",
              "      <td>118.346611</td>\n",
              "      <td>1.829971</td>\n",
              "      <td>2.000466</td>\n",
              "      <td>13.232921</td>\n",
              "      <td>118.879535</td>\n",
              "      <td>2.439298</td>\n",
              "    </tr>\n",
              "    <tr>\n",
              "      <th>min</th>\n",
              "      <td>21.920000</td>\n",
              "      <td>2.000000</td>\n",
              "      <td>0.000000</td>\n",
              "      <td>1002.980000</td>\n",
              "      <td>43.300000</td>\n",
              "      <td>1.000000</td>\n",
              "      <td>0.000000</td>\n",
              "    </tr>\n",
              "    <tr>\n",
              "      <th>25%</th>\n",
              "      <td>24.100000</td>\n",
              "      <td>78.000000</td>\n",
              "      <td>0.000000</td>\n",
              "      <td>1008.000000</td>\n",
              "      <td>74.925000</td>\n",
              "      <td>78.000000</td>\n",
              "      <td>2.000000</td>\n",
              "    </tr>\n",
              "    <tr>\n",
              "      <th>50%</th>\n",
              "      <td>25.400000</td>\n",
              "      <td>247.500000</td>\n",
              "      <td>0.000000</td>\n",
              "      <td>1009.350000</td>\n",
              "      <td>89.400000</td>\n",
              "      <td>245.000000</td>\n",
              "      <td>3.000000</td>\n",
              "    </tr>\n",
              "    <tr>\n",
              "      <th>75%</th>\n",
              "      <td>28.640000</td>\n",
              "      <td>305.750000</td>\n",
              "      <td>0.000000</td>\n",
              "      <td>1010.670000</td>\n",
              "      <td>96.000000</td>\n",
              "      <td>305.000000</td>\n",
              "      <td>5.000000</td>\n",
              "    </tr>\n",
              "    <tr>\n",
              "      <th>max</th>\n",
              "      <td>33.710000</td>\n",
              "      <td>360.000000</td>\n",
              "      <td>29.700000</td>\n",
              "      <td>1014.260000</td>\n",
              "      <td>100.000000</td>\n",
              "      <td>360.000000</td>\n",
              "      <td>13.000000</td>\n",
              "    </tr>\n",
              "  </tbody>\n",
              "</table>\n",
              "</div>"
            ],
            "text/plain": [
              "       Air Tmp (C) M 60 Min  Mag WD 60 Min (deg) M  Precip 1Hr (mm) M  \\\n",
              "count           1905.000000            1906.000000        1918.000000   \n",
              "mean              26.352551             204.625918           0.273045   \n",
              "std                2.817952             118.346611           1.829971   \n",
              "min               21.920000               2.000000           0.000000   \n",
              "25%               24.100000              78.000000           0.000000   \n",
              "50%               25.400000             247.500000           0.000000   \n",
              "75%               28.640000             305.750000           0.000000   \n",
              "max               33.710000             360.000000          29.700000   \n",
              "\n",
              "       QNH (hPa) M  RH (%) M 60 Min  True WD 60 Min (deg) M  WS 60 Min (kt) M  \n",
              "count  1917.000000      1906.000000             1906.000000       1906.000000  \n",
              "mean   1009.294476        84.791501              203.342078          3.754460  \n",
              "std       2.000466        13.232921              118.879535          2.439298  \n",
              "min    1002.980000        43.300000                1.000000          0.000000  \n",
              "25%    1008.000000        74.925000               78.000000          2.000000  \n",
              "50%    1009.350000        89.400000              245.000000          3.000000  \n",
              "75%    1010.670000        96.000000              305.000000          5.000000  \n",
              "max    1014.260000       100.000000              360.000000         13.000000  "
            ]
          },
          "execution_count": 745,
          "metadata": {},
          "output_type": "execute_result"
        }
      ],
      "source": [
        "data_baru.describe()"
      ]
    },
    {
      "attachments": {},
      "cell_type": "markdown",
      "metadata": {},
      "source": [
        "_ada lebih dari 100 data yang hilang, total data adalah 2039, dan yang terhitung 1900_"
      ]
    },
    {
      "cell_type": "code",
      "execution_count": 746,
      "metadata": {
        "colab": {
          "base_uri": "https://localhost:8080/"
        },
        "id": "_TODVjQUfmbP",
        "outputId": "a781dda2-9bec-4dec-ed19-5d798d0e7392"
      },
      "outputs": [
        {
          "data": {
            "text/plain": [
              "Air Tmp (C) M 60 Min      135\n",
              "Mag WD 60 Min (deg) M     134\n",
              "Precip 1Hr (mm) M         122\n",
              "QNH (hPa) M               123\n",
              "RH (%) M 60 Min           134\n",
              "True WD 60 Min (deg) M    134\n",
              "WS 60 Min (kt) M          134\n",
              "klasifikasi                 0\n",
              "dtype: int64"
            ]
          },
          "execution_count": 746,
          "metadata": {},
          "output_type": "execute_result"
        }
      ],
      "source": [
        "data_baru.isnull().sum()"
      ]
    },
    {
      "cell_type": "code",
      "execution_count": 747,
      "metadata": {
        "id": "_Dkh5pGvfmbP"
      },
      "outputs": [
        {
          "data": {
            "text/plain": [
              "Air Tmp (C) M 60 Min      1783\n",
              "Mag WD 60 Min (deg) M     1783\n",
              "Precip 1Hr (mm) M         1783\n",
              "QNH (hPa) M               1783\n",
              "RH (%) M 60 Min           1783\n",
              "True WD 60 Min (deg) M    1783\n",
              "WS 60 Min (kt) M          1783\n",
              "klasifikasi               1783\n",
              "dtype: int64"
            ]
          },
          "execution_count": 747,
          "metadata": {},
          "output_type": "execute_result"
        }
      ],
      "source": [
        "data_baru = data_baru.dropna(how='any',axis=0) \n",
        "data_baru.count()"
      ]
    },
    {
      "cell_type": "code",
      "execution_count": 748,
      "metadata": {
        "colab": {
          "base_uri": "https://localhost:8080/"
        },
        "id": "So2VhhNZfmbQ",
        "outputId": "a3e31f29-61c4-4837-a3f3-73e0f491c37f"
      },
      "outputs": [
        {
          "data": {
            "text/plain": [
              "Air Tmp (C) M 60 Min      0\n",
              "Mag WD 60 Min (deg) M     0\n",
              "Precip 1Hr (mm) M         0\n",
              "QNH (hPa) M               0\n",
              "RH (%) M 60 Min           0\n",
              "True WD 60 Min (deg) M    0\n",
              "WS 60 Min (kt) M          0\n",
              "klasifikasi               0\n",
              "dtype: int64"
            ]
          },
          "execution_count": 748,
          "metadata": {},
          "output_type": "execute_result"
        }
      ],
      "source": [
        "data_baru.isnull().sum()"
      ]
    },
    {
      "attachments": {},
      "cell_type": "markdown",
      "metadata": {},
      "source": [
        "#### Pesebaran data"
      ]
    },
    {
      "attachments": {},
      "cell_type": "markdown",
      "metadata": {},
      "source": [
        "dilihat dengan histogram"
      ]
    },
    {
      "cell_type": "code",
      "execution_count": 749,
      "metadata": {
        "colab": {
          "base_uri": "https://localhost:8080/",
          "height": 879
        },
        "id": "6jY2gi_nfmbl",
        "outputId": "800695d8-a6ab-444b-fa9b-01f2917ecb40"
      },
      "outputs": [
        {
          "data": {
            "image/png": "[encoded data removed]",
            "text/plain": [
              "<Figure size 1440x1080 with 9 Axes>"
            ]
          },
          "metadata": {
            "needs_background": "light"
          },
          "output_type": "display_data"
        }
      ],
      "source": [
        "import matplotlib.pyplot as plt\n",
        "\n",
        "data_baru.hist(bins=50, figsize=(20,15))\n",
        "plt.show()"
      ]
    },
    {
      "attachments": {},
      "cell_type": "markdown",
      "metadata": {},
      "source": [
        "#### Matriks korelasi"
      ]
    },
    {
      "cell_type": "code",
      "execution_count": 750,
      "metadata": {
        "colab": {
          "base_uri": "https://localhost:8080/",
          "height": 679
        },
        "id": "94FfX1DFfmbl",
        "outputId": "863a47d0-c224-486c-8120-d3b2e66988c0"
      },
      "outputs": [
        {
          "data": {
            "text/plain": [
              "Text(0.5, 1.0, 'Correlation Matrix untuk Fitur Numerik ')"
            ]
          },
          "execution_count": 750,
          "metadata": {},
          "output_type": "execute_result"
        },
        {
          "data": {
            "image/png": "[encoded data removed]",
            "text/plain": [
              "<Figure size 720x576 with 2 Axes>"
            ]
          },
          "metadata": {
            "needs_background": "light"
          },
          "output_type": "display_data"
        }
      ],
      "source": [
        "plt.figure(figsize=(10, 8))\n",
        "correlation_matrix = data_baru.corr().round(2)\n",
        "sns.heatmap(data=correlation_matrix, annot=True, cmap='coolwarm', linewidths=0.5, )\n",
        "plt.title(\"Correlation Matrix untuk Fitur Numerik \", size=20)"
      ]
    },
    {
      "cell_type": "code",
      "execution_count": 751,
      "metadata": {},
      "outputs": [
        {
          "data": {
            "text/plain": [
              "Precip 1Hr (mm) M         1.000000\n",
              "RH (%) M 60 Min           0.021026\n",
              "Air Tmp (C) M 60 Min      0.009483\n",
              "WS 60 Min (kt) M          0.005413\n",
              "True WD 60 Min (deg) M   -0.024385\n",
              "Mag WD 60 Min (deg) M    -0.028815\n",
              "QNH (hPa) M              -0.112277\n",
              "Name: Precip 1Hr (mm) M, dtype: float64"
            ]
          },
          "execution_count": 751,
          "metadata": {},
          "output_type": "execute_result"
        }
      ],
      "source": [
        "# Get the correlation coefficients for \"rain_sum\" feature\n",
        "rain_corr = data_baru.corr()['Precip 1Hr (mm) M'].sort_values(ascending=False)\n",
        "rain_corr"
      ]
    },
    {
      "attachments": {},
      "cell_type": "markdown",
      "metadata": {},
      "source": [
        "### Data preparation"
      ]
    },
    {
      "attachments": {},
      "cell_type": "markdown",
      "metadata": {},
      "source": [
        "#### one-hot encoding"
      ]
    },
    {
      "attachments": {},
      "cell_type": "markdown",
      "metadata": {},
      "source": [
        "mengubah data kategori dengan one-hot encoding"
      ]
    },
    {
      "cell_type": "code",
      "execution_count": 752,
      "metadata": {},
      "outputs": [
        {
          "data": {
            "text/html": [
              "<div>\n",
              "<style scoped>\n",
              "    .dataframe tbody tr th:only-of-type {\n",
              "        vertical-align: middle;\n",
              "    }\n",
              "\n",
              "    .dataframe tbody tr th {\n",
              "        vertical-align: top;\n",
              "    }\n",
              "\n",
              "    .dataframe thead th {\n",
              "        text-align: right;\n",
              "    }\n",
              "</style>\n",
              "<table border=\"1\" class=\"dataframe\">\n",
              "  <thead>\n",
              "    <tr style=\"text-align: right;\">\n",
              "      <th></th>\n",
              "      <th>Air Tmp (C) M 60 Min</th>\n",
              "      <th>Mag WD 60 Min (deg) M</th>\n",
              "      <th>Precip 1Hr (mm) M</th>\n",
              "      <th>QNH (hPa) M</th>\n",
              "      <th>RH (%) M 60 Min</th>\n",
              "      <th>True WD 60 Min (deg) M</th>\n",
              "      <th>WS 60 Min (kt) M</th>\n",
              "      <th>klasifikasi_no rain</th>\n",
              "      <th>klasifikasi_rain</th>\n",
              "    </tr>\n",
              "    <tr>\n",
              "      <th>Date and Time</th>\n",
              "      <th></th>\n",
              "      <th></th>\n",
              "      <th></th>\n",
              "      <th></th>\n",
              "      <th></th>\n",
              "      <th></th>\n",
              "      <th></th>\n",
              "      <th></th>\n",
              "      <th></th>\n",
              "    </tr>\n",
              "  </thead>\n",
              "  <tbody>\n",
              "    <tr>\n",
              "      <th>1/1/2023 0:00</th>\n",
              "      <td>23.16</td>\n",
              "      <td>36.0</td>\n",
              "      <td>0.0</td>\n",
              "      <td>1012.80</td>\n",
              "      <td>91.8</td>\n",
              "      <td>38.0</td>\n",
              "      <td>3.0</td>\n",
              "      <td>1</td>\n",
              "      <td>0</td>\n",
              "    </tr>\n",
              "    <tr>\n",
              "      <th>1/1/2023 10:00</th>\n",
              "      <td>28.85</td>\n",
              "      <td>287.0</td>\n",
              "      <td>0.0</td>\n",
              "      <td>1009.10</td>\n",
              "      <td>72.0</td>\n",
              "      <td>289.0</td>\n",
              "      <td>13.0</td>\n",
              "      <td>1</td>\n",
              "      <td>0</td>\n",
              "    </tr>\n",
              "    <tr>\n",
              "      <th>1/1/2023 11:00</th>\n",
              "      <td>27.30</td>\n",
              "      <td>297.0</td>\n",
              "      <td>0.0</td>\n",
              "      <td>1009.94</td>\n",
              "      <td>77.6</td>\n",
              "      <td>299.0</td>\n",
              "      <td>9.0</td>\n",
              "      <td>1</td>\n",
              "      <td>0</td>\n",
              "    </tr>\n",
              "    <tr>\n",
              "      <th>1/1/2023 12:00</th>\n",
              "      <td>26.37</td>\n",
              "      <td>297.0</td>\n",
              "      <td>0.0</td>\n",
              "      <td>1011.04</td>\n",
              "      <td>82.0</td>\n",
              "      <td>299.0</td>\n",
              "      <td>6.0</td>\n",
              "      <td>1</td>\n",
              "      <td>0</td>\n",
              "    </tr>\n",
              "    <tr>\n",
              "      <th>1/1/2023 13:00</th>\n",
              "      <td>25.82</td>\n",
              "      <td>293.0</td>\n",
              "      <td>0.0</td>\n",
              "      <td>1012.15</td>\n",
              "      <td>84.6</td>\n",
              "      <td>295.0</td>\n",
              "      <td>4.0</td>\n",
              "      <td>1</td>\n",
              "      <td>0</td>\n",
              "    </tr>\n",
              "    <tr>\n",
              "      <th>...</th>\n",
              "      <td>...</td>\n",
              "      <td>...</td>\n",
              "      <td>...</td>\n",
              "      <td>...</td>\n",
              "      <td>...</td>\n",
              "      <td>...</td>\n",
              "      <td>...</td>\n",
              "      <td>...</td>\n",
              "      <td>...</td>\n",
              "    </tr>\n",
              "    <tr>\n",
              "      <th>9/2/2023 5:00</th>\n",
              "      <td>31.46</td>\n",
              "      <td>276.0</td>\n",
              "      <td>0.0</td>\n",
              "      <td>1008.42</td>\n",
              "      <td>61.6</td>\n",
              "      <td>278.0</td>\n",
              "      <td>6.0</td>\n",
              "      <td>1</td>\n",
              "      <td>0</td>\n",
              "    </tr>\n",
              "    <tr>\n",
              "      <th>9/2/2023 6:00</th>\n",
              "      <td>32.10</td>\n",
              "      <td>284.0</td>\n",
              "      <td>0.0</td>\n",
              "      <td>1007.59</td>\n",
              "      <td>58.3</td>\n",
              "      <td>286.0</td>\n",
              "      <td>7.0</td>\n",
              "      <td>1</td>\n",
              "      <td>0</td>\n",
              "    </tr>\n",
              "    <tr>\n",
              "      <th>9/2/2023 7:00</th>\n",
              "      <td>32.02</td>\n",
              "      <td>286.0</td>\n",
              "      <td>0.0</td>\n",
              "      <td>1006.90</td>\n",
              "      <td>59.0</td>\n",
              "      <td>288.0</td>\n",
              "      <td>8.0</td>\n",
              "      <td>1</td>\n",
              "      <td>0</td>\n",
              "    </tr>\n",
              "    <tr>\n",
              "      <th>9/2/2023 8:00</th>\n",
              "      <td>31.90</td>\n",
              "      <td>269.0</td>\n",
              "      <td>0.0</td>\n",
              "      <td>1006.51</td>\n",
              "      <td>58.4</td>\n",
              "      <td>271.0</td>\n",
              "      <td>8.0</td>\n",
              "      <td>1</td>\n",
              "      <td>0</td>\n",
              "    </tr>\n",
              "    <tr>\n",
              "      <th>9/2/2023 9:00</th>\n",
              "      <td>31.22</td>\n",
              "      <td>276.0</td>\n",
              "      <td>0.0</td>\n",
              "      <td>1006.37</td>\n",
              "      <td>61.0</td>\n",
              "      <td>278.0</td>\n",
              "      <td>8.0</td>\n",
              "      <td>1</td>\n",
              "      <td>0</td>\n",
              "    </tr>\n",
              "  </tbody>\n",
              "</table>\n",
              "<p>1783 rows × 9 columns</p>\n",
              "</div>"
            ],
            "text/plain": [
              "                Air Tmp (C) M 60 Min  Mag WD 60 Min (deg) M  \\\n",
              "Date and Time                                                 \n",
              "1/1/2023 0:00                  23.16                   36.0   \n",
              "1/1/2023 10:00                 28.85                  287.0   \n",
              "1/1/2023 11:00                 27.30                  297.0   \n",
              "1/1/2023 12:00                 26.37                  297.0   \n",
              "1/1/2023 13:00                 25.82                  293.0   \n",
              "...                              ...                    ...   \n",
              "9/2/2023 5:00                  31.46                  276.0   \n",
              "9/2/2023 6:00                  32.10                  284.0   \n",
              "9/2/2023 7:00                  32.02                  286.0   \n",
              "9/2/2023 8:00                  31.90                  269.0   \n",
              "9/2/2023 9:00                  31.22                  276.0   \n",
              "\n",
              "                Precip 1Hr (mm) M  QNH (hPa) M  RH (%) M 60 Min  \\\n",
              "Date and Time                                                     \n",
              "1/1/2023 0:00                 0.0      1012.80             91.8   \n",
              "1/1/2023 10:00                0.0      1009.10             72.0   \n",
              "1/1/2023 11:00                0.0      1009.94             77.6   \n",
              "1/1/2023 12:00                0.0      1011.04             82.0   \n",
              "1/1/2023 13:00                0.0      1012.15             84.6   \n",
              "...                           ...          ...              ...   \n",
              "9/2/2023 5:00                 0.0      1008.42             61.6   \n",
              "9/2/2023 6:00                 0.0      1007.59             58.3   \n",
              "9/2/2023 7:00                 0.0      1006.90             59.0   \n",
              "9/2/2023 8:00                 0.0      1006.51             58.4   \n",
              "9/2/2023 9:00                 0.0      1006.37             61.0   \n",
              "\n",
              "                True WD 60 Min (deg) M  WS 60 Min (kt) M  klasifikasi_no rain  \\\n",
              "Date and Time                                                                   \n",
              "1/1/2023 0:00                     38.0               3.0                    1   \n",
              "1/1/2023 10:00                   289.0              13.0                    1   \n",
              "1/1/2023 11:00                   299.0               9.0                    1   \n",
              "1/1/2023 12:00                   299.0               6.0                    1   \n",
              "1/1/2023 13:00                   295.0               4.0                    1   \n",
              "...                                ...               ...                  ...   \n",
              "9/2/2023 5:00                    278.0               6.0                    1   \n",
              "9/2/2023 6:00                    286.0               7.0                    1   \n",
              "9/2/2023 7:00                    288.0               8.0                    1   \n",
              "9/2/2023 8:00                    271.0               8.0                    1   \n",
              "9/2/2023 9:00                    278.0               8.0                    1   \n",
              "\n",
              "                klasifikasi_rain  \n",
              "Date and Time                     \n",
              "1/1/2023 0:00                  0  \n",
              "1/1/2023 10:00                 0  \n",
              "1/1/2023 11:00                 0  \n",
              "1/1/2023 12:00                 0  \n",
              "1/1/2023 13:00                 0  \n",
              "...                          ...  \n",
              "9/2/2023 5:00                  0  \n",
              "9/2/2023 6:00                  0  \n",
              "9/2/2023 7:00                  0  \n",
              "9/2/2023 8:00                  0  \n",
              "9/2/2023 9:00                  0  \n",
              "\n",
              "[1783 rows x 9 columns]"
            ]
          },
          "execution_count": 752,
          "metadata": {},
          "output_type": "execute_result"
        }
      ],
      "source": [
        "data_baru = pd.get_dummies(data_baru)\n",
        "data_baru"
      ]
    },
    {
      "cell_type": "code",
      "execution_count": 753,
      "metadata": {
        "colab": {
          "base_uri": "https://localhost:8080/"
        },
        "id": "PZtR_zlLfmbR",
        "outputId": "8e9eaaa0-16da-4fd5-cce6-04f57c1e845a"
      },
      "outputs": [
        {
          "name": "stdout",
          "output_type": "stream",
          "text": [
            "<class 'pandas.core.frame.DataFrame'>\n",
            "Index: 1783 entries, 1/1/2023 0:00 to 9/2/2023 9:00\n",
            "Data columns (total 9 columns):\n",
            " #   Column                  Non-Null Count  Dtype  \n",
            "---  ------                  --------------  -----  \n",
            " 0   Air Tmp (C) M 60 Min    1783 non-null   float64\n",
            " 1   Mag WD 60 Min (deg) M   1783 non-null   float64\n",
            " 2   Precip 1Hr (mm) M       1783 non-null   float64\n",
            " 3   QNH (hPa) M             1783 non-null   float64\n",
            " 4   RH (%) M 60 Min         1783 non-null   float64\n",
            " 5   True WD 60 Min (deg) M  1783 non-null   float64\n",
            " 6   WS 60 Min (kt) M        1783 non-null   float64\n",
            " 7   klasifikasi_no rain     1783 non-null   uint8  \n",
            " 8   klasifikasi_rain        1783 non-null   uint8  \n",
            "dtypes: float64(7), uint8(2)\n",
            "memory usage: 114.9+ KB\n"
          ]
        }
      ],
      "source": [
        "data_baru.info()"
      ]
    },
    {
      "cell_type": "code",
      "execution_count": 754,
      "metadata": {},
      "outputs": [],
      "source": [
        "data_baru = data_baru.drop(data_baru.columns[[1,5]], axis=1)"
      ]
    },
    {
      "attachments": {},
      "cell_type": "markdown",
      "metadata": {},
      "source": [
        "Membagi data train dataset"
      ]
    },
    {
      "cell_type": "code",
      "execution_count": 755,
      "metadata": {},
      "outputs": [
        {
          "name": "stdout",
          "output_type": "stream",
          "text": [
            "<class 'pandas.core.frame.DataFrame'>\n",
            "Index: 1783 entries, 1/1/2023 0:00 to 9/2/2023 9:00\n",
            "Data columns (total 7 columns):\n",
            " #   Column                Non-Null Count  Dtype  \n",
            "---  ------                --------------  -----  \n",
            " 0   Air Tmp (C) M 60 Min  1783 non-null   float64\n",
            " 1   Precip 1Hr (mm) M     1783 non-null   float64\n",
            " 2   QNH (hPa) M           1783 non-null   float64\n",
            " 3   RH (%) M 60 Min       1783 non-null   float64\n",
            " 4   WS 60 Min (kt) M      1783 non-null   float64\n",
            " 5   klasifikasi_no rain   1783 non-null   uint8  \n",
            " 6   klasifikasi_rain      1783 non-null   uint8  \n",
            "dtypes: float64(5), uint8(2)\n",
            "memory usage: 87.1+ KB\n"
          ]
        }
      ],
      "source": [
        "data_baru.info()"
      ]
    },
    {
      "attachments": {},
      "cell_type": "markdown",
      "metadata": {},
      "source": [
        "pertama untuk data fitur hapus kolom precip, dan klasifikasi"
      ]
    },
    {
      "cell_type": "code",
      "execution_count": 756,
      "metadata": {
        "id": "65gEWIZNfmbm"
      },
      "outputs": [],
      "source": [
        "from sklearn import preprocessing\n",
        "\n",
        "df_new = data_baru\n",
        "X = df_new.drop(df_new.columns[[1,5,6]], axis=1)"
      ]
    },
    {
      "cell_type": "code",
      "execution_count": 757,
      "metadata": {
        "id": "bvR4gXUcfmbm"
      },
      "outputs": [],
      "source": [
        "y = df_new[['klasifikasi_rain','klasifikasi_no rain']]"
      ]
    },
    {
      "cell_type": "code",
      "execution_count": 758,
      "metadata": {
        "id": "ivGHhj7hfmbn"
      },
      "outputs": [],
      "source": [
        "from sklearn.model_selection import train_test_split\n",
        "#40 best random state\n",
        "#32 better random state\n",
        "X_train, X_test, y_train, y_test = train_test_split(X, y, train_size = 0.80, test_size = 0.20, random_state=32)"
      ]
    },
    {
      "cell_type": "code",
      "execution_count": 759,
      "metadata": {},
      "outputs": [
        {
          "data": {
            "text/html": [
              "<div>\n",
              "<style scoped>\n",
              "    .dataframe tbody tr th:only-of-type {\n",
              "        vertical-align: middle;\n",
              "    }\n",
              "\n",
              "    .dataframe tbody tr th {\n",
              "        vertical-align: top;\n",
              "    }\n",
              "\n",
              "    .dataframe thead th {\n",
              "        text-align: right;\n",
              "    }\n",
              "</style>\n",
              "<table border=\"1\" class=\"dataframe\">\n",
              "  <thead>\n",
              "    <tr style=\"text-align: right;\">\n",
              "      <th></th>\n",
              "      <th>Air Tmp (C) M 60 Min</th>\n",
              "      <th>QNH (hPa) M</th>\n",
              "      <th>RH (%) M 60 Min</th>\n",
              "      <th>WS 60 Min (kt) M</th>\n",
              "    </tr>\n",
              "    <tr>\n",
              "      <th>Date and Time</th>\n",
              "      <th></th>\n",
              "      <th></th>\n",
              "      <th></th>\n",
              "      <th></th>\n",
              "    </tr>\n",
              "  </thead>\n",
              "  <tbody>\n",
              "    <tr>\n",
              "      <th>28/12/2022 15:00:00</th>\n",
              "      <td>24.69</td>\n",
              "      <td>1013.28</td>\n",
              "      <td>85.6</td>\n",
              "      <td>2.0</td>\n",
              "    </tr>\n",
              "    <tr>\n",
              "      <th>14/01/2023 06:00:00</th>\n",
              "      <td>30.75</td>\n",
              "      <td>1008.73</td>\n",
              "      <td>64.7</td>\n",
              "      <td>4.0</td>\n",
              "    </tr>\n",
              "    <tr>\n",
              "      <th>31/12/2022 15:00:00</th>\n",
              "      <td>24.36</td>\n",
              "      <td>1013.56</td>\n",
              "      <td>83.0</td>\n",
              "      <td>4.0</td>\n",
              "    </tr>\n",
              "    <tr>\n",
              "      <th>2/2/2023 5:00</th>\n",
              "      <td>30.00</td>\n",
              "      <td>1008.94</td>\n",
              "      <td>70.3</td>\n",
              "      <td>5.0</td>\n",
              "    </tr>\n",
              "    <tr>\n",
              "      <th>18/02/2023 04:00:00</th>\n",
              "      <td>30.91</td>\n",
              "      <td>1010.43</td>\n",
              "      <td>61.4</td>\n",
              "      <td>6.0</td>\n",
              "    </tr>\n",
              "    <tr>\n",
              "      <th>...</th>\n",
              "      <td>...</td>\n",
              "      <td>...</td>\n",
              "      <td>...</td>\n",
              "      <td>...</td>\n",
              "    </tr>\n",
              "    <tr>\n",
              "      <th>10/1/2023 2:00</th>\n",
              "      <td>28.31</td>\n",
              "      <td>1013.05</td>\n",
              "      <td>73.2</td>\n",
              "      <td>4.0</td>\n",
              "    </tr>\n",
              "    <tr>\n",
              "      <th>21/12/2022 00:00:00</th>\n",
              "      <td>23.86</td>\n",
              "      <td>1007.89</td>\n",
              "      <td>94.2</td>\n",
              "      <td>3.0</td>\n",
              "    </tr>\n",
              "    <tr>\n",
              "      <th>3/12/2022 23:00</th>\n",
              "      <td>23.48</td>\n",
              "      <td>1009.18</td>\n",
              "      <td>97.2</td>\n",
              "      <td>2.0</td>\n",
              "    </tr>\n",
              "    <tr>\n",
              "      <th>6/1/2023 19:00</th>\n",
              "      <td>23.37</td>\n",
              "      <td>1010.23</td>\n",
              "      <td>98.4</td>\n",
              "      <td>1.0</td>\n",
              "    </tr>\n",
              "    <tr>\n",
              "      <th>19/12/2022 01:00:00</th>\n",
              "      <td>26.39</td>\n",
              "      <td>1008.47</td>\n",
              "      <td>83.5</td>\n",
              "      <td>4.0</td>\n",
              "    </tr>\n",
              "  </tbody>\n",
              "</table>\n",
              "<p>1426 rows × 4 columns</p>\n",
              "</div>"
            ],
            "text/plain": [
              "                     Air Tmp (C) M 60 Min  QNH (hPa) M  RH (%) M 60 Min  \\\n",
              "Date and Time                                                             \n",
              "28/12/2022 15:00:00                 24.69      1013.28             85.6   \n",
              "14/01/2023 06:00:00                 30.75      1008.73             64.7   \n",
              "31/12/2022 15:00:00                 24.36      1013.56             83.0   \n",
              "2/2/2023 5:00                       30.00      1008.94             70.3   \n",
              "18/02/2023 04:00:00                 30.91      1010.43             61.4   \n",
              "...                                   ...          ...              ...   \n",
              "10/1/2023 2:00                      28.31      1013.05             73.2   \n",
              "21/12/2022 00:00:00                 23.86      1007.89             94.2   \n",
              "3/12/2022 23:00                     23.48      1009.18             97.2   \n",
              "6/1/2023 19:00                      23.37      1010.23             98.4   \n",
              "19/12/2022 01:00:00                 26.39      1008.47             83.5   \n",
              "\n",
              "                     WS 60 Min (kt) M  \n",
              "Date and Time                          \n",
              "28/12/2022 15:00:00               2.0  \n",
              "14/01/2023 06:00:00               4.0  \n",
              "31/12/2022 15:00:00               4.0  \n",
              "2/2/2023 5:00                     5.0  \n",
              "18/02/2023 04:00:00               6.0  \n",
              "...                               ...  \n",
              "10/1/2023 2:00                    4.0  \n",
              "21/12/2022 00:00:00               3.0  \n",
              "3/12/2022 23:00                   2.0  \n",
              "6/1/2023 19:00                    1.0  \n",
              "19/12/2022 01:00:00               4.0  \n",
              "\n",
              "[1426 rows x 4 columns]"
            ]
          },
          "execution_count": 759,
          "metadata": {},
          "output_type": "execute_result"
        }
      ],
      "source": [
        "pd.DataFrame(X_train)"
      ]
    },
    {
      "cell_type": "code",
      "execution_count": 760,
      "metadata": {},
      "outputs": [
        {
          "data": {
            "text/html": [
              "<div>\n",
              "<style scoped>\n",
              "    .dataframe tbody tr th:only-of-type {\n",
              "        vertical-align: middle;\n",
              "    }\n",
              "\n",
              "    .dataframe tbody tr th {\n",
              "        vertical-align: top;\n",
              "    }\n",
              "\n",
              "    .dataframe thead th {\n",
              "        text-align: right;\n",
              "    }\n",
              "</style>\n",
              "<table border=\"1\" class=\"dataframe\">\n",
              "  <thead>\n",
              "    <tr style=\"text-align: right;\">\n",
              "      <th></th>\n",
              "      <th>klasifikasi_rain</th>\n",
              "      <th>klasifikasi_no rain</th>\n",
              "    </tr>\n",
              "    <tr>\n",
              "      <th>Date and Time</th>\n",
              "      <th></th>\n",
              "      <th></th>\n",
              "    </tr>\n",
              "  </thead>\n",
              "  <tbody>\n",
              "    <tr>\n",
              "      <th>28/12/2022 15:00:00</th>\n",
              "      <td>0</td>\n",
              "      <td>1</td>\n",
              "    </tr>\n",
              "    <tr>\n",
              "      <th>14/01/2023 06:00:00</th>\n",
              "      <td>0</td>\n",
              "      <td>1</td>\n",
              "    </tr>\n",
              "    <tr>\n",
              "      <th>31/12/2022 15:00:00</th>\n",
              "      <td>0</td>\n",
              "      <td>1</td>\n",
              "    </tr>\n",
              "    <tr>\n",
              "      <th>2/2/2023 5:00</th>\n",
              "      <td>0</td>\n",
              "      <td>1</td>\n",
              "    </tr>\n",
              "    <tr>\n",
              "      <th>18/02/2023 04:00:00</th>\n",
              "      <td>0</td>\n",
              "      <td>1</td>\n",
              "    </tr>\n",
              "    <tr>\n",
              "      <th>...</th>\n",
              "      <td>...</td>\n",
              "      <td>...</td>\n",
              "    </tr>\n",
              "    <tr>\n",
              "      <th>10/1/2023 2:00</th>\n",
              "      <td>0</td>\n",
              "      <td>1</td>\n",
              "    </tr>\n",
              "    <tr>\n",
              "      <th>21/12/2022 00:00:00</th>\n",
              "      <td>0</td>\n",
              "      <td>1</td>\n",
              "    </tr>\n",
              "    <tr>\n",
              "      <th>3/12/2022 23:00</th>\n",
              "      <td>1</td>\n",
              "      <td>0</td>\n",
              "    </tr>\n",
              "    <tr>\n",
              "      <th>6/1/2023 19:00</th>\n",
              "      <td>0</td>\n",
              "      <td>1</td>\n",
              "    </tr>\n",
              "    <tr>\n",
              "      <th>19/12/2022 01:00:00</th>\n",
              "      <td>0</td>\n",
              "      <td>1</td>\n",
              "    </tr>\n",
              "  </tbody>\n",
              "</table>\n",
              "<p>1426 rows × 2 columns</p>\n",
              "</div>"
            ],
            "text/plain": [
              "                     klasifikasi_rain  klasifikasi_no rain\n",
              "Date and Time                                             \n",
              "28/12/2022 15:00:00                 0                    1\n",
              "14/01/2023 06:00:00                 0                    1\n",
              "31/12/2022 15:00:00                 0                    1\n",
              "2/2/2023 5:00                       0                    1\n",
              "18/02/2023 04:00:00                 0                    1\n",
              "...                               ...                  ...\n",
              "10/1/2023 2:00                      0                    1\n",
              "21/12/2022 00:00:00                 0                    1\n",
              "3/12/2022 23:00                     1                    0\n",
              "6/1/2023 19:00                      0                    1\n",
              "19/12/2022 01:00:00                 0                    1\n",
              "\n",
              "[1426 rows x 2 columns]"
            ]
          },
          "execution_count": 760,
          "metadata": {},
          "output_type": "execute_result"
        }
      ],
      "source": [
        "pd.DataFrame(y_train)"
      ]
    },
    {
      "attachments": {},
      "cell_type": "markdown",
      "metadata": {},
      "source": [
        "## Model Development"
      ]
    },
    {
      "attachments": {},
      "cell_type": "markdown",
      "metadata": {},
      "source": [
        "mendefenisikan hyperparameter"
      ]
    },
    {
      "cell_type": "code",
      "execution_count": 761,
      "metadata": {
        "id": "xlB813wYfmbo"
      },
      "outputs": [
        {
          "data": {
            "text/plain": [
              "{'n_estimators': [100],\n",
              " 'max_depth': [6],\n",
              " 'learning_rate': array([0.001     , 0.0011514 , 0.00132571, 0.00152642, 0.00175751,\n",
              "        0.00202359, 0.00232995, 0.0026827 , 0.00308884, 0.00355648,\n",
              "        0.00409492, 0.00471487, 0.00542868, 0.00625055, 0.00719686,\n",
              "        0.00828643, 0.00954095, 0.01098541, 0.01264855, 0.01456348,\n",
              "        0.01676833, 0.01930698, 0.02222996, 0.02559548, 0.02947052,\n",
              "        0.03393222, 0.0390694 , 0.04498433, 0.05179475, 0.05963623,\n",
              "        0.06866488, 0.07906043, 0.09102982, 0.10481131, 0.12067926,\n",
              "        0.13894955, 0.15998587, 0.184207  , 0.21209509, 0.24420531,\n",
              "        0.28117687, 0.32374575, 0.37275937, 0.42919343, 0.49417134,\n",
              "        0.5689866 , 0.65512856, 0.75431201, 0.86851137, 1.        ])}"
            ]
          },
          "execution_count": 761,
          "metadata": {},
          "output_type": "execute_result"
        }
      ],
      "source": [
        "from scipy.stats import uniform, randint\n",
        "import numpy as np\n",
        "params = {\n",
        "    'n_estimators': [100],\n",
        "    'max_depth': [6],\n",
        "    'learning_rate': np.logspace(-3, 0, 50)\n",
        "}\n",
        "params"
      ]
    },
    {
      "attachments": {},
      "cell_type": "markdown",
      "metadata": {},
      "source": [
        "Tuning dengan RSCV"
      ]
    },
    {
      "cell_type": "code",
      "execution_count": 762,
      "metadata": {},
      "outputs": [],
      "source": [
        "from sklearn.model_selection import RandomizedSearchCV, GridSearchCV\n",
        "from sklearn.metrics import make_scorer\n",
        "from xgboost import XGBRegressor, XGBClassifier\n"
      ]
    },
    {
      "cell_type": "code",
      "execution_count": 763,
      "metadata": {
        "colab": {
          "base_uri": "https://localhost:8080/"
        },
        "collapsed": true,
        "id": "0o3L_TPIfmbo",
        "outputId": "f6a6436e-1c12-4b31-b372-62bb93211216"
      },
      "outputs": [
        {
          "name": "stdout",
          "output_type": "stream",
          "text": [
            "Fitting 10 folds for each of 50 candidates, totalling 500 fits\n",
            "Best hyperparameters:  {'n_estimators': 100, 'max_depth': 6, 'learning_rate': 0.0517947467923121}\n",
            "AUC_ROC 0.809231875462963\n"
          ]
        }
      ],
      "source": [
        "# Define the XGBoost model\n",
        "xgb_model = XGBClassifier(\n",
        "    objective='binary:logistic'\n",
        "    )\n",
        "coarse_iter = 50\n",
        "# Perform random search\n",
        "search = RandomizedSearchCV(\n",
        "    xgb_model, param_distributions=params, \n",
        "    n_iter=coarse_iter, \n",
        "    cv=10, \n",
        "    verbose=100,\n",
        "    scoring='roc_auc', \n",
        "    n_jobs=-1\n",
        "    )\n",
        "search.fit(X_train, y_train)\n",
        "print(\"Best hyperparameters: \", search.best_params_)\n",
        "print(\"AUC_ROC\", search.best_score_)"
      ]
    },
    {
      "cell_type": "code",
      "execution_count": 764,
      "metadata": {},
      "outputs": [
        {
          "name": "stdout",
          "output_type": "stream",
          "text": [
            "Fitting 10 folds for each of 50 candidates, totalling 500 fits\n",
            "Best hyperparameters:  {'learning_rate': 0.06891550127383908, 'max_depth': 6, 'n_estimators': 100}\n",
            "AUC_ROC 0.8116273985915738\n"
          ]
        }
      ],
      "source": [
        "#fine search\n",
        "best_params = search.best_params_\n",
        "param_dist = {\n",
        "    'n_estimators': [100],\n",
        "    'max_depth': [6],\n",
        "    'learning_rate': np.logspace(np.log10(best_params['learning_rate']-0.01), np.log10(best_params['learning_rate']+0.1), 50),\n",
        "}\n",
        "\n",
        "fine_search = GridSearchCV(\n",
        "    xgb_model, param_grid=param_dist, \n",
        "    cv=10, \n",
        "    verbose=100,\n",
        "    scoring='roc_auc', \n",
        "    n_jobs=-1\n",
        "    )\n",
        "fine_search.fit(X_train, y_train)\n",
        "\n",
        "print(\"Best hyperparameters: \", fine_search.best_params_)\n",
        "print(\"AUC_ROC\", fine_search.best_score_)"
      ]
    },
    {
      "cell_type": "code",
      "execution_count": 765,
      "metadata": {},
      "outputs": [
        {
          "data": {
            "image/png": "[encoded data removed]",
            "text/plain": [
              "<Figure size 2160x2160 with 1 Axes>"
            ]
          },
          "metadata": {
            "needs_background": "light"
          },
          "output_type": "display_data"
        }
      ],
      "source": [
        "from xgboost import plot_tree\n",
        "\n",
        "xgb_model.fit(X_train, y_train)\n",
        "fig, ax = plt.subplots(figsize=(30, 30)) # set the size of the figure\n",
        "plot_tree(xgb_model, num_trees=2, ax=ax) # plot the tree on the axes\n",
        "plt.show() # show the plot"
      ]
    },
    {
      "attachments": {},
      "cell_type": "markdown",
      "metadata": {},
      "source": [
        "Hasil tuning"
      ]
    },
    {
      "attachments": {},
      "cell_type": "markdown",
      "metadata": {},
      "source": [
        "### Model Evaluation"
      ]
    },
    {
      "cell_type": "code",
      "execution_count": 766,
      "metadata": {
        "colab": {
          "base_uri": "https://localhost:8080/"
        },
        "id": "MNdxb-kqfmbp",
        "outputId": "334cadc8-e020-448f-86ff-fc147915f6ab"
      },
      "outputs": [
        {
          "name": "stdout",
          "output_type": "stream",
          "text": [
            "Accuracy: 0.98\n",
            "Precision: 0.98\n",
            "Recall: 0.98\n",
            "F1-score: 0.98\n",
            "ROC-AUC score: 0.75\n"
          ]
        }
      ],
      "source": [
        "from sklearn.metrics import accuracy_score, precision_score, recall_score, f1_score, roc_auc_score\n",
        "\n",
        "\n",
        "# Train and evaluate the model with best hyperparameters on the validation set\n",
        "best_xgb_model = XGBClassifier(**fine_search.best_params_,objective='binary:logistic')\n",
        "best_xgb_model.fit(X_test, y_test)\n",
        "y_pred = best_xgb_model.predict(X_test)\n",
        "\n",
        "\n",
        "# calculate the accuracy, precision, recall, and F1-score of the model\n",
        "accuracy = accuracy_score(y_test, y_pred)\n",
        "precision = precision_score(y_test, y_pred, average='micro')\n",
        "recall = recall_score(y_test, y_pred, average='micro')\n",
        "f1 = f1_score(y_test, y_pred, average='micro')\n",
        "\n",
        "# calculate the ROC-AUC score of the model\n",
        "roc_auc = roc_auc_score(y_test, y_pred)\n",
        "\n",
        "# print the evaluation metrics\n",
        "print(f\"Accuracy: {accuracy:.2f}\")\n",
        "print(f\"Precision: {precision:.2f}\")\n",
        "print(f\"Recall: {recall:.2f}\")\n",
        "print(f\"F1-score: {f1:.2f}\")\n",
        "print(f\"ROC-AUC score: {roc_auc:.2f}\")"
      ]
    },
    {
      "cell_type": "code",
      "execution_count": 767,
      "metadata": {},
      "outputs": [
        {
          "name": "stdout",
          "output_type": "stream",
          "text": [
            "              precision    recall  f1-score   support\n",
            "\n",
            "           0       0.50      1.00      0.67         7\n",
            "           1       1.00      0.98      0.99       350\n",
            "\n",
            "   micro avg       0.98      0.98      0.98       357\n",
            "   macro avg       0.75      0.99      0.83       357\n",
            "weighted avg       0.99      0.98      0.98       357\n",
            " samples avg       0.98      0.98      0.98       357\n",
            "\n"
          ]
        }
      ],
      "source": [
        "from sklearn.metrics import  classification_report\n",
        "print(classification_report(y_pred, y_test))"
      ]
    },
    {
      "attachments": {},
      "cell_type": "markdown",
      "metadata": {},
      "source": [
        "#### confussion matrix"
      ]
    },
    {
      "cell_type": "code",
      "execution_count": 768,
      "metadata": {},
      "outputs": [
        {
          "name": "stdout",
          "output_type": "stream",
          "text": [
            "[[  7   7]\n",
            " [  0 343]]\n"
          ]
        },
        {
          "data": {
            "text/plain": [
              "<AxesSubplot:>"
            ]
          },
          "execution_count": 768,
          "metadata": {},
          "output_type": "execute_result"
        },
        {
          "data": {
            "image/png": "[encoded data removed]",
            "text/plain": [
              "<Figure size 432x288 with 2 Axes>"
            ]
          },
          "metadata": {
            "needs_background": "light"
          },
          "output_type": "display_data"
        }
      ],
      "source": [
        "from sklearn.metrics import confusion_matrix\n",
        "\n",
        "cm = confusion_matrix(\n",
        "    y_test.values.argmax(axis=1), y_pred.argmax(axis=1))\n",
        "print(cm)\n",
        "sns.heatmap(cm, annot=True)"
      ]
    },
    {
      "attachments": {},
      "cell_type": "markdown",
      "metadata": {},
      "source": [
        "#### Visualisasi Tuning"
      ]
    },
    {
      "cell_type": "code",
      "execution_count": 769,
      "metadata": {},
      "outputs": [],
      "source": [
        "result_coarse = search.cv_results_\n",
        "result_fine = fine_search.cv_results_"
      ]
    },
    {
      "cell_type": "code",
      "execution_count": 770,
      "metadata": {
        "colab": {
          "base_uri": "https://localhost:8080/"
        },
        "id": "wFREBkx_lEu6",
        "outputId": "24767054-f452-43cc-c621-baddb50c4453"
      },
      "outputs": [],
      "source": [
        "params_key = [f\"param_{p}\" for p in params.keys()]\n",
        "params_key.append('AUC_ROC')"
      ]
    },
    {
      "cell_type": "code",
      "execution_count": 771,
      "metadata": {},
      "outputs": [],
      "source": [
        "AUC = []\n",
        "for mean_score in result_coarse[\"mean_test_score\"]:\n",
        "    AUC.append(mean_score)\n",
        "aoc_roc = {}\n",
        "aoc_roc['AUC_ROC'] = AUC\n",
        "result_coarse['AUC_ROC'] = AUC"
      ]
    },
    {
      "cell_type": "code",
      "execution_count": 772,
      "metadata": {},
      "outputs": [],
      "source": [
        "AUC_Fine = []\n",
        "for mean_score in result_fine[\"mean_test_score\"]:\n",
        "    AUC_Fine.append(mean_score)\n",
        "aoc_roc_fine = {}\n",
        "aoc_roc_fine['AUC_ROC'] = AUC_Fine\n",
        "result_fine['AUC_ROC'] = AUC_Fine"
      ]
    },
    {
      "cell_type": "code",
      "execution_count": 773,
      "metadata": {
        "colab": {
          "base_uri": "https://localhost:8080/",
          "height": 542
        },
        "id": "CQRf1qtwKZxP",
        "outputId": "b2f448ea-676b-416c-e1fe-0781daad02ad"
      },
      "outputs": [
        {
          "data": {
            "application/vnd.plotly.v1+json": {
              "config": {
                "plotlyServerURL": "https://plot.ly"
              },
              "data": [
                {
                  "hovertemplate": "param_learning_rate=%{x}<br>AUC_ROC=%{marker.color}<extra></extra>",
                  "legendgroup": "",
                  "marker": {
                    "color": [
                      0.7225118265002985,
                      0.7247242592152245,
                      0.7262614780043519,
                      0.7297302431823025,
                      0.7289992002765169,
                      0.730739381582848,
                      0.729996921752925,
                      0.7315498716728885,
                      0.7314224168960685,
                      0.7297596830319864,
                      0.7350610783743868,
                      0.7456606572244726,
                      0.7412355857318753,
                      0.7440106890410033,
                      0.7385087403267804,
                      0.744823567060721,
                      0.7464374059573762,
                      0.7481781135934309,
                      0.748360370226782,
                      0.7394052742677746,
                      0.7412478801406457,
                      0.7615845502994536,
                      0.7699895815581907,
                      0.7830073468870926,
                      0.7899003962555214,
                      0.8006143109810869,
                      0.8041156933845924,
                      0.8066785110866392,
                      0.809231875462963,
                      0.8085683494479341,
                      0.806237698861417,
                      0.802939215673182,
                      0.8004976335679836,
                      0.7986380043712049,
                      0.7845837412958229,
                      0.7879747257215357,
                      0.7963902104339777,
                      0.7870423018802548,
                      0.7812419281488913,
                      0.7815699811517038,
                      0.7773031593718163,
                      0.7819471692737839,
                      0.7700147406318972,
                      0.7806418859329899,
                      0.7647096194454222,
                      0.7661415604087487,
                      0.7683734342815034,
                      0.7596489604778915,
                      0.7790407391959605,
                      0.764776107434604
                    ],
                    "coloraxis": "coloraxis",
                    "symbol": "circle"
                  },
                  "mode": "markers",
                  "name": "",
                  "orientation": "v",
                  "showlegend": false,
                  "type": "scatter",
                  "x": [
                    0.001,
                    0.0011513953993264468,
                    0.0013257113655901094,
                    0.0015264179671752333,
                    0.0017575106248547913,
                    0.0020235896477251575,
                    0.002329951810515372,
                    0.0026826957952797246,
                    0.0030888435964774815,
                    0.0035564803062231283,
                    0.004094915062380427,
                    0.004714866363457394,
                    0.005428675439323859,
                    0.006250551925273976,
                    0.0071968567300115215,
                    0.008286427728546842,
                    0.009540954763499945,
                    0.010985411419875584,
                    0.012648552168552958,
                    0.014563484775012436,
                    0.016768329368110083,
                    0.019306977288832496,
                    0.022229964825261943,
                    0.025595479226995357,
                    0.029470517025518096,
                    0.03393221771895328,
                    0.03906939937054617,
                    0.044984326689694466,
                    0.0517947467923121,
                    0.05963623316594643,
                    0.06866488450043001,
                    0.07906043210907697,
                    0.09102981779915217,
                    0.10481131341546852,
                    0.1206792640639329,
                    0.13894954943731375,
                    0.15998587196060574,
                    0.18420699693267165,
                    0.21209508879201905,
                    0.244205309454865,
                    0.28117686979742307,
                    0.32374575428176433,
                    0.3727593720314938,
                    0.42919342601287785,
                    0.49417133613238334,
                    0.5689866029018293,
                    0.655128556859551,
                    0.7543120063354615,
                    0.868511373751352,
                    1
                  ],
                  "xaxis": "x",
                  "y": [
                    0.7225118265002985,
                    0.7247242592152245,
                    0.7262614780043519,
                    0.7297302431823025,
                    0.7289992002765169,
                    0.730739381582848,
                    0.729996921752925,
                    0.7315498716728885,
                    0.7314224168960685,
                    0.7297596830319864,
                    0.7350610783743868,
                    0.7456606572244726,
                    0.7412355857318753,
                    0.7440106890410033,
                    0.7385087403267804,
                    0.744823567060721,
                    0.7464374059573762,
                    0.7481781135934309,
                    0.748360370226782,
                    0.7394052742677746,
                    0.7412478801406457,
                    0.7615845502994536,
                    0.7699895815581907,
                    0.7830073468870926,
                    0.7899003962555214,
                    0.8006143109810869,
                    0.8041156933845924,
                    0.8066785110866392,
                    0.809231875462963,
                    0.8085683494479341,
                    0.806237698861417,
                    0.802939215673182,
                    0.8004976335679836,
                    0.7986380043712049,
                    0.7845837412958229,
                    0.7879747257215357,
                    0.7963902104339777,
                    0.7870423018802548,
                    0.7812419281488913,
                    0.7815699811517038,
                    0.7773031593718163,
                    0.7819471692737839,
                    0.7700147406318972,
                    0.7806418859329899,
                    0.7647096194454222,
                    0.7661415604087487,
                    0.7683734342815034,
                    0.7596489604778915,
                    0.7790407391959605,
                    0.764776107434604
                  ],
                  "yaxis": "y"
                },
                {
                  "hovertemplate": "param_learning_rate=%{x}<br>AUC_ROC=%{y}<extra></extra>",
                  "legendgroup": "",
                  "marker": {
                    "color": "#636efa",
                    "symbol": "circle"
                  },
                  "mode": "markers",
                  "name": "",
                  "orientation": "v",
                  "showlegend": false,
                  "type": "scatter",
                  "x": [
                    0.04179474679231209,
                    0.042909457703223415,
                    0.04405389915469957,
                    0.045228864092277894,
                    0.04643516661020729,
                    0.047673642515507056,
                    0.048945149907069906,
                    0.050250569770210154,
                    0.051590806587069334,
                    0.052966788963301856,
                    0.05437947027147506,
                    0.055829829311629386,
                    0.057318870989456656,
                    0.05884762701256573,
                    0.06041715660531863,
                    0.062028547242731824,
                    0.0636829154039518,
                    0.06538140734582631,
                    0.06712519989710786,
                    0.06891550127383908,
                    0.07075355191648594,
                    0.0726406253493975,
                    0.07457802906318889,
                    0.07656710542065806,
                    0.07860923258686463,
                    0.08070582548401466,
                    0.08285833677181326,
                    0.08506825785396455,
                    0.08733711991151563,
                    0.08966649496376132,
                    0.09205799695744411,
                    0.09451328288500428,
                    0.09703405393265523,
                    0.0996220566590789,
                    0.10227908420555822,
                    0.10500697753838553,
                    0.10780762672440691,
                    0.1106829722405869,
                    0.11363500631850058,
                    0.11666577432468479,
                    0.11977737617780491,
                    0.12297196780361876,
                    0.12625176262874607,
                    0.1296190331142784,
                    0.13307611233029223,
                    0.13662539557235567,
                    0.1402693420211495,
                    0.14401047644635168,
                    0.14785139095596694,
                    0.1517947467923121
                  ],
                  "xaxis": "x",
                  "y": [
                    0.8080803927713301,
                    0.8013294964203974,
                    0.8049132825663452,
                    0.8068272807149736,
                    0.807626928885939,
                    0.805444488703864,
                    0.8094457013396891,
                    0.8071107646272623,
                    0.8064122078194824,
                    0.8070634926976809,
                    0.8115212076845453,
                    0.8081035487290436,
                    0.8041277070421072,
                    0.8073861359777517,
                    0.8066314852028796,
                    0.8049874284435307,
                    0.8060008887736579,
                    0.8080553535442837,
                    0.8031329464616178,
                    0.8116273985915738,
                    0.8033279392123902,
                    0.800572823826486,
                    0.800620306069931,
                    0.8044606845454577,
                    0.7996822495481161,
                    0.7967374124754276,
                    0.7967827430650103,
                    0.8003804515959198,
                    0.7997198614839448,
                    0.7994842259980284,
                    0.7941231740482003,
                    0.7994412770808961,
                    0.7973123430090956,
                    0.798097436411326,
                    0.7929676972318399,
                    0.7974997231158657,
                    0.7925821833460184,
                    0.7958242579921432,
                    0.7938470816290444,
                    0.784813290947206,
                    0.7946754799884789,
                    0.80072009955339,
                    0.7951620621720897,
                    0.7938320097292066,
                    0.7893138886646456,
                    0.7899403312977995,
                    0.7922109717166069,
                    0.7841015159346665,
                    0.7931736785486948,
                    0.7933439380417419
                  ],
                  "yaxis": "y"
                }
              ],
              "layout": {
                "coloraxis": {
                  "colorbar": {
                    "title": {
                      "text": "AUC_ROC"
                    }
                  },
                  "colorscale": [
                    [
                      0,
                      "#0d0887"
                    ],
                    [
                      0.1111111111111111,
                      "#46039f"
                    ],
                    [
                      0.2222222222222222,
                      "#7201a8"
                    ],
                    [
                      0.3333333333333333,
                      "#9c179e"
                    ],
                    [
                      0.4444444444444444,
                      "#bd3786"
                    ],
                    [
                      0.5555555555555556,
                      "#d8576b"
                    ],
                    [
                      0.6666666666666666,
                      "#ed7953"
                    ],
                    [
                      0.7777777777777778,
                      "#fb9f3a"
                    ],
                    [
                      0.8888888888888888,
                      "#fdca26"
                    ],
                    [
                      1,
                      "#f0f921"
                    ]
                  ]
                },
                "legend": {
                  "tracegroupgap": 0
                },
                "margin": {
                  "t": 60
                },
                "template": {
                  "data": {
                    "bar": [
                      {
                        "error_x": {
                          "color": "#2a3f5f"
                        },
                        "error_y": {
                          "color": "#2a3f5f"
                        },
                        "marker": {
                          "line": {
                            "color": "#E5ECF6",
                            "width": 0.5
                          },
                          "pattern": {
                            "fillmode": "overlay",
                            "size": 10,
                            "solidity": 0.2
                          }
                        },
                        "type": "bar"
                      }
                    ],
                    "barpolar": [
                      {
                        "marker": {
                          "line": {
                            "color": "#E5ECF6",
                            "width": 0.5
                          },
                          "pattern": {
                            "fillmode": "overlay",
                            "size": 10,
                            "solidity": 0.2
                          }
                        },
                        "type": "barpolar"
                      }
                    ],
                    "carpet": [
                      {
                        "aaxis": {
                          "endlinecolor": "#2a3f5f",
                          "gridcolor": "white",
                          "linecolor": "white",
                          "minorgridcolor": "white",
                          "startlinecolor": "#2a3f5f"
                        },
                        "baxis": {
                          "endlinecolor": "#2a3f5f",
                          "gridcolor": "white",
                          "linecolor": "white",
                          "minorgridcolor": "white",
                          "startlinecolor": "#2a3f5f"
                        },
                        "type": "carpet"
                      }
                    ],
                    "choropleth": [
                      {
                        "colorbar": {
                          "outlinewidth": 0,
                          "ticks": ""
                        },
                        "type": "choropleth"
                      }
                    ],
                    "contour": [
                      {
                        "colorbar": {
                          "outlinewidth": 0,
                          "ticks": ""
                        },
                        "colorscale": [
                          [
                            0,
                            "#0d0887"
                          ],
                          [
                            0.1111111111111111,
                            "#46039f"
                          ],
                          [
                            0.2222222222222222,
                            "#7201a8"
                          ],
                          [
                            0.3333333333333333,
                            "#9c179e"
                          ],
                          [
                            0.4444444444444444,
                            "#bd3786"
                          ],
                          [
                            0.5555555555555556,
                            "#d8576b"
                          ],
                          [
                            0.6666666666666666,
                            "#ed7953"
                          ],
                          [
                            0.7777777777777778,
                            "#fb9f3a"
                          ],
                          [
                            0.8888888888888888,
                            "#fdca26"
                          ],
                          [
                            1,
                            "#f0f921"
                          ]
                        ],
                        "type": "contour"
                      }
                    ],
                    "contourcarpet": [
                      {
                        "colorbar": {
                          "outlinewidth": 0,
                          "ticks": ""
                        },
                        "type": "contourcarpet"
                      }
                    ],
                    "heatmap": [
                      {
                        "colorbar": {
                          "outlinewidth": 0,
                          "ticks": ""
                        },
                        "colorscale": [
                          [
                            0,
                            "#0d0887"
                          ],
                          [
                            0.1111111111111111,
                            "#46039f"
                          ],
                          [
                            0.2222222222222222,
                            "#7201a8"
                          ],
                          [
                            0.3333333333333333,
                            "#9c179e"
                          ],
                          [
                            0.4444444444444444,
                            "#bd3786"
                          ],
                          [
                            0.5555555555555556,
                            "#d8576b"
                          ],
                          [
                            0.6666666666666666,
                            "#ed7953"
                          ],
                          [
                            0.7777777777777778,
                            "#fb9f3a"
                          ],
                          [
                            0.8888888888888888,
                            "#fdca26"
                          ],
                          [
                            1,
                            "#f0f921"
                          ]
                        ],
                        "type": "heatmap"
                      }
                    ],
                    "heatmapgl": [
                      {
                        "colorbar": {
                          "outlinewidth": 0,
                          "ticks": ""
                        },
                        "colorscale": [
                          [
                            0,
                            "#0d0887"
                          ],
                          [
                            0.1111111111111111,
                            "#46039f"
                          ],
                          [
                            0.2222222222222222,
                            "#7201a8"
                          ],
                          [
                            0.3333333333333333,
                            "#9c179e"
                          ],
                          [
                            0.4444444444444444,
                            "#bd3786"
                          ],
                          [
                            0.5555555555555556,
                            "#d8576b"
                          ],
                          [
                            0.6666666666666666,
                            "#ed7953"
                          ],
                          [
                            0.7777777777777778,
                            "#fb9f3a"
                          ],
                          [
                            0.8888888888888888,
                            "#fdca26"
                          ],
                          [
                            1,
                            "#f0f921"
                          ]
                        ],
                        "type": "heatmapgl"
                      }
                    ],
                    "histogram": [
                      {
                        "marker": {
                          "pattern": {
                            "fillmode": "overlay",
                            "size": 10,
                            "solidity": 0.2
                          }
                        },
                        "type": "histogram"
                      }
                    ],
                    "histogram2d": [
                      {
                        "colorbar": {
                          "outlinewidth": 0,
                          "ticks": ""
                        },
                        "colorscale": [
                          [
                            0,
                            "#0d0887"
                          ],
                          [
                            0.1111111111111111,
                            "#46039f"
                          ],
                          [
                            0.2222222222222222,
                            "#7201a8"
                          ],
                          [
                            0.3333333333333333,
                            "#9c179e"
                          ],
                          [
                            0.4444444444444444,
                            "#bd3786"
                          ],
                          [
                            0.5555555555555556,
                            "#d8576b"
                          ],
                          [
                            0.6666666666666666,
                            "#ed7953"
                          ],
                          [
                            0.7777777777777778,
                            "#fb9f3a"
                          ],
                          [
                            0.8888888888888888,
                            "#fdca26"
                          ],
                          [
                            1,
                            "#f0f921"
                          ]
                        ],
                        "type": "histogram2d"
                      }
                    ],
                    "histogram2dcontour": [
                      {
                        "colorbar": {
                          "outlinewidth": 0,
                          "ticks": ""
                        },
                        "colorscale": [
                          [
                            0,
                            "#0d0887"
                          ],
                          [
                            0.1111111111111111,
                            "#46039f"
                          ],
                          [
                            0.2222222222222222,
                            "#7201a8"
                          ],
                          [
                            0.3333333333333333,
                            "#9c179e"
                          ],
                          [
                            0.4444444444444444,
                            "#bd3786"
                          ],
                          [
                            0.5555555555555556,
                            "#d8576b"
                          ],
                          [
                            0.6666666666666666,
                            "#ed7953"
                          ],
                          [
                            0.7777777777777778,
                            "#fb9f3a"
                          ],
                          [
                            0.8888888888888888,
                            "#fdca26"
                          ],
                          [
                            1,
                            "#f0f921"
                          ]
                        ],
                        "type": "histogram2dcontour"
                      }
                    ],
                    "mesh3d": [
                      {
                        "colorbar": {
                          "outlinewidth": 0,
                          "ticks": ""
                        },
                        "type": "mesh3d"
                      }
                    ],
                    "parcoords": [
                      {
                        "line": {
                          "colorbar": {
                            "outlinewidth": 0,
                            "ticks": ""
                          }
                        },
                        "type": "parcoords"
                      }
                    ],
                    "pie": [
                      {
                        "automargin": true,
                        "type": "pie"
                      }
                    ],
                    "scatter": [
                      {
                        "fillpattern": {
                          "fillmode": "overlay",
                          "size": 10,
                          "solidity": 0.2
                        },
                        "type": "scatter"
                      }
                    ],
                    "scatter3d": [
                      {
                        "line": {
                          "colorbar": {
                            "outlinewidth": 0,
                            "ticks": ""
                          }
                        },
                        "marker": {
                          "colorbar": {
                            "outlinewidth": 0,
                            "ticks": ""
                          }
                        },
                        "type": "scatter3d"
                      }
                    ],
                    "scattercarpet": [
                      {
                        "marker": {
                          "colorbar": {
                            "outlinewidth": 0,
                            "ticks": ""
                          }
                        },
                        "type": "scattercarpet"
                      }
                    ],
                    "scattergeo": [
                      {
                        "marker": {
                          "colorbar": {
                            "outlinewidth": 0,
                            "ticks": ""
                          }
                        },
                        "type": "scattergeo"
                      }
                    ],
                    "scattergl": [
                      {
                        "marker": {
                          "colorbar": {
                            "outlinewidth": 0,
                            "ticks": ""
                          }
                        },
                        "type": "scattergl"
                      }
                    ],
                    "scattermapbox": [
                      {
                        "marker": {
                          "colorbar": {
                            "outlinewidth": 0,
                            "ticks": ""
                          }
                        },
                        "type": "scattermapbox"
                      }
                    ],
                    "scatterpolar": [
                      {
                        "marker": {
                          "colorbar": {
                            "outlinewidth": 0,
                            "ticks": ""
                          }
                        },
                        "type": "scatterpolar"
                      }
                    ],
                    "scatterpolargl": [
                      {
                        "marker": {
                          "colorbar": {
                            "outlinewidth": 0,
                            "ticks": ""
                          }
                        },
                        "type": "scatterpolargl"
                      }
                    ],
                    "scatterternary": [
                      {
                        "marker": {
                          "colorbar": {
                            "outlinewidth": 0,
                            "ticks": ""
                          }
                        },
                        "type": "scatterternary"
                      }
                    ],
                    "surface": [
                      {
                        "colorbar": {
                          "outlinewidth": 0,
                          "ticks": ""
                        },
                        "colorscale": [
                          [
                            0,
                            "#0d0887"
                          ],
                          [
                            0.1111111111111111,
                            "#46039f"
                          ],
                          [
                            0.2222222222222222,
                            "#7201a8"
                          ],
                          [
                            0.3333333333333333,
                            "#9c179e"
                          ],
                          [
                            0.4444444444444444,
                            "#bd3786"
                          ],
                          [
                            0.5555555555555556,
                            "#d8576b"
                          ],
                          [
                            0.6666666666666666,
                            "#ed7953"
                          ],
                          [
                            0.7777777777777778,
                            "#fb9f3a"
                          ],
                          [
                            0.8888888888888888,
                            "#fdca26"
                          ],
                          [
                            1,
                            "#f0f921"
                          ]
                        ],
                        "type": "surface"
                      }
                    ],
                    "table": [
                      {
                        "cells": {
                          "fill": {
                            "color": "#EBF0F8"
                          },
                          "line": {
                            "color": "white"
                          }
                        },
                        "header": {
                          "fill": {
                            "color": "#C8D4E3"
                          },
                          "line": {
                            "color": "white"
                          }
                        },
                        "type": "table"
                      }
                    ]
                  },
                  "layout": {
                    "annotationdefaults": {
                      "arrowcolor": "#2a3f5f",
                      "arrowhead": 0,
                      "arrowwidth": 1
                    },
                    "autotypenumbers": "strict",
                    "coloraxis": {
                      "colorbar": {
                        "outlinewidth": 0,
                        "ticks": ""
                      }
                    },
                    "colorscale": {
                      "diverging": [
                        [
                          0,
                          "#8e0152"
                        ],
                        [
                          0.1,
                          "#c51b7d"
                        ],
                        [
                          0.2,
                          "#de77ae"
                        ],
                        [
                          0.3,
                          "#f1b6da"
                        ],
                        [
                          0.4,
                          "#fde0ef"
                        ],
                        [
                          0.5,
                          "#f7f7f7"
                        ],
                        [
                          0.6,
                          "#e6f5d0"
                        ],
                        [
                          0.7,
                          "#b8e186"
                        ],
                        [
                          0.8,
                          "#7fbc41"
                        ],
                        [
                          0.9,
                          "#4d9221"
                        ],
                        [
                          1,
                          "#276419"
                        ]
                      ],
                      "sequential": [
                        [
                          0,
                          "#0d0887"
                        ],
                        [
                          0.1111111111111111,
                          "#46039f"
                        ],
                        [
                          0.2222222222222222,
                          "#7201a8"
                        ],
                        [
                          0.3333333333333333,
                          "#9c179e"
                        ],
                        [
                          0.4444444444444444,
                          "#bd3786"
                        ],
                        [
                          0.5555555555555556,
                          "#d8576b"
                        ],
                        [
                          0.6666666666666666,
                          "#ed7953"
                        ],
                        [
                          0.7777777777777778,
                          "#fb9f3a"
                        ],
                        [
                          0.8888888888888888,
                          "#fdca26"
                        ],
                        [
                          1,
                          "#f0f921"
                        ]
                      ],
                      "sequentialminus": [
                        [
                          0,
                          "#0d0887"
                        ],
                        [
                          0.1111111111111111,
                          "#46039f"
                        ],
                        [
                          0.2222222222222222,
                          "#7201a8"
                        ],
                        [
                          0.3333333333333333,
                          "#9c179e"
                        ],
                        [
                          0.4444444444444444,
                          "#bd3786"
                        ],
                        [
                          0.5555555555555556,
                          "#d8576b"
                        ],
                        [
                          0.6666666666666666,
                          "#ed7953"
                        ],
                        [
                          0.7777777777777778,
                          "#fb9f3a"
                        ],
                        [
                          0.8888888888888888,
                          "#fdca26"
                        ],
                        [
                          1,
                          "#f0f921"
                        ]
                      ]
                    },
                    "colorway": [
                      "#636efa",
                      "#EF553B",
                      "#00cc96",
                      "#ab63fa",
                      "#FFA15A",
                      "#19d3f3",
                      "#FF6692",
                      "#B6E880",
                      "#FF97FF",
                      "#FECB52"
                    ],
                    "font": {
                      "color": "#2a3f5f"
                    },
                    "geo": {
                      "bgcolor": "white",
                      "lakecolor": "white",
                      "landcolor": "#E5ECF6",
                      "showlakes": true,
                      "showland": true,
                      "subunitcolor": "white"
                    },
                    "hoverlabel": {
                      "align": "left"
                    },
                    "hovermode": "closest",
                    "mapbox": {
                      "style": "light"
                    },
                    "paper_bgcolor": "white",
                    "plot_bgcolor": "#E5ECF6",
                    "polar": {
                      "angularaxis": {
                        "gridcolor": "white",
                        "linecolor": "white",
                        "ticks": ""
                      },
                      "bgcolor": "#E5ECF6",
                      "radialaxis": {
                        "gridcolor": "white",
                        "linecolor": "white",
                        "ticks": ""
                      }
                    },
                    "scene": {
                      "xaxis": {
                        "backgroundcolor": "#E5ECF6",
                        "gridcolor": "white",
                        "gridwidth": 2,
                        "linecolor": "white",
                        "showbackground": true,
                        "ticks": "",
                        "zerolinecolor": "white"
                      },
                      "yaxis": {
                        "backgroundcolor": "#E5ECF6",
                        "gridcolor": "white",
                        "gridwidth": 2,
                        "linecolor": "white",
                        "showbackground": true,
                        "ticks": "",
                        "zerolinecolor": "white"
                      },
                      "zaxis": {
                        "backgroundcolor": "#E5ECF6",
                        "gridcolor": "white",
                        "gridwidth": 2,
                        "linecolor": "white",
                        "showbackground": true,
                        "ticks": "",
                        "zerolinecolor": "white"
                      }
                    },
                    "shapedefaults": {
                      "line": {
                        "color": "#2a3f5f"
                      }
                    },
                    "ternary": {
                      "aaxis": {
                        "gridcolor": "white",
                        "linecolor": "white",
                        "ticks": ""
                      },
                      "baxis": {
                        "gridcolor": "white",
                        "linecolor": "white",
                        "ticks": ""
                      },
                      "bgcolor": "#E5ECF6",
                      "caxis": {
                        "gridcolor": "white",
                        "linecolor": "white",
                        "ticks": ""
                      }
                    },
                    "title": {
                      "x": 0.05
                    },
                    "xaxis": {
                      "automargin": true,
                      "gridcolor": "white",
                      "linecolor": "white",
                      "ticks": "",
                      "title": {
                        "standoff": 15
                      },
                      "zerolinecolor": "white",
                      "zerolinewidth": 2
                    },
                    "yaxis": {
                      "automargin": true,
                      "gridcolor": "white",
                      "linecolor": "white",
                      "ticks": "",
                      "title": {
                        "standoff": 15
                      },
                      "zerolinecolor": "white",
                      "zerolinewidth": 2
                    }
                  }
                },
                "xaxis": {
                  "anchor": "y",
                  "domain": [
                    0,
                    1
                  ],
                  "title": {
                    "text": "param_learning_rate"
                  }
                },
                "yaxis": {
                  "anchor": "x",
                  "domain": [
                    0,
                    1
                  ],
                  "title": {
                    "text": "AUC_ROC"
                  }
                }
              }
            }
          },
          "metadata": {},
          "output_type": "display_data"
        }
      ],
      "source": [
        "import plotly.express as px\n",
        "import plotly.graph_objs as go\n",
        "\n",
        "# create a dataframe from results\n",
        "fig = px.scatter(result_coarse, x = params_key[2], \n",
        "                    y = params_key[3], \n",
        "                    color = 'AUC_ROC')\n",
        "fig.add_trace(px.scatter(result_fine, x = params_key[2], \n",
        "                    y = params_key[3]).data[0])\n",
        "\n",
        "# menyatukan kedua plot dalam satu objek\n",
        "\n",
        "fig.show()\n"
      ]
    },
    {
      "cell_type": "code",
      "execution_count": 774,
      "metadata": {},
      "outputs": [
        {
          "data": {
            "application/vnd.plotly.v1+json": {
              "config": {
                "plotlyServerURL": "https://plot.ly"
              },
              "data": [
                {
                  "mode": "markers",
                  "name": "Coarse search",
                  "type": "scatter",
                  "x": [
                    0.001,
                    0.0011513953993264468,
                    0.0013257113655901094,
                    0.0015264179671752333,
                    0.0017575106248547913,
                    0.0020235896477251575,
                    0.002329951810515372,
                    0.0026826957952797246,
                    0.0030888435964774815,
                    0.0035564803062231283,
                    0.004094915062380427,
                    0.004714866363457394,
                    0.005428675439323859,
                    0.006250551925273976,
                    0.0071968567300115215,
                    0.008286427728546842,
                    0.009540954763499945,
                    0.010985411419875584,
                    0.012648552168552958,
                    0.014563484775012436,
                    0.016768329368110083,
                    0.019306977288832496,
                    0.022229964825261943,
                    0.025595479226995357,
                    0.029470517025518096,
                    0.03393221771895328,
                    0.03906939937054617,
                    0.044984326689694466,
                    0.0517947467923121,
                    0.05963623316594643,
                    0.06866488450043001,
                    0.07906043210907697,
                    0.09102981779915217,
                    0.10481131341546852,
                    0.1206792640639329,
                    0.13894954943731375,
                    0.15998587196060574,
                    0.18420699693267165,
                    0.21209508879201905,
                    0.244205309454865,
                    0.28117686979742307,
                    0.32374575428176433,
                    0.3727593720314938,
                    0.42919342601287785,
                    0.49417133613238334,
                    0.5689866029018293,
                    0.655128556859551,
                    0.7543120063354615,
                    0.868511373751352,
                    1
                  ],
                  "y": [
                    0.7225118265002985,
                    0.7247242592152245,
                    0.7262614780043519,
                    0.7297302431823025,
                    0.7289992002765169,
                    0.730739381582848,
                    0.729996921752925,
                    0.7315498716728885,
                    0.7314224168960685,
                    0.7297596830319864,
                    0.7350610783743868,
                    0.7456606572244726,
                    0.7412355857318753,
                    0.7440106890410033,
                    0.7385087403267804,
                    0.744823567060721,
                    0.7464374059573762,
                    0.7481781135934309,
                    0.748360370226782,
                    0.7394052742677746,
                    0.7412478801406457,
                    0.7615845502994536,
                    0.7699895815581907,
                    0.7830073468870926,
                    0.7899003962555214,
                    0.8006143109810869,
                    0.8041156933845924,
                    0.8066785110866392,
                    0.809231875462963,
                    0.8085683494479341,
                    0.806237698861417,
                    0.802939215673182,
                    0.8004976335679836,
                    0.7986380043712049,
                    0.7845837412958229,
                    0.7879747257215357,
                    0.7963902104339777,
                    0.7870423018802548,
                    0.7812419281488913,
                    0.7815699811517038,
                    0.7773031593718163,
                    0.7819471692737839,
                    0.7700147406318972,
                    0.7806418859329899,
                    0.7647096194454222,
                    0.7661415604087487,
                    0.7683734342815034,
                    0.7596489604778915,
                    0.7790407391959605,
                    0.764776107434604
                  ]
                },
                {
                  "mode": "markers",
                  "name": "Fine search",
                  "type": "scatter",
                  "x": [
                    0.04179474679231209,
                    0.042909457703223415,
                    0.04405389915469957,
                    0.045228864092277894,
                    0.04643516661020729,
                    0.047673642515507056,
                    0.048945149907069906,
                    0.050250569770210154,
                    0.051590806587069334,
                    0.052966788963301856,
                    0.05437947027147506,
                    0.055829829311629386,
                    0.057318870989456656,
                    0.05884762701256573,
                    0.06041715660531863,
                    0.062028547242731824,
                    0.0636829154039518,
                    0.06538140734582631,
                    0.06712519989710786,
                    0.06891550127383908,
                    0.07075355191648594,
                    0.0726406253493975,
                    0.07457802906318889,
                    0.07656710542065806,
                    0.07860923258686463,
                    0.08070582548401466,
                    0.08285833677181326,
                    0.08506825785396455,
                    0.08733711991151563,
                    0.08966649496376132,
                    0.09205799695744411,
                    0.09451328288500428,
                    0.09703405393265523,
                    0.0996220566590789,
                    0.10227908420555822,
                    0.10500697753838553,
                    0.10780762672440691,
                    0.1106829722405869,
                    0.11363500631850058,
                    0.11666577432468479,
                    0.11977737617780491,
                    0.12297196780361876,
                    0.12625176262874607,
                    0.1296190331142784,
                    0.13307611233029223,
                    0.13662539557235567,
                    0.1402693420211495,
                    0.14401047644635168,
                    0.14785139095596694,
                    0.1517947467923121
                  ],
                  "y": [
                    0.8080803927713301,
                    0.8013294964203974,
                    0.8049132825663452,
                    0.8068272807149736,
                    0.807626928885939,
                    0.805444488703864,
                    0.8094457013396891,
                    0.8071107646272623,
                    0.8064122078194824,
                    0.8070634926976809,
                    0.8115212076845453,
                    0.8081035487290436,
                    0.8041277070421072,
                    0.8073861359777517,
                    0.8066314852028796,
                    0.8049874284435307,
                    0.8060008887736579,
                    0.8080553535442837,
                    0.8031329464616178,
                    0.8116273985915738,
                    0.8033279392123902,
                    0.800572823826486,
                    0.800620306069931,
                    0.8044606845454577,
                    0.7996822495481161,
                    0.7967374124754276,
                    0.7967827430650103,
                    0.8003804515959198,
                    0.7997198614839448,
                    0.7994842259980284,
                    0.7941231740482003,
                    0.7994412770808961,
                    0.7973123430090956,
                    0.798097436411326,
                    0.7929676972318399,
                    0.7974997231158657,
                    0.7925821833460184,
                    0.7958242579921432,
                    0.7938470816290444,
                    0.784813290947206,
                    0.7946754799884789,
                    0.80072009955339,
                    0.7951620621720897,
                    0.7938320097292066,
                    0.7893138886646456,
                    0.7899403312977995,
                    0.7922109717166069,
                    0.7841015159346665,
                    0.7931736785486948,
                    0.7933439380417419
                  ]
                }
              ],
              "layout": {
                "template": {
                  "data": {
                    "bar": [
                      {
                        "error_x": {
                          "color": "#2a3f5f"
                        },
                        "error_y": {
                          "color": "#2a3f5f"
                        },
                        "marker": {
                          "line": {
                            "color": "#E5ECF6",
                            "width": 0.5
                          },
                          "pattern": {
                            "fillmode": "overlay",
                            "size": 10,
                            "solidity": 0.2
                          }
                        },
                        "type": "bar"
                      }
                    ],
                    "barpolar": [
                      {
                        "marker": {
                          "line": {
                            "color": "#E5ECF6",
                            "width": 0.5
                          },
                          "pattern": {
                            "fillmode": "overlay",
                            "size": 10,
                            "solidity": 0.2
                          }
                        },
                        "type": "barpolar"
                      }
                    ],
                    "carpet": [
                      {
                        "aaxis": {
                          "endlinecolor": "#2a3f5f",
                          "gridcolor": "white",
                          "linecolor": "white",
                          "minorgridcolor": "white",
                          "startlinecolor": "#2a3f5f"
                        },
                        "baxis": {
                          "endlinecolor": "#2a3f5f",
                          "gridcolor": "white",
                          "linecolor": "white",
                          "minorgridcolor": "white",
                          "startlinecolor": "#2a3f5f"
                        },
                        "type": "carpet"
                      }
                    ],
                    "choropleth": [
                      {
                        "colorbar": {
                          "outlinewidth": 0,
                          "ticks": ""
                        },
                        "type": "choropleth"
                      }
                    ],
                    "contour": [
                      {
                        "colorbar": {
                          "outlinewidth": 0,
                          "ticks": ""
                        },
                        "colorscale": [
                          [
                            0,
                            "#0d0887"
                          ],
                          [
                            0.1111111111111111,
                            "#46039f"
                          ],
                          [
                            0.2222222222222222,
                            "#7201a8"
                          ],
                          [
                            0.3333333333333333,
                            "#9c179e"
                          ],
                          [
                            0.4444444444444444,
                            "#bd3786"
                          ],
                          [
                            0.5555555555555556,
                            "#d8576b"
                          ],
                          [
                            0.6666666666666666,
                            "#ed7953"
                          ],
                          [
                            0.7777777777777778,
                            "#fb9f3a"
                          ],
                          [
                            0.8888888888888888,
                            "#fdca26"
                          ],
                          [
                            1,
                            "#f0f921"
                          ]
                        ],
                        "type": "contour"
                      }
                    ],
                    "contourcarpet": [
                      {
                        "colorbar": {
                          "outlinewidth": 0,
                          "ticks": ""
                        },
                        "type": "contourcarpet"
                      }
                    ],
                    "heatmap": [
                      {
                        "colorbar": {
                          "outlinewidth": 0,
                          "ticks": ""
                        },
                        "colorscale": [
                          [
                            0,
                            "#0d0887"
                          ],
                          [
                            0.1111111111111111,
                            "#46039f"
                          ],
                          [
                            0.2222222222222222,
                            "#7201a8"
                          ],
                          [
                            0.3333333333333333,
                            "#9c179e"
                          ],
                          [
                            0.4444444444444444,
                            "#bd3786"
                          ],
                          [
                            0.5555555555555556,
                            "#d8576b"
                          ],
                          [
                            0.6666666666666666,
                            "#ed7953"
                          ],
                          [
                            0.7777777777777778,
                            "#fb9f3a"
                          ],
                          [
                            0.8888888888888888,
                            "#fdca26"
                          ],
                          [
                            1,
                            "#f0f921"
                          ]
                        ],
                        "type": "heatmap"
                      }
                    ],
                    "heatmapgl": [
                      {
                        "colorbar": {
                          "outlinewidth": 0,
                          "ticks": ""
                        },
                        "colorscale": [
                          [
                            0,
                            "#0d0887"
                          ],
                          [
                            0.1111111111111111,
                            "#46039f"
                          ],
                          [
                            0.2222222222222222,
                            "#7201a8"
                          ],
                          [
                            0.3333333333333333,
                            "#9c179e"
                          ],
                          [
                            0.4444444444444444,
                            "#bd3786"
                          ],
                          [
                            0.5555555555555556,
                            "#d8576b"
                          ],
                          [
                            0.6666666666666666,
                            "#ed7953"
                          ],
                          [
                            0.7777777777777778,
                            "#fb9f3a"
                          ],
                          [
                            0.8888888888888888,
                            "#fdca26"
                          ],
                          [
                            1,
                            "#f0f921"
                          ]
                        ],
                        "type": "heatmapgl"
                      }
                    ],
                    "histogram": [
                      {
                        "marker": {
                          "pattern": {
                            "fillmode": "overlay",
                            "size": 10,
                            "solidity": 0.2
                          }
                        },
                        "type": "histogram"
                      }
                    ],
                    "histogram2d": [
                      {
                        "colorbar": {
                          "outlinewidth": 0,
                          "ticks": ""
                        },
                        "colorscale": [
                          [
                            0,
                            "#0d0887"
                          ],
                          [
                            0.1111111111111111,
                            "#46039f"
                          ],
                          [
                            0.2222222222222222,
                            "#7201a8"
                          ],
                          [
                            0.3333333333333333,
                            "#9c179e"
                          ],
                          [
                            0.4444444444444444,
                            "#bd3786"
                          ],
                          [
                            0.5555555555555556,
                            "#d8576b"
                          ],
                          [
                            0.6666666666666666,
                            "#ed7953"
                          ],
                          [
                            0.7777777777777778,
                            "#fb9f3a"
                          ],
                          [
                            0.8888888888888888,
                            "#fdca26"
                          ],
                          [
                            1,
                            "#f0f921"
                          ]
                        ],
                        "type": "histogram2d"
                      }
                    ],
                    "histogram2dcontour": [
                      {
                        "colorbar": {
                          "outlinewidth": 0,
                          "ticks": ""
                        },
                        "colorscale": [
                          [
                            0,
                            "#0d0887"
                          ],
                          [
                            0.1111111111111111,
                            "#46039f"
                          ],
                          [
                            0.2222222222222222,
                            "#7201a8"
                          ],
                          [
                            0.3333333333333333,
                            "#9c179e"
                          ],
                          [
                            0.4444444444444444,
                            "#bd3786"
                          ],
                          [
                            0.5555555555555556,
                            "#d8576b"
                          ],
                          [
                            0.6666666666666666,
                            "#ed7953"
                          ],
                          [
                            0.7777777777777778,
                            "#fb9f3a"
                          ],
                          [
                            0.8888888888888888,
                            "#fdca26"
                          ],
                          [
                            1,
                            "#f0f921"
                          ]
                        ],
                        "type": "histogram2dcontour"
                      }
                    ],
                    "mesh3d": [
                      {
                        "colorbar": {
                          "outlinewidth": 0,
                          "ticks": ""
                        },
                        "type": "mesh3d"
                      }
                    ],
                    "parcoords": [
                      {
                        "line": {
                          "colorbar": {
                            "outlinewidth": 0,
                            "ticks": ""
                          }
                        },
                        "type": "parcoords"
                      }
                    ],
                    "pie": [
                      {
                        "automargin": true,
                        "type": "pie"
                      }
                    ],
                    "scatter": [
                      {
                        "fillpattern": {
                          "fillmode": "overlay",
                          "size": 10,
                          "solidity": 0.2
                        },
                        "type": "scatter"
                      }
                    ],
                    "scatter3d": [
                      {
                        "line": {
                          "colorbar": {
                            "outlinewidth": 0,
                            "ticks": ""
                          }
                        },
                        "marker": {
                          "colorbar": {
                            "outlinewidth": 0,
                            "ticks": ""
                          }
                        },
                        "type": "scatter3d"
                      }
                    ],
                    "scattercarpet": [
                      {
                        "marker": {
                          "colorbar": {
                            "outlinewidth": 0,
                            "ticks": ""
                          }
                        },
                        "type": "scattercarpet"
                      }
                    ],
                    "scattergeo": [
                      {
                        "marker": {
                          "colorbar": {
                            "outlinewidth": 0,
                            "ticks": ""
                          }
                        },
                        "type": "scattergeo"
                      }
                    ],
                    "scattergl": [
                      {
                        "marker": {
                          "colorbar": {
                            "outlinewidth": 0,
                            "ticks": ""
                          }
                        },
                        "type": "scattergl"
                      }
                    ],
                    "scattermapbox": [
                      {
                        "marker": {
                          "colorbar": {
                            "outlinewidth": 0,
                            "ticks": ""
                          }
                        },
                        "type": "scattermapbox"
                      }
                    ],
                    "scatterpolar": [
                      {
                        "marker": {
                          "colorbar": {
                            "outlinewidth": 0,
                            "ticks": ""
                          }
                        },
                        "type": "scatterpolar"
                      }
                    ],
                    "scatterpolargl": [
                      {
                        "marker": {
                          "colorbar": {
                            "outlinewidth": 0,
                            "ticks": ""
                          }
                        },
                        "type": "scatterpolargl"
                      }
                    ],
                    "scatterternary": [
                      {
                        "marker": {
                          "colorbar": {
                            "outlinewidth": 0,
                            "ticks": ""
                          }
                        },
                        "type": "scatterternary"
                      }
                    ],
                    "surface": [
                      {
                        "colorbar": {
                          "outlinewidth": 0,
                          "ticks": ""
                        },
                        "colorscale": [
                          [
                            0,
                            "#0d0887"
                          ],
                          [
                            0.1111111111111111,
                            "#46039f"
                          ],
                          [
                            0.2222222222222222,
                            "#7201a8"
                          ],
                          [
                            0.3333333333333333,
                            "#9c179e"
                          ],
                          [
                            0.4444444444444444,
                            "#bd3786"
                          ],
                          [
                            0.5555555555555556,
                            "#d8576b"
                          ],
                          [
                            0.6666666666666666,
                            "#ed7953"
                          ],
                          [
                            0.7777777777777778,
                            "#fb9f3a"
                          ],
                          [
                            0.8888888888888888,
                            "#fdca26"
                          ],
                          [
                            1,
                            "#f0f921"
                          ]
                        ],
                        "type": "surface"
                      }
                    ],
                    "table": [
                      {
                        "cells": {
                          "fill": {
                            "color": "#EBF0F8"
                          },
                          "line": {
                            "color": "white"
                          }
                        },
                        "header": {
                          "fill": {
                            "color": "#C8D4E3"
                          },
                          "line": {
                            "color": "white"
                          }
                        },
                        "type": "table"
                      }
                    ]
                  },
                  "layout": {
                    "annotationdefaults": {
                      "arrowcolor": "#2a3f5f",
                      "arrowhead": 0,
                      "arrowwidth": 1
                    },
                    "autotypenumbers": "strict",
                    "coloraxis": {
                      "colorbar": {
                        "outlinewidth": 0,
                        "ticks": ""
                      }
                    },
                    "colorscale": {
                      "diverging": [
                        [
                          0,
                          "#8e0152"
                        ],
                        [
                          0.1,
                          "#c51b7d"
                        ],
                        [
                          0.2,
                          "#de77ae"
                        ],
                        [
                          0.3,
                          "#f1b6da"
                        ],
                        [
                          0.4,
                          "#fde0ef"
                        ],
                        [
                          0.5,
                          "#f7f7f7"
                        ],
                        [
                          0.6,
                          "#e6f5d0"
                        ],
                        [
                          0.7,
                          "#b8e186"
                        ],
                        [
                          0.8,
                          "#7fbc41"
                        ],
                        [
                          0.9,
                          "#4d9221"
                        ],
                        [
                          1,
                          "#276419"
                        ]
                      ],
                      "sequential": [
                        [
                          0,
                          "#0d0887"
                        ],
                        [
                          0.1111111111111111,
                          "#46039f"
                        ],
                        [
                          0.2222222222222222,
                          "#7201a8"
                        ],
                        [
                          0.3333333333333333,
                          "#9c179e"
                        ],
                        [
                          0.4444444444444444,
                          "#bd3786"
                        ],
                        [
                          0.5555555555555556,
                          "#d8576b"
                        ],
                        [
                          0.6666666666666666,
                          "#ed7953"
                        ],
                        [
                          0.7777777777777778,
                          "#fb9f3a"
                        ],
                        [
                          0.8888888888888888,
                          "#fdca26"
                        ],
                        [
                          1,
                          "#f0f921"
                        ]
                      ],
                      "sequentialminus": [
                        [
                          0,
                          "#0d0887"
                        ],
                        [
                          0.1111111111111111,
                          "#46039f"
                        ],
                        [
                          0.2222222222222222,
                          "#7201a8"
                        ],
                        [
                          0.3333333333333333,
                          "#9c179e"
                        ],
                        [
                          0.4444444444444444,
                          "#bd3786"
                        ],
                        [
                          0.5555555555555556,
                          "#d8576b"
                        ],
                        [
                          0.6666666666666666,
                          "#ed7953"
                        ],
                        [
                          0.7777777777777778,
                          "#fb9f3a"
                        ],
                        [
                          0.8888888888888888,
                          "#fdca26"
                        ],
                        [
                          1,
                          "#f0f921"
                        ]
                      ]
                    },
                    "colorway": [
                      "#636efa",
                      "#EF553B",
                      "#00cc96",
                      "#ab63fa",
                      "#FFA15A",
                      "#19d3f3",
                      "#FF6692",
                      "#B6E880",
                      "#FF97FF",
                      "#FECB52"
                    ],
                    "font": {
                      "color": "#2a3f5f"
                    },
                    "geo": {
                      "bgcolor": "white",
                      "lakecolor": "white",
                      "landcolor": "#E5ECF6",
                      "showlakes": true,
                      "showland": true,
                      "subunitcolor": "white"
                    },
                    "hoverlabel": {
                      "align": "left"
                    },
                    "hovermode": "closest",
                    "mapbox": {
                      "style": "light"
                    },
                    "paper_bgcolor": "white",
                    "plot_bgcolor": "#E5ECF6",
                    "polar": {
                      "angularaxis": {
                        "gridcolor": "white",
                        "linecolor": "white",
                        "ticks": ""
                      },
                      "bgcolor": "#E5ECF6",
                      "radialaxis": {
                        "gridcolor": "white",
                        "linecolor": "white",
                        "ticks": ""
                      }
                    },
                    "scene": {
                      "xaxis": {
                        "backgroundcolor": "#E5ECF6",
                        "gridcolor": "white",
                        "gridwidth": 2,
                        "linecolor": "white",
                        "showbackground": true,
                        "ticks": "",
                        "zerolinecolor": "white"
                      },
                      "yaxis": {
                        "backgroundcolor": "#E5ECF6",
                        "gridcolor": "white",
                        "gridwidth": 2,
                        "linecolor": "white",
                        "showbackground": true,
                        "ticks": "",
                        "zerolinecolor": "white"
                      },
                      "zaxis": {
                        "backgroundcolor": "#E5ECF6",
                        "gridcolor": "white",
                        "gridwidth": 2,
                        "linecolor": "white",
                        "showbackground": true,
                        "ticks": "",
                        "zerolinecolor": "white"
                      }
                    },
                    "shapedefaults": {
                      "line": {
                        "color": "#2a3f5f"
                      }
                    },
                    "ternary": {
                      "aaxis": {
                        "gridcolor": "white",
                        "linecolor": "white",
                        "ticks": ""
                      },
                      "baxis": {
                        "gridcolor": "white",
                        "linecolor": "white",
                        "ticks": ""
                      },
                      "bgcolor": "#E5ECF6",
                      "caxis": {
                        "gridcolor": "white",
                        "linecolor": "white",
                        "ticks": ""
                      }
                    },
                    "title": {
                      "x": 0.05
                    },
                    "xaxis": {
                      "automargin": true,
                      "gridcolor": "white",
                      "linecolor": "white",
                      "ticks": "",
                      "title": {
                        "standoff": 15
                      },
                      "zerolinecolor": "white",
                      "zerolinewidth": 2
                    },
                    "yaxis": {
                      "automargin": true,
                      "gridcolor": "white",
                      "linecolor": "white",
                      "ticks": "",
                      "title": {
                        "standoff": 15
                      },
                      "zerolinecolor": "white",
                      "zerolinewidth": 2
                    }
                  }
                },
                "xaxis": {
                  "range": [
                    0,
                    1
                  ],
                  "title": {
                    "text": "Learning rate"
                  }
                },
                "yaxis": {
                  "title": {
                    "text": "AUC ROC"
                  }
                }
              }
            }
          },
          "metadata": {},
          "output_type": "display_data"
        }
      ],
      "source": [
        "import plotly.graph_objs as go\n",
        "\n",
        "# data plot pertama\n",
        "x1 = result_coarse['param_learning_rate']\n",
        "y1 = result_coarse['mean_test_score']\n",
        "\n",
        "# data plot kedua\n",
        "x2 = result_fine['param_learning_rate']\n",
        "y2 = result_fine['mean_test_score']\n",
        "\n",
        "# membuat plot pertama\n",
        "trace1 = go.Scatter(x=x1, y=y1, mode='markers', name='Coarse search')\n",
        "\n",
        "# membuat plot kedua\n",
        "trace2 = go.Scatter(x=x2, y=y2, mode='markers', name='Fine search')\n",
        "\n",
        "# mengatur layout\n",
        "layout = go.Layout(xaxis=dict(title='Learning rate', range=[0, 1]), yaxis=dict(title='AUC ROC'))\n",
        "\n",
        "# menyatukan kedua plot dalam satu objek\n",
        "fig = go.Figure(data=[trace1, trace2], layout=layout)\n",
        "\n",
        "# menampilkan plot\n",
        "fig.show()"
      ]
    }
  ],
  "metadata": {
    "colab": {
      "include_colab_link": true,
      "provenance": []
    },
    "kernelspec": {
      "display_name": "Python 3",
      "language": "python",
      "name": "python3"
    },
    "language_info": {
      "codemirror_mode": {
        "name": "ipython",
        "version": 3
      },
      "file_extension": ".py",
      "mimetype": "text/x-python",
      "name": "python",
      "nbconvert_exporter": "python",
      "pygments_lexer": "ipython3",
      "version": "3.10.7"
    },
    "vscode": {
      "interpreter": {
        "hash": "369f2c481f4da34e4445cda3fffd2e751bd1c4d706f27375911949ba6bb62e1c"
      }
    }
  },
  "nbformat": 4,
  "nbformat_minor": 0
}
