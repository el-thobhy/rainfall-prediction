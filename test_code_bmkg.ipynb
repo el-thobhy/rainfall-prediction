{
  "cells": [
    {
      "cell_type": "markdown",
      "metadata": {
        "colab_type": "text",
        "id": "view-in-github"
      },
      "source": [
        "<a href=\"https://colab.research.google.com/github/el-thobhy/rainfall-prediction/blob/master/test_code_kaggle.ipynb\" target=\"_parent\"><img src=\"https://colab.research.google.com/assets/colab-badge.svg\" alt=\"Open In Colab\"/></a>"
      ]
    },
    {
      "attachments": {},
      "cell_type": "markdown",
      "metadata": {},
      "source": [
        "## Data preprocessing"
      ]
    },
    {
      "cell_type": "code",
      "execution_count": 350,
      "metadata": {
        "id": "zhr4ixRNfmbI"
      },
      "outputs": [],
      "source": [
        "import pandas as pd\n",
        "import seaborn as sns\n",
        "import numpy as np"
      ]
    },
    {
      "attachments": {},
      "cell_type": "markdown",
      "metadata": {},
      "source": [
        "### Data Loading"
      ]
    },
    {
      "cell_type": "code",
      "execution_count": 351,
      "metadata": {},
      "outputs": [
        {
          "data": {
            "text/html": [
              "<div>\n",
              "<style scoped>\n",
              "    .dataframe tbody tr th:only-of-type {\n",
              "        vertical-align: middle;\n",
              "    }\n",
              "\n",
              "    .dataframe tbody tr th {\n",
              "        vertical-align: top;\n",
              "    }\n",
              "\n",
              "    .dataframe thead th {\n",
              "        text-align: right;\n",
              "    }\n",
              "</style>\n",
              "<table border=\"1\" class=\"dataframe\">\n",
              "  <thead>\n",
              "    <tr style=\"text-align: right;\">\n",
              "      <th></th>\n",
              "      <th>Date and Time</th>\n",
              "      <th>Air Tmp (C) M 60 Min</th>\n",
              "      <th>Mag WD 60 Min (deg) M</th>\n",
              "      <th>Precip 1Hr (mm) M</th>\n",
              "      <th>QNH (hPa) M</th>\n",
              "      <th>RH (%) M 60 Min</th>\n",
              "      <th>True WD 60 Min (deg) M</th>\n",
              "      <th>WS 60 Min (kt) M</th>\n",
              "      <th>klasifikasi</th>\n",
              "    </tr>\n",
              "  </thead>\n",
              "  <tbody>\n",
              "    <tr>\n",
              "      <th>0</th>\n",
              "      <td>1/12/2022 0:00</td>\n",
              "      <td>23.73</td>\n",
              "      <td>82.0</td>\n",
              "      <td>29.7</td>\n",
              "      <td>1009.01</td>\n",
              "      <td>100.0</td>\n",
              "      <td>84.0</td>\n",
              "      <td>2.0</td>\n",
              "      <td>rain</td>\n",
              "    </tr>\n",
              "    <tr>\n",
              "      <th>1</th>\n",
              "      <td>1/12/2022 1:00</td>\n",
              "      <td>26.51</td>\n",
              "      <td>61.0</td>\n",
              "      <td>29.5</td>\n",
              "      <td>1009.35</td>\n",
              "      <td>92.9</td>\n",
              "      <td>63.0</td>\n",
              "      <td>2.0</td>\n",
              "      <td>rain</td>\n",
              "    </tr>\n",
              "    <tr>\n",
              "      <th>2</th>\n",
              "      <td>1/12/2022 2:00</td>\n",
              "      <td>28.45</td>\n",
              "      <td>3.0</td>\n",
              "      <td>23.5</td>\n",
              "      <td>1009.47</td>\n",
              "      <td>81.8</td>\n",
              "      <td>5.0</td>\n",
              "      <td>2.0</td>\n",
              "      <td>rain</td>\n",
              "    </tr>\n",
              "    <tr>\n",
              "      <th>3</th>\n",
              "      <td>1/12/2022 3:00</td>\n",
              "      <td>29.59</td>\n",
              "      <td>340.0</td>\n",
              "      <td>21.9</td>\n",
              "      <td>1009.11</td>\n",
              "      <td>75.2</td>\n",
              "      <td>342.0</td>\n",
              "      <td>2.0</td>\n",
              "      <td>rain</td>\n",
              "    </tr>\n",
              "    <tr>\n",
              "      <th>4</th>\n",
              "      <td>1/12/2022 4:00</td>\n",
              "      <td>30.68</td>\n",
              "      <td>297.0</td>\n",
              "      <td>19.9</td>\n",
              "      <td>1008.14</td>\n",
              "      <td>69.8</td>\n",
              "      <td>299.0</td>\n",
              "      <td>4.0</td>\n",
              "      <td>rain</td>\n",
              "    </tr>\n",
              "    <tr>\n",
              "      <th>...</th>\n",
              "      <td>...</td>\n",
              "      <td>...</td>\n",
              "      <td>...</td>\n",
              "      <td>...</td>\n",
              "      <td>...</td>\n",
              "      <td>...</td>\n",
              "      <td>...</td>\n",
              "      <td>...</td>\n",
              "      <td>...</td>\n",
              "    </tr>\n",
              "    <tr>\n",
              "      <th>2035</th>\n",
              "      <td>23/02/2023 19:00:00</td>\n",
              "      <td>25.00</td>\n",
              "      <td>269.0</td>\n",
              "      <td>NaN</td>\n",
              "      <td>1008.60</td>\n",
              "      <td>90.0</td>\n",
              "      <td>271.0</td>\n",
              "      <td>2.0</td>\n",
              "      <td>no rain</td>\n",
              "    </tr>\n",
              "    <tr>\n",
              "      <th>2036</th>\n",
              "      <td>23/02/2023 20:00:00</td>\n",
              "      <td>24.70</td>\n",
              "      <td>301.0</td>\n",
              "      <td>NaN</td>\n",
              "      <td>1008.37</td>\n",
              "      <td>92.2</td>\n",
              "      <td>303.0</td>\n",
              "      <td>2.0</td>\n",
              "      <td>no rain</td>\n",
              "    </tr>\n",
              "    <tr>\n",
              "      <th>2037</th>\n",
              "      <td>23/02/2023 21:00:00</td>\n",
              "      <td>24.31</td>\n",
              "      <td>312.0</td>\n",
              "      <td>NaN</td>\n",
              "      <td>1008.40</td>\n",
              "      <td>92.9</td>\n",
              "      <td>314.0</td>\n",
              "      <td>2.0</td>\n",
              "      <td>no rain</td>\n",
              "    </tr>\n",
              "    <tr>\n",
              "      <th>2038</th>\n",
              "      <td>23/02/2023 22:00:00</td>\n",
              "      <td>24.43</td>\n",
              "      <td>334.0</td>\n",
              "      <td>NaN</td>\n",
              "      <td>1008.74</td>\n",
              "      <td>92.0</td>\n",
              "      <td>336.0</td>\n",
              "      <td>4.0</td>\n",
              "      <td>no rain</td>\n",
              "    </tr>\n",
              "    <tr>\n",
              "      <th>2039</th>\n",
              "      <td>23/02/2023 23:00:00</td>\n",
              "      <td>24.16</td>\n",
              "      <td>331.0</td>\n",
              "      <td>NaN</td>\n",
              "      <td>1009.32</td>\n",
              "      <td>92.5</td>\n",
              "      <td>333.0</td>\n",
              "      <td>3.0</td>\n",
              "      <td>no rain</td>\n",
              "    </tr>\n",
              "  </tbody>\n",
              "</table>\n",
              "<p>2040 rows × 9 columns</p>\n",
              "</div>"
            ],
            "text/plain": [
              "            Date and Time  Air Tmp (C) M 60 Min  Mag WD 60 Min (deg) M  \\\n",
              "0          1/12/2022 0:00                 23.73                   82.0   \n",
              "1          1/12/2022 1:00                 26.51                   61.0   \n",
              "2          1/12/2022 2:00                 28.45                    3.0   \n",
              "3          1/12/2022 3:00                 29.59                  340.0   \n",
              "4          1/12/2022 4:00                 30.68                  297.0   \n",
              "...                   ...                   ...                    ...   \n",
              "2035  23/02/2023 19:00:00                 25.00                  269.0   \n",
              "2036  23/02/2023 20:00:00                 24.70                  301.0   \n",
              "2037  23/02/2023 21:00:00                 24.31                  312.0   \n",
              "2038  23/02/2023 22:00:00                 24.43                  334.0   \n",
              "2039  23/02/2023 23:00:00                 24.16                  331.0   \n",
              "\n",
              "      Precip 1Hr (mm) M  QNH (hPa) M  RH (%) M 60 Min  True WD 60 Min (deg) M  \\\n",
              "0                  29.7      1009.01            100.0                    84.0   \n",
              "1                  29.5      1009.35             92.9                    63.0   \n",
              "2                  23.5      1009.47             81.8                     5.0   \n",
              "3                  21.9      1009.11             75.2                   342.0   \n",
              "4                  19.9      1008.14             69.8                   299.0   \n",
              "...                 ...          ...              ...                     ...   \n",
              "2035                NaN      1008.60             90.0                   271.0   \n",
              "2036                NaN      1008.37             92.2                   303.0   \n",
              "2037                NaN      1008.40             92.9                   314.0   \n",
              "2038                NaN      1008.74             92.0                   336.0   \n",
              "2039                NaN      1009.32             92.5                   333.0   \n",
              "\n",
              "      WS 60 Min (kt) M klasifikasi  \n",
              "0                  2.0        rain  \n",
              "1                  2.0        rain  \n",
              "2                  2.0        rain  \n",
              "3                  2.0        rain  \n",
              "4                  4.0        rain  \n",
              "...                ...         ...  \n",
              "2035               2.0     no rain  \n",
              "2036               2.0     no rain  \n",
              "2037               2.0     no rain  \n",
              "2038               4.0     no rain  \n",
              "2039               3.0     no rain  \n",
              "\n",
              "[2040 rows x 9 columns]"
            ]
          },
          "execution_count": 351,
          "metadata": {},
          "output_type": "execute_result"
        }
      ],
      "source": [
        "data_belum_clean = pd.read_excel('2022 Feb 2023 perjam.xlsx')\n",
        "data_belum_clean"
      ]
    },
    {
      "cell_type": "code",
      "execution_count": 352,
      "metadata": {},
      "outputs": [
        {
          "data": {
            "text/html": [
              "<div>\n",
              "<style scoped>\n",
              "    .dataframe tbody tr th:only-of-type {\n",
              "        vertical-align: middle;\n",
              "    }\n",
              "\n",
              "    .dataframe tbody tr th {\n",
              "        vertical-align: top;\n",
              "    }\n",
              "\n",
              "    .dataframe thead th {\n",
              "        text-align: right;\n",
              "    }\n",
              "</style>\n",
              "<table border=\"1\" class=\"dataframe\">\n",
              "  <thead>\n",
              "    <tr style=\"text-align: right;\">\n",
              "      <th></th>\n",
              "      <th>Air Tmp (C) M 60 Min</th>\n",
              "      <th>Mag WD 60 Min (deg) M</th>\n",
              "      <th>Precip 1Hr (mm) M</th>\n",
              "      <th>QNH (hPa) M</th>\n",
              "      <th>RH (%) M 60 Min</th>\n",
              "      <th>True WD 60 Min (deg) M</th>\n",
              "      <th>WS 60 Min (kt) M</th>\n",
              "    </tr>\n",
              "  </thead>\n",
              "  <tbody>\n",
              "    <tr>\n",
              "      <th>count</th>\n",
              "      <td>1905.000000</td>\n",
              "      <td>1906.000000</td>\n",
              "      <td>1918.000000</td>\n",
              "      <td>1917.000000</td>\n",
              "      <td>1906.000000</td>\n",
              "      <td>1906.000000</td>\n",
              "      <td>1906.000000</td>\n",
              "    </tr>\n",
              "    <tr>\n",
              "      <th>mean</th>\n",
              "      <td>26.352551</td>\n",
              "      <td>204.625918</td>\n",
              "      <td>0.273045</td>\n",
              "      <td>1009.294476</td>\n",
              "      <td>84.791501</td>\n",
              "      <td>203.342078</td>\n",
              "      <td>3.754460</td>\n",
              "    </tr>\n",
              "    <tr>\n",
              "      <th>std</th>\n",
              "      <td>2.817952</td>\n",
              "      <td>118.346611</td>\n",
              "      <td>1.829971</td>\n",
              "      <td>2.000466</td>\n",
              "      <td>13.232921</td>\n",
              "      <td>118.879535</td>\n",
              "      <td>2.439298</td>\n",
              "    </tr>\n",
              "    <tr>\n",
              "      <th>min</th>\n",
              "      <td>21.920000</td>\n",
              "      <td>2.000000</td>\n",
              "      <td>0.000000</td>\n",
              "      <td>1002.980000</td>\n",
              "      <td>43.300000</td>\n",
              "      <td>1.000000</td>\n",
              "      <td>0.000000</td>\n",
              "    </tr>\n",
              "    <tr>\n",
              "      <th>25%</th>\n",
              "      <td>24.100000</td>\n",
              "      <td>78.000000</td>\n",
              "      <td>0.000000</td>\n",
              "      <td>1008.000000</td>\n",
              "      <td>74.925000</td>\n",
              "      <td>78.000000</td>\n",
              "      <td>2.000000</td>\n",
              "    </tr>\n",
              "    <tr>\n",
              "      <th>50%</th>\n",
              "      <td>25.400000</td>\n",
              "      <td>247.500000</td>\n",
              "      <td>0.000000</td>\n",
              "      <td>1009.350000</td>\n",
              "      <td>89.400000</td>\n",
              "      <td>245.000000</td>\n",
              "      <td>3.000000</td>\n",
              "    </tr>\n",
              "    <tr>\n",
              "      <th>75%</th>\n",
              "      <td>28.640000</td>\n",
              "      <td>305.750000</td>\n",
              "      <td>0.000000</td>\n",
              "      <td>1010.670000</td>\n",
              "      <td>96.000000</td>\n",
              "      <td>305.000000</td>\n",
              "      <td>5.000000</td>\n",
              "    </tr>\n",
              "    <tr>\n",
              "      <th>max</th>\n",
              "      <td>33.710000</td>\n",
              "      <td>360.000000</td>\n",
              "      <td>29.700000</td>\n",
              "      <td>1014.260000</td>\n",
              "      <td>100.000000</td>\n",
              "      <td>360.000000</td>\n",
              "      <td>13.000000</td>\n",
              "    </tr>\n",
              "  </tbody>\n",
              "</table>\n",
              "</div>"
            ],
            "text/plain": [
              "       Air Tmp (C) M 60 Min  Mag WD 60 Min (deg) M  Precip 1Hr (mm) M  \\\n",
              "count           1905.000000            1906.000000        1918.000000   \n",
              "mean              26.352551             204.625918           0.273045   \n",
              "std                2.817952             118.346611           1.829971   \n",
              "min               21.920000               2.000000           0.000000   \n",
              "25%               24.100000              78.000000           0.000000   \n",
              "50%               25.400000             247.500000           0.000000   \n",
              "75%               28.640000             305.750000           0.000000   \n",
              "max               33.710000             360.000000          29.700000   \n",
              "\n",
              "       QNH (hPa) M  RH (%) M 60 Min  True WD 60 Min (deg) M  WS 60 Min (kt) M  \n",
              "count  1917.000000      1906.000000             1906.000000       1906.000000  \n",
              "mean   1009.294476        84.791501              203.342078          3.754460  \n",
              "std       2.000466        13.232921              118.879535          2.439298  \n",
              "min    1002.980000        43.300000                1.000000          0.000000  \n",
              "25%    1008.000000        74.925000               78.000000          2.000000  \n",
              "50%    1009.350000        89.400000              245.000000          3.000000  \n",
              "75%    1010.670000        96.000000              305.000000          5.000000  \n",
              "max    1014.260000       100.000000              360.000000         13.000000  "
            ]
          },
          "execution_count": 352,
          "metadata": {},
          "output_type": "execute_result"
        }
      ],
      "source": [
        "data_belum_clean.describe()"
      ]
    },
    {
      "cell_type": "code",
      "execution_count": 353,
      "metadata": {},
      "outputs": [
        {
          "data": {
            "text/html": [
              "<div>\n",
              "<style scoped>\n",
              "    .dataframe tbody tr th:only-of-type {\n",
              "        vertical-align: middle;\n",
              "    }\n",
              "\n",
              "    .dataframe tbody tr th {\n",
              "        vertical-align: top;\n",
              "    }\n",
              "\n",
              "    .dataframe thead th {\n",
              "        text-align: right;\n",
              "    }\n",
              "</style>\n",
              "<table border=\"1\" class=\"dataframe\">\n",
              "  <thead>\n",
              "    <tr style=\"text-align: right;\">\n",
              "      <th></th>\n",
              "      <th>Date and Time</th>\n",
              "      <th>Air Tmp (C) M 60 Min</th>\n",
              "      <th>Precip 1Hr (mm) M</th>\n",
              "      <th>QNH (hPa) M</th>\n",
              "      <th>RH (%) M 60 Min</th>\n",
              "      <th>WS 60 Min (kt) M</th>\n",
              "      <th>multiclass classification</th>\n",
              "      <th>Binary Classification</th>\n",
              "    </tr>\n",
              "  </thead>\n",
              "  <tbody>\n",
              "    <tr>\n",
              "      <th>0</th>\n",
              "      <td>1/12/2022 0:00</td>\n",
              "      <td>23.73</td>\n",
              "      <td>0.0</td>\n",
              "      <td>1009.01</td>\n",
              "      <td>100.0</td>\n",
              "      <td>2.0</td>\n",
              "      <td>tidak hujan</td>\n",
              "      <td>tidak hujan</td>\n",
              "    </tr>\n",
              "    <tr>\n",
              "      <th>1</th>\n",
              "      <td>1/12/2022 1:00</td>\n",
              "      <td>26.51</td>\n",
              "      <td>0.0</td>\n",
              "      <td>1009.35</td>\n",
              "      <td>92.9</td>\n",
              "      <td>2.0</td>\n",
              "      <td>tidak hujan</td>\n",
              "      <td>tidak hujan</td>\n",
              "    </tr>\n",
              "    <tr>\n",
              "      <th>2</th>\n",
              "      <td>1/12/2022 2:00</td>\n",
              "      <td>28.45</td>\n",
              "      <td>0.0</td>\n",
              "      <td>1009.47</td>\n",
              "      <td>81.8</td>\n",
              "      <td>2.0</td>\n",
              "      <td>tidak hujan</td>\n",
              "      <td>tidak hujan</td>\n",
              "    </tr>\n",
              "    <tr>\n",
              "      <th>3</th>\n",
              "      <td>1/12/2022 3:00</td>\n",
              "      <td>29.59</td>\n",
              "      <td>0.0</td>\n",
              "      <td>1009.11</td>\n",
              "      <td>75.2</td>\n",
              "      <td>2.0</td>\n",
              "      <td>tidak hujan</td>\n",
              "      <td>tidak hujan</td>\n",
              "    </tr>\n",
              "    <tr>\n",
              "      <th>4</th>\n",
              "      <td>1/12/2022 4:00</td>\n",
              "      <td>30.68</td>\n",
              "      <td>0.0</td>\n",
              "      <td>1008.14</td>\n",
              "      <td>69.8</td>\n",
              "      <td>4.0</td>\n",
              "      <td>tidak hujan</td>\n",
              "      <td>tidak hujan</td>\n",
              "    </tr>\n",
              "    <tr>\n",
              "      <th>...</th>\n",
              "      <td>...</td>\n",
              "      <td>...</td>\n",
              "      <td>...</td>\n",
              "      <td>...</td>\n",
              "      <td>...</td>\n",
              "      <td>...</td>\n",
              "      <td>...</td>\n",
              "      <td>...</td>\n",
              "    </tr>\n",
              "    <tr>\n",
              "      <th>2035</th>\n",
              "      <td>23/02/2023 19:00:00</td>\n",
              "      <td>25.00</td>\n",
              "      <td>0.0</td>\n",
              "      <td>1008.60</td>\n",
              "      <td>90.0</td>\n",
              "      <td>2.0</td>\n",
              "      <td>tidak hujan</td>\n",
              "      <td>tidak hujan</td>\n",
              "    </tr>\n",
              "    <tr>\n",
              "      <th>2036</th>\n",
              "      <td>23/02/2023 20:00:00</td>\n",
              "      <td>24.70</td>\n",
              "      <td>0.0</td>\n",
              "      <td>1008.37</td>\n",
              "      <td>92.2</td>\n",
              "      <td>2.0</td>\n",
              "      <td>tidak hujan</td>\n",
              "      <td>tidak hujan</td>\n",
              "    </tr>\n",
              "    <tr>\n",
              "      <th>2037</th>\n",
              "      <td>23/02/2023 21:00:00</td>\n",
              "      <td>24.31</td>\n",
              "      <td>0.0</td>\n",
              "      <td>1008.40</td>\n",
              "      <td>92.9</td>\n",
              "      <td>2.0</td>\n",
              "      <td>tidak hujan</td>\n",
              "      <td>tidak hujan</td>\n",
              "    </tr>\n",
              "    <tr>\n",
              "      <th>2038</th>\n",
              "      <td>23/02/2023 22:00:00</td>\n",
              "      <td>24.43</td>\n",
              "      <td>0.0</td>\n",
              "      <td>1008.74</td>\n",
              "      <td>92.0</td>\n",
              "      <td>4.0</td>\n",
              "      <td>tidak hujan</td>\n",
              "      <td>tidak hujan</td>\n",
              "    </tr>\n",
              "    <tr>\n",
              "      <th>2039</th>\n",
              "      <td>23/02/2023 23:00:00</td>\n",
              "      <td>24.16</td>\n",
              "      <td>0.0</td>\n",
              "      <td>1009.32</td>\n",
              "      <td>92.5</td>\n",
              "      <td>3.0</td>\n",
              "      <td>tidak hujan</td>\n",
              "      <td>tidak hujan</td>\n",
              "    </tr>\n",
              "  </tbody>\n",
              "</table>\n",
              "<p>2040 rows × 8 columns</p>\n",
              "</div>"
            ],
            "text/plain": [
              "            Date and Time  Air Tmp (C) M 60 Min  Precip 1Hr (mm) M  \\\n",
              "0          1/12/2022 0:00                 23.73                0.0   \n",
              "1          1/12/2022 1:00                 26.51                0.0   \n",
              "2          1/12/2022 2:00                 28.45                0.0   \n",
              "3          1/12/2022 3:00                 29.59                0.0   \n",
              "4          1/12/2022 4:00                 30.68                0.0   \n",
              "...                   ...                   ...                ...   \n",
              "2035  23/02/2023 19:00:00                 25.00                0.0   \n",
              "2036  23/02/2023 20:00:00                 24.70                0.0   \n",
              "2037  23/02/2023 21:00:00                 24.31                0.0   \n",
              "2038  23/02/2023 22:00:00                 24.43                0.0   \n",
              "2039  23/02/2023 23:00:00                 24.16                0.0   \n",
              "\n",
              "      QNH (hPa) M  RH (%) M 60 Min  WS 60 Min (kt) M  \\\n",
              "0         1009.01            100.0               2.0   \n",
              "1         1009.35             92.9               2.0   \n",
              "2         1009.47             81.8               2.0   \n",
              "3         1009.11             75.2               2.0   \n",
              "4         1008.14             69.8               4.0   \n",
              "...           ...              ...               ...   \n",
              "2035      1008.60             90.0               2.0   \n",
              "2036      1008.37             92.2               2.0   \n",
              "2037      1008.40             92.9               2.0   \n",
              "2038      1008.74             92.0               4.0   \n",
              "2039      1009.32             92.5               3.0   \n",
              "\n",
              "     multiclass classification Binary Classification  \n",
              "0                  tidak hujan           tidak hujan  \n",
              "1                  tidak hujan           tidak hujan  \n",
              "2                  tidak hujan           tidak hujan  \n",
              "3                  tidak hujan           tidak hujan  \n",
              "4                  tidak hujan           tidak hujan  \n",
              "...                        ...                   ...  \n",
              "2035               tidak hujan           tidak hujan  \n",
              "2036               tidak hujan           tidak hujan  \n",
              "2037               tidak hujan           tidak hujan  \n",
              "2038               tidak hujan           tidak hujan  \n",
              "2039               tidak hujan           tidak hujan  \n",
              "\n",
              "[2040 rows x 8 columns]"
            ]
          },
          "execution_count": 353,
          "metadata": {},
          "output_type": "execute_result"
        }
      ],
      "source": [
        "data_classified = pd.read_excel('data/data_classified.xlsx')\n",
        "data_classified"
      ]
    },
    {
      "cell_type": "code",
      "execution_count": 354,
      "metadata": {},
      "outputs": [
        {
          "name": "stdout",
          "output_type": "stream",
          "text": [
            "<class 'pandas.core.frame.DataFrame'>\n",
            "RangeIndex: 2040 entries, 0 to 2039\n",
            "Data columns (total 9 columns):\n",
            " #   Column                  Non-Null Count  Dtype  \n",
            "---  ------                  --------------  -----  \n",
            " 0   Date and Time           2040 non-null   object \n",
            " 1   Air Tmp (C) M 60 Min    1905 non-null   float64\n",
            " 2   Mag WD 60 Min (deg) M   1906 non-null   float64\n",
            " 3   Precip 1Hr (mm) M       1918 non-null   float64\n",
            " 4   QNH (hPa) M             1917 non-null   float64\n",
            " 5   RH (%) M 60 Min         1906 non-null   float64\n",
            " 6   True WD 60 Min (deg) M  1906 non-null   float64\n",
            " 7   WS 60 Min (kt) M        1906 non-null   float64\n",
            " 8   klasifikasi             2040 non-null   object \n",
            "dtypes: float64(7), object(2)\n",
            "memory usage: 143.6+ KB\n"
          ]
        }
      ],
      "source": [
        "data_belum_clean.info()"
      ]
    },
    {
      "cell_type": "code",
      "execution_count": 355,
      "metadata": {
        "colab": {
          "base_uri": "https://localhost:8080/",
          "height": 288
        },
        "id": "Ey-339A5fmbK",
        "outputId": "df1602b7-7212-43ba-aa0b-24e6f6cbeb28"
      },
      "outputs": [
        {
          "data": {
            "text/html": [
              "<div>\n",
              "<style scoped>\n",
              "    .dataframe tbody tr th:only-of-type {\n",
              "        vertical-align: middle;\n",
              "    }\n",
              "\n",
              "    .dataframe tbody tr th {\n",
              "        vertical-align: top;\n",
              "    }\n",
              "\n",
              "    .dataframe thead th {\n",
              "        text-align: right;\n",
              "    }\n",
              "</style>\n",
              "<table border=\"1\" class=\"dataframe\">\n",
              "  <thead>\n",
              "    <tr style=\"text-align: right;\">\n",
              "      <th></th>\n",
              "      <th>Date and Time</th>\n",
              "      <th>Air Tmp (C) M 60 Min</th>\n",
              "      <th>Precip 1Hr (mm) M</th>\n",
              "      <th>QNH (hPa) M</th>\n",
              "      <th>RH (%) M 60 Min</th>\n",
              "      <th>WS 60 Min (kt) M</th>\n",
              "    </tr>\n",
              "  </thead>\n",
              "  <tbody>\n",
              "    <tr>\n",
              "      <th>0</th>\n",
              "      <td>1/12/2022 0:00</td>\n",
              "      <td>23.73</td>\n",
              "      <td>0.0</td>\n",
              "      <td>1009.01</td>\n",
              "      <td>100.0</td>\n",
              "      <td>2.0</td>\n",
              "    </tr>\n",
              "    <tr>\n",
              "      <th>1</th>\n",
              "      <td>1/12/2022 1:00</td>\n",
              "      <td>26.51</td>\n",
              "      <td>0.0</td>\n",
              "      <td>1009.35</td>\n",
              "      <td>92.9</td>\n",
              "      <td>2.0</td>\n",
              "    </tr>\n",
              "    <tr>\n",
              "      <th>2</th>\n",
              "      <td>1/12/2022 2:00</td>\n",
              "      <td>28.45</td>\n",
              "      <td>0.0</td>\n",
              "      <td>1009.47</td>\n",
              "      <td>81.8</td>\n",
              "      <td>2.0</td>\n",
              "    </tr>\n",
              "    <tr>\n",
              "      <th>3</th>\n",
              "      <td>1/12/2022 3:00</td>\n",
              "      <td>29.59</td>\n",
              "      <td>0.0</td>\n",
              "      <td>1009.11</td>\n",
              "      <td>75.2</td>\n",
              "      <td>2.0</td>\n",
              "    </tr>\n",
              "    <tr>\n",
              "      <th>4</th>\n",
              "      <td>1/12/2022 4:00</td>\n",
              "      <td>30.68</td>\n",
              "      <td>0.0</td>\n",
              "      <td>1008.14</td>\n",
              "      <td>69.8</td>\n",
              "      <td>4.0</td>\n",
              "    </tr>\n",
              "    <tr>\n",
              "      <th>...</th>\n",
              "      <td>...</td>\n",
              "      <td>...</td>\n",
              "      <td>...</td>\n",
              "      <td>...</td>\n",
              "      <td>...</td>\n",
              "      <td>...</td>\n",
              "    </tr>\n",
              "    <tr>\n",
              "      <th>2035</th>\n",
              "      <td>23/02/2023 19:00:00</td>\n",
              "      <td>25.00</td>\n",
              "      <td>0.0</td>\n",
              "      <td>1008.60</td>\n",
              "      <td>90.0</td>\n",
              "      <td>2.0</td>\n",
              "    </tr>\n",
              "    <tr>\n",
              "      <th>2036</th>\n",
              "      <td>23/02/2023 20:00:00</td>\n",
              "      <td>24.70</td>\n",
              "      <td>0.0</td>\n",
              "      <td>1008.37</td>\n",
              "      <td>92.2</td>\n",
              "      <td>2.0</td>\n",
              "    </tr>\n",
              "    <tr>\n",
              "      <th>2037</th>\n",
              "      <td>23/02/2023 21:00:00</td>\n",
              "      <td>24.31</td>\n",
              "      <td>0.0</td>\n",
              "      <td>1008.40</td>\n",
              "      <td>92.9</td>\n",
              "      <td>2.0</td>\n",
              "    </tr>\n",
              "    <tr>\n",
              "      <th>2038</th>\n",
              "      <td>23/02/2023 22:00:00</td>\n",
              "      <td>24.43</td>\n",
              "      <td>0.0</td>\n",
              "      <td>1008.74</td>\n",
              "      <td>92.0</td>\n",
              "      <td>4.0</td>\n",
              "    </tr>\n",
              "    <tr>\n",
              "      <th>2039</th>\n",
              "      <td>23/02/2023 23:00:00</td>\n",
              "      <td>24.16</td>\n",
              "      <td>0.0</td>\n",
              "      <td>1009.32</td>\n",
              "      <td>92.5</td>\n",
              "      <td>3.0</td>\n",
              "    </tr>\n",
              "  </tbody>\n",
              "</table>\n",
              "<p>2040 rows × 6 columns</p>\n",
              "</div>"
            ],
            "text/plain": [
              "            Date and Time  Air Tmp (C) M 60 Min  Precip 1Hr (mm) M  \\\n",
              "0          1/12/2022 0:00                 23.73                0.0   \n",
              "1          1/12/2022 1:00                 26.51                0.0   \n",
              "2          1/12/2022 2:00                 28.45                0.0   \n",
              "3          1/12/2022 3:00                 29.59                0.0   \n",
              "4          1/12/2022 4:00                 30.68                0.0   \n",
              "...                   ...                   ...                ...   \n",
              "2035  23/02/2023 19:00:00                 25.00                0.0   \n",
              "2036  23/02/2023 20:00:00                 24.70                0.0   \n",
              "2037  23/02/2023 21:00:00                 24.31                0.0   \n",
              "2038  23/02/2023 22:00:00                 24.43                0.0   \n",
              "2039  23/02/2023 23:00:00                 24.16                0.0   \n",
              "\n",
              "      QNH (hPa) M  RH (%) M 60 Min  WS 60 Min (kt) M  \n",
              "0         1009.01            100.0               2.0  \n",
              "1         1009.35             92.9               2.0  \n",
              "2         1009.47             81.8               2.0  \n",
              "3         1009.11             75.2               2.0  \n",
              "4         1008.14             69.8               4.0  \n",
              "...           ...              ...               ...  \n",
              "2035      1008.60             90.0               2.0  \n",
              "2036      1008.37             92.2               2.0  \n",
              "2037      1008.40             92.9               2.0  \n",
              "2038      1008.74             92.0               4.0  \n",
              "2039      1009.32             92.5               3.0  \n",
              "\n",
              "[2040 rows x 6 columns]"
            ]
          },
          "execution_count": 355,
          "metadata": {},
          "output_type": "execute_result"
        }
      ],
      "source": [
        "data_baru = pd.read_excel('Data Des 2022 to Feb 2023 perjam Clean.xlsx')\n",
        "data_baru = data_baru.drop('klasifikasi', axis=1)\n",
        "data_baru"
      ]
    },
    {
      "attachments": {},
      "cell_type": "markdown",
      "metadata": {},
      "source": [
        "### Explanatory Data Analysis"
      ]
    },
    {
      "attachments": {},
      "cell_type": "markdown",
      "metadata": {},
      "source": [
        "_*Variable description*_\n",
        "\n",
        "- Date and Time = Date and Time\n",
        "- Air Tmp (C) M 60 Min\n",
        "- Mag WD 60 Min (deg) M\n",
        "- Precip 1Hr (mm) M\n",
        "- QNH (hPa) M\n",
        "- RH (%) M 60 Min\n",
        "- True WD 60 Min (deg) M\n",
        "- WS 60 Min (kt) M\n",
        "- klasifikasi"
      ]
    },
    {
      "cell_type": "code",
      "execution_count": 356,
      "metadata": {
        "colab": {
          "base_uri": "https://localhost:8080/"
        },
        "id": "eajZo8auWwp0",
        "outputId": "d67b57e8-e9b1-422d-e091-a39feff8e67b"
      },
      "outputs": [
        {
          "name": "stdout",
          "output_type": "stream",
          "text": [
            "<class 'pandas.core.frame.DataFrame'>\n",
            "RangeIndex: 2040 entries, 0 to 2039\n",
            "Data columns (total 6 columns):\n",
            " #   Column                Non-Null Count  Dtype  \n",
            "---  ------                --------------  -----  \n",
            " 0   Date and Time         2040 non-null   object \n",
            " 1   Air Tmp (C) M 60 Min  2040 non-null   float64\n",
            " 2   Precip 1Hr (mm) M     2040 non-null   float64\n",
            " 3   QNH (hPa) M           2040 non-null   float64\n",
            " 4   RH (%) M 60 Min       2040 non-null   float64\n",
            " 5   WS 60 Min (kt) M      2040 non-null   float64\n",
            "dtypes: float64(5), object(1)\n",
            "memory usage: 95.8+ KB\n"
          ]
        }
      ],
      "source": [
        "data_baru.info()"
      ]
    },
    {
      "cell_type": "code",
      "execution_count": 357,
      "metadata": {
        "id": "o9h52YPRfmbM"
      },
      "outputs": [],
      "source": [
        "# data_baru.sort_values(by=['Date and Time'], inplace=True, ascending=True)\n",
        "data_baru.set_index('Date and Time', inplace= True)"
      ]
    },
    {
      "attachments": {},
      "cell_type": "markdown",
      "metadata": {},
      "source": [
        "#### Missing value"
      ]
    },
    {
      "cell_type": "code",
      "execution_count": 358,
      "metadata": {},
      "outputs": [
        {
          "data": {
            "text/html": [
              "<div>\n",
              "<style scoped>\n",
              "    .dataframe tbody tr th:only-of-type {\n",
              "        vertical-align: middle;\n",
              "    }\n",
              "\n",
              "    .dataframe tbody tr th {\n",
              "        vertical-align: top;\n",
              "    }\n",
              "\n",
              "    .dataframe thead th {\n",
              "        text-align: right;\n",
              "    }\n",
              "</style>\n",
              "<table border=\"1\" class=\"dataframe\">\n",
              "  <thead>\n",
              "    <tr style=\"text-align: right;\">\n",
              "      <th></th>\n",
              "      <th>Air Tmp (C) M 60 Min</th>\n",
              "      <th>Precip 1Hr (mm) M</th>\n",
              "      <th>QNH (hPa) M</th>\n",
              "      <th>RH (%) M 60 Min</th>\n",
              "      <th>WS 60 Min (kt) M</th>\n",
              "    </tr>\n",
              "  </thead>\n",
              "  <tbody>\n",
              "    <tr>\n",
              "      <th>count</th>\n",
              "      <td>2040.000000</td>\n",
              "      <td>2040.000000</td>\n",
              "      <td>2040.000000</td>\n",
              "      <td>2040.000000</td>\n",
              "      <td>2040.000000</td>\n",
              "    </tr>\n",
              "    <tr>\n",
              "      <th>mean</th>\n",
              "      <td>26.396240</td>\n",
              "      <td>0.266593</td>\n",
              "      <td>1009.248248</td>\n",
              "      <td>84.888382</td>\n",
              "      <td>3.689706</td>\n",
              "    </tr>\n",
              "    <tr>\n",
              "      <th>std</th>\n",
              "      <td>2.767906</td>\n",
              "      <td>1.776614</td>\n",
              "      <td>1.964072</td>\n",
              "      <td>12.993643</td>\n",
              "      <td>2.382819</td>\n",
              "    </tr>\n",
              "    <tr>\n",
              "      <th>min</th>\n",
              "      <td>21.920000</td>\n",
              "      <td>0.000000</td>\n",
              "      <td>1002.980000</td>\n",
              "      <td>43.300000</td>\n",
              "      <td>0.000000</td>\n",
              "    </tr>\n",
              "    <tr>\n",
              "      <th>25%</th>\n",
              "      <td>24.160000</td>\n",
              "      <td>0.000000</td>\n",
              "      <td>1008.017500</td>\n",
              "      <td>75.400000</td>\n",
              "      <td>2.000000</td>\n",
              "    </tr>\n",
              "    <tr>\n",
              "      <th>50%</th>\n",
              "      <td>25.530000</td>\n",
              "      <td>0.000000</td>\n",
              "      <td>1009.210000</td>\n",
              "      <td>89.000000</td>\n",
              "      <td>3.000000</td>\n",
              "    </tr>\n",
              "    <tr>\n",
              "      <th>75%</th>\n",
              "      <td>28.525000</td>\n",
              "      <td>0.000000</td>\n",
              "      <td>1010.600000</td>\n",
              "      <td>96.000000</td>\n",
              "      <td>5.000000</td>\n",
              "    </tr>\n",
              "    <tr>\n",
              "      <th>max</th>\n",
              "      <td>33.710000</td>\n",
              "      <td>29.700000</td>\n",
              "      <td>1014.260000</td>\n",
              "      <td>100.000000</td>\n",
              "      <td>13.000000</td>\n",
              "    </tr>\n",
              "  </tbody>\n",
              "</table>\n",
              "</div>"
            ],
            "text/plain": [
              "       Air Tmp (C) M 60 Min  Precip 1Hr (mm) M  QNH (hPa) M  RH (%) M 60 Min  \\\n",
              "count           2040.000000        2040.000000  2040.000000      2040.000000   \n",
              "mean              26.396240           0.266593  1009.248248        84.888382   \n",
              "std                2.767906           1.776614     1.964072        12.993643   \n",
              "min               21.920000           0.000000  1002.980000        43.300000   \n",
              "25%               24.160000           0.000000  1008.017500        75.400000   \n",
              "50%               25.530000           0.000000  1009.210000        89.000000   \n",
              "75%               28.525000           0.000000  1010.600000        96.000000   \n",
              "max               33.710000          29.700000  1014.260000       100.000000   \n",
              "\n",
              "       WS 60 Min (kt) M  \n",
              "count       2040.000000  \n",
              "mean           3.689706  \n",
              "std            2.382819  \n",
              "min            0.000000  \n",
              "25%            2.000000  \n",
              "50%            3.000000  \n",
              "75%            5.000000  \n",
              "max           13.000000  "
            ]
          },
          "execution_count": 358,
          "metadata": {},
          "output_type": "execute_result"
        }
      ],
      "source": [
        "data_baru.describe()"
      ]
    },
    {
      "attachments": {},
      "cell_type": "markdown",
      "metadata": {},
      "source": [
        "_ada lebih dari 100 data yang hilang, total data adalah 2039, dan yang terhitung 1900_"
      ]
    },
    {
      "cell_type": "code",
      "execution_count": 359,
      "metadata": {},
      "outputs": [
        {
          "data": {
            "text/html": [
              "<div>\n",
              "<style scoped>\n",
              "    .dataframe tbody tr th:only-of-type {\n",
              "        vertical-align: middle;\n",
              "    }\n",
              "\n",
              "    .dataframe tbody tr th {\n",
              "        vertical-align: top;\n",
              "    }\n",
              "\n",
              "    .dataframe thead th {\n",
              "        text-align: right;\n",
              "    }\n",
              "</style>\n",
              "<table border=\"1\" class=\"dataframe\">\n",
              "  <thead>\n",
              "    <tr style=\"text-align: right;\">\n",
              "      <th></th>\n",
              "      <th>Air Tmp (C) M 60 Min</th>\n",
              "      <th>Precip 1Hr (mm) M</th>\n",
              "      <th>QNH (hPa) M</th>\n",
              "      <th>RH (%) M 60 Min</th>\n",
              "      <th>WS 60 Min (kt) M</th>\n",
              "      <th>classification</th>\n",
              "    </tr>\n",
              "    <tr>\n",
              "      <th>Date and Time</th>\n",
              "      <th></th>\n",
              "      <th></th>\n",
              "      <th></th>\n",
              "      <th></th>\n",
              "      <th></th>\n",
              "      <th></th>\n",
              "    </tr>\n",
              "  </thead>\n",
              "  <tbody>\n",
              "    <tr>\n",
              "      <th>1/12/2022 0:00</th>\n",
              "      <td>23.73</td>\n",
              "      <td>0.0</td>\n",
              "      <td>1009.01</td>\n",
              "      <td>100.0</td>\n",
              "      <td>2.0</td>\n",
              "      <td>tidak hujan</td>\n",
              "    </tr>\n",
              "    <tr>\n",
              "      <th>1/12/2022 1:00</th>\n",
              "      <td>26.51</td>\n",
              "      <td>0.0</td>\n",
              "      <td>1009.35</td>\n",
              "      <td>92.9</td>\n",
              "      <td>2.0</td>\n",
              "      <td>tidak hujan</td>\n",
              "    </tr>\n",
              "    <tr>\n",
              "      <th>1/12/2022 2:00</th>\n",
              "      <td>28.45</td>\n",
              "      <td>0.0</td>\n",
              "      <td>1009.47</td>\n",
              "      <td>81.8</td>\n",
              "      <td>2.0</td>\n",
              "      <td>tidak hujan</td>\n",
              "    </tr>\n",
              "    <tr>\n",
              "      <th>1/12/2022 3:00</th>\n",
              "      <td>29.59</td>\n",
              "      <td>0.0</td>\n",
              "      <td>1009.11</td>\n",
              "      <td>75.2</td>\n",
              "      <td>2.0</td>\n",
              "      <td>tidak hujan</td>\n",
              "    </tr>\n",
              "    <tr>\n",
              "      <th>1/12/2022 4:00</th>\n",
              "      <td>30.68</td>\n",
              "      <td>0.0</td>\n",
              "      <td>1008.14</td>\n",
              "      <td>69.8</td>\n",
              "      <td>4.0</td>\n",
              "      <td>tidak hujan</td>\n",
              "    </tr>\n",
              "    <tr>\n",
              "      <th>...</th>\n",
              "      <td>...</td>\n",
              "      <td>...</td>\n",
              "      <td>...</td>\n",
              "      <td>...</td>\n",
              "      <td>...</td>\n",
              "      <td>...</td>\n",
              "    </tr>\n",
              "    <tr>\n",
              "      <th>23/02/2023 19:00:00</th>\n",
              "      <td>25.00</td>\n",
              "      <td>0.0</td>\n",
              "      <td>1008.60</td>\n",
              "      <td>90.0</td>\n",
              "      <td>2.0</td>\n",
              "      <td>tidak hujan</td>\n",
              "    </tr>\n",
              "    <tr>\n",
              "      <th>23/02/2023 20:00:00</th>\n",
              "      <td>24.70</td>\n",
              "      <td>0.0</td>\n",
              "      <td>1008.37</td>\n",
              "      <td>92.2</td>\n",
              "      <td>2.0</td>\n",
              "      <td>tidak hujan</td>\n",
              "    </tr>\n",
              "    <tr>\n",
              "      <th>23/02/2023 21:00:00</th>\n",
              "      <td>24.31</td>\n",
              "      <td>0.0</td>\n",
              "      <td>1008.40</td>\n",
              "      <td>92.9</td>\n",
              "      <td>2.0</td>\n",
              "      <td>tidak hujan</td>\n",
              "    </tr>\n",
              "    <tr>\n",
              "      <th>23/02/2023 22:00:00</th>\n",
              "      <td>24.43</td>\n",
              "      <td>0.0</td>\n",
              "      <td>1008.74</td>\n",
              "      <td>92.0</td>\n",
              "      <td>4.0</td>\n",
              "      <td>tidak hujan</td>\n",
              "    </tr>\n",
              "    <tr>\n",
              "      <th>23/02/2023 23:00:00</th>\n",
              "      <td>24.16</td>\n",
              "      <td>0.0</td>\n",
              "      <td>1009.32</td>\n",
              "      <td>92.5</td>\n",
              "      <td>3.0</td>\n",
              "      <td>tidak hujan</td>\n",
              "    </tr>\n",
              "  </tbody>\n",
              "</table>\n",
              "<p>2040 rows × 6 columns</p>\n",
              "</div>"
            ],
            "text/plain": [
              "                     Air Tmp (C) M 60 Min  Precip 1Hr (mm) M  QNH (hPa) M  \\\n",
              "Date and Time                                                               \n",
              "1/12/2022 0:00                      23.73                0.0      1009.01   \n",
              "1/12/2022 1:00                      26.51                0.0      1009.35   \n",
              "1/12/2022 2:00                      28.45                0.0      1009.47   \n",
              "1/12/2022 3:00                      29.59                0.0      1009.11   \n",
              "1/12/2022 4:00                      30.68                0.0      1008.14   \n",
              "...                                   ...                ...          ...   \n",
              "23/02/2023 19:00:00                 25.00                0.0      1008.60   \n",
              "23/02/2023 20:00:00                 24.70                0.0      1008.37   \n",
              "23/02/2023 21:00:00                 24.31                0.0      1008.40   \n",
              "23/02/2023 22:00:00                 24.43                0.0      1008.74   \n",
              "23/02/2023 23:00:00                 24.16                0.0      1009.32   \n",
              "\n",
              "                     RH (%) M 60 Min  WS 60 Min (kt) M classification  \n",
              "Date and Time                                                          \n",
              "1/12/2022 0:00                 100.0               2.0    tidak hujan  \n",
              "1/12/2022 1:00                  92.9               2.0    tidak hujan  \n",
              "1/12/2022 2:00                  81.8               2.0    tidak hujan  \n",
              "1/12/2022 3:00                  75.2               2.0    tidak hujan  \n",
              "1/12/2022 4:00                  69.8               4.0    tidak hujan  \n",
              "...                              ...               ...            ...  \n",
              "23/02/2023 19:00:00             90.0               2.0    tidak hujan  \n",
              "23/02/2023 20:00:00             92.2               2.0    tidak hujan  \n",
              "23/02/2023 21:00:00             92.9               2.0    tidak hujan  \n",
              "23/02/2023 22:00:00             92.0               4.0    tidak hujan  \n",
              "23/02/2023 23:00:00             92.5               3.0    tidak hujan  \n",
              "\n",
              "[2040 rows x 6 columns]"
            ]
          },
          "execution_count": 359,
          "metadata": {},
          "output_type": "execute_result"
        }
      ],
      "source": [
        "conditions = [\n",
        "    (data_baru['Precip 1Hr (mm) M']==0),\n",
        "    (data_baru['Precip 1Hr (mm) M']>0),\n",
        "]\n",
        "\n",
        "values = ['tidak hujan', 'hujan']\n",
        "\n",
        "data_baru['classification'] = np.select(conditions, values)\n",
        "data_baru\n",
        "# data_classified = data_baru\n",
        "# writer = pd.ExcelWriter('data/data_classified.xlsx')\n",
        "# data_classified.to_excel(writer)\n",
        "# writer.save()"
      ]
    },
    {
      "cell_type": "code",
<<<<<<< HEAD
      "execution_count": 360,
=======
      "execution_count": 7,
>>>>>>> d010dce (multiclass 90%-10%)
      "metadata": {
        "colab": {
          "base_uri": "https://localhost:8080/"
        },
        "id": "_TODVjQUfmbP",
        "outputId": "a781dda2-9bec-4dec-ed19-5d798d0e7392"
      },
      "outputs": [
        {
          "data": {
            "text/plain": [
              "Air Tmp (C) M 60 Min    0\n",
              "Precip 1Hr (mm) M       0\n",
              "QNH (hPa) M             0\n",
              "RH (%) M 60 Min         0\n",
              "WS 60 Min (kt) M        0\n",
              "classification          0\n",
              "dtype: int64"
            ]
          },
<<<<<<< HEAD
          "execution_count": 360,
=======
          "execution_count": 7,
>>>>>>> d010dce (multiclass 90%-10%)
          "metadata": {},
          "output_type": "execute_result"
        }
      ],
      "source": [
        "data_baru.isnull().sum()"
      ]
    },
    {
      "cell_type": "code",
<<<<<<< HEAD
      "execution_count": 361,
=======
      "execution_count": 8,
>>>>>>> d010dce (multiclass 90%-10%)
      "metadata": {},
      "outputs": [],
      "source": [
        "# data_hilang = data_baru.isnull().sum()\n",
        "# data_hilang = pd.DataFrame(data_hilang)\n",
        "# writer = pd.ExcelWriter('data_hil.xlsx')\n",
        "# data_hilang.to_excel(writer)\n",
        "# writer.save()"
      ]
    },
    {
      "cell_type": "code",
<<<<<<< HEAD
      "execution_count": 362,
=======
      "execution_count": 9,
>>>>>>> d010dce (multiclass 90%-10%)
      "metadata": {
        "id": "_Dkh5pGvfmbP"
      },
      "outputs": [],
      "source": [
        "# data_baru = data_baru.dropna(how='any',axis=0) \n",
        "# data_baru.count()"
      ]
    },
    {
      "cell_type": "code",
<<<<<<< HEAD
      "execution_count": 363,
=======
      "execution_count": 10,
>>>>>>> d010dce (multiclass 90%-10%)
      "metadata": {
        "colab": {
          "base_uri": "https://localhost:8080/"
        },
        "id": "So2VhhNZfmbQ",
        "outputId": "a3e31f29-61c4-4837-a3f3-73e0f491c37f"
      },
      "outputs": [],
      "source": [
        "# data_baru.isnull().sum()"
      ]
    },
    {
      "cell_type": "code",
<<<<<<< HEAD
      "execution_count": 364,
=======
      "execution_count": 11,
>>>>>>> d010dce (multiclass 90%-10%)
      "metadata": {},
      "outputs": [],
      "source": [
        "# data_baru = data_baru.drop(data_baru.columns[[1,5]], axis=1)"
      ]
    },
    {
      "attachments": {},
      "cell_type": "markdown",
      "metadata": {},
      "source": [
        "#### Pesebaran data"
      ]
    },
    {
      "attachments": {},
      "cell_type": "markdown",
      "metadata": {},
      "source": [
        "dilihat dengan histogram"
      ]
    },
    {
      "cell_type": "code",
<<<<<<< HEAD
      "execution_count": 365,
=======
      "execution_count": 12,
>>>>>>> d010dce (multiclass 90%-10%)
      "metadata": {
        "colab": {
          "base_uri": "https://localhost:8080/",
          "height": 879
        },
        "id": "6jY2gi_nfmbl",
        "outputId": "800695d8-a6ab-444b-fa9b-01f2917ecb40"
      },
      "outputs": [
        {
          "data": {
            "image/png": "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",
            "text/plain": [
              "<Figure size 2000x1500 with 6 Axes>"
            ]
          },
          "metadata": {},
          "output_type": "display_data"
        }
      ],
      "source": [
        "import matplotlib.pyplot as plt\n",
        "\n",
        "data_baru.hist(bins=50, figsize=(20,15))\n",
        "plt.show()"
      ]
    },
    {
      "attachments": {},
      "cell_type": "markdown",
      "metadata": {},
      "source": [
        "#### Matriks korelasi"
      ]
    },
    {
      "cell_type": "code",
<<<<<<< HEAD
      "execution_count": 366,
=======
      "execution_count": 13,
>>>>>>> d010dce (multiclass 90%-10%)
      "metadata": {
        "colab": {
          "base_uri": "https://localhost:8080/",
          "height": 679
        },
        "id": "94FfX1DFfmbl",
        "outputId": "863a47d0-c224-486c-8120-d3b2e66988c0"
      },
      "outputs": [
        {
          "name": "stderr",
          "output_type": "stream",
          "text": [
<<<<<<< HEAD
            "C:\\Users\\auriw\\AppData\\Local\\Temp\\ipykernel_1280\\1150458498.py:2: FutureWarning: The default value of numeric_only in DataFrame.corr is deprecated. In a future version, it will default to False. Select only valid columns or specify the value of numeric_only to silence this warning.\n",
=======
            "C:\\Users\\auriw\\AppData\\Local\\Temp\\ipykernel_7080\\1150458498.py:2: FutureWarning: The default value of numeric_only in DataFrame.corr is deprecated. In a future version, it will default to False. Select only valid columns or specify the value of numeric_only to silence this warning.\n",
>>>>>>> d010dce (multiclass 90%-10%)
            "  correlation_matrix = data_baru.corr().round(2)\n"
          ]
        },
        {
          "data": {
            "text/plain": [
              "<Axes: >"
            ]
          },
<<<<<<< HEAD
          "execution_count": 366,
=======
          "execution_count": 13,
>>>>>>> d010dce (multiclass 90%-10%)
          "metadata": {},
          "output_type": "execute_result"
        },
        {
          "data": {
            "image/png": "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",
            "text/plain": [
              "<Figure size 500x500 with 2 Axes>"
            ]
          },
          "metadata": {},
          "output_type": "display_data"
        }
      ],
      "source": [
        "plt.figure(figsize=(5, 5))\n",
        "correlation_matrix = data_baru.corr().round(2)\n",
        "sns.heatmap(data=correlation_matrix, annot=True, cmap='coolwarm', linewidths=0.5, )"
      ]
    },
    {
      "cell_type": "code",
<<<<<<< HEAD
      "execution_count": 367,
=======
      "execution_count": 14,
>>>>>>> d010dce (multiclass 90%-10%)
      "metadata": {},
      "outputs": [
        {
          "name": "stderr",
          "output_type": "stream",
          "text": [
<<<<<<< HEAD
            "C:\\Users\\auriw\\AppData\\Local\\Temp\\ipykernel_1280\\2926031926.py:2: FutureWarning: The default value of numeric_only in DataFrame.corr is deprecated. In a future version, it will default to False. Select only valid columns or specify the value of numeric_only to silence this warning.\n",
=======
            "C:\\Users\\auriw\\AppData\\Local\\Temp\\ipykernel_7080\\2926031926.py:2: FutureWarning: The default value of numeric_only in DataFrame.corr is deprecated. In a future version, it will default to False. Select only valid columns or specify the value of numeric_only to silence this warning.\n",
>>>>>>> d010dce (multiclass 90%-10%)
            "  rain_corr = data_baru.corr()['Precip 1Hr (mm) M'].sort_values(ascending=False)\n"
          ]
        },
        {
          "data": {
            "text/plain": [
              "Precip 1Hr (mm) M       1.000000\n",
              "WS 60 Min (kt) M        0.121768\n",
              "RH (%) M 60 Min         0.117740\n",
              "QNH (hPa) M            -0.029182\n",
              "Air Tmp (C) M 60 Min   -0.112329\n",
              "Name: Precip 1Hr (mm) M, dtype: float64"
            ]
          },
<<<<<<< HEAD
          "execution_count": 367,
=======
          "execution_count": 14,
>>>>>>> d010dce (multiclass 90%-10%)
          "metadata": {},
          "output_type": "execute_result"
        }
      ],
      "source": [
        "# Get the correlation coefficients for \"rain_sum\" feature\n",
        "rain_corr = data_baru.corr()['Precip 1Hr (mm) M'].sort_values(ascending=False)\n",
        "rain_corr"
      ]
    },
    {
      "attachments": {},
      "cell_type": "markdown",
      "metadata": {},
      "source": [
        "### Data preparation"
      ]
    },
    {
      "attachments": {},
      "cell_type": "markdown",
      "metadata": {},
      "source": [
        "#### one-hot encoding"
      ]
    },
    {
      "attachments": {},
      "cell_type": "markdown",
      "metadata": {},
      "source": [
        "mengubah data kategori dengan one-hot encoding"
      ]
    },
    {
      "cell_type": "code",
<<<<<<< HEAD
      "execution_count": 368,
=======
      "execution_count": 15,
>>>>>>> d010dce (multiclass 90%-10%)
      "metadata": {},
      "outputs": [
        {
          "data": {
            "text/html": [
              "<div>\n",
              "<style scoped>\n",
              "    .dataframe tbody tr th:only-of-type {\n",
              "        vertical-align: middle;\n",
              "    }\n",
              "\n",
              "    .dataframe tbody tr th {\n",
              "        vertical-align: top;\n",
              "    }\n",
              "\n",
              "    .dataframe thead th {\n",
              "        text-align: right;\n",
              "    }\n",
              "</style>\n",
              "<table border=\"1\" class=\"dataframe\">\n",
              "  <thead>\n",
              "    <tr style=\"text-align: right;\">\n",
              "      <th></th>\n",
              "      <th>Air Tmp (C) M 60 Min</th>\n",
              "      <th>Precip 1Hr (mm) M</th>\n",
              "      <th>QNH (hPa) M</th>\n",
              "      <th>RH (%) M 60 Min</th>\n",
              "      <th>WS 60 Min (kt) M</th>\n",
              "      <th>classification_hujan</th>\n",
              "      <th>classification_tidak hujan</th>\n",
              "    </tr>\n",
              "    <tr>\n",
              "      <th>Date and Time</th>\n",
              "      <th></th>\n",
              "      <th></th>\n",
              "      <th></th>\n",
              "      <th></th>\n",
              "      <th></th>\n",
              "      <th></th>\n",
              "      <th></th>\n",
              "    </tr>\n",
              "  </thead>\n",
              "  <tbody>\n",
              "    <tr>\n",
              "      <th>1/12/2022 0:00</th>\n",
              "      <td>23.73</td>\n",
              "      <td>0.0</td>\n",
              "      <td>1009.01</td>\n",
              "      <td>100.0</td>\n",
              "      <td>2.0</td>\n",
              "      <td>0</td>\n",
              "      <td>1</td>\n",
              "    </tr>\n",
              "    <tr>\n",
              "      <th>1/12/2022 1:00</th>\n",
              "      <td>26.51</td>\n",
              "      <td>0.0</td>\n",
              "      <td>1009.35</td>\n",
              "      <td>92.9</td>\n",
              "      <td>2.0</td>\n",
              "      <td>0</td>\n",
              "      <td>1</td>\n",
              "    </tr>\n",
              "    <tr>\n",
              "      <th>1/12/2022 2:00</th>\n",
              "      <td>28.45</td>\n",
              "      <td>0.0</td>\n",
              "      <td>1009.47</td>\n",
              "      <td>81.8</td>\n",
              "      <td>2.0</td>\n",
              "      <td>0</td>\n",
              "      <td>1</td>\n",
              "    </tr>\n",
              "    <tr>\n",
              "      <th>1/12/2022 3:00</th>\n",
              "      <td>29.59</td>\n",
              "      <td>0.0</td>\n",
              "      <td>1009.11</td>\n",
              "      <td>75.2</td>\n",
              "      <td>2.0</td>\n",
              "      <td>0</td>\n",
              "      <td>1</td>\n",
              "    </tr>\n",
              "    <tr>\n",
              "      <th>1/12/2022 4:00</th>\n",
              "      <td>30.68</td>\n",
              "      <td>0.0</td>\n",
              "      <td>1008.14</td>\n",
              "      <td>69.8</td>\n",
              "      <td>4.0</td>\n",
              "      <td>0</td>\n",
              "      <td>1</td>\n",
              "    </tr>\n",
              "    <tr>\n",
              "      <th>...</th>\n",
              "      <td>...</td>\n",
              "      <td>...</td>\n",
              "      <td>...</td>\n",
              "      <td>...</td>\n",
              "      <td>...</td>\n",
              "      <td>...</td>\n",
              "      <td>...</td>\n",
              "    </tr>\n",
              "    <tr>\n",
              "      <th>23/02/2023 19:00:00</th>\n",
              "      <td>25.00</td>\n",
              "      <td>0.0</td>\n",
              "      <td>1008.60</td>\n",
              "      <td>90.0</td>\n",
              "      <td>2.0</td>\n",
              "      <td>0</td>\n",
              "      <td>1</td>\n",
              "    </tr>\n",
              "    <tr>\n",
              "      <th>23/02/2023 20:00:00</th>\n",
              "      <td>24.70</td>\n",
              "      <td>0.0</td>\n",
              "      <td>1008.37</td>\n",
              "      <td>92.2</td>\n",
              "      <td>2.0</td>\n",
              "      <td>0</td>\n",
              "      <td>1</td>\n",
              "    </tr>\n",
              "    <tr>\n",
              "      <th>23/02/2023 21:00:00</th>\n",
              "      <td>24.31</td>\n",
              "      <td>0.0</td>\n",
              "      <td>1008.40</td>\n",
              "      <td>92.9</td>\n",
              "      <td>2.0</td>\n",
              "      <td>0</td>\n",
              "      <td>1</td>\n",
              "    </tr>\n",
              "    <tr>\n",
              "      <th>23/02/2023 22:00:00</th>\n",
              "      <td>24.43</td>\n",
              "      <td>0.0</td>\n",
              "      <td>1008.74</td>\n",
              "      <td>92.0</td>\n",
              "      <td>4.0</td>\n",
              "      <td>0</td>\n",
              "      <td>1</td>\n",
              "    </tr>\n",
              "    <tr>\n",
              "      <th>23/02/2023 23:00:00</th>\n",
              "      <td>24.16</td>\n",
              "      <td>0.0</td>\n",
              "      <td>1009.32</td>\n",
              "      <td>92.5</td>\n",
              "      <td>3.0</td>\n",
              "      <td>0</td>\n",
              "      <td>1</td>\n",
              "    </tr>\n",
              "  </tbody>\n",
              "</table>\n",
              "<p>2040 rows × 7 columns</p>\n",
              "</div>"
            ],
            "text/plain": [
              "                     Air Tmp (C) M 60 Min  Precip 1Hr (mm) M  QNH (hPa) M  \\\n",
              "Date and Time                                                               \n",
              "1/12/2022 0:00                      23.73                0.0      1009.01   \n",
              "1/12/2022 1:00                      26.51                0.0      1009.35   \n",
              "1/12/2022 2:00                      28.45                0.0      1009.47   \n",
              "1/12/2022 3:00                      29.59                0.0      1009.11   \n",
              "1/12/2022 4:00                      30.68                0.0      1008.14   \n",
              "...                                   ...                ...          ...   \n",
              "23/02/2023 19:00:00                 25.00                0.0      1008.60   \n",
              "23/02/2023 20:00:00                 24.70                0.0      1008.37   \n",
              "23/02/2023 21:00:00                 24.31                0.0      1008.40   \n",
              "23/02/2023 22:00:00                 24.43                0.0      1008.74   \n",
              "23/02/2023 23:00:00                 24.16                0.0      1009.32   \n",
              "\n",
              "                     RH (%) M 60 Min  WS 60 Min (kt) M  classification_hujan  \\\n",
              "Date and Time                                                                  \n",
              "1/12/2022 0:00                 100.0               2.0                     0   \n",
              "1/12/2022 1:00                  92.9               2.0                     0   \n",
              "1/12/2022 2:00                  81.8               2.0                     0   \n",
              "1/12/2022 3:00                  75.2               2.0                     0   \n",
              "1/12/2022 4:00                  69.8               4.0                     0   \n",
              "...                              ...               ...                   ...   \n",
              "23/02/2023 19:00:00             90.0               2.0                     0   \n",
              "23/02/2023 20:00:00             92.2               2.0                     0   \n",
              "23/02/2023 21:00:00             92.9               2.0                     0   \n",
              "23/02/2023 22:00:00             92.0               4.0                     0   \n",
              "23/02/2023 23:00:00             92.5               3.0                     0   \n",
              "\n",
              "                     classification_tidak hujan  \n",
              "Date and Time                                    \n",
              "1/12/2022 0:00                                1  \n",
              "1/12/2022 1:00                                1  \n",
              "1/12/2022 2:00                                1  \n",
              "1/12/2022 3:00                                1  \n",
              "1/12/2022 4:00                                1  \n",
              "...                                         ...  \n",
              "23/02/2023 19:00:00                           1  \n",
              "23/02/2023 20:00:00                           1  \n",
              "23/02/2023 21:00:00                           1  \n",
              "23/02/2023 22:00:00                           1  \n",
              "23/02/2023 23:00:00                           1  \n",
              "\n",
              "[2040 rows x 7 columns]"
            ]
          },
<<<<<<< HEAD
          "execution_count": 368,
=======
          "execution_count": 15,
>>>>>>> d010dce (multiclass 90%-10%)
          "metadata": {},
          "output_type": "execute_result"
        }
      ],
      "source": [
        "data_baru = pd.get_dummies(data_baru)\n",
        "data_baru"
      ]
    },
    {
      "cell_type": "code",
<<<<<<< HEAD
      "execution_count": 369,
=======
      "execution_count": 16,
>>>>>>> d010dce (multiclass 90%-10%)
      "metadata": {
        "colab": {
          "base_uri": "https://localhost:8080/"
        },
        "id": "PZtR_zlLfmbR",
        "outputId": "8e9eaaa0-16da-4fd5-cce6-04f57c1e845a"
      },
      "outputs": [
        {
          "name": "stdout",
          "output_type": "stream",
          "text": [
            "<class 'pandas.core.frame.DataFrame'>\n",
            "Index: 2040 entries, 1/12/2022 0:00 to 23/02/2023 23:00:00\n",
            "Data columns (total 7 columns):\n",
            " #   Column                      Non-Null Count  Dtype  \n",
            "---  ------                      --------------  -----  \n",
            " 0   Air Tmp (C) M 60 Min        2040 non-null   float64\n",
            " 1   Precip 1Hr (mm) M           2040 non-null   float64\n",
            " 2   QNH (hPa) M                 2040 non-null   float64\n",
            " 3   RH (%) M 60 Min             2040 non-null   float64\n",
            " 4   WS 60 Min (kt) M            2040 non-null   float64\n",
            " 5   classification_hujan        2040 non-null   uint8  \n",
            " 6   classification_tidak hujan  2040 non-null   uint8  \n",
            "dtypes: float64(5), uint8(2)\n",
            "memory usage: 99.6+ KB\n"
          ]
        }
      ],
      "source": [
        "data_baru.info()"
      ]
    },
    {
      "attachments": {},
      "cell_type": "markdown",
      "metadata": {},
      "source": [
        "Membagi data train dataset"
      ]
    },
    {
      "cell_type": "code",
<<<<<<< HEAD
      "execution_count": 370,
=======
      "execution_count": 17,
>>>>>>> d010dce (multiclass 90%-10%)
      "metadata": {},
      "outputs": [
        {
          "name": "stdout",
          "output_type": "stream",
          "text": [
            "<class 'pandas.core.frame.DataFrame'>\n",
            "Index: 2040 entries, 1/12/2022 0:00 to 23/02/2023 23:00:00\n",
            "Data columns (total 7 columns):\n",
            " #   Column                      Non-Null Count  Dtype  \n",
            "---  ------                      --------------  -----  \n",
            " 0   Air Tmp (C) M 60 Min        2040 non-null   float64\n",
            " 1   Precip 1Hr (mm) M           2040 non-null   float64\n",
            " 2   QNH (hPa) M                 2040 non-null   float64\n",
            " 3   RH (%) M 60 Min             2040 non-null   float64\n",
            " 4   WS 60 Min (kt) M            2040 non-null   float64\n",
            " 5   classification_hujan        2040 non-null   uint8  \n",
            " 6   classification_tidak hujan  2040 non-null   uint8  \n",
            "dtypes: float64(5), uint8(2)\n",
            "memory usage: 99.6+ KB\n"
          ]
        }
      ],
      "source": [
        "data_baru.info()"
      ]
    },
    {
      "attachments": {},
      "cell_type": "markdown",
      "metadata": {},
      "source": [
        "pertama untuk data fitur hapus kolom precip, dan klasifikasi"
      ]
    },
    {
      "cell_type": "code",
<<<<<<< HEAD
      "execution_count": 371,
=======
      "execution_count": 18,
>>>>>>> d010dce (multiclass 90%-10%)
      "metadata": {
        "id": "65gEWIZNfmbm"
      },
      "outputs": [],
      "source": [
        "from sklearn import preprocessing\n",
        "\n",
        "df_new = data_baru\n",
        "X = df_new.drop(df_new.columns[[1,5,6]], axis=1)"
      ]
    },
    {
      "cell_type": "code",
<<<<<<< HEAD
      "execution_count": 372,
=======
      "execution_count": 19,
>>>>>>> d010dce (multiclass 90%-10%)
      "metadata": {
        "id": "bvR4gXUcfmbm"
      },
      "outputs": [],
      "source": [
        "y = df_new[['classification_hujan','classification_tidak hujan']]"
      ]
    },
    {
      "cell_type": "code",
<<<<<<< HEAD
      "execution_count": 373,
=======
      "execution_count": 20,
>>>>>>> d010dce (multiclass 90%-10%)
      "metadata": {
        "id": "ivGHhj7hfmbn"
      },
      "outputs": [
        {
          "name": "stdout",
          "output_type": "stream",
          "text": [
            "train_hujan 187\n",
            "train_tidak hujan 1649\n",
            "\n",
            "test_hujan 19\n",
            "test_tidak hujan 185\n",
            "\n",
            "total hujan 206\n",
            "total tidak hujan 1834\n"
          ]
        }
      ],
      "source": [
        "from sklearn.model_selection import train_test_split\n",
        "#40 best random state\n",
        "#32 better random state\n",
        "X_train, X_test, y_train, y_test = train_test_split(X, y, train_size = 0.90, test_size = 0.10, random_state=50, shuffle=True)\n",
        "\n",
        "print('train_hujan',(y_train['classification_hujan'] == 1).sum())\n",
        "# print('train_sangat ringan',(y_train['classification_sangat ringan'] == 1).sum())\n",
        "print('train_tidak hujan',(y_train['classification_tidak hujan'] == 1).sum())\n",
        "\n",
        "print('\\ntest_hujan',(y_test['classification_hujan'] == 1).sum())\n",
        "# print('test_sangat ringan',(y_test['classification_sangat ringan'] == 1).sum())\n",
        "print('test_tidak hujan',(y_test['classification_tidak hujan'] == 1).sum())\n",
        "\n",
        "print('\\ntotal hujan',(y['classification_hujan'] == 1).sum())\n",
        "# print('total sangat ringan',(y['classification_sangat ringan'] == 1).sum())\n",
        "print('total tidak hujan',(y['classification_tidak hujan'] == 1).sum())"
      ]
    },
    {
      "cell_type": "code",
      "execution_count": 374,
      "metadata": {},
      "outputs": [],
      "source": [
        "from sklearn.preprocessing import StandardScaler\n",
        "\n",
        "scaler = StandardScaler()\n",
        "scaler.fit(X_train)\n",
        "X_train = scaler.transform(X_train)"
      ]
    },
    {
      "attachments": {},
      "cell_type": "markdown",
      "metadata": {},
      "source": [
        "Jumlah data train dan test"
      ]
    },
    {
      "cell_type": "code",
<<<<<<< HEAD
      "execution_count": 375,
=======
      "execution_count": 21,
>>>>>>> d010dce (multiclass 90%-10%)
      "metadata": {},
      "outputs": [
        {
          "name": "stdout",
          "output_type": "stream",
          "text": [
            "(1836, 4)\n",
            "(204, 4)\n"
          ]
        }
      ],
      "source": [
        "print(X_train.shape)\n",
        "print(X_test.shape)\n"
      ]
    },
    {
      "cell_type": "code",
<<<<<<< HEAD
      "execution_count": 376,
=======
      "execution_count": 22,
>>>>>>> d010dce (multiclass 90%-10%)
      "metadata": {},
      "outputs": [],
      "source": [
        "# data_split = {\n",
        "#     'Data latih': X_train.count(),\n",
        "#     'Data uji': X_test.count(),\n",
        "#     }\n",
        "# split = pd.DataFrame(data_split)\n",
        "# writer = pd.ExcelWriter('data/data_split.xlsx')\n",
        "# split.to_excel(writer)\n",
        "# writer.save()"
      ]
    },
    {
      "cell_type": "code",
<<<<<<< HEAD
      "execution_count": 377,
=======
      "execution_count": 23,
>>>>>>> d010dce (multiclass 90%-10%)
      "metadata": {},
      "outputs": [],
      "source": [
        "# data_split_target = {\n",
        "#     'Data latih': y_train.count(),\n",
        "#     'Data uji': y_test.count(),\n",
        "#     }\n",
        "# split = pd.DataFrame(data_split_target)\n",
        "# writer = pd.ExcelWriter('data/data_split_target.xlsx')\n",
        "# split.to_excel(writer)\n",
        "# writer.save()"
      ]
    },
    {
      "attachments": {},
      "cell_type": "markdown",
      "metadata": {},
      "source": [
        "## Model Development"
      ]
    },
    {
      "cell_type": "code",
<<<<<<< HEAD
      "execution_count": 378,
=======
      "execution_count": 24,
>>>>>>> d010dce (multiclass 90%-10%)
      "metadata": {},
      "outputs": [],
      "source": [
        "from sklearn.model_selection import RandomizedSearchCV, GridSearchCV\n",
        "from xgboost import XGBClassifier\n",
        "from sklearn.metrics import  classification_report\n",
        "from sklearn.metrics import confusion_matrix\n",
        "from sklearn.metrics import accuracy_score, precision_score, recall_score, f1_score, roc_auc_score, auc, roc_curve\n",
        "import plotly.express as px\n",
        "import plotly.graph_objs as go\n"
      ]
    },
    {
      "attachments": {},
      "cell_type": "markdown",
      "metadata": {},
      "source": [
        "##### Tampa tuning"
      ]
    },
    {
      "cell_type": "code",
<<<<<<< HEAD
      "execution_count": 379,
=======
      "execution_count": 25,
>>>>>>> d010dce (multiclass 90%-10%)
      "metadata": {},
      "outputs": [
        {
          "data": {
            "text/html": [
              "<style>#sk-container-id-4 {color: black;background-color: white;}#sk-container-id-4 pre{padding: 0;}#sk-container-id-4 div.sk-toggleable {background-color: white;}#sk-container-id-4 label.sk-toggleable__label {cursor: pointer;display: block;width: 100%;margin-bottom: 0;padding: 0.3em;box-sizing: border-box;text-align: center;}#sk-container-id-4 label.sk-toggleable__label-arrow:before {content: \"▸\";float: left;margin-right: 0.25em;color: #696969;}#sk-container-id-4 label.sk-toggleable__label-arrow:hover:before {color: black;}#sk-container-id-4 div.sk-estimator:hover label.sk-toggleable__label-arrow:before {color: black;}#sk-container-id-4 div.sk-toggleable__content {max-height: 0;max-width: 0;overflow: hidden;text-align: left;background-color: #f0f8ff;}#sk-container-id-4 div.sk-toggleable__content pre {margin: 0.2em;color: black;border-radius: 0.25em;background-color: #f0f8ff;}#sk-container-id-4 input.sk-toggleable__control:checked~div.sk-toggleable__content {max-height: 200px;max-width: 100%;overflow: auto;}#sk-container-id-4 input.sk-toggleable__control:checked~label.sk-toggleable__label-arrow:before {content: \"▾\";}#sk-container-id-4 div.sk-estimator input.sk-toggleable__control:checked~label.sk-toggleable__label {background-color: #d4ebff;}#sk-container-id-4 div.sk-label input.sk-toggleable__control:checked~label.sk-toggleable__label {background-color: #d4ebff;}#sk-container-id-4 input.sk-hidden--visually {border: 0;clip: rect(1px 1px 1px 1px);clip: rect(1px, 1px, 1px, 1px);height: 1px;margin: -1px;overflow: hidden;padding: 0;position: absolute;width: 1px;}#sk-container-id-4 div.sk-estimator {font-family: monospace;background-color: #f0f8ff;border: 1px dotted black;border-radius: 0.25em;box-sizing: border-box;margin-bottom: 0.5em;}#sk-container-id-4 div.sk-estimator:hover {background-color: #d4ebff;}#sk-container-id-4 div.sk-parallel-item::after {content: \"\";width: 100%;border-bottom: 1px solid gray;flex-grow: 1;}#sk-container-id-4 div.sk-label:hover label.sk-toggleable__label {background-color: #d4ebff;}#sk-container-id-4 div.sk-serial::before {content: \"\";position: absolute;border-left: 1px solid gray;box-sizing: border-box;top: 0;bottom: 0;left: 50%;z-index: 0;}#sk-container-id-4 div.sk-serial {display: flex;flex-direction: column;align-items: center;background-color: white;padding-right: 0.2em;padding-left: 0.2em;position: relative;}#sk-container-id-4 div.sk-item {position: relative;z-index: 1;}#sk-container-id-4 div.sk-parallel {display: flex;align-items: stretch;justify-content: center;background-color: white;position: relative;}#sk-container-id-4 div.sk-item::before, #sk-container-id-4 div.sk-parallel-item::before {content: \"\";position: absolute;border-left: 1px solid gray;box-sizing: border-box;top: 0;bottom: 0;left: 50%;z-index: -1;}#sk-container-id-4 div.sk-parallel-item {display: flex;flex-direction: column;z-index: 1;position: relative;background-color: white;}#sk-container-id-4 div.sk-parallel-item:first-child::after {align-self: flex-end;width: 50%;}#sk-container-id-4 div.sk-parallel-item:last-child::after {align-self: flex-start;width: 50%;}#sk-container-id-4 div.sk-parallel-item:only-child::after {width: 0;}#sk-container-id-4 div.sk-dashed-wrapped {border: 1px dashed gray;margin: 0 0.4em 0.5em 0.4em;box-sizing: border-box;padding-bottom: 0.4em;background-color: white;}#sk-container-id-4 div.sk-label label {font-family: monospace;font-weight: bold;display: inline-block;line-height: 1.2em;}#sk-container-id-4 div.sk-label-container {text-align: center;}#sk-container-id-4 div.sk-container {/* jupyter's `normalize.less` sets `[hidden] { display: none; }` but bootstrap.min.css set `[hidden] { display: none !important; }` so we also need the `!important` here to be able to override the default hidden behavior on the sphinx rendered scikit-learn.org. See: https://github.com/scikit-learn/scikit-learn/issues/21755 */display: inline-block !important;position: relative;}#sk-container-id-4 div.sk-text-repr-fallback {display: none;}</style><div id=\"sk-container-id-4\" class=\"sk-top-container\"><div class=\"sk-text-repr-fallback\"><pre>XGBClassifier(base_score=None, booster=None, callbacks=None,\n",
              "              colsample_bylevel=None, colsample_bynode=None,\n",
              "              colsample_bytree=None, early_stopping_rounds=None,\n",
              "              enable_categorical=False, eval_metric=None, feature_types=None,\n",
              "              gamma=None, gpu_id=None, grow_policy=None, importance_type=None,\n",
              "              interaction_constraints=None, learning_rate=0.3, max_bin=None,\n",
              "              max_cat_threshold=None, max_cat_to_onehot=None,\n",
              "              max_delta_step=None, max_depth=6, max_leaves=None,\n",
              "              min_child_weight=None, missing=nan, monotone_constraints=None,\n",
              "              n_estimators=100, n_jobs=None, num_parallel_tree=None,\n",
              "              predictor=None, random_state=None, ...)</pre><b>In a Jupyter environment, please rerun this cell to show the HTML representation or trust the notebook. <br />On GitHub, the HTML representation is unable to render, please try loading this page with nbviewer.org.</b></div><div class=\"sk-container\" hidden><div class=\"sk-item\"><div class=\"sk-estimator sk-toggleable\"><input class=\"sk-toggleable__control sk-hidden--visually\" id=\"sk-estimator-id-4\" type=\"checkbox\" checked><label for=\"sk-estimator-id-4\" class=\"sk-toggleable__label sk-toggleable__label-arrow\">XGBClassifier</label><div class=\"sk-toggleable__content\"><pre>XGBClassifier(base_score=None, booster=None, callbacks=None,\n",
              "              colsample_bylevel=None, colsample_bynode=None,\n",
              "              colsample_bytree=None, early_stopping_rounds=None,\n",
              "              enable_categorical=False, eval_metric=None, feature_types=None,\n",
              "              gamma=None, gpu_id=None, grow_policy=None, importance_type=None,\n",
              "              interaction_constraints=None, learning_rate=0.3, max_bin=None,\n",
              "              max_cat_threshold=None, max_cat_to_onehot=None,\n",
              "              max_delta_step=None, max_depth=6, max_leaves=None,\n",
              "              min_child_weight=None, missing=nan, monotone_constraints=None,\n",
              "              n_estimators=100, n_jobs=None, num_parallel_tree=None,\n",
              "              predictor=None, random_state=None, ...)</pre></div></div></div></div></div>"
            ],
            "text/plain": [
              "XGBClassifier(base_score=None, booster=None, callbacks=None,\n",
              "              colsample_bylevel=None, colsample_bynode=None,\n",
              "              colsample_bytree=None, early_stopping_rounds=None,\n",
              "              enable_categorical=False, eval_metric=None, feature_types=None,\n",
              "              gamma=None, gpu_id=None, grow_policy=None, importance_type=None,\n",
              "              interaction_constraints=None, learning_rate=0.3, max_bin=None,\n",
              "              max_cat_threshold=None, max_cat_to_onehot=None,\n",
              "              max_delta_step=None, max_depth=6, max_leaves=None,\n",
              "              min_child_weight=None, missing=nan, monotone_constraints=None,\n",
              "              n_estimators=100, n_jobs=None, num_parallel_tree=None,\n",
              "              predictor=None, random_state=None, ...)"
            ]
          },
          "execution_count": 379,
          "metadata": {},
          "output_type": "execute_result"
        }
      ],
      "source": [
        "xgb = XGBClassifier(\n",
        "    max_depth=6, \n",
        "    n_estimators=100, \n",
        "    learning_rate=0.3, )\n",
<<<<<<< HEAD
        "xgb.fit(X_train, y_train)"
=======
        "xgb.fit(X_train, y_train)\n",
        "\n",
        "pred_no_tuning = xgb.predict(X_test)"
      ]
    },
    {
      "cell_type": "code",
      "execution_count": 26,
      "metadata": {},
      "outputs": [
        {
          "name": "stdout",
          "output_type": "stream",
          "text": [
            "[[  2   0   1]\n",
            " [  1   3  12]\n",
            " [  2   6 177]]\n"
          ]
        },
        {
          "data": {
            "text/plain": [
              "<Axes: >"
            ]
          },
          "execution_count": 26,
          "metadata": {},
          "output_type": "execute_result"
        },
        {
          "data": {
            "image/png": "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",
            "text/plain": [
              "<Figure size 640x480 with 2 Axes>"
            ]
          },
          "metadata": {},
          "output_type": "display_data"
        }
      ],
      "source": [
        "cm = confusion_matrix(\n",
        "    y_test.values.argmax(axis=1), pred_no_tuning.argmax(axis=1))\n",
        "print(cm)\n",
        "sns.heatmap(cm, annot=True)"
      ]
    },
    {
      "cell_type": "code",
      "execution_count": 27,
      "metadata": {},
      "outputs": [
        {
          "name": "stdout",
          "output_type": "stream",
          "text": [
            "Accuracy: 0.89\n",
            "Precision: 0.89\n",
            "Recall: 0.90\n",
            "F1-score: 0.89\n"
          ]
        }
      ],
      "source": [
        "# calculate the accuracy, precision, recall, and F1-score of the model\n",
        "accuracy = accuracy_score(y_test, pred_no_tuning)\n",
        "precision = precision_score(y_test, pred_no_tuning, average='weighted')\n",
        "recall = recall_score(y_test, pred_no_tuning, average='weighted')\n",
        "f1 = f1_score(y_test, pred_no_tuning, average='weighted')\n",
        "\n",
        "# tn, fp, fn, tp = confusion_matrix(y_test.values.argmax(axis=1), pred_no_tuning.argmax(axis=1)).ravel()\n",
        "\n",
        "# # Menghitung specificity score\n",
        "# accuracy = (tp + tn) / (tp + fp+ tn + fn)\n",
        "# precision = tp / (tp + fp)\n",
        "# recall = tp / (tp + fn)\n",
        "# f1 = 2*((precision*recall)/(precision+recall))\n",
        "# specificity = tn / (tn + fp)\n",
        "\n",
        "# calculate the ROC-AUC score of the model\n",
        "# roc_auc = roc_auc_score(y_test, pred_no_tuning)\n",
        "\n",
        "# print the evaluation metrics\n",
        "print(f\"Accuracy: {accuracy:.2f}\")\n",
        "print(f\"Precision: {precision:.2f}\")\n",
        "print(f\"Recall: {recall:.2f}\")\n",
        "print(f\"F1-score: {f1:.2f}\")\n",
        "# print(f\"Sensitivity score: {specificity:.2f}\")\n",
        "# print(f\"ROC-AUC score: {roc_auc:.2f}\")"
      ]
    },
    {
      "cell_type": "code",
      "execution_count": 28,
      "metadata": {},
      "outputs": [
        {
          "name": "stdout",
          "output_type": "stream",
          "text": [
            "              precision    recall  f1-score   support\n",
            "\n",
            "           0       1.00      0.67      0.80         3\n",
            "           1       0.33      0.19      0.24        16\n",
            "           2       0.93      0.97      0.95       185\n",
            "\n",
            "   micro avg       0.91      0.90      0.90       204\n",
            "   macro avg       0.76      0.61      0.66       204\n",
            "weighted avg       0.89      0.90      0.89       204\n",
            " samples avg       0.90      0.90      0.90       204\n",
            "\n"
          ]
        },
        {
          "name": "stderr",
          "output_type": "stream",
          "text": [
            "c:\\Users\\auriw\\AppData\\Local\\Programs\\Python\\Python311\\Lib\\site-packages\\sklearn\\metrics\\_classification.py:1344: UndefinedMetricWarning: Precision and F-score are ill-defined and being set to 0.0 in samples with no predicted labels. Use `zero_division` parameter to control this behavior.\n",
            "  _warn_prf(average, modifier, msg_start, len(result))\n"
          ]
        }
      ],
      "source": [
        "print(classification_report(y_test,pred_no_tuning))"
>>>>>>> d010dce (multiclass 90%-10%)
      ]
    },
    {
      "attachments": {},
      "cell_type": "markdown",
      "metadata": {},
      "source": [
        "##### Dengan Tuning"
      ]
    },
    {
      "attachments": {},
      "cell_type": "markdown",
      "metadata": {},
      "source": [
        "mendefenisikan hyperparameter"
      ]
    },
    {
      "cell_type": "code",
<<<<<<< HEAD
      "execution_count": 380,
=======
      "execution_count": 29,
>>>>>>> d010dce (multiclass 90%-10%)
      "metadata": {
        "id": "xlB813wYfmbo"
      },
      "outputs": [
        {
          "data": {
            "text/plain": [
              "{'n_estimators': [100],\n",
              " 'max_depth': [6],\n",
<<<<<<< HEAD
              " 'learning_rate': <scipy.stats._distn_infrastructure.rv_continuous_frozen at 0x1d0cdf695d0>}"
            ]
          },
          "execution_count": 380,
=======
              " 'learning_rate': <scipy.stats._distn_infrastructure.rv_continuous_frozen at 0x170b76bc410>}"
            ]
          },
          "execution_count": 29,
>>>>>>> d010dce (multiclass 90%-10%)
          "metadata": {},
          "output_type": "execute_result"
        }
      ],
      "source": [
        "from scipy.stats import uniform, randint\n",
        "import numpy as np\n",
        "params = {\n",
        "    'n_estimators': [100],\n",
        "    'max_depth': [6],\n",
        "    'learning_rate': uniform(0.01, 1)\n",
        "}\n",
        "params"
      ]
    },
    {
      "attachments": {},
      "cell_type": "markdown",
      "metadata": {},
      "source": [
        "Tuning dengan RSCV"
      ]
    },
    {
      "cell_type": "code",
<<<<<<< HEAD
      "execution_count": 381,
=======
      "execution_count": 30,
>>>>>>> d010dce (multiclass 90%-10%)
      "metadata": {
        "colab": {
          "base_uri": "https://localhost:8080/"
        },
        "collapsed": true,
        "id": "0o3L_TPIfmbo",
        "outputId": "f6a6436e-1c12-4b31-b372-62bb93211216"
      },
      "outputs": [
        {
          "name": "stdout",
          "output_type": "stream",
          "text": [
<<<<<<< HEAD
            "Best hyperparameters:  {'learning_rate': 0.038845668499964174, 'max_depth': 6, 'n_estimators': 100}\n",
            "Accuracy 0.8992189356141601\n"
=======
            "Best hyperparameters:  {'learning_rate': 0.018225495499965876, 'max_depth': 6, 'n_estimators': 100}\n",
            "Accuracy 0.8948681397006416\n"
>>>>>>> d010dce (multiclass 90%-10%)
          ]
        }
      ],
      "source": [
        "#coarse search\n",
        "# Define the XGBoost model\n",
        "xgb_model = XGBClassifier()\n",
        "# Perform random search\n",
        "search = RandomizedSearchCV(\n",
        "    xgb_model, param_distributions=params, \n",
        "    n_iter=50, \n",
        "    cv=10,\n",
        "    scoring='accuracy', \n",
        "    n_jobs=-1,\n",
        "    )\n",
        "search.fit(X_train, y_train)\n",
        "print(\"Best hyperparameters: \", search.best_params_)\n",
        "print(\"Accuracy\", search.best_score_)"
      ]
    },
    {
      "cell_type": "code",
<<<<<<< HEAD
      "execution_count": 382,
=======
      "execution_count": 31,
>>>>>>> d010dce (multiclass 90%-10%)
      "metadata": {},
      "outputs": [
        {
          "name": "stdout",
          "output_type": "stream",
          "text": [
<<<<<<< HEAD
            "Best hyperparameters:  {'learning_rate': 0.029785726301097368, 'max_depth': 6, 'n_estimators': 100}\n",
            "Accuracy 0.9008582798764554\n"
=======
            "Best hyperparameters:  {'learning_rate': 0.027219364400917056, 'max_depth': 6, 'n_estimators': 100}\n",
            "Accuracy 0.897045022570682\n"
>>>>>>> d010dce (multiclass 90%-10%)
          ]
        }
      ],
      "source": [
        "#fine search\n",
        "best_params = search.best_params_\n",
        "param_dist = {\n",
        "    'n_estimators': [100],\n",
        "    'max_depth': [6],\n",
        "    'learning_rate': np.logspace(np.log10(best_params['learning_rate']-0.01), np.log10(best_params['learning_rate']+0.1), 50),\n",
        "}\n",
        "\n",
        "fine_search = GridSearchCV(\n",
        "    xgb_model, param_grid=param_dist, \n",
        "    cv=10, \n",
        "    scoring='accuracy', \n",
        "    n_jobs=-1,\n",
        "    )\n",
        "fine_search.fit(X_train, y_train)\n",
        "\n",
        "\n",
        "print(\"Best hyperparameters: \", fine_search.best_params_)\n",
        "print(\"Accuracy\", fine_search.best_score_)"
      ]
    },
    {
      "attachments": {},
      "cell_type": "markdown",
      "metadata": {},
      "source": [
        "Hasil tuning"
      ]
    },
    {
      "attachments": {},
      "cell_type": "markdown",
      "metadata": {},
      "source": [
        "### Model Evaluation"
      ]
    },
    {
      "cell_type": "code",
      "execution_count": 383,
      "metadata": {},
      "outputs": [],
      "source": [
        "X_test = scaler.transform(X_test)"
      ]
    },
    {
      "attachments": {},
      "cell_type": "markdown",
      "metadata": {},
      "source": [
        "##### Tampa Tuning"
      ]
    },
    {
      "cell_type": "code",
<<<<<<< HEAD
      "execution_count": 384,
=======
      "execution_count": 32,
      "metadata": {},
      "outputs": [],
      "source": [
        "# Train and evaluate the model with best hyperparameters on the validation set\n",
        "y_pred = fine_search.best_estimator_.predict(X_test)"
      ]
    },
    {
      "cell_type": "code",
      "execution_count": 33,
>>>>>>> d010dce (multiclass 90%-10%)
      "metadata": {},
      "outputs": [
        {
          "name": "stdout",
          "output_type": "stream",
          "text": [
<<<<<<< HEAD
            "[[  6  13]\n",
            " [  6 179]]\n"
=======
            "[[  1   0   2]\n",
            " [  1   2  13]\n",
            " [  1   1 183]]\n"
>>>>>>> d010dce (multiclass 90%-10%)
          ]
        },
        {
          "data": {
            "text/plain": [
              "<Axes: >"
            ]
          },
          "execution_count": 384,
          "metadata": {},
          "output_type": "execute_result"
        },
        {
          "data": {
            "image/png": "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",
            "text/plain": [
              "<Figure size 640x480 with 2 Axes>"
            ]
          },
          "metadata": {},
          "output_type": "display_data"
        }
      ],
      "source": [
        "pred_no_tuning = xgb.predict(X_test)\n",
        "cm = confusion_matrix(\n",
        "    y_test.values.argmax(axis=1), pred_no_tuning.argmax(axis=1))\n",
        "print(cm)\n",
        "sns.heatmap(cm, annot=True)"
      ]
    },
    {
      "cell_type": "code",
      "execution_count": 385,
      "metadata": {},
      "outputs": [
        {
          "name": "stdout",
          "output_type": "stream",
          "text": [
            "Accuracy: 0.91\n",
            "Precision: 0.89\n",
            "Recall: 0.91\n",
            "F1-score: 0.90\n"
          ]
        }
      ],
      "source": [
        "# calculate the accuracy, precision, recall, and F1-score of the model\n",
        "accuracy = accuracy_score(y_test, pred_no_tuning)\n",
        "precision = precision_score(y_test, pred_no_tuning, average='weighted')\n",
        "recall = recall_score(y_test, pred_no_tuning, average='weighted')\n",
        "f1 = f1_score(y_test, pred_no_tuning, average='weighted')\n",
        "\n",
        "# tn, fp, fn, tp = confusion_matrix(y_test.values.argmax(axis=1), pred_no_tuning.argmax(axis=1)).ravel()\n",
        "\n",
        "# # Menghitung specificity score\n",
        "# accuracy = (tp + tn) / (tp + fp+ tn + fn)\n",
        "# precision = tp / (tp + fp)\n",
        "# recall = tp / (tp + fn)\n",
        "# f1 = 2*((precision*recall)/(precision+recall))\n",
        "# specificity = tn / (tn + fp)\n",
        "\n",
        "# calculate the ROC-AUC score of the model\n",
        "# roc_auc = roc_auc_score(y_test, pred_no_tuning)\n",
        "\n",
        "# print the evaluation metrics\n",
        "print(f\"Accuracy: {accuracy:.2f}\")\n",
        "print(f\"Precision: {precision:.2f}\")\n",
        "print(f\"Recall: {recall:.2f}\")\n",
        "print(f\"F1-score: {f1:.2f}\")\n",
        "# print(f\"Sensitivity score: {specificity:.2f}\")\n",
        "# print(f\"ROC-AUC score: {roc_auc:.2f}\")"
      ]
    },
    {
      "cell_type": "code",
      "execution_count": 386,
      "metadata": {},
      "outputs": [
        {
          "name": "stdout",
          "output_type": "stream",
          "text": [
            "              precision    recall  f1-score   support\n",
            "\n",
            "           0       0.50      0.32      0.39        19\n",
            "           1       0.93      0.97      0.95       185\n",
            "\n",
            "   micro avg       0.91      0.91      0.91       204\n",
            "   macro avg       0.72      0.64      0.67       204\n",
            "weighted avg       0.89      0.91      0.90       204\n",
            " samples avg       0.91      0.91      0.91       204\n",
            "\n"
          ]
        }
      ],
      "source": [
        "print(classification_report(y_test,pred_no_tuning))"
      ]
    },
    {
      "attachments": {},
      "cell_type": "markdown",
      "metadata": {},
      "source": [
        "##### Dengan tuning"
      ]
    },
    {
      "cell_type": "code",
      "execution_count": 387,
      "metadata": {},
      "outputs": [
        {
          "name": "stdout",
          "output_type": "stream",
          "text": [
            "[[  4  15]\n",
            " [  2 183]]\n"
          ]
        },
        {
          "data": {
            "text/plain": [
              "<Axes: >"
            ]
          },
          "execution_count": 387,
          "metadata": {},
          "output_type": "execute_result"
        },
        {
          "data": {
            "image/png": "iVBORw0KGgoAAAANSUhEUgAAAgcAAAGdCAYAAACGtNCDAAAAOXRFWHRTb2Z0d2FyZQBNYXRwbG90bGliIHZlcnNpb24zLjcuMSwgaHR0cHM6Ly9tYXRwbG90bGliLm9yZy/bCgiHAAAACXBIWXMAAA9hAAAPYQGoP6dpAAAl0UlEQVR4nO3de3TU1bn/8c+EywAxJAbITUAuVkCRiEFTihdSoiFYlEJRENogHEAFPJIiNq0KomVQoCISpbVyUaCoraCi0h+XQLxEridyoEoNghghoRBDTJAhZOb3h8ch+5sAGZjwHZ33q+u7Ft/bnierC3nyPHvvcXi9Xq8AAAD+T5jdAQAAgOBCcgAAAAwkBwAAwEByAAAADCQHAADAQHIAAAAMJAcAAMBAcgAAAAwkBwAAwNDQ7gC+19jZ2u4QgKATEx5ldwhAUCos2Vmv41ce/jxgYzVq2SFgY10oQZMcAAAQNDxVdkdgK9oKAADAQOUAAAArr8fuCGxFcgAAgJWH5AAAAFTjDfHKAXMOAACAgcoBAABWtBUAAICBtgIAAMApVA4AALAK8U2QSA4AALCirQAAAIJBbm6u+vfvr4SEBDkcDq1cudK473A4aj1mzpzpe6Zdu3Y17s+YMcOvOKgcAABgZdNqhYqKCiUmJmrkyJEaOHBgjfsHDx40zt99912NGjVKgwYNMq5PmzZNo0eP9p1HRET4FQfJAQAAFnZtgpSenq709PTT3o+LizPO33jjDaWkpKhDB/ObHyMiImo86w/aCgAA1CO3262ysjLjcLvd5z1ucXGx3n77bY0aNarGvRkzZqhFixbq3r27Zs6cqZMnT/o1NskBAABWHk/ADpfLpcjISONwuVznHeLixYsVERFRo/1w//33a/ny5crJydHYsWM1ffp0TZ482a+xHV6v13veEQZAY2dru0MAgk5MeJTdIQBBqbBkZ72O7/73+4Eb7NJra1QKnE6nnE7nGV9zOBxasWKFBgwYUOv9zp076+abb9azzz57xnEWLFigsWPHqry8/Kyf+T3mHAAAYBXAfQ7qkgj467333tPu3bv1yiuvnPXZ5ORknTx5Uvv27VOnTp3qND5tBQAAfmBefPFFJSUlKTEx8azP5ufnKywsTDExMXUen8oBAABWNq1WKC8vV0FBge987969ys/PV3R0tNq2bStJKisr02uvvabZs2fXeD8vL0+bNm1SSkqKIiIilJeXp4kTJ2r48OG6+OKL6xwHyQEAAFY27XOwdetWpaSk+M4zMzMlSRkZGVq0aJEkafny5fJ6vRo6dGiN951Op5YvX66pU6fK7Xarffv2mjhxom+cumJCIhDEmJAI1K7eJyTuWhewsZxX9gnYWBcKlQMAAKxC/LsVSA4AALCyqa0QLFitAAAADFQOAACw8HoDt8/BDxHJAQAAViE+54C2AgAAMFA5AADAKsQnJJIcAABgFeJtBZIDAACsAvjFSz9EzDkAAAAGKgcAAFjRVgAAAIYQn5BIWwEAABioHAAAYEVbAQAAGGgrAAAAnELlAAAAqxCvHJAcAABgEerfykhbAQAAGKgcAABgRVsBAAAYWMoIAAAMIV45YM4BAAAwUDkAAMCKtgIAADDQVgAAADiFygEAAFa0FQAAgIG2AgAAwClUDgAAsArxygHJAQAAViE+54C2AgAAMFA5AADAirYCAAAwhHhbgeQAAACrEK8cMOcAAAAYqBwAAGBFWwEAABhoKwAAAJxC5QAAACsqBwAAwOD1Bu7wQ25urvr376+EhAQ5HA6tXLnSuD9ixAg5HA7j6Nu3r/FMSUmJhg0bpubNmysqKkqjRo1SeXm5X3GQHAAAECQqKiqUmJio7Ozs0z7Tt29fHTx40Hf87W9/M+4PGzZMu3bt0po1a7Rq1Srl5uZqzJgxfsVBWwEAACub2grp6elKT08/4zNOp1NxcXG13vvkk0+0evVqbdmyRT169JAkPfvss+rXr59mzZqlhISEOsVB5QAAACuPJ2CH2+1WWVmZcbjd7nMObcOGDYqJiVGnTp1077336siRI757eXl5ioqK8iUGkpSamqqwsDBt2rSpzp9BcgAAQD1yuVyKjIw0DpfLdU5j9e3bVy+99JLWrVunJ598Uhs3blR6erqqqqokSUVFRYqJiTHeadiwoaKjo1VUVFTnz6GtAACAVQA3QcrKeliZmZnGNafTeU5jDRkyxPfnq666St26dVPHjh21YcMG9enT57zirI7kAAAAqwDOOXA6neecDJxNhw4d1LJlSxUUFKhPnz6Ki4vToUOHjGdOnjypkpKS085TqA1tBQAArGxayuivwsJCHTlyRPHx8ZKknj17qrS0VNu2bfM9s379enk8HiUnJ9d5XCoHAAAEifLychUUFPjO9+7dq/z8fEVHRys6OlqPPfaYBg0apLi4OO3Zs0eTJ0/WZZddprS0NElSly5d1LdvX40ePVrz589XZWWlxo8fryFDhtR5pYJEcgAAQE02LWXcunWrUlJSfOffz1XIyMjQ888/rx07dmjx4sUqLS1VQkKCbrnlFj3++ONG22Lp0qUaP368+vTpo7CwMA0aNEhz5871Kw6H11vPNY86auxsbXcIQNCJCY+yOwQgKBWW7KzX8b99cVLAxmo6albAxrpQmHMAAAAMtBUAALAK4FLGHyKSAwAALLyeoOi424a2AgAAMFA5AADAyqbVCsGC5AAAAKsQn3NAWwEAABioHAAAYBXiExJJDgAAsGLOAQAAMIR4csCcAwAAYKByAACAVXB87ZBtqByghgcnjdMJd6FmzZpqdyjABZXcM0kLl83T1l3rVViyU2n9fm7c/9O8J1RYstM4lrw236ZoUa88nsAdP0BUDmBISkrUf40eph07/mV3KMAF1yy8qf61c7deWbpCf335mVqfyVn7njLHP+w7P+GuvFDhARcMyQF8wsOb6aXFz+reeycr63f/bXc4wAWXs/Z95ax9/4zPuN0n9J9DRy5QRLBNiC9lpK0An7nP/FHvvLtO69ef+T+OQCjref21yt+9URs3vaXpsx5R1MWRdoeE+uD1BO74AfK7cnD48GEtWLBAeXl5KioqkiTFxcXpZz/7mUaMGKFWrVoFPEjUvzsG36bu3a9Sz5/dancoQNDasP4Dvbtqrb784itd2r6NHnrkv7Xk1fm6LW2YPD/Q3jJQG7+Sgy1btigtLU3NmjVTamqqLr/8cklScXGx5s6dqxkzZuif//ynevToccZx3G633G63cc3r9crhcPgZPgKhdet4zZ79mPr1u6vG/y8ATnnz9Xd9f/70k8/0ya5/68P/Wa2e11+rD3I32RgZAi7E2wp+JQcTJkzQ4MGDNX/+/Br/kHu9Xt1zzz2aMGGC8vLyzjiOy+XSY489ZlwLC4tQg4bN/QkHAXLNNd0UG9tKmzad+g9fw4YNdcMNybrv3hG6KKIDvxUBtdj/RaGOHC5Ru/ZtSQ5+ZLwh/t88v5KDjz/+WIsWLar1N3yHw6GJEyeqe/fuZx0nKytLmZmZxrUWLbv4EwoCaP3699W9ex/j2gsvzNbu3Xs0a9ZzJAbAacQnxOri6CgdKv6P3aEAAeVXchAXF6fNmzerc+fOtd7fvHmzYmNjzzqO0+mU0+k0rtFSsE95eYV2/Wu3ca2i4lsdKfm6xnXgx6xZeFO1a9/Wd97m0kt0RddOKv36qEpLjypz8n165601OlR8WJe2b6M/TM3Uvs/3a+P6D2yMGvWCtkLdTZo0SWPGjNG2bdvUp08fXyJQXFysdevW6YUXXtCsWbPqJVAAqG+JV3fVa28t9J1P/eNDkqRXl63U7yc9rs5XXq5fDblNzSObq7jokHJzPtTM6fN04gR7Hfzo/EBXGQSKw+v1b4/IV155RU8//bS2bdumqqoqSVKDBg2UlJSkzMxM3XHHHecUSGNn63N6D/gxiwmPsjsEICgVluys1/Erpg0L2Fjhjy4N2FgXit9LGe+8807deeedqqys1OHDhyVJLVu2VKNGjQIeHAAAuPDOeYfERo0aKT4+PpCxAAAQHEJ8IjbbJwMAYBXiExLZPhkAABioHAAAYBXiqxVIDgAAsKKtAAAAcAqVAwAALPhuBQAAYKKtAAAAcAqVAwAArEK8ckByAACAFUsZAQCAIcQrB8w5AAAABioHAABYeEO8ckByAACAVYgnB7QVAACAgeQAAAArjydwhx9yc3PVv39/JSQkyOFwaOXKlb57lZWVeuihh3TVVVcpPDxcCQkJ+s1vfqMDBw4YY7Rr104Oh8M4ZsyY4VccJAcAAFh5vIE7/FBRUaHExERlZ2fXuHfs2DFt375djzzyiLZv367XX39du3fv1m233Vbj2WnTpungwYO+Y8KECX7FwZwDAACCRHp6utLT02u9FxkZqTVr1hjX5s2bp+uuu0779+9X27ZtfdcjIiIUFxd3znFQOQAAwCqAlQO3262ysjLjcLvdAQnz6NGjcjgcioqKMq7PmDFDLVq0UPfu3TVz5kydPHnSr3FJDgAAsPB6vQE7XC6XIiMjjcPlcp13jMePH9dDDz2koUOHqnnz5r7r999/v5YvX66cnByNHTtW06dP1+TJk/0a2+H1eoNivUZjZ2u7QwCCTkx4lN0hAEGpsGRnvY5fNjYtYGM5575Zo1LgdDrldDrP+J7D4dCKFSs0YMCAGvcqKys1aNAgFRYWasOGDUZyYLVgwQKNHTtW5eXlZ/3M7zHnAAAAqwDuc1CXRMAflZWVuuOOO/TFF19o/fr1Z0wMJCk5OVknT57Uvn371KlTpzp9BskBAABWQboJ0veJwWeffaacnBy1aNHirO/k5+crLCxMMTExdf4ckgMAACzs2j65vLxcBQUFvvO9e/cqPz9f0dHRio+P169+9Stt375dq1atUlVVlYqKiiRJ0dHRaty4sfLy8rRp0yalpKQoIiJCeXl5mjhxooYPH66LL764znEw5wAIYsw5AGpX33MOjt6dGrCxIheurfOzGzZsUEpKSo3rGRkZmjp1qtq3b1/rezk5Oerdu7e2b9+u++67T59++qncbrfat2+vX//618rMzPSrtUHlAAAAK5sqB71799aZfmc/2+/z11xzjT766KPzjoPkAAAAK/92Pf7RYZ8DAABgoHIAAICFXRMSgwXJAQAAViGeHNBWAAAABioHAABYhfiERJIDAAAsQn3OAW0FAABgoHIAAIAVbQUAAFBdqLcVSA4AALAK8coBcw4AAICBygEAABbeEK8ckBwAAGAV4skBbQUAAGCgcgAAgAVtBQAAYArx5IC2AgAAMFA5AADAgrYCAAAwkBwAAABDqCcHzDkAAAAGKgcAAFh5HXZHYCuSAwAALGgrAAAAVEPlAAAAC6+HtgIAAKiGtgIAAEA1VA4AALDwsloBAABUR1sBAACgGioHAABYsFoBAAAYvF67I7AXyQEAABahXjlgzgEAADBQOQAAwCLUKwckBwAAWIT6nAPaCgAAwEDlAAAAC9oKAADAEOrbJ9NWAAAgSOTm5qp///5KSEiQw+HQypUrjfter1ePPvqo4uPj1bRpU6Wmpuqzzz4znikpKdGwYcPUvHlzRUVFadSoUSovL/crDpIDAAAsvJ7AHf6oqKhQYmKisrOza73/1FNPae7cuZo/f742bdqk8PBwpaWl6fjx475nhg0bpl27dmnNmjVatWqVcnNzNWbMGL/icHi9wTEns7Gztd0hAEEnJjzK7hCAoFRYsrNex/93l74BG+vyT1af03sOh0MrVqzQgAEDJH1XNUhISNBvf/tbTZo0SZJ09OhRxcbGatGiRRoyZIg++eQTXXHFFdqyZYt69OghSVq9erX69eunwsJCJSQk1OmzqRwAAFCP3G63ysrKjMPtdvs9zt69e1VUVKTU1FTftcjISCUnJysvL0+SlJeXp6ioKF9iIEmpqakKCwvTpk2b6vxZJAcAAFh4vY6AHS6XS5GRkcbhcrn8jqmoqEiSFBsba1yPjY313SsqKlJMTIxxv2HDhoqOjvY9UxesVgAAwCKQSxmzsrKUmZlpXHM6nQEbvz6QHAAAYBHI2XhOpzMgyUBcXJwkqbi4WPHx8b7rxcXFuvrqq33PHDp0yHjv5MmTKikp8b1fF7QVAAD4AWjfvr3i4uK0bt0637WysjJt2rRJPXv2lCT17NlTpaWl2rZtm++Z9evXy+PxKDk5uc6fReUAAAALu3ZILC8vV0FBge987969ys/PV3R0tNq2basHHnhATzzxhH7yk5+offv2euSRR5SQkOBb0dClSxf17dtXo0eP1vz581VZWanx48dryJAhdV6pIJEcAABQg8emHRK3bt2qlJQU3/n3cxUyMjK0aNEiTZ48WRUVFRozZoxKS0t1/fXXa/Xq1WrSpInvnaVLl2r8+PHq06ePwsLCNGjQIM2dO9evONjnAAhi7HMA1K6+9znY2eEXARur6+erAjbWhULlAAAAi1D/bgWSAwAALIKjpm4fVisAAAADlQMAACzsmpAYLEgOAACwCPU5B7QVAACAgcoBAAAWoT4hkeQAAAAL5hwECU+op2lALfb++027QwBCEnMOAAAAqgmaygEAAMGCtgIAADCEeqObtgIAADBQOQAAwIK2AgAAMLBaAQAAoBoqBwAAWHjsDsBmJAcAAFh4RVsBAADAh8oBAAAWnhDf6IDkAAAAC0+ItxVIDgAAsGDOAQAAQDVUDgAAsGApIwAAMNBWAAAAqIbKAQAAFrQVAACAIdSTA9oKAADAQOUAAACLUJ+QSHIAAICFJ7RzA9oKAADAROUAAAALvlsBAAAYQvxLGUkOAACwYikjAABANVQOAACw8DiYcwAAAKoJ9TkHtBUAAICBygEAABZMSAQAAAaPI3CHP9q1ayeHw1HjGDdunCSpd+/eNe7dc889Af/5qRwAABAktmzZoqqqKt/5zp07dfPNN2vw4MG+a6NHj9a0adN8582aNQt4HCQHAABY2LVDYqtWrYzzGTNmqGPHjrrpppt815o1a6a4uLh6jYO2AgAAFt4AHm63W2VlZcbhdrvPGsOJEye0ZMkSjRw5Uo5qSyuXLl2qli1bqmvXrsrKytKxY8cC9nN/j+QAAIB65HK5FBkZaRwul+us761cuVKlpaUaMWKE79pdd92lJUuWKCcnR1lZWXr55Zc1fPjwgMfs8Hq9QbGcs2HjS+wOAQg63x54z+4QgKDUqGWHeh3/pUsC9w/unZ+/WKNS4HQ65XQ6z/heWlqaGjdurLfeeuu0z6xfv159+vRRQUGBOnbsGJB4JeYcAABQQyCXMtYlEbD64osvtHbtWr3++utnfC45OVmSSA4AAKhvdpfUFy5cqJiYGN16661nfC4/P1+SFB8fH9DPJzkAACCIeDweLVy4UBkZGWrY8NQ/03v27NGyZcvUr18/tWjRQjt27NDEiRN14403qlu3bgGNgeQAAAALfzcvCqS1a9dq//79GjlypHG9cePGWrt2rebMmaOKigq1adNGgwYN0sMPPxzwGEgOAACwsHP75FtuuUW1rRVo06aNNm7ceEFiYCkjAAAwUDkAAMAi1L94ieQAAAALr41zDoIBbQUAAGCgcgAAgAVtBQAAYAj15IC2AgAAMFA5AADAwu7tk+1GcgAAgIWdOyQGA5IDAAAsmHMAAABQDZUDAAAsQr1yQHIAAIBFqE9IpK0AAAAMVA4AALBgtQIAADCE+pwD2goAAMBA5QAAAItQn5BIcgAAgIUnxNMD2goAAMBA5QAAAItQn5BIcgAAgEVoNxVIDgAAqCHUKwfMOQAAAAYqBwAAWLBDIgAAMLCUEQAAoBoqBwAAWIR23YDkAACAGlitAAAAUA2VAwAALEJ9QiLJAQAAFqGdGtBWAAAAFlQOAACwCPUJiSQHAABYMOcAAAAYQjs1YM4BAACwoHIAAIAFcw4AAIDBG+KNBdoKAADAQHIAAICFJ4CHP6ZOnSqHw2EcnTt39t0/fvy4xo0bpxYtWuiiiy7SoEGDVFxcfD4/aq1IDgAAsPDIG7DDX1deeaUOHjzoO95//33fvYkTJ+qtt97Sa6+9po0bN+rAgQMaOHBgIH90Scw5AAAgqDRs2FBxcXE1rh89elQvvviili1bpp///OeSpIULF6pLly766KOP9NOf/jRgMVA5AADAwhvAw+12q6yszDjcbvdpP/uzzz5TQkKCOnTooGHDhmn//v2SpG3btqmyslKpqam+Zzt37qy2bdsqLy8voD8/yQEkSQ9NHq+8D9/W10d260Dhx/rH31/U5Zd3tDss4LS25v+vxk2eopTbhqlrr3Sty/3wrO+s+ud6Dcy4Tz1+PkC9b7tLD0//k0qPltVrnJu379Dgu8ere+/+Sr9jpFa+vca4/8JLr+jOUffrutSBuvHWIbr/d9O094vCeo0JZxfItoLL5VJkZKRxuFyuWj83OTlZixYt0urVq/X8889r7969uuGGG/TNN9+oqKhIjRs3VlRUlPFObGysioqKAvrzkxxAknTjDT/V888vVq8b+qtvv6Fq1LCR3n17mZo1a2p3aECtvv32uDpd1kF/+O19dXp++45d+v0TszXwF2lauWS+/vT477XzX//WlBnPnHMMXx0sVtde6ae9X3igSOMefFTXXZOovy/K1q/vGKApT87RB5u2+Z7Zmv+/Gjqwv5b95Wn9Zc50VZ48qTET/6Bj3x4/57gQXLKysnT06FHjyMrKqvXZ9PR0DR48WN26dVNaWpreeecdlZaW6tVXX72gMTPnAJKkW/sPN85H/tcDKjrwv0q6ppvee3+TTVEBp3dDz2t1Q89r6/z8xzs/UUJcjIYPvl2S1DohToNvT9eCpa8Zz/39zdVavPx1fXWwSJfExWrY4Ns1ZOAvzinGV1e+rUvi4/TghNGSpI7t2mr7jl166ZUV6pWcJEn685+eMN754x8ydeMvhupfuz9Tj6uvOqfPxfkL5CZITqdTTqfznN6NiorS5ZdfroKCAt188806ceKESktLjepBcXFxrXMUzgeVA9QqMrK5JKnk61J7AwECJLFrFxUdOqzcDzfL6/XqcMnXWrPhfSPBWPXP9cr+68u6f0yG3lz6F90/doSefeElvfHOmjOMfHof7/xUP+1xtXGtV3KSPt75yWnfKa84JkmKbB5xTp+JwPAG8H/no7y8XHv27FF8fLySkpLUqFEjrVu3znd/9+7d2r9/v3r27Hm+P7KBygFqcDgc+tOsx/TBB5u1a9duu8MBAuKablfqySmTNenRGTpx4oROVlWpd69k/eG343zPZL+4RA9OGK2be/eS9F114fN9+/XqG+/q9n43+/2Zh0u+Vovoi41rLS6OUnnFMR13u9XE8tukx+PRjGf+rO7drtBPOrTz/4dEwNi1ffKkSZPUv39/XXrppTpw4ICmTJmiBg0aaOjQoYqMjNSoUaOUmZmp6OhoNW/eXBMmTFDPnj0DulJBqofk4Msvv9SUKVO0YMGC0z7jdrtrzNT0er1yOByBDgfn4Nm503XllZ10U8ov7Q4FCJg9e7/QjDnzdc/dd6lXcpIOHynRrOy/atrMZ/V41kQd+/a4vvzqoB51zdGUJ0/NQ6iqqtJF4eG+89uHjdWB4kPfnXi/+63w2tRTf1eSErtq/uzHzynGJ2Znq+DzfXrp+Vnn9D5++AoLCzV06FAdOXJErVq10vXXX6+PPvpIrVq1kiQ9/fTTCgsL06BBg+R2u5WWlqbnnnsu4HEEPDkoKSnR4sWLz5gcuFwuPfbYY8Y1R9hFcjRoHuhw4Kdn5jyhW/ulKqXPQH311UG7wwEC5oWXX1X3bldo5LBfSZI6XdZeTZs49Zv7HtT9ozPkCPvul5OpD92vbld2Nt4NCzvVgX1+9jSdPFklSSr+z2HdPf4h/WNRtu++09nY9+eW0RfrSMnXxlhHvi7VReHNalQN/jj7OW38cLMWZ89UXEyrAPzEOB92fbfC8uXLz3i/SZMmys7OVnZ29hmfO19+JwdvvvnmGe9//vnnZx0jKytLmZmZxrWLW3Q+zdO4UJ6Z84QG3N5XfW4erH37vrQ7HCCgjh93q0GDBsa1sP8793q9ahUdrZiWLVR4oEi/SPv5acdJiIv1/fn78dq2Tqj12cSunfVe3lbjWt6W/1Fi1y6+c6/Xq+l/el7rcj/UwnlPqnVCYCeW4dzwrYx+GjBggBwOh7ze02dVZ2sP1DZzk5aCvZ6dO11DhwzQwEEj9c035YqN/e43l6NHv9Hx4yypQvA5duxb7S884Dv/6kCxPv33HkU2j1B8XIyefn6hDh0+ItcjkyRJvXsla+qTz2j5ilXqdV2S/nOkRE8+82dddUUnxbRqIUm6b9RwzZgzXxddFK7rk5N0orJSuz79TGXflCtjiP9b1N4x4Fb97R9vaXb2i/rlL27R5m0f65/rc/XczGm+Z56Yna131mzQ3BmPKrxZUx0+UiJJuuii8BrVBeBCcXjP9K98LS655BI999xzuv3222u9n5+fr6SkJFVVVfkVSMPGl/j1PALr5Imvar0+ctREvfTyhV1fi1O+PfCe3SEErc3bd2jkhIdqXL89PVV/fPi3+sMTs/VVUbEWzXvKd2/pa2/o1ZXv6KuDxYq4KFzXJSUq876Rim3V0vfM2/8vRwuX/V179u1X0yZNdHnHdhp+xwCl3tSrxmd9dbBYab8aoZ0fvHvGOJ+a+2ft2bdfsa1a6p4Rd2nAracmN55un4Qnfp9pPAdTo5Yd6nX8X18auO8rePmL1wM21oXid3Jw22236eqrr9a0adNqvf/xxx+re/fu8nj8K8qQHAA1kRwAtavv5GB4AJODJT/A5MDvtsKDDz6oioqK096/7LLLlJOTc15BAQAA+/idHNxwww1nvB8eHq6bbrrpnAMCAMBu5/JVyz8mbIIEAICFXUsZgwXbJwMAAAOVAwAALNjnAAAAGJhzAAAADMw5AAAAqIbKAQAAFsw5AAAABj83D/7Roa0AAAAMVA4AALBgtQIAADCE+pwD2goAAMBA5QAAAItQ3+eA5AAAAItQn3NAWwEAABioHAAAYBHq+xyQHAAAYBHqqxVIDgAAsAj1CYnMOQAAAAYqBwAAWIT6agWSAwAALEJ9QiJtBQAAYKByAACABW0FAABgYLUCAABANVQOAACw8IT4hESSAwAALEI7NaCtAAAALKgcAABgwWoFAABgIDkAAAAGdkgEAACohsoBAAAWtBUAAICBHRIBAEBQcLlcuvbaaxUREaGYmBgNGDBAu3fvNp7p3bu3HA6Hcdxzzz0BjYPkAAAAC6/XG7DDHxs3btS4ceP00Ucfac2aNaqsrNQtt9yiiooK47nRo0fr4MGDvuOpp54K5I9PWwEAACu75hysXr3aOF+0aJFiYmK0bds23Xjjjb7rzZo1U1xcXL3FQeUAAIB65Ha7VVZWZhxut7tO7x49elSSFB0dbVxfunSpWrZsqa5duyorK0vHjh0LaMwkBwAAWASyreByuRQZGWkcLpfrrDF4PB498MAD6tWrl7p27eq7ftddd2nJkiXKyclRVlaWXn75ZQ0fPjygP7/DGyQ7PTRsfIndIQBB59sD79kdAhCUGrXsUK/jJ8b9LGBjbf4ip0alwOl0yul0nvG9e++9V++++67ef/99tW7d+rTPrV+/Xn369FFBQYE6duwYkJiZcwAAQD2qSyJgNX78eK1atUq5ublnTAwkKTk5WZJIDgAAqE927XPg9Xo1YcIErVixQhs2bFD79u3P+k5+fr4kKT4+PmBxkBwAAGDhsanjPm7cOC1btkxvvPGGIiIiVFRUJEmKjIxU06ZNtWfPHi1btkz9+vVTixYttGPHDk2cOFE33nijunXrFrA4mHMABDHmHAC1q+85B1fGJgdsrF3Fm+r8rMPhqPX6woULNWLECH355ZcaPny4du7cqYqKCrVp00a//OUv9fDDD6t58+aBCpnKAQAAweJsv6+3adNGGzdurPc4SA4AALCwq60QLEgOAACw4IuXAAAAqqFyAACABW0FAABgoK0AAABQDZUDAAAsaCsAAAADbQUAAIBqqBwAAGDh9XrsDsFWJAcAAFh4QrytQHIAAIBFkHwnoW2YcwAAAAxUDgAAsKCtAAAADLQVAAAAqqFyAACABTskAgAAAzskAgAAVEPlAAAAi1CfkEhyAACARagvZaStAAAADFQOAACwoK0AAAAMLGUEAACGUK8cMOcAAAAYqBwAAGAR6qsVSA4AALCgrQAAAFANlQMAACxYrQAAAAx88RIAAEA1VA4AALCgrQAAAAysVgAAAKiGygEAABahPiGR5AAAAItQbyuQHAAAYBHqyQFzDgAAgIHKAQAAFqFdN5Ac3lCvncDgdrvlcrmUlZUlp9NpdzhAUODvBUINyQEMZWVlioyM1NGjR9W8eXO7wwGCAn8vEGqYcwAAAAwkBwAAwEByAAAADCQHMDidTk2ZMoVJV0A1/L1AqGFCIgAAMFA5AAAABpIDAABgIDkAAAAGkgMAAGAgOYBPdna22rVrpyZNmig5OVmbN2+2OyTAVrm5uerfv78SEhLkcDi0cuVKu0MCLgiSA0iSXnnlFWVmZmrKlCnavn27EhMTlZaWpkOHDtkdGmCbiooKJSYmKjs72+5QgAuKpYyQJCUnJ+vaa6/VvHnzJEkej0dt2rTRhAkT9Lvf/c7m6AD7ORwOrVixQgMGDLA7FKDeUTmATpw4oW3btik1NdV3LSwsTKmpqcrLy7MxMgCAHUgOoMOHD6uqqkqxsbHG9djYWBUVFdkUFQDALiQHAADAQHIAtWzZUg0aNFBxcbFxvbi4WHFxcTZFBQCwC8kB1LhxYyUlJWndunW+ax6PR+vWrVPPnj1tjAwAYIeGdgeA4JCZmamMjAz16NFD1113nebMmaOKigrdfffddocG2Ka8vFwFBQW+87179yo/P1/R0dFq27atjZEB9YuljPCZN2+eZs6cqaKiIl199dWaO3eukpOT7Q4LsM2GDRuUkpJS43pGRoYWLVp04QMCLhCSAwAAYGDOAQAAMJAcAAAAA8kBAAAwkBwAAAADyQEAADCQHAAAAAPJAQAAMJAcAAAAA8kBAAAwkBwAAAADyQEAADCQHAAAAMP/Bw6WGHynvWX+AAAAAElFTkSuQmCC",
            "text/plain": [
              "<Figure size 640x480 with 2 Axes>"
            ]
          },
          "metadata": {},
          "output_type": "display_data"
        }
      ],
      "source": [
        "y_pred = fine_search.best_estimator_.predict(X_test)\n",
        "cm = confusion_matrix(\n",
        "    y_test.values.argmax(axis=1), y_pred.argmax(axis=1))\n",
        "print(cm)\n",
        "sns.heatmap(cm, annot=True)"
      ]
    },
    {
      "cell_type": "code",
<<<<<<< HEAD
      "execution_count": 388,
=======
      "execution_count": 34,
>>>>>>> d010dce (multiclass 90%-10%)
      "metadata": {
        "colab": {
          "base_uri": "https://localhost:8080/"
        },
        "id": "MNdxb-kqfmbp",
        "outputId": "334cadc8-e020-448f-86ff-fc147915f6ab"
      },
      "outputs": [
        {
          "name": "stdout",
          "output_type": "stream",
          "text": [
            "Accuracy: 0.92\n",
            "Precision: 0.90\n",
            "Recall: 0.92\n",
            "F1-score: 0.89\n"
          ]
        }
      ],
      "source": [
        "# calculate the accuracy, precision, recall, and F1-score of the model\n",
        "accuracy = accuracy_score(y_test, y_pred)\n",
        "precision = precision_score(y_test, y_pred, average='weighted')\n",
        "recall = recall_score(y_test, y_pred, average='weighted')\n",
        "f1 = f1_score(y_test, y_pred, average='weighted')\n",
        "# Menghitung confusion matrix\n",
        "# tn, fp, fn, tp = confusion_matrix(y_test.values.argmax(axis=1), y_pred.argmax(axis=1)).ravel()\n",
        "\n",
        "# Menghitung specificity score\n",
        "# accuracy = (tp + tn) / (tp + fp+ tn + fn)\n",
        "# precision = tp / (tp + fp)\n",
        "# recall = tp / (tp + fn)\n",
        "# f1 = 2*((precision*recall)/(precision+recall))\n",
        "# specificity = tn / (tn + fp)\n",
        "\n",
        "\n",
        "# calculate the ROC-AUC score of the model\n",
        "# roc_auc = roc_auc_score(y_test, y_pred)\n",
        "\n",
        "# print the evaluation metrics\n",
        "print(f\"Accuracy: {accuracy:.2f}\")\n",
        "print(f\"Precision: {precision:.2f}\")\n",
        "print(f\"Recall: {recall:.2f}\")\n",
        "print(f\"F1-score: {f1:.2f}\")\n",
        "# print(f\"Specificity-score: {specificity:.2f}\")\n",
        "# print(f\"ROC-AUC score: {roc_auc:.2f}\")"
      ]
    },
    {
      "cell_type": "code",
<<<<<<< HEAD
      "execution_count": 389,
=======
      "execution_count": 35,
>>>>>>> d010dce (multiclass 90%-10%)
      "metadata": {},
      "outputs": [
        {
          "name": "stdout",
          "output_type": "stream",
          "text": [
            "              precision    recall  f1-score   support\n",
            "\n",
<<<<<<< HEAD
            "           0       0.67      0.21      0.32        19\n",
            "           1       0.92      0.99      0.96       185\n",
            "\n",
            "   micro avg       0.92      0.92      0.92       204\n",
            "   macro avg       0.80      0.60      0.64       204\n",
            "weighted avg       0.90      0.92      0.90       204\n",
            " samples avg       0.92      0.92      0.92       204\n",
=======
            "           0       1.00      0.33      0.50         3\n",
            "           1       0.67      0.12      0.21        16\n",
            "           2       0.92      0.99      0.96       185\n",
            "\n",
            "   micro avg       0.92      0.92      0.92       204\n",
            "   macro avg       0.86      0.48      0.56       204\n",
            "weighted avg       0.91      0.92      0.89       204\n",
            " samples avg       0.91      0.92      0.92       204\n",
>>>>>>> d010dce (multiclass 90%-10%)
            "\n"
          ]
        }
      ],
      "source": [
        "print(classification_report(y_test, y_pred))"
      ]
    },
    {
      "cell_type": "code",
<<<<<<< HEAD
      "execution_count": 390,
=======
      "execution_count": 36,
>>>>>>> d010dce (multiclass 90%-10%)
      "metadata": {},
      "outputs": [
        {
          "name": "stdout",
          "output_type": "stream",
          "text": [
            "<class 'pandas.core.frame.DataFrame'>\n",
            "Index: 2040 entries, 1/12/2022 0:00 to 23/02/2023 23:00:00\n",
            "Data columns (total 7 columns):\n",
            " #   Column                      Non-Null Count  Dtype  \n",
            "---  ------                      --------------  -----  \n",
            " 0   Air Tmp (C) M 60 Min        2040 non-null   float64\n",
            " 1   Precip 1Hr (mm) M           2040 non-null   float64\n",
            " 2   QNH (hPa) M                 2040 non-null   float64\n",
            " 3   RH (%) M 60 Min             2040 non-null   float64\n",
            " 4   WS 60 Min (kt) M            2040 non-null   float64\n",
            " 5   classification_hujan        2040 non-null   uint8  \n",
            " 6   classification_tidak hujan  2040 non-null   uint8  \n",
            "dtypes: float64(5), uint8(2)\n",
            "memory usage: 99.6+ KB\n"
          ]
        }
      ],
      "source": [
        "data_baru.info()"
      ]
    },
    {
      "cell_type": "code",
<<<<<<< HEAD
      "execution_count": 391,
=======
      "execution_count": 37,
>>>>>>> d010dce (multiclass 90%-10%)
      "metadata": {},
      "outputs": [
        {
          "data": {
            "text/html": [
              "<div>\n",
              "<style scoped>\n",
              "    .dataframe tbody tr th:only-of-type {\n",
              "        vertical-align: middle;\n",
              "    }\n",
              "\n",
              "    .dataframe tbody tr th {\n",
              "        vertical-align: top;\n",
              "    }\n",
              "\n",
              "    .dataframe thead th {\n",
              "        text-align: right;\n",
              "    }\n",
              "</style>\n",
              "<table border=\"1\" class=\"dataframe\">\n",
              "  <thead>\n",
              "    <tr style=\"text-align: right;\">\n",
              "      <th></th>\n",
              "      <th>Air Tmp (C) M 60 Min</th>\n",
              "      <th>Precip 1Hr (mm) M</th>\n",
              "      <th>QNH (hPa) M</th>\n",
              "      <th>RH (%) M 60 Min</th>\n",
              "      <th>WS 60 Min (kt) M</th>\n",
              "      <th>classification_hujan</th>\n",
              "      <th>classification_tidak hujan</th>\n",
              "      <th>classification</th>\n",
              "    </tr>\n",
              "    <tr>\n",
              "      <th>Date and Time</th>\n",
              "      <th></th>\n",
              "      <th></th>\n",
              "      <th></th>\n",
              "      <th></th>\n",
              "      <th></th>\n",
              "      <th></th>\n",
              "      <th></th>\n",
              "      <th></th>\n",
              "    </tr>\n",
              "  </thead>\n",
              "  <tbody>\n",
              "    <tr>\n",
              "      <th>1/12/2022 0:00</th>\n",
              "      <td>23.73</td>\n",
              "      <td>0.0</td>\n",
              "      <td>1009.01</td>\n",
              "      <td>100.0</td>\n",
              "      <td>2.0</td>\n",
              "      <td>0</td>\n",
              "      <td>1</td>\n",
              "      <td>tidak hujan</td>\n",
              "    </tr>\n",
              "    <tr>\n",
              "      <th>1/12/2022 1:00</th>\n",
              "      <td>26.51</td>\n",
              "      <td>0.0</td>\n",
              "      <td>1009.35</td>\n",
              "      <td>92.9</td>\n",
              "      <td>2.0</td>\n",
              "      <td>0</td>\n",
              "      <td>1</td>\n",
              "      <td>tidak hujan</td>\n",
              "    </tr>\n",
              "    <tr>\n",
              "      <th>1/12/2022 2:00</th>\n",
              "      <td>28.45</td>\n",
              "      <td>0.0</td>\n",
              "      <td>1009.47</td>\n",
              "      <td>81.8</td>\n",
              "      <td>2.0</td>\n",
              "      <td>0</td>\n",
              "      <td>1</td>\n",
              "      <td>tidak hujan</td>\n",
              "    </tr>\n",
              "    <tr>\n",
              "      <th>1/12/2022 3:00</th>\n",
              "      <td>29.59</td>\n",
              "      <td>0.0</td>\n",
              "      <td>1009.11</td>\n",
              "      <td>75.2</td>\n",
              "      <td>2.0</td>\n",
              "      <td>0</td>\n",
              "      <td>1</td>\n",
              "      <td>tidak hujan</td>\n",
              "    </tr>\n",
              "    <tr>\n",
              "      <th>1/12/2022 4:00</th>\n",
              "      <td>30.68</td>\n",
              "      <td>0.0</td>\n",
              "      <td>1008.14</td>\n",
              "      <td>69.8</td>\n",
              "      <td>4.0</td>\n",
              "      <td>0</td>\n",
              "      <td>1</td>\n",
              "      <td>tidak hujan</td>\n",
              "    </tr>\n",
              "  </tbody>\n",
              "</table>\n",
              "</div>"
            ],
            "text/plain": [
              "                Air Tmp (C) M 60 Min  Precip 1Hr (mm) M  QNH (hPa) M  \\\n",
              "Date and Time                                                          \n",
              "1/12/2022 0:00                 23.73                0.0      1009.01   \n",
              "1/12/2022 1:00                 26.51                0.0      1009.35   \n",
              "1/12/2022 2:00                 28.45                0.0      1009.47   \n",
              "1/12/2022 3:00                 29.59                0.0      1009.11   \n",
              "1/12/2022 4:00                 30.68                0.0      1008.14   \n",
              "\n",
              "                RH (%) M 60 Min  WS 60 Min (kt) M  classification_hujan  \\\n",
              "Date and Time                                                             \n",
              "1/12/2022 0:00            100.0               2.0                     0   \n",
              "1/12/2022 1:00             92.9               2.0                     0   \n",
              "1/12/2022 2:00             81.8               2.0                     0   \n",
              "1/12/2022 3:00             75.2               2.0                     0   \n",
              "1/12/2022 4:00             69.8               4.0                     0   \n",
              "\n",
              "                classification_tidak hujan classification  \n",
              "Date and Time                                              \n",
              "1/12/2022 0:00                           1    tidak hujan  \n",
              "1/12/2022 1:00                           1    tidak hujan  \n",
              "1/12/2022 2:00                           1    tidak hujan  \n",
              "1/12/2022 3:00                           1    tidak hujan  \n",
              "1/12/2022 4:00                           1    tidak hujan  "
            ]
          },
<<<<<<< HEAD
          "execution_count": 391,
=======
          "execution_count": 37,
>>>>>>> d010dce (multiclass 90%-10%)
          "metadata": {},
          "output_type": "execute_result"
        }
      ],
      "source": [
        "# data_baru['kategori'] = data_baru.apply(lambda x: 'rain' if x['klasifikasi_rain'] == 1 else ('no rain'), axis=1)\n",
        "# data_baru\n",
        "##check jumlah data encoding masing masing kategory\n",
        "conditions = [\n",
        "    (data_baru['classification_hujan']==1),\n",
        "    # (data_baru['classification_sangat ringan']==1),\n",
        "    (data_baru['classification_tidak hujan']==1)\n",
        "]\n",
        "\n",
        "values = ['hujan', 'tidak hujan']\n",
        "data_baru['classification'] = np.select(conditions, values)\n",
        "data_baru.head()"
      ]
    },
    {
      "attachments": {},
      "cell_type": "markdown",
      "metadata": {},
      "source": [
        "#### Visualisasi Tuning"
      ]
    },
    {
      "cell_type": "code",
<<<<<<< HEAD
      "execution_count": 392,
=======
      "execution_count": 38,
>>>>>>> d010dce (multiclass 90%-10%)
      "metadata": {},
      "outputs": [],
      "source": [
        "result_coarse = search.cv_results_\n",
        "result_fine = fine_search.cv_results_"
      ]
    },
    {
      "cell_type": "code",
<<<<<<< HEAD
      "execution_count": 393,
=======
      "execution_count": 39,
>>>>>>> d010dce (multiclass 90%-10%)
      "metadata": {
        "colab": {
          "base_uri": "https://localhost:8080/"
        },
        "id": "wFREBkx_lEu6",
        "outputId": "24767054-f452-43cc-c621-baddb50c4453"
      },
      "outputs": [
        {
          "data": {
            "text/plain": [
              "['param_n_estimators', 'param_max_depth', 'param_learning_rate', 'Accuracy']"
            ]
          },
<<<<<<< HEAD
          "execution_count": 393,
=======
          "execution_count": 39,
>>>>>>> d010dce (multiclass 90%-10%)
          "metadata": {},
          "output_type": "execute_result"
        }
      ],
      "source": [
        "params_key = [f\"param_{p}\" for p in params.keys()]\n",
        "params_key.append('Accuracy')\n",
        "params_key"
      ]
    },
    {
      "cell_type": "code",
<<<<<<< HEAD
      "execution_count": 394,
=======
      "execution_count": 40,
>>>>>>> d010dce (multiclass 90%-10%)
      "metadata": {},
      "outputs": [],
      "source": [
        "Accuracy = []\n",
        "for mean_score in result_coarse[\"mean_test_score\"]:\n",
        "    Accuracy.append(mean_score)\n",
        "accuracy = {}\n",
        "accuracy['Accuracy'] = Accuracy\n",
        "result_coarse['Accuracy'] = Accuracy"
      ]
    },
    {
      "cell_type": "code",
<<<<<<< HEAD
      "execution_count": 395,
=======
      "execution_count": 41,
>>>>>>> d010dce (multiclass 90%-10%)
      "metadata": {},
      "outputs": [],
      "source": [
        "Accuracy_Fine = []\n",
        "for mean_score in result_fine[\"mean_test_score\"]:\n",
        "    Accuracy_Fine.append(mean_score)\n",
        "accuracy_fine = {}\n",
        "accuracy_fine['Accuracy'] = Accuracy_Fine\n",
        "result_fine['Accuracy'] = Accuracy_Fine"
      ]
    },
    {
      "cell_type": "code",
<<<<<<< HEAD
      "execution_count": 396,
=======
      "execution_count": 42,
>>>>>>> d010dce (multiclass 90%-10%)
      "metadata": {
        "colab": {
          "base_uri": "https://localhost:8080/",
          "height": 542
        },
        "id": "CQRf1qtwKZxP",
        "outputId": "b2f448ea-676b-416c-e1fe-0781daad02ad"
      },
      "outputs": [],
      "source": [
        "# # create a dataframe from results\n",
        "# fig = px.scatter(result_coarse, x = params_key[2], \n",
        "#                     y = params_key[3])\n",
        "# fig.update_traces(marker=dict(color='red'))\n",
        "# fig.add_trace(px.scatter(result_fine, x = params_key[2], \n",
        "#                     y = params_key[3]).data[0])\n",
        "\n",
        "# # menyatukan kedua plot dalam satu objek\n",
        "\n",
        "# fig.show()\n"
      ]
    },
    {
      "cell_type": "code",
<<<<<<< HEAD
      "execution_count": 397,
=======
      "execution_count": 43,
>>>>>>> d010dce (multiclass 90%-10%)
      "metadata": {},
      "outputs": [
        {
          "data": {
<<<<<<< HEAD
            "image/png": "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",
=======
            "image/png": "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",
>>>>>>> d010dce (multiclass 90%-10%)
            "text/plain": [
              "<Figure size 1600x600 with 1 Axes>"
            ]
          },
          "metadata": {},
          "output_type": "display_data"
        }
      ],
      "source": [
        "import matplotlib.pyplot as plt\n",
        "\n",
        "plt.figure(figsize=(16,6))\n",
        "x1= result_coarse['param_learning_rate']\n",
        "y1= result_coarse['mean_test_score']\n",
        "\n",
        "x2= result_fine['param_learning_rate']\n",
        "y2= result_fine['mean_test_score']\n",
        "\n",
        "plt.scatter(x1, y1, color='red', label='Random search')\n",
        "\n",
        "plt.scatter(x2, y2, color='blue', label='Random search')\n",
        "\n",
        "plt.legend()\n",
        "plt.xlabel('Learning rate')\n",
        "plt.ylabel('Accuracy')\n",
        "\n",
        "# Tampilkan grafik\n",
        "plt.show()"
      ]
    },
    {
      "cell_type": "code",
<<<<<<< HEAD
      "execution_count": 398,
=======
      "execution_count": 44,
>>>>>>> d010dce (multiclass 90%-10%)
      "metadata": {},
      "outputs": [],
      "source": [
        "hasil = pd.DataFrame(search.cv_results_)\n",
        "hasil = hasil.sort_values('mean_test_score', ascending=False)"
      ]
    },
    {
      "cell_type": "code",
<<<<<<< HEAD
      "execution_count": 399,
=======
      "execution_count": 45,
>>>>>>> d010dce (multiclass 90%-10%)
      "metadata": {},
      "outputs": [],
      "source": [
        "# plt.figure(figsize=(10,6))\n",
        "# plt.scatter(hasil['param_learning_rate'], hasil['param_max_depth'], c=hasil['mean_test_score'], cmap='viridis')\n",
        "# plt.colorbar()\n",
        "# plt.title('random, Search Scatter Plot')\n",
        "# plt.xlabel('param_learning_rate')\n",
        "# plt.ylabel('param_max_depth')\n",
        "# plt.show()"
      ]
    },
    {
      "cell_type": "code",
<<<<<<< HEAD
      "execution_count": 400,
=======
      "execution_count": 46,
>>>>>>> d010dce (multiclass 90%-10%)
      "metadata": {},
      "outputs": [],
      "source": [
        "# test = pd.DataFrame(X_test)\n",
        "# true = pd.DataFrame(y_test)\n",
        "# pred = pd.DataFrame(y_pred)\n",
        "\n",
        "# hsl = pd.concat([test, true], axis=1)\n",
        "# hsl['kategori'] = hsl.apply(lambda x: 'rain' if x['klasifikasi_rain'] == 1 else ('no rain'), axis=1)\n",
        "# hsl = hsl.reset_index()\n",
        "# hsl = pd.concat([hsl, pred], axis=1)\n",
        "# hsl['prediksi'] = hsl.apply(lambda x: 'rain' if x[0] == 1 else ('no rain'), axis=1)\n",
        "# hsl[hsl['kategori']=='rain']"
      ]
    },
    {
      "cell_type": "code",
<<<<<<< HEAD
      "execution_count": 401,
=======
      "execution_count": 47,
>>>>>>> d010dce (multiclass 90%-10%)
      "metadata": {},
      "outputs": [
        {
          "name": "stdout",
          "output_type": "stream",
          "text": [
            "<class 'pandas.core.frame.DataFrame'>\n",
            "Index: 2040 entries, 1/12/2022 0:00 to 23/02/2023 23:00:00\n",
            "Data columns (total 8 columns):\n",
            " #   Column                      Non-Null Count  Dtype  \n",
            "---  ------                      --------------  -----  \n",
            " 0   Air Tmp (C) M 60 Min        2040 non-null   float64\n",
            " 1   Precip 1Hr (mm) M           2040 non-null   float64\n",
            " 2   QNH (hPa) M                 2040 non-null   float64\n",
            " 3   RH (%) M 60 Min             2040 non-null   float64\n",
            " 4   WS 60 Min (kt) M            2040 non-null   float64\n",
            " 5   classification_hujan        2040 non-null   uint8  \n",
            " 6   classification_tidak hujan  2040 non-null   uint8  \n",
            " 7   classification              2040 non-null   object \n",
            "dtypes: float64(5), object(1), uint8(2)\n",
            "memory usage: 115.5+ KB\n"
          ]
        }
      ],
      "source": [
        "hujan = data_baru\n",
        "hujan.info()\n",
        "\n"
      ]
    },
    {
      "cell_type": "code",
<<<<<<< HEAD
      "execution_count": 402,
=======
      "execution_count": 48,
>>>>>>> d010dce (multiclass 90%-10%)
      "metadata": {},
      "outputs": [],
      "source": [
        "# X_baru = pd.DataFrame({'Air Tmp (C) M 60 Min': [30.19],\n",
        "#                     'QNH (hPa) M': [1005.66],\n",
        "#                     'RH (%) M 60 Min': [100.7],\n",
        "#                     'WS 60 Min (kt) M': [5.0],\n",
        "#                     },index=[0])\n",
        "# y_baru = pd.DataFrame({'true':['rain']})\n",
        "# pred_baru = fine_search.best_estimator_.predict(X_baru)\n",
        "\n",
        "# test = pd.DataFrame(X_baru)\n",
        "# true = pd.DataFrame(y_baru)\n",
        "# pred = pd.DataFrame(pred_baru)\n",
        "\n",
        "# hsl = pd.concat([test, true], axis=1)\n",
        "# # hsl['kategori'] = hsl.apply(lambda x: 'rain' if x['klasifikasi_rain'] == 1 else ('no rain'), axis=1)\n",
        "# hsl = hsl.reset_index()\n",
        "# hsl = pd.concat([hsl, pred], axis=1)\n",
        "# hsl['prediksi'] = hsl.apply(lambda x: 'rain' if x[0] == 1 else ('no rain'), axis=1)\n",
        "# # hsl[hsl['kategori']=='rain']\n",
        "# hsl"
      ]
    },
    {
      "cell_type": "code",
<<<<<<< HEAD
      "execution_count": 403,
=======
      "execution_count": 49,
>>>>>>> d010dce (multiclass 90%-10%)
      "metadata": {},
      "outputs": [],
      "source": [
        "# cm = confusion_matrix(\n",
        "#     y_baru.values.argmax(axis=1), pred_baru.argmax(axis=1))\n",
        "# print(cm)\n",
        "# sns.heatmap(cm, annot=True)"
      ]
    },
    {
      "cell_type": "code",
<<<<<<< HEAD
      "execution_count": 404,
=======
      "execution_count": 50,
>>>>>>> d010dce (multiclass 90%-10%)
      "metadata": {},
      "outputs": [],
      "source": [
        "# tn, fp, fn, tp = confusion_matrix(y_baru.values.argmax(axis=1), pred_baru.argmax(axis=1)).ravel()\n",
        "\n",
        "# # Menghitung specificity score\n",
        "# accuracy = (tp + tn) / (tp + fp+ tn + fn)\n",
        "# precision = tp / (tp + fp)\n",
        "# recall = tp / (tp + fn)\n",
        "# f1 = 2*((precision*recall)/(precision+recall))\n",
        "# specificity = tn / (tn + fp)\n",
        "\n",
        "\n",
        "# # calculate the ROC-AUC score of the model\n",
        "# roc_auc = roc_auc_score(y_baru, pred_baru)\n",
        "\n",
        "# # print the evaluation metrics\n",
        "# print(f\"Accuracy: {accuracy:.2f}\")\n",
        "# print(f\"Precision: {precision:.2f}\")\n",
        "# print(f\"Recall: {recall:.2f}\")\n",
        "# print(f\"F1-score: {f1:.2f}\")\n",
        "# print(f\"Specificity-score: {specificity:.2f}\")\n",
        "# print(f\"ROC-AUC score: {roc_auc:.2f}\")"
      ]
    },
    {
      "cell_type": "code",
      "execution_count": null,
      "metadata": {},
      "outputs": [],
      "source": []
    },
    {
      "cell_type": "code",
      "execution_count": 405,
      "metadata": {},
      "outputs": [
        {
          "data": {
            "text/plain": [
              "array([[0., 1.],\n",
              "       [0., 1.],\n",
              "       [0., 1.],\n",
              "       [0., 1.],\n",
              "       [0., 1.],\n",
              "       [0., 1.],\n",
              "       [0., 1.],\n",
              "       [0., 1.],\n",
              "       [0., 1.],\n",
              "       [0., 1.],\n",
              "       [0., 1.],\n",
              "       [0., 1.],\n",
              "       [0., 1.],\n",
              "       [0., 1.],\n",
              "       [0., 1.],\n",
              "       [0., 1.],\n",
              "       [0., 1.],\n",
              "       [0., 1.],\n",
              "       [0., 1.],\n",
              "       [0., 1.],\n",
              "       [0., 1.],\n",
              "       [0., 1.],\n",
              "       [0., 1.],\n",
              "       [0., 1.]])"
            ]
          },
<<<<<<< HEAD
          "execution_count": 405,
=======
          "execution_count": 51,
>>>>>>> d010dce (multiclass 90%-10%)
          "metadata": {},
          "output_type": "execute_result"
        }
      ],
      "source": [
        "last_24_jam = X.iloc[-24:]\n",
        "fine_search.best_estimator_.predict(last_24_jam)"
      ]
    }
  ],
  "metadata": {
    "colab": {
      "include_colab_link": true,
      "provenance": []
    },
    "kernelspec": {
      "display_name": "Python 3",
      "language": "python",
      "name": "python3"
    },
    "language_info": {
      "codemirror_mode": {
        "name": "ipython",
        "version": 3
      },
      "file_extension": ".py",
      "mimetype": "text/x-python",
      "name": "python",
      "nbconvert_exporter": "python",
      "pygments_lexer": "ipython3",
      "version": "3.11.2"
    },
    "vscode": {
      "interpreter": {
        "hash": "c9dd9e0fe6b35b1bcae34a65a84f52e8057de5f5c90bdc3654b614d2bbf741cb"
      }
    }
  },
  "nbformat": 4,
  "nbformat_minor": 0
}
