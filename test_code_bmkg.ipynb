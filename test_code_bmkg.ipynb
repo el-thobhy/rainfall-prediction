{
  "cells": [
    {
      "cell_type": "markdown",
      "metadata": {
        "colab_type": "text",
        "id": "view-in-github"
      },
      "source": [
        "<a href=\"https://colab.research.google.com/github/el-thobhy/rainfall-prediction/blob/master/test_code_kaggle.ipynb\" target=\"_parent\"><img src=\"https://colab.research.google.com/assets/colab-badge.svg\" alt=\"Open In Colab\"/></a>"
      ]
    },
    {
      "attachments": {},
      "cell_type": "markdown",
      "metadata": {},
      "source": [
        "## Data preprocessing"
      ]
    },
    {
      "cell_type": "code",
      "execution_count": 50,
      "metadata": {
        "id": "zhr4ixRNfmbI"
      },
      "outputs": [],
      "source": [
        "import pandas as pd\n",
        "import seaborn as sns\n",
        "import numpy as np"
      ]
    },
    {
      "attachments": {},
      "cell_type": "markdown",
      "metadata": {},
      "source": [
        "### Data Loading"
      ]
    },
    {
      "cell_type": "code",
      "execution_count": 51,
      "metadata": {
        "colab": {
          "base_uri": "https://localhost:8080/",
          "height": 288
        },
        "id": "Ey-339A5fmbK",
        "outputId": "df1602b7-7212-43ba-aa0b-24e6f6cbeb28"
      },
      "outputs": [
        {
          "data": {
            "text/html": [
              "<div>\n",
              "<style scoped>\n",
              "    .dataframe tbody tr th:only-of-type {\n",
              "        vertical-align: middle;\n",
              "    }\n",
              "\n",
              "    .dataframe tbody tr th {\n",
              "        vertical-align: top;\n",
              "    }\n",
              "\n",
              "    .dataframe thead th {\n",
              "        text-align: right;\n",
              "    }\n",
              "</style>\n",
              "<table border=\"1\" class=\"dataframe\">\n",
              "  <thead>\n",
              "    <tr style=\"text-align: right;\">\n",
              "      <th></th>\n",
              "      <th>Date and Time</th>\n",
              "      <th>Air Tmp (C) M 60 Min</th>\n",
              "      <th>Precip 1Hr (mm) M</th>\n",
              "      <th>QNH (hPa) M</th>\n",
              "      <th>RH (%) M 60 Min</th>\n",
              "      <th>WS 60 Min (kt) M</th>\n",
              "    </tr>\n",
              "  </thead>\n",
              "  <tbody>\n",
              "    <tr>\n",
              "      <th>0</th>\n",
              "      <td>1/12/2022 0:00</td>\n",
              "      <td>23.73</td>\n",
              "      <td>0.0</td>\n",
              "      <td>1009.01</td>\n",
              "      <td>100.0</td>\n",
              "      <td>2.0</td>\n",
              "    </tr>\n",
              "    <tr>\n",
              "      <th>1</th>\n",
              "      <td>1/12/2022 1:00</td>\n",
              "      <td>26.51</td>\n",
              "      <td>0.0</td>\n",
              "      <td>1009.35</td>\n",
              "      <td>92.9</td>\n",
              "      <td>2.0</td>\n",
              "    </tr>\n",
              "    <tr>\n",
              "      <th>2</th>\n",
              "      <td>1/12/2022 2:00</td>\n",
              "      <td>28.45</td>\n",
              "      <td>0.0</td>\n",
              "      <td>1009.47</td>\n",
              "      <td>81.8</td>\n",
              "      <td>2.0</td>\n",
              "    </tr>\n",
              "    <tr>\n",
              "      <th>3</th>\n",
              "      <td>1/12/2022 3:00</td>\n",
              "      <td>29.59</td>\n",
              "      <td>0.0</td>\n",
              "      <td>1009.11</td>\n",
              "      <td>75.2</td>\n",
              "      <td>2.0</td>\n",
              "    </tr>\n",
              "    <tr>\n",
              "      <th>4</th>\n",
              "      <td>1/12/2022 4:00</td>\n",
              "      <td>30.68</td>\n",
              "      <td>0.0</td>\n",
              "      <td>1008.14</td>\n",
              "      <td>69.8</td>\n",
              "      <td>4.0</td>\n",
              "    </tr>\n",
              "  </tbody>\n",
              "</table>\n",
              "</div>"
            ],
            "text/plain": [
              "    Date and Time  Air Tmp (C) M 60 Min  Precip 1Hr (mm) M  QNH (hPa) M  \\\n",
              "0  1/12/2022 0:00                 23.73                0.0      1009.01   \n",
              "1  1/12/2022 1:00                 26.51                0.0      1009.35   \n",
              "2  1/12/2022 2:00                 28.45                0.0      1009.47   \n",
              "3  1/12/2022 3:00                 29.59                0.0      1009.11   \n",
              "4  1/12/2022 4:00                 30.68                0.0      1008.14   \n",
              "\n",
              "   RH (%) M 60 Min  WS 60 Min (kt) M  \n",
              "0            100.0               2.0  \n",
              "1             92.9               2.0  \n",
              "2             81.8               2.0  \n",
              "3             75.2               2.0  \n",
              "4             69.8               4.0  "
            ]
          },
          "execution_count": 51,
          "metadata": {},
          "output_type": "execute_result"
        }
      ],
      "source": [
        "data_baru = pd.read_excel('Data Des 2022 to Feb 2023 perjam Clean.xlsx')\n",
        "data_baru = data_baru.drop('klasifikasi', axis=1)\n",
        "data_baru.head()"
      ]
    },
    {
      "attachments": {},
      "cell_type": "markdown",
      "metadata": {},
      "source": [
        "### Explanatory Data Analysis"
      ]
    },
    {
      "attachments": {},
      "cell_type": "markdown",
      "metadata": {},
      "source": [
        "_*Variable description*_\n",
        "\n",
        "- Date and Time = Date and Time\n",
        "- Air Tmp (C) M 60 Min\n",
        "- Mag WD 60 Min (deg) M\n",
        "- Precip 1Hr (mm) M\n",
        "- QNH (hPa) M\n",
        "- RH (%) M 60 Min\n",
        "- True WD 60 Min (deg) M\n",
        "- WS 60 Min (kt) M\n",
        "- klasifikasi"
      ]
    },
    {
      "cell_type": "code",
      "execution_count": 52,
      "metadata": {
        "colab": {
          "base_uri": "https://localhost:8080/"
        },
        "id": "eajZo8auWwp0",
        "outputId": "d67b57e8-e9b1-422d-e091-a39feff8e67b"
      },
      "outputs": [
        {
          "name": "stdout",
          "output_type": "stream",
          "text": [
            "<class 'pandas.core.frame.DataFrame'>\n",
            "RangeIndex: 2040 entries, 0 to 2039\n",
            "Data columns (total 6 columns):\n",
            " #   Column                Non-Null Count  Dtype  \n",
            "---  ------                --------------  -----  \n",
            " 0   Date and Time         2040 non-null   object \n",
            " 1   Air Tmp (C) M 60 Min  2040 non-null   float64\n",
            " 2   Precip 1Hr (mm) M     2040 non-null   float64\n",
            " 3   QNH (hPa) M           2040 non-null   float64\n",
            " 4   RH (%) M 60 Min       2040 non-null   float64\n",
            " 5   WS 60 Min (kt) M      2040 non-null   float64\n",
            "dtypes: float64(5), object(1)\n",
            "memory usage: 95.8+ KB\n"
          ]
        }
      ],
      "source": [
        "data_baru.info()"
      ]
    },
    {
      "cell_type": "code",
      "execution_count": 53,
      "metadata": {
        "id": "o9h52YPRfmbM"
      },
      "outputs": [],
      "source": [
        "# data_baru.sort_values(by=['Date and Time'], inplace=True, ascending=True)\n",
        "data_baru.set_index('Date and Time', inplace= True)"
      ]
    },
    {
      "attachments": {},
      "cell_type": "markdown",
      "metadata": {},
      "source": [
        "#### Missing value"
      ]
    },
    {
      "cell_type": "code",
      "execution_count": 54,
      "metadata": {},
      "outputs": [
        {
          "data": {
            "text/html": [
              "<div>\n",
              "<style scoped>\n",
              "    .dataframe tbody tr th:only-of-type {\n",
              "        vertical-align: middle;\n",
              "    }\n",
              "\n",
              "    .dataframe tbody tr th {\n",
              "        vertical-align: top;\n",
              "    }\n",
              "\n",
              "    .dataframe thead th {\n",
              "        text-align: right;\n",
              "    }\n",
              "</style>\n",
              "<table border=\"1\" class=\"dataframe\">\n",
              "  <thead>\n",
              "    <tr style=\"text-align: right;\">\n",
              "      <th></th>\n",
              "      <th>Air Tmp (C) M 60 Min</th>\n",
              "      <th>Precip 1Hr (mm) M</th>\n",
              "      <th>QNH (hPa) M</th>\n",
              "      <th>RH (%) M 60 Min</th>\n",
              "      <th>WS 60 Min (kt) M</th>\n",
              "    </tr>\n",
              "  </thead>\n",
              "  <tbody>\n",
              "    <tr>\n",
              "      <th>count</th>\n",
              "      <td>2040.000000</td>\n",
              "      <td>2040.000000</td>\n",
              "      <td>2040.000000</td>\n",
              "      <td>2040.000000</td>\n",
              "      <td>2040.000000</td>\n",
              "    </tr>\n",
              "    <tr>\n",
              "      <th>mean</th>\n",
              "      <td>26.396240</td>\n",
              "      <td>0.266593</td>\n",
              "      <td>1009.248248</td>\n",
              "      <td>84.888382</td>\n",
              "      <td>3.689706</td>\n",
              "    </tr>\n",
              "    <tr>\n",
              "      <th>std</th>\n",
              "      <td>2.767906</td>\n",
              "      <td>1.776614</td>\n",
              "      <td>1.964072</td>\n",
              "      <td>12.993643</td>\n",
              "      <td>2.382819</td>\n",
              "    </tr>\n",
              "    <tr>\n",
              "      <th>min</th>\n",
              "      <td>21.920000</td>\n",
              "      <td>0.000000</td>\n",
              "      <td>1002.980000</td>\n",
              "      <td>43.300000</td>\n",
              "      <td>0.000000</td>\n",
              "    </tr>\n",
              "    <tr>\n",
              "      <th>25%</th>\n",
              "      <td>24.160000</td>\n",
              "      <td>0.000000</td>\n",
              "      <td>1008.017500</td>\n",
              "      <td>75.400000</td>\n",
              "      <td>2.000000</td>\n",
              "    </tr>\n",
              "    <tr>\n",
              "      <th>50%</th>\n",
              "      <td>25.530000</td>\n",
              "      <td>0.000000</td>\n",
              "      <td>1009.210000</td>\n",
              "      <td>89.000000</td>\n",
              "      <td>3.000000</td>\n",
              "    </tr>\n",
              "    <tr>\n",
              "      <th>75%</th>\n",
              "      <td>28.525000</td>\n",
              "      <td>0.000000</td>\n",
              "      <td>1010.600000</td>\n",
              "      <td>96.000000</td>\n",
              "      <td>5.000000</td>\n",
              "    </tr>\n",
              "    <tr>\n",
              "      <th>max</th>\n",
              "      <td>33.710000</td>\n",
              "      <td>29.700000</td>\n",
              "      <td>1014.260000</td>\n",
              "      <td>100.000000</td>\n",
              "      <td>13.000000</td>\n",
              "    </tr>\n",
              "  </tbody>\n",
              "</table>\n",
              "</div>"
            ],
            "text/plain": [
              "       Air Tmp (C) M 60 Min  Precip 1Hr (mm) M  QNH (hPa) M  RH (%) M 60 Min  \\\n",
              "count           2040.000000        2040.000000  2040.000000      2040.000000   \n",
              "mean              26.396240           0.266593  1009.248248        84.888382   \n",
              "std                2.767906           1.776614     1.964072        12.993643   \n",
              "min               21.920000           0.000000  1002.980000        43.300000   \n",
              "25%               24.160000           0.000000  1008.017500        75.400000   \n",
              "50%               25.530000           0.000000  1009.210000        89.000000   \n",
              "75%               28.525000           0.000000  1010.600000        96.000000   \n",
              "max               33.710000          29.700000  1014.260000       100.000000   \n",
              "\n",
              "       WS 60 Min (kt) M  \n",
              "count       2040.000000  \n",
              "mean           3.689706  \n",
              "std            2.382819  \n",
              "min            0.000000  \n",
              "25%            2.000000  \n",
              "50%            3.000000  \n",
              "75%            5.000000  \n",
              "max           13.000000  "
            ]
          },
          "execution_count": 54,
          "metadata": {},
          "output_type": "execute_result"
        }
      ],
      "source": [
        "data_baru.describe()"
      ]
    },
    {
      "attachments": {},
      "cell_type": "markdown",
      "metadata": {},
      "source": [
        "_ada lebih dari 100 data yang hilang, total data adalah 2039, dan yang terhitung 1900_"
      ]
    },
    {
      "cell_type": "code",
      "execution_count": 55,
      "metadata": {},
      "outputs": [
        {
          "data": {
            "text/html": [
              "<div>\n",
              "<style scoped>\n",
              "    .dataframe tbody tr th:only-of-type {\n",
              "        vertical-align: middle;\n",
              "    }\n",
              "\n",
              "    .dataframe tbody tr th {\n",
              "        vertical-align: top;\n",
              "    }\n",
              "\n",
              "    .dataframe thead th {\n",
              "        text-align: right;\n",
              "    }\n",
              "</style>\n",
              "<table border=\"1\" class=\"dataframe\">\n",
              "  <thead>\n",
              "    <tr style=\"text-align: right;\">\n",
              "      <th></th>\n",
              "      <th>Air Tmp (C) M 60 Min</th>\n",
              "      <th>Precip 1Hr (mm) M</th>\n",
              "      <th>QNH (hPa) M</th>\n",
              "      <th>RH (%) M 60 Min</th>\n",
              "      <th>WS 60 Min (kt) M</th>\n",
              "      <th>classification</th>\n",
              "    </tr>\n",
              "    <tr>\n",
              "      <th>Date and Time</th>\n",
              "      <th></th>\n",
              "      <th></th>\n",
              "      <th></th>\n",
              "      <th></th>\n",
              "      <th></th>\n",
              "      <th></th>\n",
              "    </tr>\n",
              "  </thead>\n",
              "  <tbody>\n",
              "    <tr>\n",
              "      <th>1/12/2022 0:00</th>\n",
              "      <td>23.73</td>\n",
              "      <td>0.0</td>\n",
              "      <td>1009.01</td>\n",
              "      <td>100.0</td>\n",
              "      <td>2.0</td>\n",
              "      <td>tidak hujan</td>\n",
              "    </tr>\n",
              "    <tr>\n",
              "      <th>1/12/2022 1:00</th>\n",
              "      <td>26.51</td>\n",
              "      <td>0.0</td>\n",
              "      <td>1009.35</td>\n",
              "      <td>92.9</td>\n",
              "      <td>2.0</td>\n",
              "      <td>tidak hujan</td>\n",
              "    </tr>\n",
              "    <tr>\n",
              "      <th>1/12/2022 2:00</th>\n",
              "      <td>28.45</td>\n",
              "      <td>0.0</td>\n",
              "      <td>1009.47</td>\n",
              "      <td>81.8</td>\n",
              "      <td>2.0</td>\n",
              "      <td>tidak hujan</td>\n",
              "    </tr>\n",
              "    <tr>\n",
              "      <th>1/12/2022 3:00</th>\n",
              "      <td>29.59</td>\n",
              "      <td>0.0</td>\n",
              "      <td>1009.11</td>\n",
              "      <td>75.2</td>\n",
              "      <td>2.0</td>\n",
              "      <td>tidak hujan</td>\n",
              "    </tr>\n",
              "    <tr>\n",
              "      <th>1/12/2022 4:00</th>\n",
              "      <td>30.68</td>\n",
              "      <td>0.0</td>\n",
              "      <td>1008.14</td>\n",
              "      <td>69.8</td>\n",
              "      <td>4.0</td>\n",
              "      <td>tidak hujan</td>\n",
              "    </tr>\n",
              "  </tbody>\n",
              "</table>\n",
              "</div>"
            ],
            "text/plain": [
              "                Air Tmp (C) M 60 Min  Precip 1Hr (mm) M  QNH (hPa) M  \\\n",
              "Date and Time                                                          \n",
              "1/12/2022 0:00                 23.73                0.0      1009.01   \n",
              "1/12/2022 1:00                 26.51                0.0      1009.35   \n",
              "1/12/2022 2:00                 28.45                0.0      1009.47   \n",
              "1/12/2022 3:00                 29.59                0.0      1009.11   \n",
              "1/12/2022 4:00                 30.68                0.0      1008.14   \n",
              "\n",
              "                RH (%) M 60 Min  WS 60 Min (kt) M classification  \n",
              "Date and Time                                                     \n",
              "1/12/2022 0:00            100.0               2.0    tidak hujan  \n",
              "1/12/2022 1:00             92.9               2.0    tidak hujan  \n",
              "1/12/2022 2:00             81.8               2.0    tidak hujan  \n",
              "1/12/2022 3:00             75.2               2.0    tidak hujan  \n",
              "1/12/2022 4:00             69.8               4.0    tidak hujan  "
            ]
          },
          "execution_count": 55,
          "metadata": {},
          "output_type": "execute_result"
        }
      ],
      "source": [
        "conditions = [\n",
        "    (data_baru['Precip 1Hr (mm) M']==0),\n",
        "    (data_baru['Precip 1Hr (mm) M']>0) & (data_baru['Precip 1Hr (mm) M']<=5),\n",
        "    (data_baru['Precip 1Hr (mm) M']>=5) & (data_baru['Precip 1Hr (mm) M']<=20),\n",
        "    (data_baru['Precip 1Hr (mm) M']>=20) & (data_baru['Precip 1Hr (mm) M']<=50),\n",
        "    (data_baru['Precip 1Hr (mm) M']>=50) & (data_baru['Precip 1Hr (mm) M']<=100),\n",
        "    (data_baru['Precip 1Hr (mm) M']>=100)\n",
        "]\n",
        "\n",
        "values = ['tidak hujan', 'sangat ringan', 'ringan', 'sedang', 'lebat', 'sangat lebat']\n",
        "\n",
        "data_baru['classification'] = np.select(conditions, values)\n",
        "data_baru.head()"
      ]
    },
    {
      "cell_type": "code",
      "execution_count": 56,
      "metadata": {
        "colab": {
          "base_uri": "https://localhost:8080/"
        },
        "id": "_TODVjQUfmbP",
        "outputId": "a781dda2-9bec-4dec-ed19-5d798d0e7392"
      },
      "outputs": [
        {
          "data": {
            "text/plain": [
              "Air Tmp (C) M 60 Min    0\n",
              "Precip 1Hr (mm) M       0\n",
              "QNH (hPa) M             0\n",
              "RH (%) M 60 Min         0\n",
              "WS 60 Min (kt) M        0\n",
              "classification          0\n",
              "dtype: int64"
            ]
          },
          "execution_count": 56,
          "metadata": {},
          "output_type": "execute_result"
        }
      ],
      "source": [
        "data_baru.isnull().sum()"
      ]
    },
    {
      "cell_type": "code",
      "execution_count": 57,
      "metadata": {},
      "outputs": [],
      "source": [
        "# data_hilang = data_baru.isnull().sum()\n",
        "# data_hilang = pd.DataFrame(data_hilang)\n",
        "# writer = pd.ExcelWriter('data_hil.xlsx')\n",
        "# data_hilang.to_excel(writer)\n",
        "# writer.save()"
      ]
    },
    {
      "cell_type": "code",
      "execution_count": 58,
      "metadata": {
        "id": "_Dkh5pGvfmbP"
      },
      "outputs": [],
      "source": [
        "# data_baru = data_baru.dropna(how='any',axis=0) \n",
        "# data_baru.count()"
      ]
    },
    {
      "cell_type": "code",
      "execution_count": 59,
      "metadata": {
        "colab": {
          "base_uri": "https://localhost:8080/"
        },
        "id": "So2VhhNZfmbQ",
        "outputId": "a3e31f29-61c4-4837-a3f3-73e0f491c37f"
      },
      "outputs": [],
      "source": [
        "# data_baru.isnull().sum()"
      ]
    },
    {
      "cell_type": "code",
      "execution_count": 60,
      "metadata": {},
      "outputs": [],
      "source": [
        "# data_baru = data_baru.drop(data_baru.columns[[1,5]], axis=1)"
      ]
    },
    {
      "attachments": {},
      "cell_type": "markdown",
      "metadata": {},
      "source": [
        "#### Pesebaran data"
      ]
    },
    {
      "attachments": {},
      "cell_type": "markdown",
      "metadata": {},
      "source": [
        "dilihat dengan histogram"
      ]
    },
    {
      "cell_type": "code",
      "execution_count": 61,
      "metadata": {
        "colab": {
          "base_uri": "https://localhost:8080/",
          "height": 879
        },
        "id": "6jY2gi_nfmbl",
        "outputId": "800695d8-a6ab-444b-fa9b-01f2917ecb40"
      },
      "outputs": [
        {
          "data": {
            "image/png": "[encoded data removed]",
            "text/plain": [
              "<Figure size 700x2000 with 5 Axes>"
            ]
          },
          "metadata": {},
          "output_type": "display_data"
        }
      ],
      "source": [
        "import matplotlib.pyplot as plt\n",
        "\n",
        "data_baru.hist(bins=50, figsize=(7,20), layout=(5,1))\n",
        "plt.show()"
      ]
    },
    {
      "attachments": {},
      "cell_type": "markdown",
      "metadata": {},
      "source": [
        "#### Matriks korelasi"
      ]
    },
    {
      "cell_type": "code",
      "execution_count": 62,
      "metadata": {
        "colab": {
          "base_uri": "https://localhost:8080/",
          "height": 679
        },
        "id": "94FfX1DFfmbl",
        "outputId": "863a47d0-c224-486c-8120-d3b2e66988c0"
      },
      "outputs": [
        {
          "name": "stderr",
          "output_type": "stream",
          "text": [
            "C:\\Users\\auriw\\AppData\\Local\\Temp\\ipykernel_17604\\1150458498.py:2: FutureWarning:\n",
            "\n",
            "The default value of numeric_only in DataFrame.corr is deprecated. In a future version, it will default to False. Select only valid columns or specify the value of numeric_only to silence this warning.\n",
            "\n"
          ]
        },
        {
          "data": {
            "text/plain": [
              "<Axes: >"
            ]
          },
          "execution_count": 62,
          "metadata": {},
          "output_type": "execute_result"
        },
        {
          "data": {
            "image/png": "[encoded data removed]",
            "text/plain": [
              "<Figure size 500x500 with 2 Axes>"
            ]
          },
          "metadata": {},
          "output_type": "display_data"
        }
      ],
      "source": [
        "plt.figure(figsize=(5, 5))\n",
        "correlation_matrix = data_baru.corr().round(2)\n",
        "sns.heatmap(data=correlation_matrix, annot=True, cmap='coolwarm', linewidths=0.5, )"
      ]
    },
    {
      "cell_type": "code",
      "execution_count": 63,
      "metadata": {},
      "outputs": [
        {
          "name": "stderr",
          "output_type": "stream",
          "text": [
            "C:\\Users\\auriw\\AppData\\Local\\Temp\\ipykernel_17604\\2926031926.py:2: FutureWarning:\n",
            "\n",
            "The default value of numeric_only in DataFrame.corr is deprecated. In a future version, it will default to False. Select only valid columns or specify the value of numeric_only to silence this warning.\n",
            "\n"
          ]
        },
        {
          "data": {
            "text/plain": [
              "Precip 1Hr (mm) M       1.000000\n",
              "WS 60 Min (kt) M        0.121768\n",
              "RH (%) M 60 Min         0.117740\n",
              "QNH (hPa) M            -0.029182\n",
              "Air Tmp (C) M 60 Min   -0.112329\n",
              "Name: Precip 1Hr (mm) M, dtype: float64"
            ]
          },
          "execution_count": 63,
          "metadata": {},
          "output_type": "execute_result"
        }
      ],
      "source": [
        "# Get the correlation coefficients for \"rain_sum\" feature\n",
        "rain_corr = data_baru.corr()['Precip 1Hr (mm) M'].sort_values(ascending=False)\n",
        "rain_corr"
      ]
    },
    {
      "attachments": {},
      "cell_type": "markdown",
      "metadata": {},
      "source": [
        "### Data preparation"
      ]
    },
    {
      "attachments": {},
      "cell_type": "markdown",
      "metadata": {},
      "source": [
        "#### one-hot encoding"
      ]
    },
    {
      "attachments": {},
      "cell_type": "markdown",
      "metadata": {},
      "source": [
        "mengubah data kategori dengan one-hot encoding"
      ]
    },
    {
      "cell_type": "code",
      "execution_count": 64,
      "metadata": {},
      "outputs": [
        {
          "data": {
            "text/html": [
              "<div>\n",
              "<style scoped>\n",
              "    .dataframe tbody tr th:only-of-type {\n",
              "        vertical-align: middle;\n",
              "    }\n",
              "\n",
              "    .dataframe tbody tr th {\n",
              "        vertical-align: top;\n",
              "    }\n",
              "\n",
              "    .dataframe thead th {\n",
              "        text-align: right;\n",
              "    }\n",
              "</style>\n",
              "<table border=\"1\" class=\"dataframe\">\n",
              "  <thead>\n",
              "    <tr style=\"text-align: right;\">\n",
              "      <th></th>\n",
              "      <th>Air Tmp (C) M 60 Min</th>\n",
              "      <th>Precip 1Hr (mm) M</th>\n",
              "      <th>QNH (hPa) M</th>\n",
              "      <th>RH (%) M 60 Min</th>\n",
              "      <th>WS 60 Min (kt) M</th>\n",
              "      <th>classification_ringan</th>\n",
              "      <th>classification_sangat ringan</th>\n",
              "      <th>classification_sedang</th>\n",
              "      <th>classification_tidak hujan</th>\n",
              "    </tr>\n",
              "    <tr>\n",
              "      <th>Date and Time</th>\n",
              "      <th></th>\n",
              "      <th></th>\n",
              "      <th></th>\n",
              "      <th></th>\n",
              "      <th></th>\n",
              "      <th></th>\n",
              "      <th></th>\n",
              "      <th></th>\n",
              "      <th></th>\n",
              "    </tr>\n",
              "  </thead>\n",
              "  <tbody>\n",
              "    <tr>\n",
              "      <th>1/12/2022 0:00</th>\n",
              "      <td>23.73</td>\n",
              "      <td>0.0</td>\n",
              "      <td>1009.01</td>\n",
              "      <td>100.0</td>\n",
              "      <td>2.0</td>\n",
              "      <td>0</td>\n",
              "      <td>0</td>\n",
              "      <td>0</td>\n",
              "      <td>1</td>\n",
              "    </tr>\n",
              "    <tr>\n",
              "      <th>1/12/2022 1:00</th>\n",
              "      <td>26.51</td>\n",
              "      <td>0.0</td>\n",
              "      <td>1009.35</td>\n",
              "      <td>92.9</td>\n",
              "      <td>2.0</td>\n",
              "      <td>0</td>\n",
              "      <td>0</td>\n",
              "      <td>0</td>\n",
              "      <td>1</td>\n",
              "    </tr>\n",
              "    <tr>\n",
              "      <th>1/12/2022 2:00</th>\n",
              "      <td>28.45</td>\n",
              "      <td>0.0</td>\n",
              "      <td>1009.47</td>\n",
              "      <td>81.8</td>\n",
              "      <td>2.0</td>\n",
              "      <td>0</td>\n",
              "      <td>0</td>\n",
              "      <td>0</td>\n",
              "      <td>1</td>\n",
              "    </tr>\n",
              "    <tr>\n",
              "      <th>1/12/2022 3:00</th>\n",
              "      <td>29.59</td>\n",
              "      <td>0.0</td>\n",
              "      <td>1009.11</td>\n",
              "      <td>75.2</td>\n",
              "      <td>2.0</td>\n",
              "      <td>0</td>\n",
              "      <td>0</td>\n",
              "      <td>0</td>\n",
              "      <td>1</td>\n",
              "    </tr>\n",
              "    <tr>\n",
              "      <th>1/12/2022 4:00</th>\n",
              "      <td>30.68</td>\n",
              "      <td>0.0</td>\n",
              "      <td>1008.14</td>\n",
              "      <td>69.8</td>\n",
              "      <td>4.0</td>\n",
              "      <td>0</td>\n",
              "      <td>0</td>\n",
              "      <td>0</td>\n",
              "      <td>1</td>\n",
              "    </tr>\n",
              "    <tr>\n",
              "      <th>...</th>\n",
              "      <td>...</td>\n",
              "      <td>...</td>\n",
              "      <td>...</td>\n",
              "      <td>...</td>\n",
              "      <td>...</td>\n",
              "      <td>...</td>\n",
              "      <td>...</td>\n",
              "      <td>...</td>\n",
              "      <td>...</td>\n",
              "    </tr>\n",
              "    <tr>\n",
              "      <th>23/02/2023 19:00:00</th>\n",
              "      <td>25.00</td>\n",
              "      <td>0.0</td>\n",
              "      <td>1008.60</td>\n",
              "      <td>90.0</td>\n",
              "      <td>2.0</td>\n",
              "      <td>0</td>\n",
              "      <td>0</td>\n",
              "      <td>0</td>\n",
              "      <td>1</td>\n",
              "    </tr>\n",
              "    <tr>\n",
              "      <th>23/02/2023 20:00:00</th>\n",
              "      <td>24.70</td>\n",
              "      <td>0.0</td>\n",
              "      <td>1008.37</td>\n",
              "      <td>92.2</td>\n",
              "      <td>2.0</td>\n",
              "      <td>0</td>\n",
              "      <td>0</td>\n",
              "      <td>0</td>\n",
              "      <td>1</td>\n",
              "    </tr>\n",
              "    <tr>\n",
              "      <th>23/02/2023 21:00:00</th>\n",
              "      <td>24.31</td>\n",
              "      <td>0.0</td>\n",
              "      <td>1008.40</td>\n",
              "      <td>92.9</td>\n",
              "      <td>2.0</td>\n",
              "      <td>0</td>\n",
              "      <td>0</td>\n",
              "      <td>0</td>\n",
              "      <td>1</td>\n",
              "    </tr>\n",
              "    <tr>\n",
              "      <th>23/02/2023 22:00:00</th>\n",
              "      <td>24.43</td>\n",
              "      <td>0.0</td>\n",
              "      <td>1008.74</td>\n",
              "      <td>92.0</td>\n",
              "      <td>4.0</td>\n",
              "      <td>0</td>\n",
              "      <td>0</td>\n",
              "      <td>0</td>\n",
              "      <td>1</td>\n",
              "    </tr>\n",
              "    <tr>\n",
              "      <th>23/02/2023 23:00:00</th>\n",
              "      <td>24.16</td>\n",
              "      <td>0.0</td>\n",
              "      <td>1009.32</td>\n",
              "      <td>92.5</td>\n",
              "      <td>3.0</td>\n",
              "      <td>0</td>\n",
              "      <td>0</td>\n",
              "      <td>0</td>\n",
              "      <td>1</td>\n",
              "    </tr>\n",
              "  </tbody>\n",
              "</table>\n",
              "<p>2040 rows × 9 columns</p>\n",
              "</div>"
            ],
            "text/plain": [
              "                     Air Tmp (C) M 60 Min  Precip 1Hr (mm) M  QNH (hPa) M  \\\n",
              "Date and Time                                                               \n",
              "1/12/2022 0:00                      23.73                0.0      1009.01   \n",
              "1/12/2022 1:00                      26.51                0.0      1009.35   \n",
              "1/12/2022 2:00                      28.45                0.0      1009.47   \n",
              "1/12/2022 3:00                      29.59                0.0      1009.11   \n",
              "1/12/2022 4:00                      30.68                0.0      1008.14   \n",
              "...                                   ...                ...          ...   \n",
              "23/02/2023 19:00:00                 25.00                0.0      1008.60   \n",
              "23/02/2023 20:00:00                 24.70                0.0      1008.37   \n",
              "23/02/2023 21:00:00                 24.31                0.0      1008.40   \n",
              "23/02/2023 22:00:00                 24.43                0.0      1008.74   \n",
              "23/02/2023 23:00:00                 24.16                0.0      1009.32   \n",
              "\n",
              "                     RH (%) M 60 Min  WS 60 Min (kt) M  classification_ringan  \\\n",
              "Date and Time                                                                   \n",
              "1/12/2022 0:00                 100.0               2.0                      0   \n",
              "1/12/2022 1:00                  92.9               2.0                      0   \n",
              "1/12/2022 2:00                  81.8               2.0                      0   \n",
              "1/12/2022 3:00                  75.2               2.0                      0   \n",
              "1/12/2022 4:00                  69.8               4.0                      0   \n",
              "...                              ...               ...                    ...   \n",
              "23/02/2023 19:00:00             90.0               2.0                      0   \n",
              "23/02/2023 20:00:00             92.2               2.0                      0   \n",
              "23/02/2023 21:00:00             92.9               2.0                      0   \n",
              "23/02/2023 22:00:00             92.0               4.0                      0   \n",
              "23/02/2023 23:00:00             92.5               3.0                      0   \n",
              "\n",
              "                     classification_sangat ringan  classification_sedang  \\\n",
              "Date and Time                                                              \n",
              "1/12/2022 0:00                                  0                      0   \n",
              "1/12/2022 1:00                                  0                      0   \n",
              "1/12/2022 2:00                                  0                      0   \n",
              "1/12/2022 3:00                                  0                      0   \n",
              "1/12/2022 4:00                                  0                      0   \n",
              "...                                           ...                    ...   \n",
              "23/02/2023 19:00:00                             0                      0   \n",
              "23/02/2023 20:00:00                             0                      0   \n",
              "23/02/2023 21:00:00                             0                      0   \n",
              "23/02/2023 22:00:00                             0                      0   \n",
              "23/02/2023 23:00:00                             0                      0   \n",
              "\n",
              "                     classification_tidak hujan  \n",
              "Date and Time                                    \n",
              "1/12/2022 0:00                                1  \n",
              "1/12/2022 1:00                                1  \n",
              "1/12/2022 2:00                                1  \n",
              "1/12/2022 3:00                                1  \n",
              "1/12/2022 4:00                                1  \n",
              "...                                         ...  \n",
              "23/02/2023 19:00:00                           1  \n",
              "23/02/2023 20:00:00                           1  \n",
              "23/02/2023 21:00:00                           1  \n",
              "23/02/2023 22:00:00                           1  \n",
              "23/02/2023 23:00:00                           1  \n",
              "\n",
              "[2040 rows x 9 columns]"
            ]
          },
          "execution_count": 64,
          "metadata": {},
          "output_type": "execute_result"
        }
      ],
      "source": [
        "data_baru = pd.get_dummies(data_baru)\n",
        "data_baru"
      ]
    },
    {
      "cell_type": "code",
      "execution_count": 65,
      "metadata": {
        "colab": {
          "base_uri": "https://localhost:8080/"
        },
        "id": "PZtR_zlLfmbR",
        "outputId": "8e9eaaa0-16da-4fd5-cce6-04f57c1e845a"
      },
      "outputs": [
        {
          "name": "stdout",
          "output_type": "stream",
          "text": [
            "<class 'pandas.core.frame.DataFrame'>\n",
            "Index: 2040 entries, 1/12/2022 0:00 to 23/02/2023 23:00:00\n",
            "Data columns (total 9 columns):\n",
            " #   Column                        Non-Null Count  Dtype  \n",
            "---  ------                        --------------  -----  \n",
            " 0   Air Tmp (C) M 60 Min          2040 non-null   float64\n",
            " 1   Precip 1Hr (mm) M             2040 non-null   float64\n",
            " 2   QNH (hPa) M                   2040 non-null   float64\n",
            " 3   RH (%) M 60 Min               2040 non-null   float64\n",
            " 4   WS 60 Min (kt) M              2040 non-null   float64\n",
            " 5   classification_ringan         2040 non-null   uint8  \n",
            " 6   classification_sangat ringan  2040 non-null   uint8  \n",
            " 7   classification_sedang         2040 non-null   uint8  \n",
            " 8   classification_tidak hujan    2040 non-null   uint8  \n",
            "dtypes: float64(5), uint8(4)\n",
            "memory usage: 103.6+ KB\n"
          ]
        }
      ],
      "source": [
        "data_baru.info()"
      ]
    },
    {
      "attachments": {},
      "cell_type": "markdown",
      "metadata": {},
      "source": [
        "Membagi data train dataset"
      ]
    },
    {
      "cell_type": "code",
      "execution_count": 66,
      "metadata": {},
      "outputs": [
        {
          "name": "stdout",
          "output_type": "stream",
          "text": [
            "<class 'pandas.core.frame.DataFrame'>\n",
            "Index: 2040 entries, 1/12/2022 0:00 to 23/02/2023 23:00:00\n",
            "Data columns (total 9 columns):\n",
            " #   Column                        Non-Null Count  Dtype  \n",
            "---  ------                        --------------  -----  \n",
            " 0   Air Tmp (C) M 60 Min          2040 non-null   float64\n",
            " 1   Precip 1Hr (mm) M             2040 non-null   float64\n",
            " 2   QNH (hPa) M                   2040 non-null   float64\n",
            " 3   RH (%) M 60 Min               2040 non-null   float64\n",
            " 4   WS 60 Min (kt) M              2040 non-null   float64\n",
            " 5   classification_ringan         2040 non-null   uint8  \n",
            " 6   classification_sangat ringan  2040 non-null   uint8  \n",
            " 7   classification_sedang         2040 non-null   uint8  \n",
            " 8   classification_tidak hujan    2040 non-null   uint8  \n",
            "dtypes: float64(5), uint8(4)\n",
            "memory usage: 103.6+ KB\n"
          ]
        }
      ],
      "source": [
        "data_baru.info()"
      ]
    },
    {
      "attachments": {},
      "cell_type": "markdown",
      "metadata": {},
      "source": [
        "pertama untuk data fitur hapus kolom precip, dan klasifikasi"
      ]
    },
    {
      "cell_type": "code",
      "execution_count": 67,
      "metadata": {
        "id": "65gEWIZNfmbm"
      },
      "outputs": [],
      "source": [
        "from sklearn import preprocessing\n",
        "\n",
        "df_new = data_baru\n",
        "X = df_new.drop(df_new.columns[[1,5,6,7,8]], axis=1)"
      ]
    },
    {
      "cell_type": "code",
      "execution_count": 68,
      "metadata": {
        "id": "bvR4gXUcfmbm"
      },
      "outputs": [],
      "source": [
        "y = df_new[['classification_ringan','classification_sangat ringan', 'classification_sedang', 'classification_tidak hujan']]"
      ]
    },
    {
      "cell_type": "code",
      "execution_count": 224,
      "metadata": {
        "id": "ivGHhj7hfmbn"
      },
      "outputs": [],
      "source": [
        "from sklearn.model_selection import train_test_split\n",
        "#40 best random state\n",
        "#32 better random state\n",
        "X_train, X_test, y_train, y_test = train_test_split(X, y, train_size = 0.80, test_size = 0.20, random_state=10)"
      ]
    },
    {
      "cell_type": "code",
      "execution_count": 225,
      "metadata": {},
      "outputs": [],
      "source": [
        "# data_split = {\n",
        "#     'Data latih': X_train.count(),\n",
        "#     'Data uji': X_test.count(),\n",
        "#     }\n",
        "# split = pd.DataFrame(data_split)\n",
        "# writer = pd.ExcelWriter('data/data_split.xlsx')\n",
        "# split.to_excel(writer)\n",
        "# writer.save()"
      ]
    },
    {
      "cell_type": "code",
      "execution_count": 226,
      "metadata": {},
      "outputs": [],
      "source": [
        "# data_split_target = {\n",
        "#     'Data latih': y_train.count(),\n",
        "#     'Data uji': y_test.count(),\n",
        "#     }\n",
        "# split = pd.DataFrame(data_split_target)\n",
        "# writer = pd.ExcelWriter('data/data_split_target.xlsx')\n",
        "# split.to_excel(writer)\n",
        "# writer.save()"
      ]
    },
    {
      "cell_type": "code",
      "execution_count": 227,
      "metadata": {},
      "outputs": [
        {
          "data": {
            "text/html": [
              "<div>\n",
              "<style scoped>\n",
              "    .dataframe tbody tr th:only-of-type {\n",
              "        vertical-align: middle;\n",
              "    }\n",
              "\n",
              "    .dataframe tbody tr th {\n",
              "        vertical-align: top;\n",
              "    }\n",
              "\n",
              "    .dataframe thead th {\n",
              "        text-align: right;\n",
              "    }\n",
              "</style>\n",
              "<table border=\"1\" class=\"dataframe\">\n",
              "  <thead>\n",
              "    <tr style=\"text-align: right;\">\n",
              "      <th></th>\n",
              "      <th>classification_ringan</th>\n",
              "      <th>classification_sangat ringan</th>\n",
              "      <th>classification_sedang</th>\n",
              "      <th>classification_tidak hujan</th>\n",
              "    </tr>\n",
              "    <tr>\n",
              "      <th>Date and Time</th>\n",
              "      <th></th>\n",
              "      <th></th>\n",
              "      <th></th>\n",
              "      <th></th>\n",
              "    </tr>\n",
              "  </thead>\n",
              "  <tbody>\n",
              "    <tr>\n",
              "      <th>29/12/2022 21:00:00</th>\n",
              "      <td>0</td>\n",
              "      <td>0</td>\n",
              "      <td>0</td>\n",
              "      <td>1</td>\n",
              "    </tr>\n",
              "    <tr>\n",
              "      <th>16/02/2023 08:00:00</th>\n",
              "      <td>0</td>\n",
              "      <td>0</td>\n",
              "      <td>0</td>\n",
              "      <td>1</td>\n",
              "    </tr>\n",
              "    <tr>\n",
              "      <th>21/12/2022 11:00:00</th>\n",
              "      <td>0</td>\n",
              "      <td>0</td>\n",
              "      <td>0</td>\n",
              "      <td>1</td>\n",
              "    </tr>\n",
              "    <tr>\n",
              "      <th>12/2/2023 16:00</th>\n",
              "      <td>0</td>\n",
              "      <td>1</td>\n",
              "      <td>0</td>\n",
              "      <td>0</td>\n",
              "    </tr>\n",
              "    <tr>\n",
              "      <th>28/01/2023 10:00:00</th>\n",
              "      <td>0</td>\n",
              "      <td>0</td>\n",
              "      <td>0</td>\n",
              "      <td>1</td>\n",
              "    </tr>\n",
              "    <tr>\n",
              "      <th>...</th>\n",
              "      <td>...</td>\n",
              "      <td>...</td>\n",
              "      <td>...</td>\n",
              "      <td>...</td>\n",
              "    </tr>\n",
              "    <tr>\n",
              "      <th>26/01/2023 00:00:00</th>\n",
              "      <td>0</td>\n",
              "      <td>0</td>\n",
              "      <td>0</td>\n",
              "      <td>1</td>\n",
              "    </tr>\n",
              "    <tr>\n",
              "      <th>22/12/2022 23:00:00</th>\n",
              "      <td>0</td>\n",
              "      <td>0</td>\n",
              "      <td>1</td>\n",
              "      <td>0</td>\n",
              "    </tr>\n",
              "    <tr>\n",
              "      <th>23/02/2023 04:00:00</th>\n",
              "      <td>0</td>\n",
              "      <td>0</td>\n",
              "      <td>0</td>\n",
              "      <td>1</td>\n",
              "    </tr>\n",
              "    <tr>\n",
              "      <th>17/01/2023 21:00:00</th>\n",
              "      <td>0</td>\n",
              "      <td>0</td>\n",
              "      <td>0</td>\n",
              "      <td>1</td>\n",
              "    </tr>\n",
              "    <tr>\n",
              "      <th>23/01/2023 17:00:00</th>\n",
              "      <td>0</td>\n",
              "      <td>0</td>\n",
              "      <td>0</td>\n",
              "      <td>1</td>\n",
              "    </tr>\n",
              "  </tbody>\n",
              "</table>\n",
              "<p>1632 rows × 4 columns</p>\n",
              "</div>"
            ],
            "text/plain": [
              "                     classification_ringan  classification_sangat ringan  \\\n",
              "Date and Time                                                              \n",
              "29/12/2022 21:00:00                      0                             0   \n",
              "16/02/2023 08:00:00                      0                             0   \n",
              "21/12/2022 11:00:00                      0                             0   \n",
              "12/2/2023 16:00                          0                             1   \n",
              "28/01/2023 10:00:00                      0                             0   \n",
              "...                                    ...                           ...   \n",
              "26/01/2023 00:00:00                      0                             0   \n",
              "22/12/2022 23:00:00                      0                             0   \n",
              "23/02/2023 04:00:00                      0                             0   \n",
              "17/01/2023 21:00:00                      0                             0   \n",
              "23/01/2023 17:00:00                      0                             0   \n",
              "\n",
              "                     classification_sedang  classification_tidak hujan  \n",
              "Date and Time                                                           \n",
              "29/12/2022 21:00:00                      0                           1  \n",
              "16/02/2023 08:00:00                      0                           1  \n",
              "21/12/2022 11:00:00                      0                           1  \n",
              "12/2/2023 16:00                          0                           0  \n",
              "28/01/2023 10:00:00                      0                           1  \n",
              "...                                    ...                         ...  \n",
              "26/01/2023 00:00:00                      0                           1  \n",
              "22/12/2022 23:00:00                      1                           0  \n",
              "23/02/2023 04:00:00                      0                           1  \n",
              "17/01/2023 21:00:00                      0                           1  \n",
              "23/01/2023 17:00:00                      0                           1  \n",
              "\n",
              "[1632 rows x 4 columns]"
            ]
          },
          "execution_count": 227,
          "metadata": {},
          "output_type": "execute_result"
        }
      ],
      "source": [
        "pd.DataFrame(y_train)"
      ]
    },
    {
      "attachments": {},
      "cell_type": "markdown",
      "metadata": {},
      "source": [
        "## Model Development"
      ]
    },
    {
      "cell_type": "code",
      "execution_count": 228,
      "metadata": {},
      "outputs": [],
      "source": [
        "from sklearn.model_selection import RandomizedSearchCV, GridSearchCV\n",
        "from xgboost import XGBClassifier\n",
        "from sklearn.metrics import  classification_report\n",
        "from sklearn.metrics import confusion_matrix\n",
        "from sklearn.metrics import accuracy_score, precision_score, recall_score, f1_score, roc_auc_score, auc, roc_curve\n",
        "import plotly.express as px\n",
        "import plotly.graph_objs as go\n"
      ]
    },
    {
      "attachments": {},
      "cell_type": "markdown",
      "metadata": {},
      "source": [
        "##### Tampa tuning"
      ]
    },
    {
      "cell_type": "code",
      "execution_count": 229,
      "metadata": {},
      "outputs": [],
      "source": [
        "xgb = XGBClassifier(\n",
        "    max_depth=6, \n",
        "    n_estimators=100, \n",
        "    learning_rate=0.3, )\n",
        "xgb.fit(X_train, y_train)\n",
        "\n",
        "pred_no_tuning = xgb.predict(X_test)"
      ]
    },
    {
      "cell_type": "code",
      "execution_count": 230,
      "metadata": {},
      "outputs": [
        {
          "name": "stdout",
          "output_type": "stream",
          "text": [
            "              precision    recall  f1-score   support\n",
            "\n",
            "           0       1.00      0.25      0.40         4\n",
            "           1       0.57      0.32      0.41        41\n",
            "           2       0.00      0.00      0.00         1\n",
            "           3       0.91      0.96      0.94       362\n",
            "\n",
            "   micro avg       0.89      0.89      0.89       408\n",
            "   macro avg       0.62      0.38      0.44       408\n",
            "weighted avg       0.88      0.89      0.88       408\n",
            " samples avg       0.88      0.89      0.88       408\n",
            "\n"
          ]
        },
        {
          "name": "stderr",
          "output_type": "stream",
          "text": [
            "c:\\Users\\auriw\\AppData\\Local\\Programs\\Python\\Python311\\Lib\\site-packages\\sklearn\\metrics\\_classification.py:1344: UndefinedMetricWarning:\n",
            "\n",
            "Precision and F-score are ill-defined and being set to 0.0 in labels with no predicted samples. Use `zero_division` parameter to control this behavior.\n",
            "\n",
            "c:\\Users\\auriw\\AppData\\Local\\Programs\\Python\\Python311\\Lib\\site-packages\\sklearn\\metrics\\_classification.py:1344: UndefinedMetricWarning:\n",
            "\n",
            "Precision and F-score are ill-defined and being set to 0.0 in samples with no predicted labels. Use `zero_division` parameter to control this behavior.\n",
            "\n"
          ]
        }
      ],
      "source": [
        "print(classification_report(y_test,pred_no_tuning))"
      ]
    },
    {
      "cell_type": "code",
      "execution_count": 231,
      "metadata": {},
      "outputs": [
        {
          "name": "stdout",
          "output_type": "stream",
          "text": [
            "[[  2   0   0   2]\n",
            " [  1  13   0  27]\n",
            " [  0   0   0   1]\n",
            " [  6  10   0 346]]\n"
          ]
        },
        {
          "data": {
            "text/plain": [
              "<Axes: >"
            ]
          },
          "execution_count": 231,
          "metadata": {},
          "output_type": "execute_result"
        },
        {
          "data": {
            "image/png": "[encoded data removed]",
            "text/plain": [
              "<Figure size 640x480 with 2 Axes>"
            ]
          },
          "metadata": {},
          "output_type": "display_data"
        }
      ],
      "source": [
        "cm = confusion_matrix(\n",
        "    y_test.values.argmax(axis=1), pred_no_tuning.argmax(axis=1))\n",
        "print(cm)\n",
        "sns.heatmap(cm, annot=True)"
      ]
    },
    {
      "cell_type": "code",
      "execution_count": 232,
      "metadata": {},
      "outputs": [
        {
          "name": "stdout",
          "output_type": "stream",
          "text": [
            "Accuracy: 0.88\n",
            "Precision: 0.89\n",
            "Recall: 0.89\n",
            "F1-score: 0.89\n"
          ]
        }
      ],
      "source": [
        "# calculate the accuracy, precision, recall, and F1-score of the model\n",
        "accuracy = accuracy_score(y_test, pred_no_tuning)\n",
        "precision = precision_score(y_test, pred_no_tuning, average='micro')\n",
        "recall = recall_score(y_test, pred_no_tuning, average='micro')\n",
        "f1 = f1_score(y_test, pred_no_tuning, average='micro')\n",
        "\n",
        "# tn, fp, fn, tp = confusion_matrix(y_test.values.argmax(axis=1), pred_no_tuning.argmax(axis=1)).ravel()\n",
        "\n",
        "# # Menghitung specificity score\n",
        "# accuracy = (tp + tn) / (tp + fp+ tn + fn)\n",
        "# precision = tp / (tp + fp)\n",
        "# recall = tp / (tp + fn)\n",
        "# f1 = 2*((precision*recall)/(precision+recall))\n",
        "# specificity = tn / (tn + fp)\n",
        "\n",
        "# calculate the ROC-AUC score of the model\n",
        "# roc_auc = roc_auc_score(y_test, pred_no_tuning)\n",
        "\n",
        "# print the evaluation metrics\n",
        "print(f\"Accuracy: {accuracy:.2f}\")\n",
        "print(f\"Precision: {precision:.2f}\")\n",
        "print(f\"Recall: {recall:.2f}\")\n",
        "print(f\"F1-score: {f1:.2f}\")\n",
        "# print(f\"Sensitivity score: {specificity:.2f}\")\n",
        "# print(f\"ROC-AUC score: {roc_auc:.2f}\")"
      ]
    },
    {
      "attachments": {},
      "cell_type": "markdown",
      "metadata": {},
      "source": [
        "##### Dengan Tuning"
      ]
    },
    {
      "attachments": {},
      "cell_type": "markdown",
      "metadata": {},
      "source": [
        "mendefenisikan hyperparameter"
      ]
    },
    {
      "cell_type": "code",
      "execution_count": 233,
      "metadata": {
        "id": "xlB813wYfmbo"
      },
      "outputs": [
        {
          "data": {
            "text/plain": [
              "{'n_estimators': [100],\n",
              " 'max_depth': [6],\n",
              " 'learning_rate': <scipy.stats._distn_infrastructure.rv_continuous_frozen at 0x20b9f63b850>}"
            ]
          },
          "execution_count": 233,
          "metadata": {},
          "output_type": "execute_result"
        }
      ],
      "source": [
        "from scipy.stats import uniform, randint\n",
        "import numpy as np\n",
        "params = {\n",
        "    'n_estimators': [100],\n",
        "    'max_depth': [6],\n",
        "    'learning_rate': uniform(0.01, 1)\n",
        "}\n",
        "params"
      ]
    },
    {
      "attachments": {},
      "cell_type": "markdown",
      "metadata": {},
      "source": [
        "Tuning dengan RSCV"
      ]
    },
    {
      "cell_type": "code",
      "execution_count": 234,
      "metadata": {
        "colab": {
          "base_uri": "https://localhost:8080/"
        },
        "collapsed": true,
        "id": "0o3L_TPIfmbo",
        "outputId": "f6a6436e-1c12-4b31-b372-62bb93211216"
      },
      "outputs": [
        {
          "name": "stdout",
          "output_type": "stream",
          "text": [
            "Best hyperparameters:  {'learning_rate': 0.0346919725569138, 'max_depth': 6, 'n_estimators': 100}\n",
            "Accuracy 0.8982754750860391\n"
          ]
        }
      ],
      "source": [
        "# Define the XGBoost model\n",
        "xgb_model = XGBClassifier()\n",
        "# Perform random search\n",
        "search = RandomizedSearchCV(\n",
        "    xgb_model, param_distributions=params, \n",
        "    n_iter=50, \n",
        "    cv=10,\n",
        "    scoring='accuracy', \n",
        "    n_jobs=-1,\n",
        "    )\n",
        "search.fit(X_train, y_train)\n",
        "print(\"Best hyperparameters: \", search.best_params_)\n",
        "print(\"Accuracy\", search.best_score_)"
      ]
    },
    {
      "cell_type": "code",
      "execution_count": 235,
      "metadata": {},
      "outputs": [
        {
          "name": "stdout",
          "output_type": "stream",
          "text": [
            "Best hyperparameters:  {'learning_rate': 0.024691972556913803, 'max_depth': 6, 'n_estimators': 100}\n",
            "Accuracy 0.9007257219811462\n"
          ]
        }
      ],
      "source": [
        "#fine search\n",
        "best_params = search.best_params_\n",
        "param_dist = {\n",
        "    'n_estimators': [100],\n",
        "    'max_depth': [6],\n",
        "    'learning_rate': np.logspace(np.log10(best_params['learning_rate']-0.01), np.log10(best_params['learning_rate']+0.1), 50),\n",
        "}\n",
        "\n",
        "fine_search = GridSearchCV(\n",
        "    xgb_model, param_grid=param_dist, \n",
        "    cv=10, \n",
        "    scoring='accuracy', \n",
        "    n_jobs=-1,\n",
        "    )\n",
        "fine_search.fit(X_train, y_train)\n",
        "\n",
        "\n",
        "print(\"Best hyperparameters: \", fine_search.best_params_)\n",
        "print(\"Accuracy\", fine_search.best_score_)"
      ]
    },
    {
      "attachments": {},
      "cell_type": "markdown",
      "metadata": {},
      "source": [
        "Hasil tuning"
      ]
    },
    {
      "attachments": {},
      "cell_type": "markdown",
      "metadata": {},
      "source": [
        "### Model Evaluation"
      ]
    },
    {
      "attachments": {},
      "cell_type": "markdown",
      "metadata": {},
      "source": [
        "#### confussion matrix"
      ]
    },
    {
      "cell_type": "code",
      "execution_count": 236,
      "metadata": {},
      "outputs": [],
      "source": [
        "# Train and evaluate the model with best hyperparameters on the validation set\n",
        "y_pred = fine_search.best_estimator_.predict(X_test)"
      ]
    },
    {
      "cell_type": "code",
      "execution_count": 237,
      "metadata": {},
      "outputs": [
        {
          "name": "stdout",
          "output_type": "stream",
          "text": [
            "              precision    recall  f1-score   support\n",
            "\n",
            "           0       1.00      0.25      0.40         4\n",
            "           1       1.00      0.12      0.22        41\n",
            "           2       0.00      0.00      0.00         1\n",
            "           3       0.91      0.99      0.95       362\n",
            "\n",
            "   micro avg       0.91      0.89      0.90       408\n",
            "   macro avg       0.73      0.34      0.39       408\n",
            "weighted avg       0.92      0.89      0.86       408\n",
            " samples avg       0.89      0.89      0.89       408\n",
            "\n"
          ]
        },
        {
          "name": "stderr",
          "output_type": "stream",
          "text": [
            "c:\\Users\\auriw\\AppData\\Local\\Programs\\Python\\Python311\\Lib\\site-packages\\sklearn\\metrics\\_classification.py:1344: UndefinedMetricWarning:\n",
            "\n",
            "Precision and F-score are ill-defined and being set to 0.0 in labels with no predicted samples. Use `zero_division` parameter to control this behavior.\n",
            "\n",
            "c:\\Users\\auriw\\AppData\\Local\\Programs\\Python\\Python311\\Lib\\site-packages\\sklearn\\metrics\\_classification.py:1344: UndefinedMetricWarning:\n",
            "\n",
            "Precision and F-score are ill-defined and being set to 0.0 in samples with no predicted labels. Use `zero_division` parameter to control this behavior.\n",
            "\n"
          ]
        }
      ],
      "source": [
        "print(classification_report(y_test,y_pred))"
      ]
    },
    {
      "cell_type": "code",
      "execution_count": 238,
      "metadata": {},
      "outputs": [
        {
          "name": "stdout",
          "output_type": "stream",
          "text": [
            "[[  3   0   0   1]\n",
            " [  2   5   0  34]\n",
            " [  1   0   0   0]\n",
            " [  5   0   0 357]]\n"
          ]
        },
        {
          "data": {
            "text/plain": [
              "<Axes: >"
            ]
          },
          "execution_count": 238,
          "metadata": {},
          "output_type": "execute_result"
        },
        {
          "data": {
            "image/png": "[encoded data removed]",
            "text/plain": [
              "<Figure size 640x480 with 2 Axes>"
            ]
          },
          "metadata": {},
          "output_type": "display_data"
        }
      ],
      "source": [
        "cm = confusion_matrix(\n",
        "    y_test.values.argmax(axis=1), y_pred.argmax(axis=1))\n",
        "print(cm)\n",
        "sns.heatmap(cm, annot=True)"
      ]
    },
    {
      "cell_type": "code",
      "execution_count": 239,
      "metadata": {
        "colab": {
          "base_uri": "https://localhost:8080/"
        },
        "id": "MNdxb-kqfmbp",
        "outputId": "334cadc8-e020-448f-86ff-fc147915f6ab"
      },
      "outputs": [
        {
          "name": "stdout",
          "output_type": "stream",
          "text": [
            "Accuracy: 0.89\n",
            "Precision: 0.91\n",
            "Recall: 0.89\n",
            "F1-score: 0.90\n"
          ]
        }
      ],
      "source": [
        "# calculate the accuracy, precision, recall, and F1-score of the model\n",
        "accuracy = accuracy_score(y_test, y_pred)\n",
        "precision = precision_score(y_test, y_pred, average='micro')\n",
        "recall = recall_score(y_test, y_pred, average='micro')\n",
        "f1 = f1_score(y_test, y_pred, average='micro')\n",
        "# Menghitung confusion matrix\n",
        "# tn, fp, fn, tp = confusion_matrix(y_test.values.argmax(axis=1), y_pred.argmax(axis=1)).ravel()\n",
        "\n",
        "# Menghitung specificity score\n",
        "# accuracy = (tp + tn) / (tp + fp+ tn + fn)\n",
        "# precision = tp / (tp + fp)\n",
        "# recall = tp / (tp + fn)\n",
        "# f1 = 2*((precision*recall)/(precision+recall))\n",
        "# specificity = tn / (tn + fp)\n",
        "\n",
        "\n",
        "# calculate the ROC-AUC score of the model\n",
        "# roc_auc = roc_auc_score(y_test, y_pred)\n",
        "\n",
        "# print the evaluation metrics\n",
        "print(f\"Accuracy: {accuracy:.2f}\")\n",
        "print(f\"Precision: {precision:.2f}\")\n",
        "print(f\"Recall: {recall:.2f}\")\n",
        "print(f\"F1-score: {f1:.2f}\")\n",
        "# print(f\"Specificity-score: {specificity:.2f}\")\n",
        "# print(f\"ROC-AUC score: {roc_auc:.2f}\")"
      ]
    },
    {
      "cell_type": "code",
      "execution_count": 240,
      "metadata": {},
      "outputs": [],
      "source": [
        "# data_baru['kategori'] = data_baru.apply(lambda x: 'rain' if x['klasifikasi_rain'] == 1 else ('no rain'), axis=1)\n",
        "# data_baru"
      ]
    },
    {
      "attachments": {},
      "cell_type": "markdown",
      "metadata": {},
      "source": [
        "Kurva ROC AUC"
      ]
    },
    {
      "cell_type": "code",
      "execution_count": 241,
      "metadata": {},
      "outputs": [],
      "source": [
        "# fpr, tpr, thresholds = roc_curve( y_test.values.argmax(axis=1), y_pred.argmax(axis=1))\n",
        "# roc_auc = auc(fpr, tpr)\n",
        "\n",
        "# plt.plot(fpr, tpr, color='darkorange', lw=2, label='ROC curve (area = %0.2f)' % roc_auc)\n",
        "# plt.plot([0, 1], [0, 1], color='navy', lw=2, linestyle='--')\n",
        "# plt.xlim([0.0, 1.0])\n",
        "# plt.ylim([0.0, 1.05])\n",
        "# plt.xlabel('False Positive Rate')\n",
        "# plt.ylabel('True Positive Rate')\n",
        "# plt.title('Receiver Operating Characteristic')\n",
        "# plt.legend(loc=\"lower right\")\n",
        "# plt.show()"
      ]
    },
    {
      "cell_type": "code",
      "execution_count": 242,
      "metadata": {},
      "outputs": [],
      "source": [
        "# fpr, tpr, thresholds = roc_curve(y_test.values.argmax(axis=1), y_pred.argmax(axis=1))\n",
        "# roc_auc = auc(fpr, tpr)\n",
        "\n",
        "# data = np.column_stack((fpr, tpr))\n",
        "\n",
        "# fig = px.line(x=data[:,0], y=data[:,1], title='ROC Curve (AUC = {:.3f})'.format(roc_auc),\n",
        "#               labels=dict(x='False Positive Rate', y='True Positive Rate'),\n",
        "#               range_x=[0,1], range_y=[0,1])\n",
        "# fig.add_shape(type='line', line=dict(dash='dash'), x0=0, y0=0, x1=1, y1=1)\n",
        "# fig.show()"
      ]
    },
    {
      "cell_type": "code",
      "execution_count": 243,
      "metadata": {},
      "outputs": [
        {
          "name": "stdout",
          "output_type": "stream",
          "text": [
            "              precision    recall  f1-score   support\n",
            "\n",
            "           0       1.00      0.25      0.40         4\n",
            "           1       1.00      0.12      0.22        41\n",
            "           2       0.00      0.00      0.00         1\n",
            "           3       0.91      0.99      0.95       362\n",
            "\n",
            "   micro avg       0.91      0.89      0.90       408\n",
            "   macro avg       0.73      0.34      0.39       408\n",
            "weighted avg       0.92      0.89      0.86       408\n",
            " samples avg       0.89      0.89      0.89       408\n",
            "\n"
          ]
        },
        {
          "name": "stderr",
          "output_type": "stream",
          "text": [
            "c:\\Users\\auriw\\AppData\\Local\\Programs\\Python\\Python311\\Lib\\site-packages\\sklearn\\metrics\\_classification.py:1344: UndefinedMetricWarning:\n",
            "\n",
            "Precision and F-score are ill-defined and being set to 0.0 in labels with no predicted samples. Use `zero_division` parameter to control this behavior.\n",
            "\n",
            "c:\\Users\\auriw\\AppData\\Local\\Programs\\Python\\Python311\\Lib\\site-packages\\sklearn\\metrics\\_classification.py:1344: UndefinedMetricWarning:\n",
            "\n",
            "Precision and F-score are ill-defined and being set to 0.0 in samples with no predicted labels. Use `zero_division` parameter to control this behavior.\n",
            "\n"
          ]
        }
      ],
      "source": [
        "print(classification_report(y_test, y_pred))"
      ]
    },
    {
      "attachments": {},
      "cell_type": "markdown",
      "metadata": {},
      "source": [
        "#### Visualisasi Tuning"
      ]
    },
    {
      "cell_type": "code",
      "execution_count": 244,
      "metadata": {},
      "outputs": [],
      "source": [
        "result_coarse = search.cv_results_\n",
        "result_fine = fine_search.cv_results_"
      ]
    },
    {
      "cell_type": "code",
      "execution_count": 245,
      "metadata": {
        "colab": {
          "base_uri": "https://localhost:8080/"
        },
        "id": "wFREBkx_lEu6",
        "outputId": "24767054-f452-43cc-c621-baddb50c4453"
      },
      "outputs": [],
      "source": [
        "params_key = [f\"param_{p}\" for p in params.keys()]\n",
        "params_key.append('AUC_ROC')"
      ]
    },
    {
      "cell_type": "code",
      "execution_count": 246,
      "metadata": {},
      "outputs": [],
      "source": [
        "AUC = []\n",
        "for mean_score in result_coarse[\"mean_test_score\"]:\n",
        "    AUC.append(mean_score)\n",
        "aoc_roc = {}\n",
        "aoc_roc['AUC_ROC'] = AUC\n",
        "result_coarse['AUC_ROC'] = AUC"
      ]
    },
    {
      "cell_type": "code",
      "execution_count": 247,
      "metadata": {},
      "outputs": [],
      "source": [
        "AUC_Fine = []\n",
        "for mean_score in result_fine[\"mean_test_score\"]:\n",
        "    AUC_Fine.append(mean_score)\n",
        "aoc_roc_fine = {}\n",
        "aoc_roc_fine['AUC_ROC'] = AUC_Fine\n",
        "result_fine['AUC_ROC'] = AUC_Fine"
      ]
    },
    {
      "cell_type": "code",
      "execution_count": 248,
      "metadata": {
        "colab": {
          "base_uri": "https://localhost:8080/",
          "height": 542
        },
        "id": "CQRf1qtwKZxP",
        "outputId": "b2f448ea-676b-416c-e1fe-0781daad02ad"
      },
      "outputs": [
        {
          "data": {
            "application/vnd.plotly.v1+json": {
              "config": {
                "plotlyServerURL": "https://plot.ly"
              },
              "data": [
                {
                  "hovertemplate": "param_learning_rate=%{x}<br>AUC_ROC=%{y}<extra></extra>",
                  "legendgroup": "",
                  "marker": {
                    "color": "red",
                    "symbol": "circle"
                  },
                  "mode": "markers",
                  "name": "",
                  "orientation": "v",
                  "showlegend": false,
                  "type": "scatter",
                  "x": [
                    0.013768145514884025,
                    0.2161862318013419,
                    0.5308103855247946,
                    0.7497327068656123,
                    0.7489619705311433,
                    0.5971765903544253,
                    0.40373028604674577,
                    1.0005541314968787,
                    0.08521626534149017,
                    0.8426388590283309,
                    0.1771776010926729,
                    0.33772868852990146,
                    0.22105730719482064,
                    0.4057674681621415,
                    0.6971489343654802,
                    0.5785388016947898,
                    0.927841338232828,
                    0.5493338696047406,
                    0.3258492566907659,
                    0.5300558431672074,
                    0.17428676370126217,
                    0.12640862352494098,
                    0.45534400346365667,
                    0.14518026649034843,
                    0.6289437985018126,
                    0.42819968370670325,
                    0.6670793877804492,
                    0.5099142766636076,
                    0.14336472767207042,
                    0.20089359789348948,
                    0.0346919725569138,
                    0.4318629824686443,
                    0.28243775488198686,
                    0.5758238118692736,
                    0.2977063007742907,
                    0.4212395780553059,
                    0.7205157382118959,
                    0.5581589541759308,
                    0.7656344212739188,
                    0.6525759450445213,
                    0.4363845797326753,
                    0.8822491567952012,
                    0.4845455107216835,
                    0.4366119047907021,
                    0.9628925365386011,
                    0.8531166576157728,
                    0.8558534366548659,
                    0.22805454758546495,
                    0.574517068775402,
                    0.8132278101828654
                  ],
                  "xaxis": "x",
                  "y": [
                    0.8952042495885081,
                    0.8780450396528504,
                    0.8731632500374082,
                    0.8657863235074069,
                    0.8664073021098309,
                    0.8749962591650456,
                    0.869478527607362,
                    0.870698039802484,
                    0.8921405057608858,
                    0.8713152775699535,
                    0.8768105641179111,
                    0.8707092623073469,
                    0.8749850366601825,
                    0.8743865030674846,
                    0.868247792907377,
                    0.8700808020350141,
                    0.8713152775699535,
                    0.8700957653748317,
                    0.8731557683674996,
                    0.8676455184797247,
                    0.8811162651503816,
                    0.8860130181056413,
                    0.8707017806374383,
                    0.8774315427203352,
                    0.8713152775699535,
                    0.8706942989675295,
                    0.8737692653000149,
                    0.8725385306000298,
                    0.8829380517731558,
                    0.8774352835552894,
                    0.8982754750860391,
                    0.8749850366601825,
                    0.8774390243902438,
                    0.8707092623073469,
                    0.8719250336675145,
                    0.8713190184049079,
                    0.868857549004938,
                    0.8719325153374233,
                    0.873159509202454,
                    0.8706942989675295,
                    0.8743865030674847,
                    0.8719287745024689,
                    0.8725385306000298,
                    0.8731557683674996,
                    0.867638036809816,
                    0.8664147837797396,
                    0.866418524614694,
                    0.8737505611252431,
                    0.8719362561723777,
                    0.8688725123447554
                  ],
                  "yaxis": "y"
                },
                {
                  "hovertemplate": "param_learning_rate=%{x}<br>AUC_ROC=%{y}<extra></extra>",
                  "legendgroup": "",
                  "marker": {
                    "color": "#636efa",
                    "symbol": "circle"
                  },
                  "mode": "markers",
                  "name": "",
                  "orientation": "v",
                  "showlegend": false,
                  "type": "scatter",
                  "x": [
                    0.024691972556913803,
                    0.02556184712113405,
                    0.026462366533826116,
                    0.027394610383676136,
                    0.0283596962922465,
                    0.029358781253837753,
                    0.030393063022552437,
                    0.03146378154822399,
                    0.03257222046293187,
                    0.03371970861988534,
                    0.03490762168652055,
                    0.03613738379372105,
                    0.03741046924313854,
                    0.038728404274661066,
                    0.04009276889614746,
                    0.04150519877762139,
                    0.04296738721219621,
                    0.04448108714608125,
                    0.04604811328010332,
                    0.04767034424526282,
                    0.049349724854932504,
                    0.05108826843639914,
                    0.052888059244543234,
                    0.054751254960550125,
                    0.05668008927864856,
                    0.05867687458397739,
                    0.060744004724791176,
                    0.06288395788232759,
                    0.06509929954177783,
                    0.06739268556792141,
                    0.06976686538911246,
                    0.07222468529343491,
                    0.07476909184097823,
                    0.07740313539632399,
                    0.08012997378547913,
                    0.08295287608163876,
                    0.08587522652431843,
                    0.08890052857655323,
                    0.0920324091250283,
                    0.09527462282817602,
                    0.09863105661745228,
                    0.10210573435718856,
                    0.1057028216686062,
                    0.10942663092377576,
                    0.11328162641550922,
                    0.11727242970938213,
                    0.12140382518430276,
                    0.1256807657682698,
                    0.13010837887619578,
                    0.1346919725569138
                  ],
                  "xaxis": "x",
                  "y": [
                    0.9007257219811462,
                    0.9001122250486308,
                    0.8988852311836002,
                    0.8982717342510848,
                    0.8994987281161155,
                    0.8994987281161153,
                    0.8988852311836002,
                    0.8982754750860391,
                    0.8976619781535238,
                    0.8994987281161153,
                    0.8994987281161155,
                    0.8988889720185543,
                    0.8958214873559778,
                    0.8988852311836002,
                    0.8994987281161153,
                    0.8982754750860391,
                    0.8982754750860392,
                    0.8982717342510848,
                    0.8976582373185694,
                    0.8970484812210084,
                    0.8982717342510848,
                    0.8988852311836002,
                    0.897044740386054,
                    0.8958177465210234,
                    0.8964349842884932,
                    0.8952079904234627,
                    0.8952042495885081,
                    0.8939809965584317,
                    0.8970447403860542,
                    0.8945982343259015,
                    0.892750261858447,
                    0.8921405057608858,
                    0.8945944934909471,
                    0.8933674996259166,
                    0.8927614843633098,
                    0.8915270088283705,
                    0.8915270088283705,
                    0.8921367649259315,
                    0.8921405057608858,
                    0.8903149783031573,
                    0.8884670058357024,
                    0.8872325303007631,
                    0.8823282956755948,
                    0.8860092772706867,
                    0.8847860242406105,
                    0.8817185395780338,
                    0.8823320365105491,
                    0.8823320365105491,
                    0.8792645518479725,
                    0.8798817896154422
                  ],
                  "yaxis": "y"
                }
              ],
              "layout": {
                "legend": {
                  "tracegroupgap": 0
                },
                "margin": {
                  "t": 60
                },
                "template": {
                  "data": {
                    "bar": [
                      {
                        "error_x": {
                          "color": "#2a3f5f"
                        },
                        "error_y": {
                          "color": "#2a3f5f"
                        },
                        "marker": {
                          "line": {
                            "color": "#E5ECF6",
                            "width": 0.5
                          },
                          "pattern": {
                            "fillmode": "overlay",
                            "size": 10,
                            "solidity": 0.2
                          }
                        },
                        "type": "bar"
                      }
                    ],
                    "barpolar": [
                      {
                        "marker": {
                          "line": {
                            "color": "#E5ECF6",
                            "width": 0.5
                          },
                          "pattern": {
                            "fillmode": "overlay",
                            "size": 10,
                            "solidity": 0.2
                          }
                        },
                        "type": "barpolar"
                      }
                    ],
                    "carpet": [
                      {
                        "aaxis": {
                          "endlinecolor": "#2a3f5f",
                          "gridcolor": "white",
                          "linecolor": "white",
                          "minorgridcolor": "white",
                          "startlinecolor": "#2a3f5f"
                        },
                        "baxis": {
                          "endlinecolor": "#2a3f5f",
                          "gridcolor": "white",
                          "linecolor": "white",
                          "minorgridcolor": "white",
                          "startlinecolor": "#2a3f5f"
                        },
                        "type": "carpet"
                      }
                    ],
                    "choropleth": [
                      {
                        "colorbar": {
                          "outlinewidth": 0,
                          "ticks": ""
                        },
                        "type": "choropleth"
                      }
                    ],
                    "contour": [
                      {
                        "colorbar": {
                          "outlinewidth": 0,
                          "ticks": ""
                        },
                        "colorscale": [
                          [
                            0,
                            "#0d0887"
                          ],
                          [
                            0.1111111111111111,
                            "#46039f"
                          ],
                          [
                            0.2222222222222222,
                            "#7201a8"
                          ],
                          [
                            0.3333333333333333,
                            "#9c179e"
                          ],
                          [
                            0.4444444444444444,
                            "#bd3786"
                          ],
                          [
                            0.5555555555555556,
                            "#d8576b"
                          ],
                          [
                            0.6666666666666666,
                            "#ed7953"
                          ],
                          [
                            0.7777777777777778,
                            "#fb9f3a"
                          ],
                          [
                            0.8888888888888888,
                            "#fdca26"
                          ],
                          [
                            1,
                            "#f0f921"
                          ]
                        ],
                        "type": "contour"
                      }
                    ],
                    "contourcarpet": [
                      {
                        "colorbar": {
                          "outlinewidth": 0,
                          "ticks": ""
                        },
                        "type": "contourcarpet"
                      }
                    ],
                    "heatmap": [
                      {
                        "colorbar": {
                          "outlinewidth": 0,
                          "ticks": ""
                        },
                        "colorscale": [
                          [
                            0,
                            "#0d0887"
                          ],
                          [
                            0.1111111111111111,
                            "#46039f"
                          ],
                          [
                            0.2222222222222222,
                            "#7201a8"
                          ],
                          [
                            0.3333333333333333,
                            "#9c179e"
                          ],
                          [
                            0.4444444444444444,
                            "#bd3786"
                          ],
                          [
                            0.5555555555555556,
                            "#d8576b"
                          ],
                          [
                            0.6666666666666666,
                            "#ed7953"
                          ],
                          [
                            0.7777777777777778,
                            "#fb9f3a"
                          ],
                          [
                            0.8888888888888888,
                            "#fdca26"
                          ],
                          [
                            1,
                            "#f0f921"
                          ]
                        ],
                        "type": "heatmap"
                      }
                    ],
                    "heatmapgl": [
                      {
                        "colorbar": {
                          "outlinewidth": 0,
                          "ticks": ""
                        },
                        "colorscale": [
                          [
                            0,
                            "#0d0887"
                          ],
                          [
                            0.1111111111111111,
                            "#46039f"
                          ],
                          [
                            0.2222222222222222,
                            "#7201a8"
                          ],
                          [
                            0.3333333333333333,
                            "#9c179e"
                          ],
                          [
                            0.4444444444444444,
                            "#bd3786"
                          ],
                          [
                            0.5555555555555556,
                            "#d8576b"
                          ],
                          [
                            0.6666666666666666,
                            "#ed7953"
                          ],
                          [
                            0.7777777777777778,
                            "#fb9f3a"
                          ],
                          [
                            0.8888888888888888,
                            "#fdca26"
                          ],
                          [
                            1,
                            "#f0f921"
                          ]
                        ],
                        "type": "heatmapgl"
                      }
                    ],
                    "histogram": [
                      {
                        "marker": {
                          "pattern": {
                            "fillmode": "overlay",
                            "size": 10,
                            "solidity": 0.2
                          }
                        },
                        "type": "histogram"
                      }
                    ],
                    "histogram2d": [
                      {
                        "colorbar": {
                          "outlinewidth": 0,
                          "ticks": ""
                        },
                        "colorscale": [
                          [
                            0,
                            "#0d0887"
                          ],
                          [
                            0.1111111111111111,
                            "#46039f"
                          ],
                          [
                            0.2222222222222222,
                            "#7201a8"
                          ],
                          [
                            0.3333333333333333,
                            "#9c179e"
                          ],
                          [
                            0.4444444444444444,
                            "#bd3786"
                          ],
                          [
                            0.5555555555555556,
                            "#d8576b"
                          ],
                          [
                            0.6666666666666666,
                            "#ed7953"
                          ],
                          [
                            0.7777777777777778,
                            "#fb9f3a"
                          ],
                          [
                            0.8888888888888888,
                            "#fdca26"
                          ],
                          [
                            1,
                            "#f0f921"
                          ]
                        ],
                        "type": "histogram2d"
                      }
                    ],
                    "histogram2dcontour": [
                      {
                        "colorbar": {
                          "outlinewidth": 0,
                          "ticks": ""
                        },
                        "colorscale": [
                          [
                            0,
                            "#0d0887"
                          ],
                          [
                            0.1111111111111111,
                            "#46039f"
                          ],
                          [
                            0.2222222222222222,
                            "#7201a8"
                          ],
                          [
                            0.3333333333333333,
                            "#9c179e"
                          ],
                          [
                            0.4444444444444444,
                            "#bd3786"
                          ],
                          [
                            0.5555555555555556,
                            "#d8576b"
                          ],
                          [
                            0.6666666666666666,
                            "#ed7953"
                          ],
                          [
                            0.7777777777777778,
                            "#fb9f3a"
                          ],
                          [
                            0.8888888888888888,
                            "#fdca26"
                          ],
                          [
                            1,
                            "#f0f921"
                          ]
                        ],
                        "type": "histogram2dcontour"
                      }
                    ],
                    "mesh3d": [
                      {
                        "colorbar": {
                          "outlinewidth": 0,
                          "ticks": ""
                        },
                        "type": "mesh3d"
                      }
                    ],
                    "parcoords": [
                      {
                        "line": {
                          "colorbar": {
                            "outlinewidth": 0,
                            "ticks": ""
                          }
                        },
                        "type": "parcoords"
                      }
                    ],
                    "pie": [
                      {
                        "automargin": true,
                        "type": "pie"
                      }
                    ],
                    "scatter": [
                      {
                        "fillpattern": {
                          "fillmode": "overlay",
                          "size": 10,
                          "solidity": 0.2
                        },
                        "type": "scatter"
                      }
                    ],
                    "scatter3d": [
                      {
                        "line": {
                          "colorbar": {
                            "outlinewidth": 0,
                            "ticks": ""
                          }
                        },
                        "marker": {
                          "colorbar": {
                            "outlinewidth": 0,
                            "ticks": ""
                          }
                        },
                        "type": "scatter3d"
                      }
                    ],
                    "scattercarpet": [
                      {
                        "marker": {
                          "colorbar": {
                            "outlinewidth": 0,
                            "ticks": ""
                          }
                        },
                        "type": "scattercarpet"
                      }
                    ],
                    "scattergeo": [
                      {
                        "marker": {
                          "colorbar": {
                            "outlinewidth": 0,
                            "ticks": ""
                          }
                        },
                        "type": "scattergeo"
                      }
                    ],
                    "scattergl": [
                      {
                        "marker": {
                          "colorbar": {
                            "outlinewidth": 0,
                            "ticks": ""
                          }
                        },
                        "type": "scattergl"
                      }
                    ],
                    "scattermapbox": [
                      {
                        "marker": {
                          "colorbar": {
                            "outlinewidth": 0,
                            "ticks": ""
                          }
                        },
                        "type": "scattermapbox"
                      }
                    ],
                    "scatterpolar": [
                      {
                        "marker": {
                          "colorbar": {
                            "outlinewidth": 0,
                            "ticks": ""
                          }
                        },
                        "type": "scatterpolar"
                      }
                    ],
                    "scatterpolargl": [
                      {
                        "marker": {
                          "colorbar": {
                            "outlinewidth": 0,
                            "ticks": ""
                          }
                        },
                        "type": "scatterpolargl"
                      }
                    ],
                    "scatterternary": [
                      {
                        "marker": {
                          "colorbar": {
                            "outlinewidth": 0,
                            "ticks": ""
                          }
                        },
                        "type": "scatterternary"
                      }
                    ],
                    "surface": [
                      {
                        "colorbar": {
                          "outlinewidth": 0,
                          "ticks": ""
                        },
                        "colorscale": [
                          [
                            0,
                            "#0d0887"
                          ],
                          [
                            0.1111111111111111,
                            "#46039f"
                          ],
                          [
                            0.2222222222222222,
                            "#7201a8"
                          ],
                          [
                            0.3333333333333333,
                            "#9c179e"
                          ],
                          [
                            0.4444444444444444,
                            "#bd3786"
                          ],
                          [
                            0.5555555555555556,
                            "#d8576b"
                          ],
                          [
                            0.6666666666666666,
                            "#ed7953"
                          ],
                          [
                            0.7777777777777778,
                            "#fb9f3a"
                          ],
                          [
                            0.8888888888888888,
                            "#fdca26"
                          ],
                          [
                            1,
                            "#f0f921"
                          ]
                        ],
                        "type": "surface"
                      }
                    ],
                    "table": [
                      {
                        "cells": {
                          "fill": {
                            "color": "#EBF0F8"
                          },
                          "line": {
                            "color": "white"
                          }
                        },
                        "header": {
                          "fill": {
                            "color": "#C8D4E3"
                          },
                          "line": {
                            "color": "white"
                          }
                        },
                        "type": "table"
                      }
                    ]
                  },
                  "layout": {
                    "annotationdefaults": {
                      "arrowcolor": "#2a3f5f",
                      "arrowhead": 0,
                      "arrowwidth": 1
                    },
                    "autotypenumbers": "strict",
                    "coloraxis": {
                      "colorbar": {
                        "outlinewidth": 0,
                        "ticks": ""
                      }
                    },
                    "colorscale": {
                      "diverging": [
                        [
                          0,
                          "#8e0152"
                        ],
                        [
                          0.1,
                          "#c51b7d"
                        ],
                        [
                          0.2,
                          "#de77ae"
                        ],
                        [
                          0.3,
                          "#f1b6da"
                        ],
                        [
                          0.4,
                          "#fde0ef"
                        ],
                        [
                          0.5,
                          "#f7f7f7"
                        ],
                        [
                          0.6,
                          "#e6f5d0"
                        ],
                        [
                          0.7,
                          "#b8e186"
                        ],
                        [
                          0.8,
                          "#7fbc41"
                        ],
                        [
                          0.9,
                          "#4d9221"
                        ],
                        [
                          1,
                          "#276419"
                        ]
                      ],
                      "sequential": [
                        [
                          0,
                          "#0d0887"
                        ],
                        [
                          0.1111111111111111,
                          "#46039f"
                        ],
                        [
                          0.2222222222222222,
                          "#7201a8"
                        ],
                        [
                          0.3333333333333333,
                          "#9c179e"
                        ],
                        [
                          0.4444444444444444,
                          "#bd3786"
                        ],
                        [
                          0.5555555555555556,
                          "#d8576b"
                        ],
                        [
                          0.6666666666666666,
                          "#ed7953"
                        ],
                        [
                          0.7777777777777778,
                          "#fb9f3a"
                        ],
                        [
                          0.8888888888888888,
                          "#fdca26"
                        ],
                        [
                          1,
                          "#f0f921"
                        ]
                      ],
                      "sequentialminus": [
                        [
                          0,
                          "#0d0887"
                        ],
                        [
                          0.1111111111111111,
                          "#46039f"
                        ],
                        [
                          0.2222222222222222,
                          "#7201a8"
                        ],
                        [
                          0.3333333333333333,
                          "#9c179e"
                        ],
                        [
                          0.4444444444444444,
                          "#bd3786"
                        ],
                        [
                          0.5555555555555556,
                          "#d8576b"
                        ],
                        [
                          0.6666666666666666,
                          "#ed7953"
                        ],
                        [
                          0.7777777777777778,
                          "#fb9f3a"
                        ],
                        [
                          0.8888888888888888,
                          "#fdca26"
                        ],
                        [
                          1,
                          "#f0f921"
                        ]
                      ]
                    },
                    "colorway": [
                      "#636efa",
                      "#EF553B",
                      "#00cc96",
                      "#ab63fa",
                      "#FFA15A",
                      "#19d3f3",
                      "#FF6692",
                      "#B6E880",
                      "#FF97FF",
                      "#FECB52"
                    ],
                    "font": {
                      "color": "#2a3f5f"
                    },
                    "geo": {
                      "bgcolor": "white",
                      "lakecolor": "white",
                      "landcolor": "#E5ECF6",
                      "showlakes": true,
                      "showland": true,
                      "subunitcolor": "white"
                    },
                    "hoverlabel": {
                      "align": "left"
                    },
                    "hovermode": "closest",
                    "mapbox": {
                      "style": "light"
                    },
                    "paper_bgcolor": "white",
                    "plot_bgcolor": "#E5ECF6",
                    "polar": {
                      "angularaxis": {
                        "gridcolor": "white",
                        "linecolor": "white",
                        "ticks": ""
                      },
                      "bgcolor": "#E5ECF6",
                      "radialaxis": {
                        "gridcolor": "white",
                        "linecolor": "white",
                        "ticks": ""
                      }
                    },
                    "scene": {
                      "xaxis": {
                        "backgroundcolor": "#E5ECF6",
                        "gridcolor": "white",
                        "gridwidth": 2,
                        "linecolor": "white",
                        "showbackground": true,
                        "ticks": "",
                        "zerolinecolor": "white"
                      },
                      "yaxis": {
                        "backgroundcolor": "#E5ECF6",
                        "gridcolor": "white",
                        "gridwidth": 2,
                        "linecolor": "white",
                        "showbackground": true,
                        "ticks": "",
                        "zerolinecolor": "white"
                      },
                      "zaxis": {
                        "backgroundcolor": "#E5ECF6",
                        "gridcolor": "white",
                        "gridwidth": 2,
                        "linecolor": "white",
                        "showbackground": true,
                        "ticks": "",
                        "zerolinecolor": "white"
                      }
                    },
                    "shapedefaults": {
                      "line": {
                        "color": "#2a3f5f"
                      }
                    },
                    "ternary": {
                      "aaxis": {
                        "gridcolor": "white",
                        "linecolor": "white",
                        "ticks": ""
                      },
                      "baxis": {
                        "gridcolor": "white",
                        "linecolor": "white",
                        "ticks": ""
                      },
                      "bgcolor": "#E5ECF6",
                      "caxis": {
                        "gridcolor": "white",
                        "linecolor": "white",
                        "ticks": ""
                      }
                    },
                    "title": {
                      "x": 0.05
                    },
                    "xaxis": {
                      "automargin": true,
                      "gridcolor": "white",
                      "linecolor": "white",
                      "ticks": "",
                      "title": {
                        "standoff": 15
                      },
                      "zerolinecolor": "white",
                      "zerolinewidth": 2
                    },
                    "yaxis": {
                      "automargin": true,
                      "gridcolor": "white",
                      "linecolor": "white",
                      "ticks": "",
                      "title": {
                        "standoff": 15
                      },
                      "zerolinecolor": "white",
                      "zerolinewidth": 2
                    }
                  }
                },
                "xaxis": {
                  "anchor": "y",
                  "domain": [
                    0,
                    1
                  ],
                  "title": {
                    "text": "param_learning_rate"
                  }
                },
                "yaxis": {
                  "anchor": "x",
                  "domain": [
                    0,
                    1
                  ],
                  "title": {
                    "text": "AUC_ROC"
                  }
                }
              }
            }
          },
          "metadata": {},
          "output_type": "display_data"
        }
      ],
      "source": [
        "# create a dataframe from results\n",
        "fig = px.scatter(result_coarse, x = params_key[2], \n",
        "                    y = params_key[3])\n",
        "fig.update_traces(marker=dict(color='red'))\n",
        "fig.add_trace(px.scatter(result_fine, x = params_key[2], \n",
        "                    y = params_key[3]).data[0])\n",
        "\n",
        "# menyatukan kedua plot dalam satu objek\n",
        "\n",
        "fig.show()\n"
      ]
    },
    {
      "cell_type": "code",
      "execution_count": 249,
      "metadata": {},
      "outputs": [
        {
          "data": {
            "image/png": "[encoded data removed]",
            "text/plain": [
              "<Figure size 1600x600 with 1 Axes>"
            ]
          },
          "metadata": {},
          "output_type": "display_data"
        }
      ],
      "source": [
        "import matplotlib.pyplot as plt\n",
        "\n",
        "plt.figure(figsize=(16,6))\n",
        "x1= result_coarse['param_learning_rate']\n",
        "y1= result_coarse['mean_test_score']\n",
        "\n",
        "x2= result_fine['param_learning_rate']\n",
        "y2= result_fine['mean_test_score']\n",
        "\n",
        "plt.scatter(x1, y1, color='red', label='Random search')\n",
        "\n",
        "plt.scatter(x2, y2, color='blue', label='Random search')\n",
        "\n",
        "plt.legend()\n",
        "plt.xlabel('Learning rate')\n",
        "plt.ylabel('ROC_AUC')\n",
        "\n",
        "# Tampilkan grafik\n",
        "plt.show()"
      ]
    },
    {
      "cell_type": "code",
      "execution_count": 250,
      "metadata": {},
      "outputs": [],
      "source": [
        "hasil = pd.DataFrame(search.cv_results_)\n",
        "hasil = hasil.sort_values('mean_test_score', ascending=False)"
      ]
    },
    {
      "cell_type": "code",
      "execution_count": 251,
      "metadata": {},
      "outputs": [
        {
          "data": {
            "image/png": "[encoded data removed]",
            "text/plain": [
              "<Figure size 1000x600 with 2 Axes>"
            ]
          },
          "metadata": {},
          "output_type": "display_data"
        }
      ],
      "source": [
        "plt.figure(figsize=(10,6))\n",
        "plt.scatter(hasil['param_learning_rate'], hasil['param_max_depth'], c=hasil['mean_test_score'], cmap='viridis')\n",
        "plt.colorbar()\n",
        "plt.title('random, Search Scatter Plot')\n",
        "plt.xlabel('param_learning_rate')\n",
        "plt.ylabel('param_max_depth')\n",
        "plt.show()"
      ]
    },
    {
      "cell_type": "code",
      "execution_count": 252,
      "metadata": {},
      "outputs": [],
      "source": [
        "# test = pd.DataFrame(X_test)\n",
        "# true = pd.DataFrame(y_test)\n",
        "# pred = pd.DataFrame(y_pred)\n",
        "\n",
        "# hsl = pd.concat([test, true], axis=1)\n",
        "# hsl['kategori'] = hsl.apply(lambda x: 'rain' if x['klasifikasi_rain'] == 1 else ('no rain'), axis=1)\n",
        "# hsl = hsl.reset_index()\n",
        "# hsl = pd.concat([hsl, pred], axis=1)\n",
        "# hsl['prediksi'] = hsl.apply(lambda x: 'rain' if x[0] == 1 else ('no rain'), axis=1)\n",
        "# hsl[hsl['kategori']=='rain']"
      ]
    },
    {
      "cell_type": "code",
      "execution_count": 253,
      "metadata": {},
      "outputs": [
        {
          "name": "stdout",
          "output_type": "stream",
          "text": [
            "<class 'pandas.core.frame.DataFrame'>\n",
            "Index: 2040 entries, 1/12/2022 0:00 to 23/02/2023 23:00:00\n",
            "Data columns (total 9 columns):\n",
            " #   Column                        Non-Null Count  Dtype  \n",
            "---  ------                        --------------  -----  \n",
            " 0   Air Tmp (C) M 60 Min          2040 non-null   float64\n",
            " 1   Precip 1Hr (mm) M             2040 non-null   float64\n",
            " 2   QNH (hPa) M                   2040 non-null   float64\n",
            " 3   RH (%) M 60 Min               2040 non-null   float64\n",
            " 4   WS 60 Min (kt) M              2040 non-null   float64\n",
            " 5   classification_ringan         2040 non-null   uint8  \n",
            " 6   classification_sangat ringan  2040 non-null   uint8  \n",
            " 7   classification_sedang         2040 non-null   uint8  \n",
            " 8   classification_tidak hujan    2040 non-null   uint8  \n",
            "dtypes: float64(5), uint8(4)\n",
            "memory usage: 103.6+ KB\n"
          ]
        }
      ],
      "source": [
        "hujan = data_baru\n",
        "hujan.info()\n",
        "\n"
      ]
    },
    {
      "cell_type": "code",
      "execution_count": 254,
      "metadata": {},
      "outputs": [],
      "source": [
        "# X_baru = pd.DataFrame({'Air Tmp (C) M 60 Min': [30.19],\n",
        "#                     'QNH (hPa) M': [1005.66],\n",
        "#                     'RH (%) M 60 Min': [100.7],\n",
        "#                     'WS 60 Min (kt) M': [5.0],\n",
        "#                     },index=[0])\n",
        "# y_baru = pd.DataFrame({'true':['rain']})\n",
        "# pred_baru = fine_search.best_estimator_.predict(X_baru)\n",
        "\n",
        "# test = pd.DataFrame(X_baru)\n",
        "# true = pd.DataFrame(y_baru)\n",
        "# pred = pd.DataFrame(pred_baru)\n",
        "\n",
        "# hsl = pd.concat([test, true], axis=1)\n",
        "# # hsl['kategori'] = hsl.apply(lambda x: 'rain' if x['klasifikasi_rain'] == 1 else ('no rain'), axis=1)\n",
        "# hsl = hsl.reset_index()\n",
        "# hsl = pd.concat([hsl, pred], axis=1)\n",
        "# hsl['prediksi'] = hsl.apply(lambda x: 'rain' if x[0] == 1 else ('no rain'), axis=1)\n",
        "# # hsl[hsl['kategori']=='rain']\n",
        "# hsl"
      ]
    },
    {
      "cell_type": "code",
      "execution_count": 255,
      "metadata": {},
      "outputs": [],
      "source": [
        "# cm = confusion_matrix(\n",
        "#     y_baru.values.argmax(axis=1), pred_baru.argmax(axis=1))\n",
        "# print(cm)\n",
        "# sns.heatmap(cm, annot=True)"
      ]
    },
    {
      "cell_type": "code",
      "execution_count": 256,
      "metadata": {},
      "outputs": [],
      "source": [
        "# tn, fp, fn, tp = confusion_matrix(y_baru.values.argmax(axis=1), pred_baru.argmax(axis=1)).ravel()\n",
        "\n",
        "# # Menghitung specificity score\n",
        "# accuracy = (tp + tn) / (tp + fp+ tn + fn)\n",
        "# precision = tp / (tp + fp)\n",
        "# recall = tp / (tp + fn)\n",
        "# f1 = 2*((precision*recall)/(precision+recall))\n",
        "# specificity = tn / (tn + fp)\n",
        "\n",
        "\n",
        "# # calculate the ROC-AUC score of the model\n",
        "# roc_auc = roc_auc_score(y_baru, pred_baru)\n",
        "\n",
        "# # print the evaluation metrics\n",
        "# print(f\"Accuracy: {accuracy:.2f}\")\n",
        "# print(f\"Precision: {precision:.2f}\")\n",
        "# print(f\"Recall: {recall:.2f}\")\n",
        "# print(f\"F1-score: {f1:.2f}\")\n",
        "# print(f\"Specificity-score: {specificity:.2f}\")\n",
        "# print(f\"ROC-AUC score: {roc_auc:.2f}\")"
      ]
    },
    {
      "cell_type": "code",
      "execution_count": null,
      "metadata": {},
      "outputs": [],
      "source": []
    }
  ],
  "metadata": {
    "colab": {
      "include_colab_link": true,
      "provenance": []
    },
    "kernelspec": {
      "display_name": "Python 3",
      "language": "python",
      "name": "python3"
    },
    "language_info": {
      "codemirror_mode": {
        "name": "ipython",
        "version": 3
      },
      "file_extension": ".py",
      "mimetype": "text/x-python",
      "name": "python",
      "nbconvert_exporter": "python",
      "pygments_lexer": "ipython3",
      "version": "3.11.2"
    },
    "vscode": {
      "interpreter": {
        "hash": "369f2c481f4da34e4445cda3fffd2e751bd1c4d706f27375911949ba6bb62e1c"
      }
    }
  },
  "nbformat": 4,
  "nbformat_minor": 0
}
