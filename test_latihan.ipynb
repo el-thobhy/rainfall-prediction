{
 "cells": [
  {
   "cell_type": "code",
   "execution_count": 256,
   "metadata": {},
   "outputs": [],
   "source": [
    "from sklearn import preprocessing\n",
    "from sklearn.model_selection import train_test_split\n",
    "import xgboost as xgb\n",
    "from xgboost import plot_tree\n",
    "import matplotlib.pyplot as plt\n",
    "import pandas as pd\n",
    "import numpy as np\n",
    "import graphviz\n",
    "from sklearn.model_selection import RandomizedSearchCV, GridSearchCV\n"
   ]
  },
  {
   "cell_type": "code",
   "execution_count": 279,
   "metadata": {},
   "outputs": [
    {
     "data": {
      "text/plain": [
       "15.419999999999998"
      ]
     },
     "execution_count": 279,
     "metadata": {},
     "output_type": "execute_result"
    }
   ],
   "source": [
    "\n",
    "data = pd.read_csv('data.csv')\n",
    "head = data.head(5)\n",
    "head\n",
    "head['rain_sum (mm)'].mean()"
   ]
  },
  {
   "cell_type": "code",
   "execution_count": 278,
   "metadata": {},
   "outputs": [],
   "source": [
    "# saving xlsx file\n",
    "GFG = pd.ExcelWriter('data_5.xlsx')\n",
    "head.to_excel(GFG, index=False)\n",
    "\n",
    "GFG.save()"
   ]
  },
  {
   "cell_type": "code",
   "execution_count": 258,
   "metadata": {},
   "outputs": [
    {
     "data": {
      "text/plain": [
       "<AxesSubplot:xlabel='time', ylabel='rain_sum (mm)'>"
      ]
     },
     "execution_count": 258,
     "metadata": {},
     "output_type": "execute_result"
    },
    {
     "data": {
      "image/png": "[encoded data removed]",
      "text/plain": [
       "<Figure size 432x288 with 1 Axes>"
      ]
     },
     "metadata": {
      "needs_background": "light"
     },
     "output_type": "display_data"
    }
   ],
   "source": [
    "head.plot.scatter(x='time', y='rain_sum (mm)')"
   ]
  },
  {
   "cell_type": "code",
   "execution_count": 259,
   "metadata": {},
   "outputs": [
    {
     "name": "stderr",
     "output_type": "stream",
     "text": [
      "C:\\Users\\Hp\\AppData\\Local\\Temp\\ipykernel_8432\\863227578.py:1: SettingWithCopyWarning: \n",
      "A value is trying to be set on a copy of a slice from a DataFrame\n",
      "\n",
      "See the caveats in the documentation: https://pandas.pydata.org/pandas-docs/stable/user_guide/indexing.html#returning-a-view-versus-a-copy\n",
      "  head.sort_values(by=['time'], inplace=True, ascending=True)\n"
     ]
    }
   ],
   "source": [
    "head.sort_values(by=['time'], inplace=True, ascending=True)\n",
    "head.set_index('time', inplace= True)"
   ]
  },
  {
   "cell_type": "code",
   "execution_count": 260,
   "metadata": {},
   "outputs": [
    {
     "name": "stdout",
     "output_type": "stream",
     "text": [
      "<class 'pandas.core.frame.DataFrame'>\n",
      "Index: 5 entries, 2018-01-01 to 2018-01-05\n",
      "Data columns (total 15 columns):\n",
      " #   Column                           Non-Null Count  Dtype  \n",
      "---  ------                           --------------  -----  \n",
      " 0   temperature_2m_max (°C)          5 non-null      float64\n",
      " 1   temperature_2m_min (°C)          5 non-null      float64\n",
      " 2   apparent_temperature_max (°C)    5 non-null      float64\n",
      " 3   apparent_temperature_min (°C)    5 non-null      float64\n",
      " 4   sunrise (iso8601)                5 non-null      object \n",
      " 5   sunset (iso8601)                 5 non-null      object \n",
      " 6   shortwave_radiation_sum (MJ/m²)  5 non-null      float64\n",
      " 7   rain_sum (mm)                    5 non-null      float64\n",
      " 8   snowfall_sum (cm)                5 non-null      float64\n",
      " 9   windspeed_10m_max (km/h)         5 non-null      float64\n",
      " 10  windgusts_10m_max (km/h)         5 non-null      float64\n",
      " 11  winddirection_10m_dominant (°)   5 non-null      float64\n",
      " 12  et0_fao_evapotranspiration (mm)  5 non-null      float64\n",
      " 13  elevation                        5 non-null      int64  \n",
      " 14  city                             5 non-null      object \n",
      "dtypes: float64(11), int64(1), object(3)\n",
      "memory usage: 640.0+ bytes\n"
     ]
    }
   ],
   "source": [
    "head.info()"
   ]
  },
  {
   "cell_type": "code",
   "execution_count": 261,
   "metadata": {},
   "outputs": [
    {
     "data": {
      "text/html": [
       "<div>\n",
       "<style scoped>\n",
       "    .dataframe tbody tr th:only-of-type {\n",
       "        vertical-align: middle;\n",
       "    }\n",
       "\n",
       "    .dataframe tbody tr th {\n",
       "        vertical-align: top;\n",
       "    }\n",
       "\n",
       "    .dataframe thead th {\n",
       "        text-align: right;\n",
       "    }\n",
       "</style>\n",
       "<table border=\"1\" class=\"dataframe\">\n",
       "  <thead>\n",
       "    <tr style=\"text-align: right;\">\n",
       "      <th></th>\n",
       "      <th>temperature_2m_max (°C)</th>\n",
       "      <th>temperature_2m_min (°C)</th>\n",
       "      <th>apparent_temperature_max (°C)</th>\n",
       "      <th>apparent_temperature_min (°C)</th>\n",
       "      <th>shortwave_radiation_sum (MJ/m²)</th>\n",
       "      <th>rain_sum (mm)</th>\n",
       "      <th>windspeed_10m_max (km/h)</th>\n",
       "      <th>windgusts_10m_max (km/h)</th>\n",
       "      <th>winddirection_10m_dominant (°)</th>\n",
       "      <th>et0_fao_evapotranspiration (mm)</th>\n",
       "    </tr>\n",
       "    <tr>\n",
       "      <th>time</th>\n",
       "      <th></th>\n",
       "      <th></th>\n",
       "      <th></th>\n",
       "      <th></th>\n",
       "      <th></th>\n",
       "      <th></th>\n",
       "      <th></th>\n",
       "      <th></th>\n",
       "      <th></th>\n",
       "      <th></th>\n",
       "    </tr>\n",
       "  </thead>\n",
       "  <tbody>\n",
       "    <tr>\n",
       "      <th>2018-01-01</th>\n",
       "      <td>29.9</td>\n",
       "      <td>26.0</td>\n",
       "      <td>36.3</td>\n",
       "      <td>31.6</td>\n",
       "      <td>17.59</td>\n",
       "      <td>7.7</td>\n",
       "      <td>6.9</td>\n",
       "      <td>20.2</td>\n",
       "      <td>277.0</td>\n",
       "      <td>3.61</td>\n",
       "    </tr>\n",
       "    <tr>\n",
       "      <th>2018-01-02</th>\n",
       "      <td>30.6</td>\n",
       "      <td>25.7</td>\n",
       "      <td>37.7</td>\n",
       "      <td>31.2</td>\n",
       "      <td>19.87</td>\n",
       "      <td>9.4</td>\n",
       "      <td>7.1</td>\n",
       "      <td>18.0</td>\n",
       "      <td>168.0</td>\n",
       "      <td>4.11</td>\n",
       "    </tr>\n",
       "    <tr>\n",
       "      <th>2018-01-03</th>\n",
       "      <td>31.8</td>\n",
       "      <td>25.9</td>\n",
       "      <td>40.3</td>\n",
       "      <td>31.7</td>\n",
       "      <td>20.44</td>\n",
       "      <td>7.8</td>\n",
       "      <td>8.1</td>\n",
       "      <td>21.2</td>\n",
       "      <td>125.0</td>\n",
       "      <td>4.23</td>\n",
       "    </tr>\n",
       "    <tr>\n",
       "      <th>2018-01-04</th>\n",
       "      <td>30.8</td>\n",
       "      <td>26.0</td>\n",
       "      <td>39.1</td>\n",
       "      <td>31.6</td>\n",
       "      <td>20.44</td>\n",
       "      <td>29.7</td>\n",
       "      <td>7.2</td>\n",
       "      <td>21.6</td>\n",
       "      <td>190.0</td>\n",
       "      <td>4.22</td>\n",
       "    </tr>\n",
       "    <tr>\n",
       "      <th>2018-01-05</th>\n",
       "      <td>30.9</td>\n",
       "      <td>25.2</td>\n",
       "      <td>37.6</td>\n",
       "      <td>29.9</td>\n",
       "      <td>20.10</td>\n",
       "      <td>22.5</td>\n",
       "      <td>6.9</td>\n",
       "      <td>21.2</td>\n",
       "      <td>241.0</td>\n",
       "      <td>4.16</td>\n",
       "    </tr>\n",
       "  </tbody>\n",
       "</table>\n",
       "</div>"
      ],
      "text/plain": [
       "            temperature_2m_max (°C)  temperature_2m_min (°C)  \\\n",
       "time                                                           \n",
       "2018-01-01                     29.9                     26.0   \n",
       "2018-01-02                     30.6                     25.7   \n",
       "2018-01-03                     31.8                     25.9   \n",
       "2018-01-04                     30.8                     26.0   \n",
       "2018-01-05                     30.9                     25.2   \n",
       "\n",
       "            apparent_temperature_max (°C)  apparent_temperature_min (°C)  \\\n",
       "time                                                                       \n",
       "2018-01-01                           36.3                           31.6   \n",
       "2018-01-02                           37.7                           31.2   \n",
       "2018-01-03                           40.3                           31.7   \n",
       "2018-01-04                           39.1                           31.6   \n",
       "2018-01-05                           37.6                           29.9   \n",
       "\n",
       "            shortwave_radiation_sum (MJ/m²)  rain_sum (mm)  \\\n",
       "time                                                         \n",
       "2018-01-01                            17.59            7.7   \n",
       "2018-01-02                            19.87            9.4   \n",
       "2018-01-03                            20.44            7.8   \n",
       "2018-01-04                            20.44           29.7   \n",
       "2018-01-05                            20.10           22.5   \n",
       "\n",
       "            windspeed_10m_max (km/h)  windgusts_10m_max (km/h)  \\\n",
       "time                                                             \n",
       "2018-01-01                       6.9                      20.2   \n",
       "2018-01-02                       7.1                      18.0   \n",
       "2018-01-03                       8.1                      21.2   \n",
       "2018-01-04                       7.2                      21.6   \n",
       "2018-01-05                       6.9                      21.2   \n",
       "\n",
       "            winddirection_10m_dominant (°)  et0_fao_evapotranspiration (mm)  \n",
       "time                                                                         \n",
       "2018-01-01                           277.0                             3.61  \n",
       "2018-01-02                           168.0                             4.11  \n",
       "2018-01-03                           125.0                             4.23  \n",
       "2018-01-04                           190.0                             4.22  \n",
       "2018-01-05                           241.0                             4.16  "
      ]
     },
     "execution_count": 261,
     "metadata": {},
     "output_type": "execute_result"
    }
   ],
   "source": [
    "head = head.drop(head.columns[[4, 5, 8, 13, 14]], axis=1)\n",
    "head"
   ]
  },
  {
   "cell_type": "code",
   "execution_count": 262,
   "metadata": {},
   "outputs": [],
   "source": [
    "X = head.drop(['rain_sum (mm)'], axis=1)"
   ]
  },
  {
   "cell_type": "code",
   "execution_count": 284,
   "metadata": {},
   "outputs": [
    {
     "data": {
      "text/plain": [
       "rain_sum (mm)    15.42\n",
       "dtype: float64"
      ]
     },
     "execution_count": 284,
     "metadata": {},
     "output_type": "execute_result"
    }
   ],
   "source": [
    "y = head['rain_sum (mm)']"
   ]
  },
  {
   "cell_type": "code",
   "execution_count": 264,
   "metadata": {},
   "outputs": [],
   "source": [
    "\n",
    "X_train, X_test, y_train, y_test = train_test_split(X, y, train_size = 0.8, test_size=0.2,random_state = 100)"
   ]
  },
  {
   "cell_type": "code",
   "execution_count": 287,
   "metadata": {},
   "outputs": [
    {
     "data": {
      "text/plain": [
       "rain_sum (mm)    16.925\n",
       "dtype: float64"
      ]
     },
     "execution_count": 287,
     "metadata": {},
     "output_type": "execute_result"
    }
   ],
   "source": [
    "\n",
    "train_target = pd.DataFrame(y_train)\n",
    "train_target.mean()"
   ]
  },
  {
   "cell_type": "code",
   "execution_count": 265,
   "metadata": {},
   "outputs": [],
   "source": [
    "from scipy.stats import uniform, randint\n",
    "params = {\n",
    "    'n_estimators': randint(100, 400),\n",
    "    'max_depth': randint(3, 12),\n",
    "    'learning_rate': uniform(0.01, 0.3)\n",
    "    }"
   ]
  },
  {
   "cell_type": "code",
   "execution_count": 266,
   "metadata": {},
   "outputs": [
    {
     "data": {
      "text/plain": [
       "RandomizedSearchCV(cv=2,\n",
       "                   estimator=XGBRegressor(base_score=None, booster=None,\n",
       "                                          callbacks=None,\n",
       "                                          colsample_bylevel=None,\n",
       "                                          colsample_bynode=None,\n",
       "                                          colsample_bytree=None,\n",
       "                                          early_stopping_rounds=None,\n",
       "                                          enable_categorical=False,\n",
       "                                          eval_metric=None, feature_types=None,\n",
       "                                          gamma=None, gpu_id=None,\n",
       "                                          grow_policy=None,\n",
       "                                          importance_type=None,\n",
       "                                          interaction_constraints=None,\n",
       "                                          learning_rate=...\n",
       "                                          predictor=None, random_state=None, ...),\n",
       "                   n_iter=100, n_jobs=-1,\n",
       "                   param_distributions={'learning_rate': <scipy.stats._distn_infrastructure.rv_frozen object at 0x000001B846563EE0>,\n",
       "                                        'max_depth': <scipy.stats._distn_infrastructure.rv_frozen object at 0x000001B8465616F0>,\n",
       "                                        'n_estimators': <scipy.stats._distn_infrastructure.rv_frozen object at 0x000001B8446D1CC0>},\n",
       "                   scoring='neg_root_mean_squared_error')"
      ]
     },
     "execution_count": 266,
     "metadata": {},
     "output_type": "execute_result"
    }
   ],
   "source": [
    "xgb_model_new = xgb.XGBRegressor()\n",
    "search = RandomizedSearchCV(\n",
    "    xgb_model_new, \n",
    "    params,\n",
    "    n_iter=100,\n",
    "    cv=2,\n",
    "    scoring='neg_root_mean_squared_error',\n",
    "    n_jobs=-1\n",
    ")\n",
    "search.fit(X_train, y_train)"
   ]
  },
  {
   "cell_type": "code",
   "execution_count": 267,
   "metadata": {},
   "outputs": [
    {
     "name": "stdout",
     "output_type": "stream",
     "text": [
      "Best hyperparameters:  {'learning_rate': 0.010206186651208673, 'max_depth': 6, 'n_estimators': 221}\n",
      "RMSE:  10.255068136616508\n"
     ]
    }
   ],
   "source": [
    "# Print the best hyperparameters and mean squared error\n",
    "print(\"Best hyperparameters: \", search.best_params_)\n",
    "print(\"RMSE: \", -search.best_score_)"
   ]
  },
  {
   "cell_type": "code",
   "execution_count": 268,
   "metadata": {},
   "outputs": [
    {
     "name": "stdout",
     "output_type": "stream",
     "text": [
      "test RMSE:  9.63863525390625\n"
     ]
    }
   ],
   "source": [
    "from sklearn.metrics import mean_squared_error\n",
    "import numpy as np\n",
    "\n",
    "\n",
    "# Train and evaluate the model with best hyperparameters on the validation set\n",
    "best_xgb_model = xgb.XGBRegressor(**search.best_params_)\n",
    "best_xgb_model.fit(X_train, y_train)\n",
    "y_pred = best_xgb_model.predict(X_test)\n",
    "mse = mean_squared_error(y_test, y_pred)\n",
    "print(\"test RMSE: \", np.sqrt(mse))"
   ]
  },
  {
   "cell_type": "code",
   "execution_count": 281,
   "metadata": {},
   "outputs": [
    {
     "data": {
      "text/html": [
       "<div>\n",
       "<style scoped>\n",
       "    .dataframe tbody tr th:only-of-type {\n",
       "        vertical-align: middle;\n",
       "    }\n",
       "\n",
       "    .dataframe tbody tr th {\n",
       "        vertical-align: top;\n",
       "    }\n",
       "\n",
       "    .dataframe thead th {\n",
       "        text-align: right;\n",
       "    }\n",
       "</style>\n",
       "<table border=\"1\" class=\"dataframe\">\n",
       "  <thead>\n",
       "    <tr style=\"text-align: right;\">\n",
       "      <th></th>\n",
       "      <th>temperature_2m_max (°C)</th>\n",
       "      <th>temperature_2m_min (°C)</th>\n",
       "      <th>apparent_temperature_max (°C)</th>\n",
       "      <th>apparent_temperature_min (°C)</th>\n",
       "      <th>shortwave_radiation_sum (MJ/m²)</th>\n",
       "      <th>windspeed_10m_max (km/h)</th>\n",
       "      <th>windgusts_10m_max (km/h)</th>\n",
       "      <th>winddirection_10m_dominant (°)</th>\n",
       "      <th>et0_fao_evapotranspiration (mm)</th>\n",
       "    </tr>\n",
       "    <tr>\n",
       "      <th>time</th>\n",
       "      <th></th>\n",
       "      <th></th>\n",
       "      <th></th>\n",
       "      <th></th>\n",
       "      <th></th>\n",
       "      <th></th>\n",
       "      <th></th>\n",
       "      <th></th>\n",
       "      <th></th>\n",
       "    </tr>\n",
       "  </thead>\n",
       "  <tbody>\n",
       "    <tr>\n",
       "      <th>2018-01-03</th>\n",
       "      <td>31.8</td>\n",
       "      <td>25.9</td>\n",
       "      <td>40.3</td>\n",
       "      <td>31.7</td>\n",
       "      <td>20.44</td>\n",
       "      <td>8.1</td>\n",
       "      <td>21.2</td>\n",
       "      <td>125.0</td>\n",
       "      <td>4.23</td>\n",
       "    </tr>\n",
       "    <tr>\n",
       "      <th>2018-01-04</th>\n",
       "      <td>30.8</td>\n",
       "      <td>26.0</td>\n",
       "      <td>39.1</td>\n",
       "      <td>31.6</td>\n",
       "      <td>20.44</td>\n",
       "      <td>7.2</td>\n",
       "      <td>21.6</td>\n",
       "      <td>190.0</td>\n",
       "      <td>4.22</td>\n",
       "    </tr>\n",
       "    <tr>\n",
       "      <th>2018-01-05</th>\n",
       "      <td>30.9</td>\n",
       "      <td>25.2</td>\n",
       "      <td>37.6</td>\n",
       "      <td>29.9</td>\n",
       "      <td>20.10</td>\n",
       "      <td>6.9</td>\n",
       "      <td>21.2</td>\n",
       "      <td>241.0</td>\n",
       "      <td>4.16</td>\n",
       "    </tr>\n",
       "    <tr>\n",
       "      <th>2018-01-01</th>\n",
       "      <td>29.9</td>\n",
       "      <td>26.0</td>\n",
       "      <td>36.3</td>\n",
       "      <td>31.6</td>\n",
       "      <td>17.59</td>\n",
       "      <td>6.9</td>\n",
       "      <td>20.2</td>\n",
       "      <td>277.0</td>\n",
       "      <td>3.61</td>\n",
       "    </tr>\n",
       "  </tbody>\n",
       "</table>\n",
       "</div>"
      ],
      "text/plain": [
       "            temperature_2m_max (°C)  temperature_2m_min (°C)  \\\n",
       "time                                                           \n",
       "2018-01-03                     31.8                     25.9   \n",
       "2018-01-04                     30.8                     26.0   \n",
       "2018-01-05                     30.9                     25.2   \n",
       "2018-01-01                     29.9                     26.0   \n",
       "\n",
       "            apparent_temperature_max (°C)  apparent_temperature_min (°C)  \\\n",
       "time                                                                       \n",
       "2018-01-03                           40.3                           31.7   \n",
       "2018-01-04                           39.1                           31.6   \n",
       "2018-01-05                           37.6                           29.9   \n",
       "2018-01-01                           36.3                           31.6   \n",
       "\n",
       "            shortwave_radiation_sum (MJ/m²)  windspeed_10m_max (km/h)  \\\n",
       "time                                                                    \n",
       "2018-01-03                            20.44                       8.1   \n",
       "2018-01-04                            20.44                       7.2   \n",
       "2018-01-05                            20.10                       6.9   \n",
       "2018-01-01                            17.59                       6.9   \n",
       "\n",
       "            windgusts_10m_max (km/h)  winddirection_10m_dominant (°)  \\\n",
       "time                                                                   \n",
       "2018-01-03                      21.2                           125.0   \n",
       "2018-01-04                      21.6                           190.0   \n",
       "2018-01-05                      21.2                           241.0   \n",
       "2018-01-01                      20.2                           277.0   \n",
       "\n",
       "            et0_fao_evapotranspiration (mm)  \n",
       "time                                         \n",
       "2018-01-03                             4.23  \n",
       "2018-01-04                             4.22  \n",
       "2018-01-05                             4.16  \n",
       "2018-01-01                             3.61  "
      ]
     },
     "execution_count": 281,
     "metadata": {},
     "output_type": "execute_result"
    }
   ],
   "source": [
    "data_train = pd.DataFrame(X_train)\n",
    "data_train"
   ]
  },
  {
   "cell_type": "code",
   "execution_count": 270,
   "metadata": {},
   "outputs": [
    {
     "data": {
      "text/html": [
       "<div>\n",
       "<style scoped>\n",
       "    .dataframe tbody tr th:only-of-type {\n",
       "        vertical-align: middle;\n",
       "    }\n",
       "\n",
       "    .dataframe tbody tr th {\n",
       "        vertical-align: top;\n",
       "    }\n",
       "\n",
       "    .dataframe thead th {\n",
       "        text-align: right;\n",
       "    }\n",
       "</style>\n",
       "<table border=\"1\" class=\"dataframe\">\n",
       "  <thead>\n",
       "    <tr style=\"text-align: right;\">\n",
       "      <th></th>\n",
       "      <th>y_actual</th>\n",
       "      <th>pred</th>\n",
       "    </tr>\n",
       "    <tr>\n",
       "      <th>time</th>\n",
       "      <th></th>\n",
       "      <th></th>\n",
       "    </tr>\n",
       "  </thead>\n",
       "  <tbody>\n",
       "    <tr>\n",
       "      <th>2018-01-02</th>\n",
       "      <td>9.4</td>\n",
       "      <td>19.038635</td>\n",
       "    </tr>\n",
       "  </tbody>\n",
       "</table>\n",
       "</div>"
      ],
      "text/plain": [
       "            y_actual       pred\n",
       "time                           \n",
       "2018-01-02       9.4  19.038635"
      ]
     },
     "execution_count": 270,
     "metadata": {},
     "output_type": "execute_result"
    }
   ],
   "source": [
    "pred_dict = {'y_actual' :y_test}\n",
    "data_baru = pd.DataFrame(pred_dict)\n",
    "data_baru['pred'] = y_pred\n",
    "data_baru"
   ]
  },
  {
   "cell_type": "code",
   "execution_count": 294,
   "metadata": {},
   "outputs": [
    {
     "data": {
      "image/png": "[encoded data removed]",
      "text/plain": [
       "<Figure size 1080x1080 with 1 Axes>"
      ]
     },
     "metadata": {
      "needs_background": "light"
     },
     "output_type": "display_data"
    }
   ],
   "source": [
    "fig, ax = plt.subplots(figsize=(15, 15)) # set the size of the figure\n",
    "plot_tree(best_xgb_model, num_trees=0, ax=ax) # plot the tree on the axes\n",
    "plt.show() # show the plot"
   ]
  },
  {
   "cell_type": "code",
   "execution_count": null,
   "metadata": {},
   "outputs": [],
   "source": []
  }
 ],
 "metadata": {
  "kernelspec": {
   "display_name": "Python 3",
   "language": "python",
   "name": "python3"
  },
  "language_info": {
   "codemirror_mode": {
    "name": "ipython",
    "version": 3
   },
   "file_extension": ".py",
   "mimetype": "text/x-python",
   "name": "python",
   "nbconvert_exporter": "python",
   "pygments_lexer": "ipython3",
   "version": "3.10.7"
  },
  "orig_nbformat": 4,
  "vscode": {
   "interpreter": {
    "hash": "369f2c481f4da34e4445cda3fffd2e751bd1c4d706f27375911949ba6bb62e1c"
   }
  }
 },
 "nbformat": 4,
 "nbformat_minor": 2
}
